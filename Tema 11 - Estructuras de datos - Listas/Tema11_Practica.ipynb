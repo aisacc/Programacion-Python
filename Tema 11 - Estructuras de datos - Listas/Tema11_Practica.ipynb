{
 "cells": [
  {
   "cell_type": "markdown",
   "metadata": {},
   "source": [
    "# Estructuras de datos: Listas"
   ]
  },
  {
   "cell_type": "markdown",
   "metadata": {},
   "source": [
    "## Operaciones con listas\n",
    "### Ejercicio 1\n",
    "Determine si una cadena de texto dada es un **isograma**, es decir, no se repite ninguna letra.\n",
    "\n",
    "Pruebe su código con: lumberjacks, background, downstream.\n",
    "\n",
    "*Ejercicio tomado de Delgado, 2021.*\n",
    "\n",
    "### Solución"
   ]
  },
  {
   "cell_type": "code",
   "execution_count": 1,
   "metadata": {},
   "outputs": [],
   "source": [
    "# Ingrese su código aquí 👻"
   ]
  },
  {
   "cell_type": "markdown",
   "metadata": {},
   "source": [
    "### Ejercicio 2\n",
    "Dados dos vectores (listas) de la misma dimensión, utilice la función `zip` para calcular su producto escalar.\n",
    "\n",
    "Por ejemplo, si se ingresan los vectores (listas) `v1 = [2, 4, 3]` y `v2 = [1, 6, 0]`, entonces el resultado sería $v_1 \\times v_2 = 2 \\cdot 1 + 4 \\cdot 6 + 3 \\cdot 0 = 26$.\n",
    "\n",
    "*Ejercicio tomado de Delgado, 2021.*\n",
    "\n",
    "### Solución"
   ]
  },
  {
   "cell_type": "code",
   "execution_count": null,
   "metadata": {},
   "outputs": [],
   "source": [
    "# Ingrese su código aquí 👻"
   ]
  },
  {
   "cell_type": "markdown",
   "metadata": {},
   "source": [
    "## Listas por comprensión\n",
    "### Ejercicio 1\n",
    "Utilizando listas por comprensión, cree una lista que contenga el resultado de aplicar la función $f(x) = 3x + 2$ para $x \\in [0, 20)$.\n",
    "\n",
    "*Ejercicio tomado de Delgado, 2021.*\n",
    "\n",
    "### Solución"
   ]
  },
  {
   "cell_type": "code",
   "execution_count": null,
   "metadata": {},
   "outputs": [],
   "source": [
    "# Ingrese su código aquí 👻"
   ]
  },
  {
   "cell_type": "markdown",
   "metadata": {},
   "source": [
    "### Ejercicio 2\n",
    "Cree una lista que contenga todos los años bisiestos entre 1900 y 2000.\n",
    "\n",
    "### Solución"
   ]
  },
  {
   "cell_type": "code",
   "execution_count": null,
   "metadata": {},
   "outputs": [],
   "source": [
    "# Ingrese su código aquí 👻"
   ]
  }
 ],
 "metadata": {
  "kernelspec": {
   "display_name": "Python 3.10.7 64-bit",
   "language": "python",
   "name": "python3"
  },
  "language_info": {
   "codemirror_mode": {
    "name": "ipython",
    "version": 3
   },
   "file_extension": ".py",
   "mimetype": "text/x-python",
   "name": "python",
   "nbconvert_exporter": "python",
   "pygments_lexer": "ipython3",
   "version": "3.12.2"
  },
  "orig_nbformat": 4,
  "vscode": {
   "interpreter": {
    "hash": "369f2c481f4da34e4445cda3fffd2e751bd1c4d706f27375911949ba6bb62e1c"
   }
  }
 },
 "nbformat": 4,
 "nbformat_minor": 2
}
