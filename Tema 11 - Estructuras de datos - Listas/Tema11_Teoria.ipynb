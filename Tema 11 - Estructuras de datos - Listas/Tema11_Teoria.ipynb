{
 "cells": [
  {
   "cell_type": "markdown",
   "metadata": {},
   "source": [
    "# Estructuras de datos: Listas\n",
    "Si bien ya se ha cubierto varios temas sobre tipos de datos, se podría hablar de tipos de datos más complejos en Python que se constituyen en estructuras de datos. Si pensamos en estos elementos como **átomos**, las estructuras de datos que vamos a ver sería **moléculas**. Es decir, combinamos los tipos básicos de formas más complejas.\n",
    "\n",
    "Las listas unas características muy importantes:\n",
    "* Son ***mutables***. En otras palabras: _son modificables_.\n",
    "* Son ***aliasing***. Es decir, poseen *referencias compartidas*. Para evitar esto, se debe crear una **copia dura** o **copia superficial**, pero si la lista contiene otros objetos mutables, entonces se debe realizar una **copia profunda**.\n",
    "* Son ***iterables***. Es decir, se puede iterar sobre los elementos de la lista."
   ]
  },
  {
   "cell_type": "markdown",
   "metadata": {},
   "source": [
    "## Crear listas\n",
    "Las listas permiten almacenar objetos mediante un orden definido y con posibilidad de duplicados. Las listas son estructuras de datos mutables, lo que significa que podemos añadir, eliminar o modificar sus elementos.\n",
    "\n",
    "Una lista está compuesta por cero o más elementos. En Python debemos escribir estos elementos separados por comas `,` y dentro de corchetes `[]`."
   ]
  },
  {
   "cell_type": "code",
   "execution_count": 2,
   "metadata": {},
   "outputs": [],
   "source": [
    "# Ingrese su código aquí 👻"
   ]
  },
  {
   "cell_type": "markdown",
   "metadata": {},
   "source": [
    "**Observación**\n",
    "\n",
    "También se puede utilizar la función `list` para crear explícitamente una lista o convertir una estructura de datos, o tipo de dato, en una lista."
   ]
  },
  {
   "cell_type": "code",
   "execution_count": null,
   "metadata": {},
   "outputs": [],
   "source": [
    "# Ingrese su código aquí 👻"
   ]
  },
  {
   "cell_type": "markdown",
   "metadata": {},
   "source": [
    "**Observación**\n",
    "\n",
    "En síntesis, cualquier objeto iterado puede convertirse en una lista. Esto aplica, por ejemplo y como se espera, con los rangos."
   ]
  },
  {
   "cell_type": "code",
   "execution_count": null,
   "metadata": {},
   "outputs": [],
   "source": [
    "# Ingrese su código aquí 👻"
   ]
  },
  {
   "cell_type": "markdown",
   "metadata": {},
   "source": [
    "### Lista vacía\n",
    "\n",
    "Es posible crear una lista vacía para trabajar a partir de ella, lo que suele ser bastante usual, con corchetes vacíos `[]` o con la función `list()` sin argumentos de entrada. "
   ]
  },
  {
   "cell_type": "code",
   "execution_count": null,
   "metadata": {},
   "outputs": [],
   "source": [
    "# Ingrese su código aquí 👻"
   ]
  },
  {
   "cell_type": "markdown",
   "metadata": {},
   "source": [
    "## Operaciones con listas\n",
    "\n",
    "Al igual que las cadenas de texto tenían muchas funciones intrínsecas, también las listas tienen funciones intrínsecas las cuales se estudian en este apartado.\n",
    "\n",
    "**Observación**\n",
    "\n",
    "O para conocer directamente las funciones disponibles con las listas se puede utilizar `dir([])`."
   ]
  },
  {
   "cell_type": "code",
   "execution_count": 2,
   "metadata": {},
   "outputs": [],
   "source": [
    "# Ingrese su código aquí 👻"
   ]
  },
  {
   "cell_type": "markdown",
   "metadata": {},
   "source": [
    "**Observación**\n",
    "\n",
    "Recordemos que la función `len` permite conocer el número de elementos. Esto también aplica para las listas."
   ]
  },
  {
   "cell_type": "code",
   "execution_count": null,
   "metadata": {},
   "outputs": [],
   "source": [
    "# Ingrese su código aquí 👻"
   ]
  },
  {
   "cell_type": "markdown",
   "metadata": {},
   "source": [
    "## Copiar listas\n",
    "\n",
    "Previamente se mencionó que las listas son ***alising***. Por lo tanto, se debe tener mucho cuidado al momento de realizar copias de listas."
   ]
  },
  {
   "cell_type": "code",
   "execution_count": null,
   "metadata": {},
   "outputs": [],
   "source": [
    "# Ingrese su código aquí 👻"
   ]
  },
  {
   "cell_type": "markdown",
   "metadata": {},
   "source": [
    "## Indexación de listas\n",
    "\n",
    "La indexación de listas es análogo a la indexación de cadenas de texto estudiada previamente.\n",
    "\n",
    "<figure style=\"text-align: center;\">\n",
    "  <div><strong>Fig. 1.</strong> Índices en una cadena de texto como referencia para los índices de listas. </div>\n",
    "  <img src=\"https://github.com/aisacc/Programacion-Python/blob/main/_Im%C3%A1genes/Tema%2011%20-%20Estructuras%20de%20datos%20-%20Listas/1.jpg?raw=true\" style=\"width: 45%; height: auto;\">\n",
    "  <figcaption>Tomado de <strong>Aprende Python</strong> de <em>Sergio Delgado Quintero</em>.</figcaption>\n",
    "</figure>\n",
    "\n",
    "También es posible indexar una secuncia de caracteres, no solo uno, utilizando lo siguiente:\n",
    "\n",
    "- `[inicio:fin]` Indexa desde el **índice `inicio`** hasta el **índice `fin`**.\n",
    "- `[inicio:fin:incremento]` Indexa desde el **índice `inicio`** hasta el **índice `fin`**, con un incremento establecido. Por defecto, cuando no se indica explícitamente, el incremento es 1.\n",
    "- `[inicio:]` Indexa desde el **índice `inicio`** hasta el final de la cadena de texto.\n",
    "- `[:fin]` Indexa desde el inicio hasta el **índice `fin`**.\n",
    "- `[:]` Indexa desde el inicio hasta el fin la cadena de texto. Es como hacer una copia de la cadena.\n",
    "\n",
    "*Siempre se debe recordar el orden de la indexación: primero el índice de partida, o inicio, luego el índice de llegada, o fin, y al final el incremento*. Asimismo, el incremento puede ser positivo o negativo (si es negativo sería *decremento*) y **siempre debe ser un número entero**."
   ]
  },
  {
   "cell_type": "code",
   "execution_count": null,
   "metadata": {},
   "outputs": [],
   "source": [
    "# Ingrese su código aquí 👻"
   ]
  },
  {
   "cell_type": "markdown",
   "metadata": {},
   "source": [
    "## Reemplazar elementos de una lista\n",
    "Del mismo modo que se accede a un elemento utilizando su índice, también podemos modificarlo."
   ]
  },
  {
   "cell_type": "code",
   "execution_count": 8,
   "metadata": {},
   "outputs": [],
   "source": [
    "# Ingrese su código aquí 👻"
   ]
  },
  {
   "cell_type": "markdown",
   "metadata": {},
   "source": [
    "**Observación**\n",
    "\n",
    "No sólo es posible modificar un elemento de cada vez, sino que podemos asignar valores a trozos de una lista. La lista que asignamos no necesariamente debe tener la misma longitud que el trozo que sustituimos."
   ]
  },
  {
   "cell_type": "code",
   "execution_count": null,
   "metadata": {},
   "outputs": [],
   "source": [
    "# Ingrese su código aquí 👻"
   ]
  },
  {
   "cell_type": "markdown",
   "metadata": {},
   "source": [
    "## Eliminar elementos de una lista\n",
    "\n",
    "Python nos ofrece varias formas para borrar elementos en una lista.\n",
    "\n",
    "* Utilizando la función `del`. Por ejemplo, `del mi_lista[1]`\n",
    "* Utilizando la función `remove`.  Por ejemplo, `mi_lista.remove(element)`\n",
    "* Utilizando un rango. Por ejemplo, `mi_lista[1:3] = []`\n",
    "* Utilizando la función `pop`. Por ejemplo, `mi_lista.pop(index_element)`\n",
    "\n",
    "Esta última forma extrae el elemento de la lista antes de eliminarlo de la lista, por lo que puede ser almacenado en una nueva variable."
   ]
  },
  {
   "cell_type": "code",
   "execution_count": null,
   "metadata": {},
   "outputs": [],
   "source": [
    "# Ingrese su código aquí 👻"
   ]
  },
  {
   "cell_type": "markdown",
   "metadata": {},
   "source": [
    "## Listas de listas\n",
    "\n",
    "Como ya hemos visto en varias ocasiones, las listas son estructuras de datos que pueden contener elementos heterogéneos. Estos elementos pueden ser a su vez listas.\n",
    "\n",
    "Un ejemplo clásico de esto sería representar una matriz. Aunque existen formas más óptimas de hacerlo, lo cual se estudia más adelante, también es posible hacerlo con listas."
   ]
  },
  {
   "cell_type": "code",
   "execution_count": null,
   "metadata": {},
   "outputs": [],
   "source": [
    "# Ingrese su código aquí 👻"
   ]
  },
  {
   "cell_type": "markdown",
   "metadata": {},
   "source": [
    "## Concatenar listas\n",
    "\n",
    "Se puede concatenar, o unir, listas utilizando el operador suma `+` o se puede repetir una lista con el operador `*`."
   ]
  },
  {
   "cell_type": "code",
   "execution_count": null,
   "metadata": {},
   "outputs": [],
   "source": [
    "# Ingrese su código aquí 👻"
   ]
  },
  {
   "cell_type": "markdown",
   "metadata": {},
   "source": [
    "## Pertenencia de elementos\n",
    "\n",
    "Si queremos comprobar la existencia de un determinado elemento en una lista se utiliza el operador `in`. Este operador siempre devuelve un valor lógico o booleano."
   ]
  },
  {
   "cell_type": "code",
   "execution_count": null,
   "metadata": {},
   "outputs": [],
   "source": [
    "# Ingrese su código aquí 👻"
   ]
  },
  {
   "cell_type": "markdown",
   "metadata": {},
   "source": [
    "## Iterar sobre una lista y sobre múltiples listas\n",
    "\n",
    "Existen dos formas de iterar sobre una lista:\n",
    "* Utilizando el operador `in` directamente sobre la lista.\n",
    "* Utilizando el operador `in` junto con la función `enumerate` para generar una lista numerada."
   ]
  },
  {
   "cell_type": "code",
   "execution_count": null,
   "metadata": {},
   "outputs": [],
   "source": [
    "# Ingrese su código aquí 👻"
   ]
  },
  {
   "cell_type": "markdown",
   "metadata": {},
   "source": [
    "Por otra parte, para iterar sobre más de una lista se utiliza la función `zip`.\n",
    "\n",
    "<figure style=\"text-align: center;\">\n",
    "  <div><strong>Fig. 2.</strong> Analogía de la función zip. </div>\n",
    "  <img src=\"https://github.com/aisacc/Programacion-Python/blob/main/_Im%C3%A1genes/Tema%2011%20-%20Estructuras%20de%20datos%20-%20Listas/2.png?raw=true\" style=\"width: 45%; height: auto;\">\n",
    "  <figcaption>Tomado de <strong>Aprende Python</strong> de <em>Sergio Delgado Quintero</em>.</figcaption>\n",
    "</figure>\n",
    "\n",
    "Dado que la función `zip` devuelve un iterable, se puede visualizar su resultado convirtiéndolo en una lista."
   ]
  },
  {
   "cell_type": "code",
   "execution_count": null,
   "metadata": {},
   "outputs": [],
   "source": [
    "# Ingrese su código aquí 👻"
   ]
  },
  {
   "cell_type": "markdown",
   "metadata": {},
   "source": [
    "## Listas por comprensión\n",
    "\n",
    "Las listas por comprensión establecen una técnica para crear listas de forma más compacta basándose en el concepto matemático de conjuntos definidos por comprensión.\n",
    "\n",
    "Podríamos decir que su sintaxis sigue un modelo **VLC (Value-Loop-Condition)** tal y como se muestra a continuación.\n",
    "\n",
    "<figure style=\"text-align: center;\">\n",
    "  <div><strong>Fig. 3.</strong> Listas por comprensión. </div>\n",
    "  <img src=\"https://github.com/aisacc/Programacion-Python/blob/main/_Im%C3%A1genes/Tema%2011%20-%20Estructuras%20de%20datos%20-%20Listas/3.png?raw=true\" style=\"width: 80%; height: auto;\">\n",
    "  <figcaption>Tomado de <strong>Aprende Python</strong> de <em>Sergio Delgado Quintero</em>.</figcaption>\n",
    "</figure>"
   ]
  },
  {
   "cell_type": "code",
   "execution_count": 12,
   "metadata": {},
   "outputs": [],
   "source": [
    "# Ingrese su código aquí 👻"
   ]
  },
  {
   "cell_type": "markdown",
   "metadata": {},
   "source": [
    "----\n",
    "## Material adicional\n",
    "* [Creando listas](https://aprendepython.es/core/datastructures/lists/#creando-listas)\n",
    "* [Operaciones con listas](https://aprendepython.es/core/datastructures/lists/#operaciones-con-listas)\n",
    "* [Listas por comprensión](https://aprendepython.es/core/datastructures/lists/#listas-por-comprension)"
   ]
  }
 ],
 "metadata": {
  "kernelspec": {
   "display_name": "Python 3.10.7 64-bit",
   "language": "python",
   "name": "python3"
  },
  "language_info": {
   "codemirror_mode": {
    "name": "ipython",
    "version": 3
   },
   "file_extension": ".py",
   "mimetype": "text/x-python",
   "name": "python",
   "nbconvert_exporter": "python",
   "pygments_lexer": "ipython3",
   "version": "3.12.4"
  },
  "orig_nbformat": 4,
  "vscode": {
   "interpreter": {
    "hash": "369f2c481f4da34e4445cda3fffd2e751bd1c4d706f27375911949ba6bb62e1c"
   }
  }
 },
 "nbformat": 4,
 "nbformat_minor": 2
}
