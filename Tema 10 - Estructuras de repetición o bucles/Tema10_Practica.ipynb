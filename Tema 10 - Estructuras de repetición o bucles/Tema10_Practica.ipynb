{
 "cells": [
  {
   "cell_type": "markdown",
   "metadata": {},
   "source": [
    "# Estructuras de repetición o bucles"
   ]
  },
  {
   "cell_type": "markdown",
   "metadata": {},
   "source": [
    "## Estructuras `for` y `while`\n",
    "### Ejercicio 1\n",
    "Escriba un programa en Python que acepte una cadena de texto e indique si todos sus caracteres son alfabéticos.\n",
    "\n",
    "**Pista:** Recuerde que las cadenas de texto tienen muchas funciones de forma intrínseca. Alguna de ellas puede ser de utilidad en esa situación.\n",
    "\n",
    "*Ejercicio tomado de Delgado, 2024.*\n",
    "\n",
    "### Solución"
   ]
  },
  {
   "cell_type": "code",
   "execution_count": null,
   "metadata": {},
   "outputs": [],
   "source": [
    "# Ingrese su código aquí 👻"
   ]
  },
  {
   "cell_type": "markdown",
   "metadata": {},
   "source": [
    "### Ejercicio 2\n",
    "Escriba un programa en Python que acepte un número entero $n$ y realice el siguiente cálculo de productos sucesivos. $$\\prod_{i=1}^n x_i^2 = x_0^2 \\cdot x_1^2 \\cdot x_2^2 \\cdot \\cdot \\cdot \\cdot \\cdot x_n^2$$\n",
    "\n",
    "*Ejercicio tomado de Delgado, 2024.*\n",
    "\n",
    "### Solución"
   ]
  },
  {
   "cell_type": "code",
   "execution_count": null,
   "metadata": {},
   "outputs": [],
   "source": [
    "# Ingrese su código aquí 👻"
   ]
  },
  {
   "cell_type": "markdown",
   "metadata": {},
   "source": [
    "### Ejercicio 3\n",
    "Escriba un programa en Python que acepte dos valores enteros $(x, y)$ que representarán un punto (objetivo) en el plano. El programa simulará el movimiento de un caballo de ajedrez de forma alterna: 2 posiciones en $x$, 1 posición en $y$. El siguiente movimiento que toque sería para moverse 1 posición en $x$, 2 posiciones en $y$. El programa deberá ir mostrando los puntos por los que va pasando el caballo hasta llegar al punto objetivo.\n",
    "\n",
    "**Pista:** Pruebe su programa con el punto $(7, 8)$ que da como resultado `(0, 0) (1, 2) (3, 3) (4, 5) (6, 6) (7, 8)`\n",
    "\n",
    "*Ejercicio tomado de Delgado, 2021.*\n",
    "\n",
    "### Solución"
   ]
  },
  {
   "cell_type": "code",
   "execution_count": null,
   "metadata": {},
   "outputs": [],
   "source": [
    "# Ingrese su código aquí 👻"
   ]
  },
  {
   "cell_type": "markdown",
   "metadata": {},
   "source": [
    "### Ejercicio 4 - Ingeniería civil\n",
    "Calcular el volumen de un canal rectangular para diferentes profundidades. El canal tiene un ancho fijo de 5 m y la profundidad varía. Calcula el volumen del canal en una longitud de 1 m para profundidades de 1 a 10 metros en incrementos de 1 metro. El ancho del canal es constante.\n",
    "\n",
    "### Solución"
   ]
  },
  {
   "cell_type": "code",
   "execution_count": null,
   "metadata": {},
   "outputs": [],
   "source": [
    "# Ingrese su código aquí 👻"
   ]
  },
  {
   "cell_type": "markdown",
   "metadata": {},
   "source": [
    "### Ejercicio 5 - Ingeniería civil\n",
    "Determinar el costo total de materiales para construir una serie de columnas de diferentes alturas.\n",
    "\n",
    "Tienes una lista de alturas para una serie de columnas que deben construirse. El costo por metro cúbico de material es $200.00 USD. Calcula el volumen de cada columna, dado que el ancho es 0.5 m y el largo es 0.6 m, y luego determina el costo total para todas las columnas.\n",
    "\n",
    "### Solución"
   ]
  },
  {
   "cell_type": "code",
   "execution_count": null,
   "metadata": {},
   "outputs": [],
   "source": [
    "# Ingrese su código aquí 👻"
   ]
  },
  {
   "cell_type": "markdown",
   "metadata": {},
   "source": [
    "### Ejercicio 6 - Ingeniería mecánica\n",
    "Calcular el momento de inercia de una serie de ejes cilíndricos con diferentes diámetros. Dado un conjunto de ejes cilíndricos con diferentes diámetros, calcula el momento de inercia para cada eje. El momento de inercia de un cilindro sólido se calcula usando la fórmula:\n",
    "\n",
    "$$I = \\frac{1}{4}\\pi r^4$$\n",
    "\n",
    "Donde $r$ es el radio del cilindro.\n",
    "\n",
    "**Nota:** Utiliza la constante $\\pi$ a través de la librería `math`.\n",
    "\n",
    "### Solución"
   ]
  },
  {
   "cell_type": "code",
   "execution_count": null,
   "metadata": {},
   "outputs": [],
   "source": [
    "# Ingrese su código aquí 👻"
   ]
  },
  {
   "cell_type": "markdown",
   "metadata": {},
   "source": [
    "### Ejercicio 7 - Ingeniería mecánica\n",
    "Para una estructura de vigas, necesitas calcular el esfuerzo máximo en cada viga sometida a una carga distribuida. La carga distribuida es constante, pero las longitudes de las vigas varían. Calcula el esfuerzo máximo para cada viga, dado que el esfuerzo máximo se calcula usando la fórmula:\n",
    "\n",
    "$$\\sigma = \\frac{wL^2}{8I}$$\n",
    "\n",
    "Donde $w$ es la carga distribuida por unidad de longitud, $L$ es la longitud de la viga, e $I$ es el momento de inercia de la sección transversal.\n",
    "\n",
    "* La carga distribuida es de 500 N/m.\n",
    "* El momento de inercia I es constante y igual a 0.0001 m^4.\n",
    "* La lista de longitudes es: [4.0, 5.5, 6.0] metros.\n",
    "\n",
    "### Solución"
   ]
  },
  {
   "cell_type": "code",
   "execution_count": null,
   "metadata": {},
   "outputs": [],
   "source": [
    "# Ingrese su código aquí 👻"
   ]
  },
  {
   "cell_type": "markdown",
   "metadata": {},
   "source": [
    "### Ejercicio 8 - Ingeniería electrónica\n",
    "Simula cómo un filtro RC responde a una señal de entrada que cambia con el tiempo. Calcula la respuesta del filtro a lo largo de un período dado. La respuesta del filtro se calcula usando la fórmula del filtro RC:\n",
    "\n",
    "$$V(t) = V_{in} (1 - e^{-t / (R C)})$$\n",
    "\n",
    "Donde V_{in} es el voltaje de entrada, $R$ es la resistencia, $C$ es la capacitancia, y $t$ es el tiempo.\n",
    "\n",
    "* Voltaje de entrada $V_{in}$ es 5 V.\n",
    "* Resistencia $R$ es 1000 ohmios.\n",
    "* Capacitancia $C$ es 0.001 F.\n",
    "* Intervalo de tiempo es de 0.1 segundos.\n",
    "\n",
    "**Nota:** Utiliza la constante $e$ a través de la librería `math`.\n",
    "\n",
    "### Solución"
   ]
  },
  {
   "cell_type": "code",
   "execution_count": null,
   "metadata": {},
   "outputs": [],
   "source": [
    "# Ingrese su código aquí 👻"
   ]
  },
  {
   "cell_type": "markdown",
   "metadata": {},
   "source": [
    "### Ejercicio 9 - Ingeniería ambiental\n",
    "Simula la reducción en la concentración de un contaminante en un río tras la implementación de un filtro. La concentración inicial de contaminantes es conocida y se reduce a una tasa constante cada hora. Muestra la concentración a intervalos regulares hasta que la concentración sea inferior a un umbral específico.\n",
    "\n",
    "* Concentración inicial es de 200 mg/L.\n",
    "* Tasa de reducción es del 5% por hora.\n",
    "* Umbral de concentración es de 20 mg/L.\n",
    "* Intervalo de tiempo es de 1 hora.\n",
    "\n",
    "### Solución"
   ]
  },
  {
   "cell_type": "code",
   "execution_count": null,
   "metadata": {},
   "outputs": [],
   "source": [
    "# Ingrese su código aquí 👻"
   ]
  }
 ],
 "metadata": {
  "kernelspec": {
   "display_name": "Python 3.10.7 64-bit",
   "language": "python",
   "name": "python3"
  },
  "language_info": {
   "codemirror_mode": {
    "name": "ipython",
    "version": 3
   },
   "file_extension": ".py",
   "mimetype": "text/x-python",
   "name": "python",
   "nbconvert_exporter": "python",
   "pygments_lexer": "ipython3",
   "version": "3.11.8"
  },
  "orig_nbformat": 4,
  "vscode": {
   "interpreter": {
    "hash": "369f2c481f4da34e4445cda3fffd2e751bd1c4d706f27375911949ba6bb62e1c"
   }
  }
 },
 "nbformat": 4,
 "nbformat_minor": 2
}
