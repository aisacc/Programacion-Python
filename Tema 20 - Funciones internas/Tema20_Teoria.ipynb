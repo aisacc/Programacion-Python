{
 "cells": [
  {
   "cell_type": "markdown",
   "metadata": {},
   "source": [
    "# Funciones internas\n",
    "\n",
    "Hasta este momento hemos estado trabajando con funciones internas (**built-in functions**) de Python, pero ¿qué es una función interna?\n",
    "\n",
    "En síntesis, una función es un **bloque de código** (o serie de instrucciones) que realiza una tarea en particular. Ya sea obtener la raíz cuadrada de un número, obtener el número más grande de un vector, generar un gráfico, etc. Entonces las funciones internas son aquellas funciones que ha desarrollado Python para que los programadores podamos usarlas directamente en lugar de tener que desarrollar estas funciones nosotros mismos. Pasa lo mismo con las funciones de librerías que hemos utilizado y seguiremos utilizando.\n",
    "\n",
    "Además, de la matemática sabemos que una función se puede entender como una máquina a la que se le ingresa \"algo\" y nos devuelve \"otro algo procesado\" en un determinado tiempo.\n",
    "\n",
    "Por ejemplo, sea la función $f(x) = x^2$, se tiene que: $$f(1) = 1$$ $$f(2) = 4$$ $$f(-3) = 9$$ $$f(-5) = 25$$\n",
    "\n",
    "En el contexto de la programación una función no sólo realiza cálculos matemáticos. Ya hemos visto que **una función puede hacer lo que nosotros seamos capaces de programar**. Esa es la magia de la programación.\n",
    "\n",
    "<figure style=\"text-align: center;\">\n",
    "  <div><strong>Fig. 1.</strong> Visualización de las partes de una función. </div>\n",
    "  <img src=\"https://github.com/aisacc/Programacion-Python/blob/main/_Im%C3%A1genes/Tema%2020%20-%20Funciones%20internas/1.png?raw=true\" style=\"width: 60%; height: auto;\">\n",
    "  <figcaption><em>Tomado de <a href=\"http://contenidos.sucerman.com/nivel3/web2/unidad4/leccion4.html\"> Currículos Exploratoios</a></em>.</figcaption>\n",
    "</figure>\n",
    "\n",
    "Si bien una función puede realizar tareas tanto sencillas como complejas, todas tienen ciertas características en común.\n",
    "\n",
    "Una función se caracteriza por tener:\n",
    "\n",
    "* **Un nombre** para llamarla.\n",
    "* Una, varias o ninguna **entrada** (*input*) que solicita. También se le conoce como argumento.\n",
    "* Una, varias o ninguna **salida** (*output*) que devuelve.\n",
    "\n",
    "Por ejemplo, la función `abs` (valor absoluto) tiene:\n",
    "\n",
    "* **Un nombre**: `abs`.\n",
    "* **Una entrada**: un número.\n",
    "* **Una salida**: el valor absoluto del número."
   ]
  },
  {
   "cell_type": "code",
   "execution_count": 3,
   "metadata": {},
   "outputs": [],
   "source": [
    "# Ingrese su código aquí 👻"
   ]
  },
  {
   "cell_type": "markdown",
   "metadata": {},
   "source": [
    "## Funciones con una entrada y salida\n",
    "\n",
    "Existen funciones, como la función `abs` indicada previamente, que sólo reciben un argumento de entrada y devuelven un argumento de salida.\n",
    "\n",
    "Otros ejemplos de funciones con este mismo comportamiento son:\n",
    "\n",
    "* `int`\n",
    "* `len`\n",
    "* `float`"
   ]
  },
  {
   "cell_type": "code",
   "execution_count": 7,
   "metadata": {},
   "outputs": [],
   "source": [
    "# Ingrese su código aquí 👻"
   ]
  },
  {
   "cell_type": "markdown",
   "metadata": {},
   "source": [
    "## Funciones con varias entradas y salidas\n",
    "\n",
    "También es bastante usual el hecho de tener funciones con varias entradas y/o varias salidas como la función `divmod` estudiada en temas anteriores. \n",
    "\n",
    "Otros ejemplos de funciones con este comportamiento son:\n",
    "\n",
    "* `pow`\n",
    "* `round`\n",
    "\n",
    "**En realidad lo más usual es tener funciones que reciban varias entradas y devuelvan al menos una salida.**"
   ]
  },
  {
   "cell_type": "code",
   "execution_count": null,
   "metadata": {},
   "outputs": [],
   "source": [
    "# Ingrese su código aquí 👻"
   ]
  },
  {
   "cell_type": "markdown",
   "metadata": {},
   "source": [
    "## Anidar funciones\n",
    "\n",
    "En ocasiones quizá no sea tan adecuado y efectivo aplicar una función a la vez. En lugar de ello se puede anidar las funciones (trabajar con funciones dentro de funciones) para optimizar el trabajo.\n",
    "\n",
    "No obstante, no es necesario exagerar en la anidación puesto que abusar de ésta genera que el código sea difícil de leer y entender."
   ]
  },
  {
   "cell_type": "code",
   "execution_count": null,
   "metadata": {},
   "outputs": [],
   "source": [
    "# Ingrese su código aquí 👻"
   ]
  }
 ],
 "metadata": {
  "kernelspec": {
   "display_name": "Python 3.10.7 64-bit",
   "language": "python",
   "name": "python3"
  },
  "language_info": {
   "codemirror_mode": {
    "name": "ipython",
    "version": 3
   },
   "file_extension": ".py",
   "mimetype": "text/x-python",
   "name": "python",
   "nbconvert_exporter": "python",
   "pygments_lexer": "ipython3",
   "version": "3.12.2"
  },
  "orig_nbformat": 4,
  "vscode": {
   "interpreter": {
    "hash": "369f2c481f4da34e4445cda3fffd2e751bd1c4d706f27375911949ba6bb62e1c"
   }
  }
 },
 "nbformat": 4,
 "nbformat_minor": 2
}
