{
 "cells": [
  {
   "cell_type": "markdown",
   "metadata": {},
   "source": [
    "# Operaciones matriciales (_librería **numpy**_)\n",
    "\n",
    "Las operaciones matriciales mediante la librería Numpy siguen las **reglas del álgebra lineal** que se estudian en el instituto o en la universidad."
   ]
  },
  {
   "cell_type": "markdown",
   "metadata": {},
   "source": [
    "## Operaciones matriciales\n",
    "\n",
    "Las operaciones matriciales son las siguientes:\n",
    "\n",
    "* Suma: `+`\n",
    "* Resta: `-`\n",
    "* Producto: `@` o `np.dot()`\n",
    "* Potencia: `np.linalg.matrix_power()`\n",
    "* Transpuesta: `T`\n",
    "\n",
    "Nótese que las operaciones de suma y resta matriciales son las mismas que las operaciones de suma y resta arreglo. Esto se debe a que la suma y resta matricial es, en concepto, lo mismo que la suma y resta arreglo. Pero no esto no ocurre para el resto de operaciones.\n",
    "\n",
    "Ahora bien, una utilidad más que, si bien no es una operación en sí, pero que es esencial, es la **solución de sistemas de ecuaciones lineales**. Para esto se ocupa `np.linalg.solve()`."
   ]
  },
  {
   "cell_type": "markdown",
   "metadata": {},
   "source": [
    "## Multiplicación y potencia\n",
    "Una forma sencilla de entender el producto matricial es con la siguiente figura.\n",
    "\n",
    "<figure style=\"text-align: center;\">\n",
    "  <div><strong>Fig. 1.</strong> Ejemplo de multiplicación con calificaciones y ponderaciones. </div>\n",
    "  <img src=\"https://github.com/aisacc/Programacion-Python/blob/main/_Im%C3%A1genes/Tema%2019%20-%20Operaciones%20matriciales%20-%20Librer%C3%ADa%20numpy/1.png?raw=true\" style=\"width: 60%; height: auto;\">\n",
    "  <figcaption><em>Tomado de la documentación oficial de MATLAB</em>.</figcaption>\n",
    "</figure>"
   ]
  },
  {
   "cell_type": "code",
   "execution_count": null,
   "metadata": {},
   "outputs": [],
   "source": [
    "# Ingrese su código aquí 👻"
   ]
  },
  {
   "cell_type": "markdown",
   "metadata": {},
   "source": [
    "Por otra parte, la potencia de matrices únicamente es posible entre matrices cuadradas."
   ]
  },
  {
   "cell_type": "code",
   "execution_count": null,
   "metadata": {},
   "outputs": [],
   "source": [
    "# Ingrese su código aquí 👻"
   ]
  },
  {
   "cell_type": "markdown",
   "metadata": {},
   "source": [
    "### Ejemplo\n",
    "\n",
    "Compruebe que la matriz $X = \\left[\\begin{matrix} 1 & 2 \\\\ 3 & 5 \\end{matrix}\\right]$ satisface la ecuación matricial: $X^2 - 6X - I = 0$ donde $I$ es la matriz identidad de orden 2.\n",
    "\n",
    "*Tomado de Delgado, 2024.*\n",
    "\n",
    "### Solución"
   ]
  },
  {
   "cell_type": "code",
   "execution_count": null,
   "metadata": {},
   "outputs": [],
   "source": [
    "# Ingrese su código aquí 👻"
   ]
  },
  {
   "cell_type": "markdown",
   "metadata": {},
   "source": [
    "## Sistemas de ecuaciones lineales\n",
    "\n",
    "Como se menciona inicialmente, para resolver sistemas de ecuaciones lineales se utiliza `np.linalg.solve()`.\n",
    "\n",
    "### Ejemplo\n",
    "\n",
    "Resolver el siguiente sistema de ecuaciones lineales: $$\\begin{cases} 3x + 4y - z = 8 \\\\ 5x - 2y + z = 4 \\\\ 2x - 2y + z = 1 \\end{cases}$$\n",
    "\n",
    "*Tomado de Delgado, 2024.*\n",
    "\n",
    "### Solución\n"
   ]
  },
  {
   "cell_type": "code",
   "execution_count": null,
   "metadata": {},
   "outputs": [],
   "source": [
    "# Ingrese su código aquí 👻"
   ]
  },
  {
   "cell_type": "markdown",
   "metadata": {},
   "source": [
    "----\n",
    "## Material adicional\n",
    "* [Álgebra lineal en Python](https://aprendepython.es/pypi/datascience/numpy/#algebra-lineal)\n",
    "* [Sistemas de ecuaciones lineales](https://aprendepython.es/pypi/datascience/numpy/#sistemas-de-ecuaciones-lineales)"
   ]
  }
 ],
 "metadata": {
  "kernelspec": {
   "display_name": "Python 3.10.7 64-bit",
   "language": "python",
   "name": "python3"
  },
  "language_info": {
   "codemirror_mode": {
    "name": "ipython",
    "version": 3
   },
   "file_extension": ".py",
   "mimetype": "text/x-python",
   "name": "python",
   "nbconvert_exporter": "python",
   "pygments_lexer": "ipython3",
   "version": "3.12.4"
  },
  "orig_nbformat": 4,
  "vscode": {
   "interpreter": {
    "hash": "369f2c481f4da34e4445cda3fffd2e751bd1c4d706f27375911949ba6bb62e1c"
   }
  }
 },
 "nbformat": 4,
 "nbformat_minor": 2
}
