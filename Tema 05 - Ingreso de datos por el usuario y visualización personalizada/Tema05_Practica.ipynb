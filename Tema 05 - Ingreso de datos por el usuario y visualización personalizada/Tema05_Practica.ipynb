{
 "cells": [
  {
   "cell_type": "markdown",
   "metadata": {},
   "source": [
    "# Ingreso de datos por el usuario y visualización personalizada"
   ]
  },
  {
   "cell_type": "markdown",
   "metadata": {},
   "source": [
    "## Función `input`\n",
    "### Ejercicio 1\n",
    "El volumen de un cono es $$V = \\frac{1}{3}A_b h$$ donde $A_b$ es el área de la base y $h$ es la altura del cono.\n",
    "\n",
    "<figure style=\"text-align: center;\">\n",
    "  <img src=\"https://github.com/aisacc/Programacion-Python/blob/main/_Im%C3%A1genes/Tema%2005%20-%20Ingreso%20de%20datos%20por%20el%20usuario%20y%20visualizaci%C3%B3n%20personalizada/1.png?raw=true\" style=\"width: 30%; height: auto;\">\n",
    "</figure>\n",
    "\n",
    "Conmine al usuario a ingresar el radio de la base circular y la altura del cono. Calcule el volumen del cono.\n",
    "\n",
    "*Ejercicio modificado de Moore, 2007.*\n",
    "\n",
    "### Solución"
   ]
  },
  {
   "cell_type": "code",
   "execution_count": 1,
   "metadata": {},
   "outputs": [],
   "source": [
    "# Ingrese su código aquí 👻"
   ]
  },
  {
   "cell_type": "markdown",
   "metadata": {},
   "source": [
    "### Ejercicio 2: Ingeniería mecánica\n",
    "Solicita al usuario la fuerza, $F$, (en newtons) y el área, $A$, (en metros cuadrados) sobre la cual actúa, y calcula la presión utilizando la fórmula $P = F/A$. ¿Qué unidades tiene la presión?\n",
    "\n",
    "### Solución"
   ]
  },
  {
   "cell_type": "code",
   "execution_count": null,
   "metadata": {},
   "outputs": [],
   "source": [
    "# Ingrese su código aquí 👻"
   ]
  },
  {
   "cell_type": "markdown",
   "metadata": {},
   "source": [
    "### Ejercicio 3: Ingeniería civil\n",
    "Desarrolla un programa que solicite al usuario las dimensiones (base, $b$, y altura, $h$, en metros) y la cantidad de pisos, $n$, de un edificio rectangular. Calcula la carga total que el edificio soporta si cada piso soporta una carga uniforme de $q\\ \\text{kN}/\\text{m}^2$.\n",
    "\n",
    "Utiliza la fórmula: $\\text{Carga total} = q \\times b \\times h \\times n$. ¿Por qué se utiliza esta fórmula? ¿Físicamente qué representa? Has un dibujo manual y adjúntalo a tu respuesta.\n",
    "\n",
    "### Solución"
   ]
  },
  {
   "cell_type": "code",
   "execution_count": null,
   "metadata": {},
   "outputs": [],
   "source": [
    "# Ingrese su código aquí 👻"
   ]
  },
  {
   "cell_type": "markdown",
   "metadata": {},
   "source": [
    "### Ejercicio 4: Ingeniería eléctrica\n",
    "Escribe un programa que solicite al usuario los valores de resistencia $R$ (en ohmios), inductancia $L$ (en henrios), y capacitancia $C$ (en faradios) de un circuito RLC en serie. Calcula la frecuencia resonante del circuito usando la fórmula $f_r = \\frac{1}{2\\pi\\sqrt{LC}}$, y el factor de calidad usando $Q = \\frac{1}{R} \\sqrt{\\frac{L}{C}}$.\n",
    "\n",
    "**Observación**\n",
    "\n",
    "Utiliza el valor de $\\pi$ como 3.141592. Más adelante se aprenderá cómo importar librerías las cuales contienen constantes como $\\pi$.\n",
    "\n",
    "### Solución"
   ]
  },
  {
   "cell_type": "code",
   "execution_count": 1,
   "metadata": {},
   "outputs": [],
   "source": [
    "# Ingrese su código aquí 👻"
   ]
  },
  {
   "cell_type": "markdown",
   "metadata": {},
   "source": [
    "## Función `print` e interpolación de cadenas\n",
    "### Ejercicio 1\n",
    "Realizar las siguientes actividades:\n",
    "* Solicitar al usuario su nombre, su edad y su estatura en centímetros.\n",
    "* Suponiendo que se ha ingresado: Juan, 21 y 173, entonces desplegar por pantalla: \"Hola. Mi nombre es Juan. Tengo 21 años y mido 1.73 m. ¡Es un placer conocerte!\".\n",
    "* Haciendo la suposición anterior, desplegar por pantalla lo indicado en el literal anterior, pero cada espacio luego de un punto será ahora un salto de línea, a excepción del último punto donde en lugar de un salto de línea deberá haber dos saltos de línea.\n",
    "\n",
    "### Solución"
   ]
  },
  {
   "cell_type": "code",
   "execution_count": null,
   "metadata": {},
   "outputs": [],
   "source": [
    "# Ingrese su código aquí 👻"
   ]
  },
  {
   "cell_type": "markdown",
   "metadata": {},
   "source": [
    "### Ejercicio 2\n",
    "Escriba un programa en Python que acepte una palabra en castellano y calcule una métrica que sea el número total de caracteres de la palabra dividido por el número total de vocales que contiene la palabra.\n",
    "\n",
    "*Ejercicio modificado de Delgado, 2024.*\n",
    "\n",
    "### Solución"
   ]
  },
  {
   "cell_type": "code",
   "execution_count": null,
   "metadata": {},
   "outputs": [],
   "source": [
    "# Ingrese su código aquí 👻"
   ]
  },
  {
   "cell_type": "markdown",
   "metadata": {},
   "source": [
    "### Ejercicio 3: Ingeniería electrónica\n",
    "Desarrolla un programa que solicite al usuario el valor de una resistencia en ohmios y el voltaje de un circuito en voltios. Calcula la corriente usando la ley de Ohm $I = V / R$ y la potencia disipada usando $P = V \\times I$.Imprime los resultados de manera clara.\n",
    "\n",
    "### Solución"
   ]
  },
  {
   "cell_type": "code",
   "execution_count": null,
   "metadata": {},
   "outputs": [],
   "source": [
    "# Ingrese su código aquí 👻"
   ]
  },
  {
   "cell_type": "markdown",
   "metadata": {},
   "source": [
    "### Ejercicio 4: Ingeniería mecánica\n",
    "Crea un programa que solicite al usuario el diámetro de un cilindro (en cm) y su altura (en cm). Calcula el volumen y el área superficial del cilindro usando las fórmulas $V = \\pi r^2 h$ y $A = 2 \\pi r (r + h)$, donde $r$ es el radio y $h$ es la altura. Imprime los resultados de manera estructurada.\n",
    "\n",
    "**Observación**\n",
    "\n",
    "Utiliza el valor de $\\pi$ como 3.141592. Más adelante se aprenderá cómo importar librerías las cuales contienen constantes como $\\pi$.\n",
    "\n",
    "### Solución"
   ]
  },
  {
   "cell_type": "code",
   "execution_count": null,
   "metadata": {},
   "outputs": [],
   "source": [
    "# Ingrese su código aquí 👻"
   ]
  },
  {
   "cell_type": "markdown",
   "metadata": {},
   "source": [
    "### Ejercicio 4: Ingeniería civil\n",
    "Escribe un programa que solicite al usuario la carga axial (en kN) y la sección transversal (en cm²) de una columna. Calcula la tensión axial usando la fórmula $\\sigma = P / A$, donde $P$ es la carga axial y $A$ es la sección transversal. Imprime los resultados en un formato claro y legible. La tensión axial $\\sigma$ debe estar expresada en Pascales.\n",
    "\n",
    "**Observación**\n",
    "\n",
    "Ten cuidado con las unidades.\n",
    "\n",
    "### Solución"
   ]
  },
  {
   "cell_type": "code",
   "execution_count": null,
   "metadata": {},
   "outputs": [],
   "source": [
    "# Ingrese su código aquí 👻"
   ]
  },
  {
   "cell_type": "markdown",
   "metadata": {},
   "source": [
    "### Ejercicio 5: Ingeniería ambiental\n",
    "Escribe un programa que solicite al usuario la concentración de un contaminante en el aire (en µg/m³) y el volumen de aire inhalado por una persona en un día (en m³). Calcula la dosis diaria de exposición al contaminante usando la fórmula $D = CV$, donde $C$ es la concentración y $V$ es el volumen. Imprime los resultados de manera estructurada.\n",
    "\n",
    "### Solución"
   ]
  },
  {
   "cell_type": "code",
   "execution_count": null,
   "metadata": {},
   "outputs": [],
   "source": [
    "# Ingrese su código aquí 👻"
   ]
  }
 ],
 "metadata": {
  "kernelspec": {
   "display_name": "Python 3.10.7 64-bit",
   "language": "python",
   "name": "python3"
  },
  "language_info": {
   "codemirror_mode": {
    "name": "ipython",
    "version": 3
   },
   "file_extension": ".py",
   "mimetype": "text/x-python",
   "name": "python",
   "nbconvert_exporter": "python",
   "pygments_lexer": "ipython3",
   "version": "3.12.2"
  },
  "orig_nbformat": 4,
  "vscode": {
   "interpreter": {
    "hash": "369f2c481f4da34e4445cda3fffd2e751bd1c4d706f27375911949ba6bb62e1c"
   }
  }
 },
 "nbformat": 4,
 "nbformat_minor": 2
}
