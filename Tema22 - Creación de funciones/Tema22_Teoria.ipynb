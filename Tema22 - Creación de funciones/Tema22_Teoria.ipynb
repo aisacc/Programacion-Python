{
 "cells": [
  {
   "cell_type": "markdown",
   "metadata": {},
   "source": [
    "# Creación de funciones\n",
    "\n",
    "Las funciones son una **serie de instrucciones** que requieren una o varias entradas (en raros casos con ninguna) y que devuelven una o varias salidas.\n",
    "\n",
    "Previamente ya hemos estudiado las funciones internas en Python, aquellas que vienen integradas dentro de Python y en la mayoría de casos serán más que suficiente (incluyendo las funciones de librerías externas de Python como NumPy, Pandas, etc.). No obstante, en los casos donde estas funciones no sean suficiente, entonces deberemos crear nuestras propias funciones.\n",
    "\n",
    "Las funciones que podemos crear tienen la misma estructura que las funciones internas de Python, así que únicamente es necesario aprender la forma de crearlas."
   ]
  },
  {
   "cell_type": "markdown",
   "metadata": {},
   "source": [
    "## Palabra reservada `def`\n",
    "\n",
    "La palabra reservada `def` permite crear funciones de la siguiente forma:\n",
    "\n",
    "<figure style=\"text-align: center;\">\n",
    "  <div><strong>Fig. 1.</strong> Definición de una función en Python. </div>\n",
    "  <img src=\"markdown_resources/1.jpg\" style=\"width: 60%; height: auto;\">\n",
    "  <figcaption>Tomado de <strong>Aprende Python</strong> de <em>Sergio Delgado Quintero</em>.</figcaption>\n",
    "</figure>\n",
    "\n",
    "**Observación 1**\n",
    "\n",
    "Los nombres de las funciones tienen las mismas reglas que los nombres de las variables.\n",
    "\n",
    "**Observación 2**\n",
    "\n",
    "La función debe estar definida, o importada, antes del momento en que sea llamada."
   ]
  },
  {
   "cell_type": "code",
   "execution_count": null,
   "metadata": {},
   "outputs": [],
   "source": [
    "# Ingrese su código aquí 👻"
   ]
  },
  {
   "cell_type": "markdown",
   "metadata": {},
   "source": [
    "## Funciones que devuelven varios valores\n",
    "\n",
    "Mediante las tuplas es posible devolver más de un valor en una función. En esencia lo que se está utilizando es el **desempaquetado de tuplas**."
   ]
  },
  {
   "cell_type": "code",
   "execution_count": null,
   "metadata": {},
   "outputs": [],
   "source": [
    "# Ingrese su código aquí 👻"
   ]
  },
  {
   "cell_type": "markdown",
   "metadata": {},
   "source": [
    "## Parámetros y argumentos\n",
    "\n",
    "Existe una diferencia sustancial entre los parámetros y los argumentos. Es la siguiente: **los parámetros son las variables genéricas con las cuales se define la función y su comportamiento, mientras que los argumentos son las variables con las que se llama a la función**.\n",
    "\n",
    "Se podría entender que *los parámetros son el caso general y los argumentos son el caso particular*."
   ]
  },
  {
   "cell_type": "code",
   "execution_count": null,
   "metadata": {},
   "outputs": [],
   "source": [
    "# Ingrese su código aquí 👻"
   ]
  },
  {
   "cell_type": "markdown",
   "metadata": {},
   "source": [
    "## Argumentos posicionales\n",
    "\n",
    "Son aquellos argumentos que son asignados según el orden de los parámetros al momento de crear la función.\n",
    "\n",
    "**Observación**\n",
    "\n",
    "Su principal desventaja es que pueden llegar a ser confusos si la función tiene demasiados parámetros o si simplemente se ingresa en otro orden los argumentos."
   ]
  },
  {
   "cell_type": "code",
   "execution_count": null,
   "metadata": {},
   "outputs": [],
   "source": [
    "# Ingrese su código aquí 👻"
   ]
  },
  {
   "cell_type": "markdown",
   "metadata": {},
   "source": [
    "## Argumentos nominales\n",
    "\n",
    "Son aquellos argumentos que son asignados de forma explícita indicando el nombre del parámetro. De esta forma no hay ambigüedad al momento de asignar los argumentos a los parámetros."
   ]
  },
  {
   "cell_type": "code",
   "execution_count": null,
   "metadata": {},
   "outputs": [],
   "source": [
    "# Ingrese su código aquí 👻"
   ]
  },
  {
   "cell_type": "markdown",
   "metadata": {},
   "source": [
    "## Argumentos posicionales y nominales\n",
    "\n",
    "Python permite utilizar ambos tipos de argumentos al momento de llamar a una función, siempre y cuando primero se indiquen los parámetros posicionales."
   ]
  },
  {
   "cell_type": "code",
   "execution_count": null,
   "metadata": {},
   "outputs": [],
   "source": [
    "# Ingrese su código aquí 👻"
   ]
  },
  {
   "cell_type": "markdown",
   "metadata": {},
   "source": [
    "## Parámetros por defecto\n",
    "\n",
    "Es posible asignar valores de forma explícita a los parámetros al momento de crear la función, los cuales serán utilizados si al llamar la función estos parámetros no tienen un argumento asignado."
   ]
  },
  {
   "cell_type": "code",
   "execution_count": 6,
   "metadata": {},
   "outputs": [],
   "source": [
    "# Ingrese su código aquí 👻"
   ]
  },
  {
   "cell_type": "markdown",
   "metadata": {},
   "source": [
    "## Añadir documentación a una función\n",
    "\n",
    "Hasta este punto vemos que podemos hacer maravillas con las funciones que seamos capaces de programar, ¿pero seremos capaces de recordar todo el comportamiento (y limitaciones) de las funciones que creemos dentro de un mes o más? La respuesta probable es que no.\n",
    "\n",
    "Por esta razón es menester documentar nuestras funciones tal que, si llegásemos a olvider de qué se trataba o qué hacía, con una leída rápida a su documentación podamos recordarlo.\n",
    "\n",
    "Para esto podemos utilizar una cadena de texto denominada **docstring** y es simplemente utilizar comillas triples `\"\"\"`."
   ]
  },
  {
   "cell_type": "code",
   "execution_count": null,
   "metadata": {},
   "outputs": [],
   "source": [
    "# Ingrese su código aquí 👻"
   ]
  },
  {
   "cell_type": "markdown",
   "metadata": {},
   "source": [
    "Luego de crear una función y documentarla, se puede consultar su documentación a través de la función `help`."
   ]
  },
  {
   "cell_type": "code",
   "execution_count": 16,
   "metadata": {},
   "outputs": [],
   "source": [
    "# Ingrese su código aquí 👻"
   ]
  },
  {
   "cell_type": "markdown",
   "metadata": {},
   "source": [
    "Como recomendación se tiene lo siguiente al momento de documentar una función.\n",
    "\n",
    "* Añadir una primera línea de descripción breve de la función.\n",
    "* Luego especificar las características de los parámetros (incluyendo sus tipos).\n",
    "* Finalmente indicar las características de los valores devueltos, o de retorno."
   ]
  },
  {
   "cell_type": "markdown",
   "metadata": {},
   "source": [
    "## Espacios de nombres\n",
    "\n",
    "*La explicación dada por Sergio Delgado Quintero sobre los espacios de nombres es perfecta y por esa razón se la adjunta tal cual él la explica.*\n",
    "\n",
    "Los espacios de nombres permiten definir ámbitos o contextos en los que agrupar nombres de objetos.\n",
    "\n",
    "Los espacios de nombres proporcionan un mecanismo de empaquetado, de tal forma que podamos tener incluso nombres iguales que no hacen referencia al mismo objeto (siempre y cuando estén en ámbitos distintos).\n",
    "\n",
    "Cada función define su propio espacio de nombres y es diferente del espacio de nombres global aplicable a todo nuestro programa.\n",
    "\n",
    "<figure style=\"text-align: center;\">\n",
    "  <div><strong>Fig. 2.</strong> Espacio de nombres global VS. Espacios de nombres de funciones. </div>\n",
    "  <img src=\"markdown_resources/2.png\" style=\"width: 60%; height: auto;\">\n",
    "  <figcaption>Tomado de <strong>Aprende Python</strong> de <em>Sergio Delgado Quintero</em>.</figcaption>\n",
    "</figure>"
   ]
  },
  {
   "cell_type": "code",
   "execution_count": null,
   "metadata": {},
   "outputs": [],
   "source": [
    "# Ingrese su código aquí 👻"
   ]
  },
  {
   "cell_type": "markdown",
   "metadata": {},
   "source": [
    "## Consejos para programar\n",
    "\n",
    "Asimismo, Sergio nos comparte los consejos de Chris Staudinger para mejorar el código cuando se trabajan con funciones:\n",
    "\n",
    "1. **Las funciones deberían hacer una única cosa.**\n",
    "\n",
    "    *Por ejemplo, un mal diseño sería tener una única función que calcule el total de una cesta de la compra, los impuestos y los gastos de envío. Sin embargo esto se debería hacer con tres funciones separadas. Así conseguimos que el código sea más fácil de matener, reutilizar y depurar.*\n",
    "\n",
    "2. **Utiliza nombres descriptivos y con significado.**\n",
    "\n",
    "    *Los nombres autoexplicativos de variables y funciones mejoran la legibilidad del código. Por ejemplo – deberíamos llamar «total_cost» a una variable que se usa para almacenar el total de un carrito de la compra en vez de «x» ya que claramente explica su propósito.*\n",
    "\n",
    "3. **No uses variables globales.**\n",
    "\n",
    "    *Las variables globales pueden introducir muchos problemas, incluyendo efectos colaterales inesperados y errores de programación difíciles de trazar. Supongamos que tenemos dos funciones que comparten una variable global. Si una función cambia su valor la otra función podría no funcionar como se espera.*\n",
    "\n",
    "4. **Refactorizar regularmente.**\n",
    "\n",
    "    *El código inevitablemente cambia con el tiempo, lo que puede derivar en partes obsoletas, redundantes o desorganizadas. Trata de mantener la calidad del código revisando y refactorizando aquellas zonas que se editan.*\n",
    "\n",
    "5. **No utilices «números mágicos» o valores «hard-codeados».**\n",
    "\n",
    "    *No es lo mismo escribir «99 * 3» que «price * quantity». Esto último es más fácil de entender y usa variables con nombres descriptivos haciéndolo autoexplicativo. Trata de usar constantes o variables en vez de valores «hard-codeados».*\n",
    "\n",
    "6. **Escribe lo que necesites ahora, no lo que pienses que podrías necesitar en el futuro.**\n",
    "\n",
    "    *Los programas simples y centrados en el problema son más flexibles y menos complejos.*\n",
    "\n",
    "7. **Usa comentarios para explicar el «por qué» y no el «qué».**\n",
    "\n",
    "    *El código limpio es autoexplicativo y por lo tanto los comentarios no deberían usarse para explicar lo que hace el código. En cambio, los comentarios debería usarse para proporcionar contexto adicional, como por qué el código está diseñado de una cierta manera.*"
   ]
  },
  {
   "cell_type": "markdown",
   "metadata": {},
   "source": [
    "----\n",
    "## Material adicional\n",
    "* [Definir una función](https://aprendepython.es/core/modularity/functions/#definir-una-funcion)\n",
    "* [Documentación](https://aprendepython.es/core/modularity/functions/#documentacion)\n",
    "* [Espacios de nombres](https://aprendepython.es/core/modularity/functions/#espacios-de-nombres)"
   ]
  }
 ],
 "metadata": {
  "kernelspec": {
   "display_name": "Python 3.10.7 64-bit",
   "language": "python",
   "name": "python3"
  },
  "language_info": {
   "codemirror_mode": {
    "name": "ipython",
    "version": 3
   },
   "file_extension": ".py",
   "mimetype": "text/x-python",
   "name": "python",
   "nbconvert_exporter": "python",
   "pygments_lexer": "ipython3",
   "version": "3.12.2"
  },
  "orig_nbformat": 4,
  "vscode": {
   "interpreter": {
    "hash": "369f2c481f4da34e4445cda3fffd2e751bd1c4d706f27375911949ba6bb62e1c"
   }
  }
 },
 "nbformat": 4,
 "nbformat_minor": 2
}
