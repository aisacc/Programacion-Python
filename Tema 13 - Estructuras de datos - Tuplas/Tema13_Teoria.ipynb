{
 "cells": [
  {
   "cell_type": "markdown",
   "metadata": {},
   "source": [
    "# Estructuras de datos: Tuplas\n",
    "\n",
    "Las tuplas son muy similares a las listas. En realidad, la principal diferencia entre éstas es su mutabilildad: mientras que las listas son mutables, las tuplas son inmutables."
   ]
  },
  {
   "cell_type": "markdown",
   "metadata": {},
   "source": [
    "## Crear tuplas\n",
    "Las tuplas se definen mediante paréntesis `()` y, al igual que las listas, pueden contener elementos de distinto tipo de dato. \n",
    "\n",
    "También es posible crear tuplas con la función `tuple()`. El único requisito para que esto sea posible (realizar una conversión utilizando la función `tuple()`) es que el tipo de dato debe ser iterable."
   ]
  },
  {
   "cell_type": "code",
   "execution_count": 1,
   "metadata": {},
   "outputs": [],
   "source": [
    "# Ingrese su código aquí 👻"
   ]
  },
  {
   "cell_type": "markdown",
   "metadata": {},
   "source": [
    "Si se desea crear una tupla vacía es más que suficiente utilizar la función `tuple()` sin argumentos."
   ]
  },
  {
   "cell_type": "code",
   "execution_count": null,
   "metadata": {},
   "outputs": [],
   "source": [
    "# Ingrese su código aquí 👻"
   ]
  },
  {
   "cell_type": "markdown",
   "metadata": {},
   "source": [
    "Ahora bien, si la tupla sólo tiene un elemento, entonces se deben crear con paréntesis, pero añadiendo una coma al final. Caso contrario se creará una variable con el tipo de dato del elemento de la tupla, más no como tupla."
   ]
  },
  {
   "cell_type": "code",
   "execution_count": null,
   "metadata": {},
   "outputs": [],
   "source": [
    "# Ingrese su código aquí 👻"
   ]
  },
  {
   "cell_type": "markdown",
   "metadata": {},
   "source": [
    "### Tuplas sin paréntesis\n",
    "También es posible crear tuplas sin utilizar paréntesis. Basta con separar los elementos con comas para que la tupla se cree de forma implícita."
   ]
  },
  {
   "cell_type": "code",
   "execution_count": null,
   "metadata": {},
   "outputs": [],
   "source": [
    "# Ingrese su código aquí 👻"
   ]
  },
  {
   "cell_type": "markdown",
   "metadata": {},
   "source": [
    "### ¿Modificar elementos de una tupla?\n",
    "\n",
    "Como ya se mencionó, las tuplas son inmutables. Eso quiere decir que una vez creadas no puede ser modificadas."
   ]
  },
  {
   "cell_type": "code",
   "execution_count": null,
   "metadata": {},
   "outputs": [],
   "source": [
    "# Ingrese su código aquí 👻"
   ]
  },
  {
   "cell_type": "markdown",
   "metadata": {},
   "source": [
    "## Operaciones con tuplas\n",
    "\n",
    "Es posible utilizar las mismas funciones de las listas en las tuplas, sin contar con aquellas que permiten algún tipo de modificación. Estas funciones, que se pueden usar en listas pero no en tuplas, son las siguientes:\n",
    "* `reverse()`\n",
    "* `append()`\n",
    "* `extend()`\n",
    "* `remove()`\n",
    "* `clear()`\n",
    "* `sort()`"
   ]
  },
  {
   "cell_type": "code",
   "execution_count": null,
   "metadata": {},
   "outputs": [],
   "source": [
    "# Ingrese su código aquí 👻"
   ]
  },
  {
   "cell_type": "markdown",
   "metadata": {},
   "source": [
    "Sin embargo, las funciones `sorted()` y `reversed()` sí pueden aplicarse sobre tuplas dado que no se está modificando el valor de la tupla, sino se está creando un nuevo objeto."
   ]
  },
  {
   "cell_type": "code",
   "execution_count": null,
   "metadata": {},
   "outputs": [],
   "source": [
    "# Ingrese su código aquí 👻"
   ]
  },
  {
   "cell_type": "markdown",
   "metadata": {},
   "source": [
    "## Desempaquetado de tuplas\n",
    "\n",
    "El desempaquetado de tuplas permite asignar una tupla a varias variables.\n",
    "\n",
    "<figure style=\"text-align: center;\">\n",
    "  <div><strong>Fig. 1.</strong> Desempaquetado de tuplas. </div>\n",
    "  <img src=\"https://github.com/aisacc/Programacion-Python/blob/main/_Im%C3%A1genes/Tema%2013%20-%20Estructuras%20de%20datos%20-%20Tuplas/1.jpg?raw=true\" style=\"width: 50%; height: auto;\">\n",
    "  <figcaption>Tomado de <strong>Aprende Python</strong> de <em>Sergio Delgado Quintero</em>.</figcaption>\n",
    "</figure>"
   ]
  },
  {
   "cell_type": "code",
   "execution_count": null,
   "metadata": {},
   "outputs": [],
   "source": [
    "# Ingrese su código aquí 👻"
   ]
  },
  {
   "cell_type": "markdown",
   "metadata": {},
   "source": [
    "Este comportamiento es bastante útil y común que a veces pasa por alto al momento de programar. Existen muchas funciones que devuelven una tupla y mediante el desempaquetamiento se obtienen las variables en sí en lugar de toda la tupla resultante.\n",
    "\n",
    "Un ejemplo de esto es la función `divmod()` que da como resultado una tupla con el cociente y el resto de una división, pero con el desempaquetamiento se puede obtener el cociente y el resto como variables independientes en lugar de una tupla."
   ]
  },
  {
   "cell_type": "code",
   "execution_count": null,
   "metadata": {},
   "outputs": [],
   "source": [
    "# Ingrese su código aquí 👻"
   ]
  },
  {
   "cell_type": "markdown",
   "metadata": {},
   "source": [
    "### Intercambio de valores\n",
    "\n",
    "Otro uso excelente del desempaquetamiento es el de intercambiar valores de variables."
   ]
  },
  {
   "cell_type": "code",
   "execution_count": null,
   "metadata": {},
   "outputs": [],
   "source": [
    "# Ingrese su código aquí 👻"
   ]
  },
  {
   "cell_type": "markdown",
   "metadata": {},
   "source": [
    "A simple viste parece algo sin mayor importancia, pero esto no es una característica que posean todos los demás lenguajes de programación. En la mayoría se debe crear una variable auxiliar para hacer este intercambio."
   ]
  },
  {
   "cell_type": "markdown",
   "metadata": {},
   "source": [
    "## Desempaquetado extendido\n",
    "\n",
    "Por supuesto que ha sido útil extraer uno por uno los elementos de una tupla, pero no necesariamente siempre se realiza de esa forma. En realidad es posible desempaquetar *por grupos* utilizando el operador `*`.\n",
    "\n",
    "Lo que siempre se debe de cumplir al hacer este desempaquetado es que **el número de elementos de destino debe ser menor o igual que el número de elementos de origen**."
   ]
  },
  {
   "cell_type": "code",
   "execution_count": 16,
   "metadata": {},
   "outputs": [],
   "source": [
    "# Ingrese su código aquí 👻"
   ]
  },
  {
   "cell_type": "markdown",
   "metadata": {},
   "source": [
    "## Desempaquetado genérico\n",
    "\n",
    "En realidad el desempaquetado extendido es fácilmente ampliable a cualquier tipo de dato iterable como cadenas de texto o listas."
   ]
  },
  {
   "cell_type": "code",
   "execution_count": null,
   "metadata": {},
   "outputs": [],
   "source": [
    "# Ingrese su código aquí 👻"
   ]
  },
  {
   "cell_type": "markdown",
   "metadata": {},
   "source": [
    "## ¿Tuplas por compresión?\n",
    "\n",
    "La creación de objetos por compresión únicamente aplica para tipos de datos mutables. Entonces, como es de esperarse, no es posible crear tuplas por comprensión."
   ]
  },
  {
   "cell_type": "code",
   "execution_count": null,
   "metadata": {},
   "outputs": [],
   "source": [
    "# Ingrese su código aquí 👻"
   ]
  },
  {
   "cell_type": "markdown",
   "metadata": {},
   "source": [
    "## Tuplas VS. Listas\n",
    "\n",
    "Podría parecer que las tuplas son más limitadas (y quizá menos útiles) que las listas, pero en realidad poseen varias características que las hacen una herramienta bastante útil.\n",
    "\n",
    "1. Las tuplas son más ligeras que las listas. Por tanto, ocupan menos espacio en la memoria.\n",
    "2. En ocasiones se puede llegar a modificar \"por accidente\" elementos en una lista. Esto no ocurre con las tuplas.\n",
    "3. Las tuplas puede ser utilizadas como claves de diccionarios dado que son *hashables*."
   ]
  },
  {
   "cell_type": "markdown",
   "metadata": {},
   "source": [
    "----\n",
    "## Material adicional\n",
    "* [Creando tuplas](https://aprendepython.es/core/datastructures/tuples/#creando-tuplas)\n",
    "* [Operaciones con tuplas](https://aprendepython.es/core/datastructures/tuples/#operaciones-con-tuplas)\n",
    "* [Desempaquetado de tuplas](https://aprendepython.es/core/datastructures/tuples/#desempaquetado-de-tuplas)"
   ]
  }
 ],
 "metadata": {
  "kernelspec": {
   "display_name": "Python 3.10.7 64-bit",
   "language": "python",
   "name": "python3"
  },
  "language_info": {
   "codemirror_mode": {
    "name": "ipython",
    "version": 3
   },
   "file_extension": ".py",
   "mimetype": "text/x-python",
   "name": "python",
   "nbconvert_exporter": "python",
   "pygments_lexer": "ipython3",
   "version": "3.12.2"
  },
  "orig_nbformat": 4,
  "vscode": {
   "interpreter": {
    "hash": "369f2c481f4da34e4445cda3fffd2e751bd1c4d706f27375911949ba6bb62e1c"
   }
  }
 },
 "nbformat": 4,
 "nbformat_minor": 2
}
