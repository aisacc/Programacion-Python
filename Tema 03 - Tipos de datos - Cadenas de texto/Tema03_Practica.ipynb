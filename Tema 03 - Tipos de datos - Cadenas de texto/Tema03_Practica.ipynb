{
 "cells": [
  {
   "cell_type": "markdown",
   "metadata": {},
   "source": [
    "# Tipos de datos: Cadenas de texto"
   ]
  },
  {
   "cell_type": "markdown",
   "metadata": {},
   "source": [
    "## Creación y conversión\n",
    "### Ejercicio 1\n",
    "Crear variables que contengan la siguiente información:\n",
    "* Nombres\n",
    "* Apellidos\n",
    "* Ciudad de nacimiento\n",
    "* Nombre de la escuela o secundaria donde estudiaste\n",
    "* Nombre de tu mascota (si no tienes, ¿qué nombre le pondrías?)\n",
    "\n",
    "### Solución"
   ]
  },
  {
   "cell_type": "code",
   "execution_count": null,
   "metadata": {},
   "outputs": [],
   "source": [
    "# Ingrese su código aquí 👻"
   ]
  },
  {
   "cell_type": "markdown",
   "metadata": {},
   "source": [
    "### Ejercicio 2\n",
    "Si se tiene la variable de tipo texto `numero_mascotas` que contiene, por ejemplo, `\"3\"`, entonces se debe convertir esta variable de texto a número (elegir si debe ser número entero o número flotante). O, si se tiene la variable de tipo número `calificacion_final` que contiene, por ejemplo, `9.15` (sobre 10), entonces se debe convertir esta variable de tipo número a texto.\n",
    "\n",
    "Siguiendo la lógica anterior, realizar la conversión de variables según corresponda:\n",
    "* `numero_pisos = 25`\n",
    "* `altura_edificio = '80.93'`\n",
    "* `peso = 50.03`\n",
    "* `numero_favorito = \"7\"`\n",
    "* `calificacion_supletorio = \"\"\"6.98\"\"\"`\n",
    "\n",
    "**Observación**\n",
    "\n",
    "En los literales que sea necesario se debe utilizar las funciones de conversión hacia números estudiadas en temas anteriores.\n",
    "\n",
    "### Solución"
   ]
  },
  {
   "cell_type": "code",
   "execution_count": null,
   "metadata": {},
   "outputs": [],
   "source": [
    "# Ingrese su código aquí 👻"
   ]
  },
  {
   "cell_type": "markdown",
   "metadata": {},
   "source": [
    "## Concatenación\n",
    "### Ejercicio 1\n",
    "Supongamos que estamos generando un **reporte** que incluye los parámetros de diseño de un canal hidráulico: altura, base y longitud. Entonces se debe desplegar por pantalla el reporte.\n",
    "\n",
    "Por ejemplo, si la altura es `1.40` metros, la base es `2.00` metros y la longitud es `2.00` kilometros, entonces el **reporte** (o resultado final) sería `El canal rectangular tiene una altura de 1.40 metros, un ancho de 2.0 metros y una longitud de 2.00 kilometros.`\n",
    "\n",
    "### Solución"
   ]
  },
  {
   "cell_type": "code",
   "execution_count": null,
   "metadata": {},
   "outputs": [],
   "source": [
    "# Ingrese su código aquí 👻"
   ]
  },
  {
   "cell_type": "markdown",
   "metadata": {},
   "source": [
    "### Ejercicio 2\n",
    "Supongamos que estamos generando un **reporte** sobre una reacción química que considera la reacción, la temperatura (en Kelvin) y la presión (en atmósferas). Entonces se debe desplegar por pantalla el reporte.\n",
    "\n",
    "Por ejemplo, si la reacción es `Reacción A + B`, la temperatura es `350` Kelvin y la presión es `2` atmósferas, entonces el **reporte** (o resultado final) sería `Para la Reacción A + B, la temperatura de operación es de 350 K y la presión es de 2 atm.`\n",
    "\n",
    "### Solución"
   ]
  },
  {
   "cell_type": "code",
   "execution_count": null,
   "metadata": {},
   "outputs": [],
   "source": [
    "# Ingrese su código aquí 👻"
   ]
  },
  {
   "cell_type": "markdown",
   "metadata": {},
   "source": [
    "### Ejercicio 3\n",
    "Supongamos que estamos generando un **reporte** sobre la calidad del agua en un río que incluye el nombre del río, el pH y la concentración de oxígeno (en mg/L). Entonces se debe desplegar por pantalla el reporte.\n",
    "\n",
    "Por ejemplo, si el nombre del río es `Amazonas`, el pH es `7.2` y la concentración de oxígeno es `8.5` mg/L, entonces el **reporte** (o resultado final) sería `El río Amazonas tiene un pH de 7.2 y una concentración de oxígeno de 8.5 mg/L.`\n",
    "\n",
    "### Solución"
   ]
  },
  {
   "cell_type": "code",
   "execution_count": null,
   "metadata": {},
   "outputs": [],
   "source": [
    "# Ingrese su código aquí 👻"
   ]
  },
  {
   "cell_type": "markdown",
   "metadata": {},
   "source": [
    "## Indexación\n",
    "### Ejercicio 1\n",
    "Se tiene una cadena que describe una misión espacial."
   ]
  },
  {
   "cell_type": "code",
   "execution_count": null,
   "metadata": {},
   "outputs": [],
   "source": [
    "descripcion_mision = \"Misión Apolo 11 alunizaje\""
   ]
  },
  {
   "cell_type": "markdown",
   "metadata": {},
   "source": [
    "Entonces se debe extraer el nombre de la misión. Luego se debe mostrar por pantalla lo siguiente: `Nombre de la misión: Apolo 11`."
   ]
  },
  {
   "cell_type": "markdown",
   "metadata": {},
   "source": [
    "### Solución"
   ]
  },
  {
   "cell_type": "code",
   "execution_count": null,
   "metadata": {},
   "outputs": [],
   "source": [
    "# Ingrese su código aquí 👻"
   ]
  },
  {
   "cell_type": "markdown",
   "metadata": {},
   "source": [
    "### Ejercicio 2\n",
    "Se tiene una cadena que describe la calidad del agua."
   ]
  },
  {
   "cell_type": "code",
   "execution_count": 1,
   "metadata": {},
   "outputs": [],
   "source": [
    "calidad_agua = \"pH del río Amazonas: 7.5\""
   ]
  },
  {
   "cell_type": "markdown",
   "metadata": {},
   "source": [
    "Entonces se debe extraer el nombre del río y el valor del pH por separado. Finalmente se debe mostrar por pantalla lo siguiente:\n",
    "\n",
    "`Nombre del río: Amazonas`\n",
    "\n",
    "`Valor del pH: 7.5`\n",
    "\n",
    "**Observación**\n",
    "\n",
    "Se debe utilizar un solo `print` para lograr el resultado final."
   ]
  },
  {
   "cell_type": "markdown",
   "metadata": {},
   "source": [
    "### Solución"
   ]
  },
  {
   "cell_type": "code",
   "execution_count": null,
   "metadata": {},
   "outputs": [],
   "source": [
    "# Ingrese su código aquí 👻"
   ]
  },
  {
   "cell_type": "markdown",
   "metadata": {},
   "source": [
    "### Ejercicio 3\n",
    "Escribe un programa que tome una cadena de texto y la imprima en orden inverso, es decir, desde el último carácter al primero.\n",
    "\n",
    "### Solución"
   ]
  },
  {
   "cell_type": "code",
   "execution_count": 4,
   "metadata": {},
   "outputs": [],
   "source": [
    "# Ingrese su código aquí 👻"
   ]
  },
  {
   "cell_type": "markdown",
   "metadata": {},
   "source": [
    "### Ejercicio 4\n",
    "Escribe un programa que tome una cadena de texto y extraiga los primeros tres y los últimos tres caracteres, los invierta y los imprima juntos.\n",
    "\n",
    "**Observación**\n",
    "\n",
    "Solo se debe utilizar indexación y concatenación.\n",
    "\n",
    "### Solución"
   ]
  },
  {
   "cell_type": "code",
   "execution_count": null,
   "metadata": {},
   "outputs": [],
   "source": [
    "# Ingrese su código aquí 👻"
   ]
  },
  {
   "cell_type": "markdown",
   "metadata": {},
   "source": [
    "## Funciones para trabajar con cadenas de texto\n",
    "### Ejercicio 1\n",
    "Crea un programa que tome una cadena de texto como entrada y la imprima en mayúsculas y luego en minúsculas.\n",
    "\n",
    "### Solución"
   ]
  },
  {
   "cell_type": "code",
   "execution_count": 1,
   "metadata": {},
   "outputs": [],
   "source": [
    "# Ingrese su código aquí 👻"
   ]
  },
  {
   "cell_type": "markdown",
   "metadata": {},
   "source": [
    "### Ejercicio 2\n",
    "Crea un programa que cuente la cantidad de de vocales que aparecen en una cadena de texto.\n",
    "\n",
    "### Solución"
   ]
  },
  {
   "cell_type": "code",
   "execution_count": null,
   "metadata": {},
   "outputs": [],
   "source": [
    "# Ingrese su código aquí 👻"
   ]
  },
  {
   "cell_type": "markdown",
   "metadata": {},
   "source": [
    "### Ejercicio 3\n",
    "El ejercicio anterior contaba el número de vocales de una cadena de texto. ¿También consideraba las vocales en mayúsculas o minúsculas? Es decir, contar todas las vocales sin importar si son mayúsculas o minúsculas. \n",
    "\n",
    "Mejora el código del ejercicio anterior para que sí considere vocales en mayúsculas y minúsculas.\n",
    "\n",
    "**Observación**\n",
    "\n",
    "Si deseas ser más detallista, también el programa debería contar las vocales con tilde.\n",
    "\n",
    "### Solución"
   ]
  },
  {
   "cell_type": "code",
   "execution_count": 4,
   "metadata": {},
   "outputs": [],
   "source": [
    "# Ingrese su código aquí 👻"
   ]
  },
  {
   "cell_type": "markdown",
   "metadata": {},
   "source": [
    "### Ejercicio 4\n",
    "Los dos ejercicios anteriores permiten determinar el número de vocales en una cadena de texto. Utilizando eso como base, ¿cómo se podría determinar el número de consonantes de una cadena de texto?\n",
    "\n",
    "Como recordatorio puedes utilizar la siguiente imagen.\n",
    "\n",
    "<figure style=\"text-align: center;\">\n",
    "  <div><strong>Fig. 1.</strong> Vocales y consonantes. </div>\n",
    "  <img src=\"https://github.com/aisacc/Programacion-Python/blob/main/_Im%C3%A1genes/Tema%2003%20-%20Tipos%20de%20datos%20-%20Cadenas%20de%20texto/2.jpg?raw=true\" style=\"width: 40%; height: auto;\">\n",
    "  <figcaption>Tomado de <A HREF=\"https://www.tinytap.com/activities/g4nqn/play/vocales-y-consonantes\"> TINY TAP</A>.</figcaption>\n",
    "</figure>\n",
    "\n",
    "**Observación**\n",
    "\n",
    "Para verificar tu resultado, cuenta manualmente el número de consonantes en tu cadena de texto y comprueba con el resultado de tu código.\n",
    "\n",
    "### Solución"
   ]
  },
  {
   "cell_type": "code",
   "execution_count": null,
   "metadata": {},
   "outputs": [],
   "source": [
    "# Ingrese su código aquí 👻"
   ]
  }
 ],
 "metadata": {
  "kernelspec": {
   "display_name": "Python 3.10.7 64-bit",
   "language": "python",
   "name": "python3"
  },
  "language_info": {
   "codemirror_mode": {
    "name": "ipython",
    "version": 3
   },
   "file_extension": ".py",
   "mimetype": "text/x-python",
   "name": "python",
   "nbconvert_exporter": "python",
   "pygments_lexer": "ipython3",
   "version": "3.12.2"
  },
  "orig_nbformat": 4,
  "vscode": {
   "interpreter": {
    "hash": "369f2c481f4da34e4445cda3fffd2e751bd1c4d706f27375911949ba6bb62e1c"
   }
  }
 },
 "nbformat": 4,
 "nbformat_minor": 2
}
