{
 "cells": [
  {
   "cell_type": "markdown",
   "metadata": {},
   "source": [
    "# Ingreso de datos por el usuario y visualización personalizada\n",
    "\n",
    "El despliegue de información es visualizar por pantalla variables y su contenido. Ahora que ya se conoce acerca de algunos distintos tipos de variables se puede trabajar con las funciones de despliegue de información fácilmente."
   ]
  },
  {
   "cell_type": "markdown",
   "metadata": {},
   "source": [
    "## Función `input`\n",
    "Antes de continuar detengámonos un momento a estudiar la función `input` que es una de las funciones más útiles y relevantes dentro de la programación. La función `input` permite que el usuario ingrese información.\n",
    "\n",
    "Esta función muestra un mensaje, espera a que el usuario ingrese un valor y presione le tecla intro (o \"enter\").\n",
    "\n",
    "**Observación**\n",
    "\n",
    "La información ingreasada siempre es de tipo `str`, por lo que se debe realizar una conversión si se desea trabajar con otro tipo de dato."
   ]
  },
  {
   "cell_type": "code",
   "execution_count": 3,
   "metadata": {},
   "outputs": [],
   "source": [
    "# Ingrese su código aquí 👻"
   ]
  },
  {
   "cell_type": "markdown",
   "metadata": {},
   "source": [
    "## Función `print`\n",
    "La función `print` sin duda alguna tiene muchísimas funcionalidades. Por ejemplo, desplegar varias variables al mismo tiempo."
   ]
  },
  {
   "cell_type": "code",
   "execution_count": 8,
   "metadata": {},
   "outputs": [],
   "source": [
    "# print(var1, var2, var3)"
   ]
  },
  {
   "cell_type": "markdown",
   "metadata": {},
   "source": [
    "Nótese que el separador por defecto al desplegar varias variables es un espacio en blanco. Si se prefiere, se puede establecer el separador."
   ]
  },
  {
   "cell_type": "code",
   "execution_count": 11,
   "metadata": {},
   "outputs": [],
   "source": [
    "# print(var1, var2, var3, sep=\"|\")"
   ]
  },
  {
   "cell_type": "markdown",
   "metadata": {},
   "source": [
    "Asimismo, se puede establecer el caracter de finalización de la cadena. Por defecto es un salto de línea."
   ]
  },
  {
   "cell_type": "code",
   "execution_count": 12,
   "metadata": {},
   "outputs": [],
   "source": [
    "# print(var1, var2, var3, end=\"!!!\")"
   ]
  },
  {
   "cell_type": "markdown",
   "metadata": {},
   "source": [
    "Cabe destacar que se puede establecer tanto el caracter separador de variables como el caracter de fin de cadena de texto al mismo tiempo, además de otras funcionalidades similares que posee esta función."
   ]
  },
  {
   "cell_type": "markdown",
   "metadata": {},
   "source": [
    "### Interpolación de cadenas\n",
    "\n",
    "Interpolar, trabajando con cadenas de texto, significa sustituir una variable por su valor dentro de una cadena de texto. Existen varias formas de hacerlo, pero sin duda alguna la mejor y más intuitiva es utilizando **f-strings**.\n",
    "\n",
    "Esto se consigue añadiendo una `f` antes de la cadena de texto e incluir llaves `{}` en el lugar donde se desea interpolar el texto."
   ]
  },
  {
   "cell_type": "code",
   "execution_count": null,
   "metadata": {},
   "outputs": [],
   "source": [
    "# Ingrese su código aquí 👻"
   ]
  },
  {
   "cell_type": "markdown",
   "metadata": {},
   "source": [
    "**Observación**\n",
    "\n",
    "Si se desea incluir las llaves como texto dentro de la cadena interpolada, es suficiete con duplicarlas `{{}}`."
   ]
  },
  {
   "cell_type": "code",
   "execution_count": null,
   "metadata": {},
   "outputs": [],
   "source": [
    "# Ingrese su código aquí 👻"
   ]
  },
  {
   "cell_type": "markdown",
   "metadata": {},
   "source": [
    "**Observación**\n",
    "\n",
    "Si se desea interpolar variables numéricas, suele ser útil conocer la siguiente sintaxis: `print(f\"{value:6.4f}\")`. Es decir, se puede controlar la cantidad de espacios (6), la cantidad de decimales (4) y el tipo de número a visualizar (`f` para decimales y `d` para enteros).\n",
    "\n",
    "**Observación**\n",
    "\n",
    "El número de decimales por defecto es 6 y la cantidad de espacios es el número de caracteres.\n",
    "\n",
    "**Observación**\n",
    "\n",
    "Si se visualiza números enteros, entonces no es necesario indicar el número de decimales."
   ]
  },
  {
   "cell_type": "code",
   "execution_count": null,
   "metadata": {},
   "outputs": [],
   "source": [
    "# Ingrese su código aquí 👻"
   ]
  },
  {
   "cell_type": "markdown",
   "metadata": {},
   "source": [
    "### Ejercicio\n",
    "\n",
    "Escriba un programa en Python que acepte un entero $n$ y compute el valor de $n + nn + nnn$.\n",
    "\n",
    "*Ejercicio tomado de Delgado, 2024.*\n",
    "\n",
    "### Solución"
   ]
  },
  {
   "cell_type": "code",
   "execution_count": 14,
   "metadata": {},
   "outputs": [],
   "source": [
    "# Ingrese su código aquí 👻"
   ]
  },
  {
   "cell_type": "markdown",
   "metadata": {},
   "source": [
    "### Modo depuración\n",
    "\n",
    "A partir de Python 3.8 se puede utilizar este modo que permite visualizar la variable y el valor en lugar de solo el valor. Esto suele ser útil para depurar el código, al menos de manera sencilla.\n",
    "\n",
    "Para iniciar este modo se utiliza un **f-string** y añadir un `=` al final de la variable."
   ]
  },
  {
   "cell_type": "code",
   "execution_count": 13,
   "metadata": {},
   "outputs": [],
   "source": [
    "# print(f\"value=\"\")"
   ]
  },
  {
   "cell_type": "markdown",
   "metadata": {},
   "source": [
    "----\n",
    "## Material adicional\n",
    "* [Creando strings](https://aprendepython.es/core/datatypes/strings/#creando-strings)\n",
    "* [Interpolación de cadenas](https://aprendepython.es/core/datatypes/strings/#interpolacion-de-cadenas)"
   ]
  }
 ],
 "metadata": {
  "kernelspec": {
   "display_name": "Python 3.10.7 64-bit",
   "language": "python",
   "name": "python3"
  },
  "language_info": {
   "codemirror_mode": {
    "name": "ipython",
    "version": 3
   },
   "file_extension": ".py",
   "mimetype": "text/x-python",
   "name": "python",
   "nbconvert_exporter": "python",
   "pygments_lexer": "ipython3",
   "version": "3.11.8"
  },
  "orig_nbformat": 4,
  "vscode": {
   "interpreter": {
    "hash": "369f2c481f4da34e4445cda3fffd2e751bd1c4d706f27375911949ba6bb62e1c"
   }
  }
 },
 "nbformat": 4,
 "nbformat_minor": 2
}
