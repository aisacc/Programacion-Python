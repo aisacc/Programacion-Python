{
 "cells": [
  {
   "cell_type": "markdown",
   "metadata": {},
   "source": [
    "# Ingreso de datos por el usuario y visualización personalizada"
   ]
  },
  {
   "cell_type": "markdown",
   "metadata": {},
   "source": [
    "## Función `input`\n",
    "### Ejercicio\n",
    "El volumen de un cono es $$V = \\frac{1}{3}A_b h$$ donde $A_b$ es el área de la base y $h$ es la altura del cono.\n",
    "\n",
    "<figure style=\"text-align: center;\">\n",
    "  <img src=\"markdown_resources/1.png\" style=\"width: 30%; height: auto;\">\n",
    "</figure>\n",
    "\n",
    "Conmine al usuario a ingresar el radio de la base circular y la altura del cono. Calcule el volumen del cono.\n",
    "\n",
    "*Ejercicio modificado de Moore, 2007.*\n",
    "\n",
    "### Solución"
   ]
  },
  {
   "cell_type": "code",
   "execution_count": 1,
   "metadata": {},
   "outputs": [],
   "source": [
    "# Ingrese su código aquí 👻"
   ]
  },
  {
   "cell_type": "markdown",
   "metadata": {},
   "source": [
    "## Función `print`\n",
    "### Ejercicio 1\n",
    "Realizar las siguientes actividades:\n",
    "* Solicitar al usuario su nombre, su edad y su estatura en metros.\n",
    "* Suponiendo que se ha ingresado: Juan, 21 y 1.73, entonces desplegar por pantalla: \"Hola. Mi nombre es Juan. Tengo 21 años y mido 1.73 m. ¡Es un placer conocerte!\".\n",
    "* Haciendo la suposición anterior, desplegar por pantalla lo indicado en el literal anterior, pero cada espacio luego de un punto será ahora un salto de línea, a excepción del último punto donde en lugar de un salto de línea deberá haber dos saltos de línea.\n",
    "\n",
    "### Solución"
   ]
  },
  {
   "cell_type": "code",
   "execution_count": null,
   "metadata": {},
   "outputs": [],
   "source": [
    "# Ingrese su código aquí 👻"
   ]
  },
  {
   "cell_type": "markdown",
   "metadata": {},
   "source": [
    "### Ejercicio 2\n",
    "Escriba un programa en Python que acepte una palabra en castellano y calcule una métrica que sea elnúmero total de caracteres de la palabra multiplicado por el número total de vocales que contiene la palabra.\n",
    "\n",
    "*Ejercicio tomado de Delgado, 2024.*\n",
    "\n",
    "### Solución"
   ]
  },
  {
   "cell_type": "code",
   "execution_count": null,
   "metadata": {},
   "outputs": [],
   "source": [
    "# Ingrese su código aquí 👻"
   ]
  }
 ],
 "metadata": {
  "kernelspec": {
   "display_name": "Python 3.10.7 64-bit",
   "language": "python",
   "name": "python3"
  },
  "language_info": {
   "codemirror_mode": {
    "name": "ipython",
    "version": 3
   },
   "file_extension": ".py",
   "mimetype": "text/x-python",
   "name": "python",
   "nbconvert_exporter": "python",
   "pygments_lexer": "ipython3",
   "version": "3.11.8"
  },
  "orig_nbformat": 4,
  "vscode": {
   "interpreter": {
    "hash": "369f2c481f4da34e4445cda3fffd2e751bd1c4d706f27375911949ba6bb62e1c"
   }
  }
 },
 "nbformat": 4,
 "nbformat_minor": 2
}
