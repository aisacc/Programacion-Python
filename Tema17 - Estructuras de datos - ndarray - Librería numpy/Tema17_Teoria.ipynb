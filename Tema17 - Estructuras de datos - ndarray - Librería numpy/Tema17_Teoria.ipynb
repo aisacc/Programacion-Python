{
 "cells": [
  {
   "cell_type": "markdown",
   "metadata": {},
   "source": [
    "# Estructuras de datos: ndarray (_librería **numpy**_)\n",
    "\n",
    "**NumPy** es el paquete fundamental y más poderoso para computación científica e ingenieril en Python para el manejo de arrays numéricos multi-dimensionales."
   ]
  },
  {
   "cell_type": "code",
   "execution_count": 1,
   "metadata": {},
   "outputs": [],
   "source": [
    "# pip install numpy\n",
    "# import numpy as np"
   ]
  },
  {
   "cell_type": "markdown",
   "metadata": {},
   "source": [
    "Toda esta librería gira en torno al `ndarray`, donde `nd` es por n-dimensional. Por tanto, un `ndarray` es un array multidimensional de **elementos del mismo tipo**."
   ]
  },
  {
   "cell_type": "markdown",
   "metadata": {},
   "source": [
    "## Creación de ndarray\n",
    "\n",
    "Para crear ndarrays se utiliza `array()` y se pasa como argumento una lista. Opcionalmente se puede definir el tipo de número mediante el parámetro `dtype`.\n",
    "\n",
    "Algunos tipos de datos numéricos en NumPy son los siguientes.\n",
    "\n",
    "<figure style=\"text-align: center;\">\n",
    "  <div><strong>Fig. 1.</strong> Tipos de datos numéricos en NumPy. </div>\n",
    "  <img src=\"markdown_resources/1.png\" style=\"width: 60%; height: auto;\">\n",
    "  <figcaption>Tomado de <strong>Aprende Python</strong> de <em>Sergio Delgado Quintero</em>.</figcaption>\n",
    "</figure>"
   ]
  },
  {
   "cell_type": "code",
   "execution_count": null,
   "metadata": {},
   "outputs": [],
   "source": [
    "# Ingrese su código aquí 👻"
   ]
  },
  {
   "cell_type": "markdown",
   "metadata": {},
   "source": [
    "Algunos atributos últiles sobre un ndarray creado son las siguientes:\n",
    "\n",
    "* `ndim`\n",
    "* `size`\n",
    "* `shape`\n",
    "* `dtype`"
   ]
  },
  {
   "cell_type": "code",
   "execution_count": null,
   "metadata": {},
   "outputs": [],
   "source": [
    "# Ingrese su código aquí 👻"
   ]
  },
  {
   "cell_type": "markdown",
   "metadata": {},
   "source": [
    "## Arreglos linealmente espaciados\n",
    "\n",
    "Existen dos formas de crear arreglos linealmente espaciados o equiespaciados: `np.arange` y `np.linspace`. Ambas crean arreglos equiespaciados, pero su forma de trabajo es distinta y se adapta según la necesidad."
   ]
  },
  {
   "cell_type": "markdown",
   "metadata": {},
   "source": [
    "### Función `arange`\n",
    "\n",
    "Utilizando esta función `np.arange(start, stop, step)` se puede definir 3 argumentos:\n",
    "\n",
    "* **Límite inferior.** Por defecto el límite inferior es 0.\n",
    "* **Límite superior**\n",
    "* **Paso (incremento o decremento).** Por defecto el paso es 1.\n",
    "\n",
    "Entonces, antes de crear el arreglo, no se conoce el número de elementos."
   ]
  },
  {
   "cell_type": "code",
   "execution_count": null,
   "metadata": {},
   "outputs": [],
   "source": [
    "# Ingrese su código aquí 👻"
   ]
  },
  {
   "cell_type": "markdown",
   "metadata": {},
   "source": [
    "### Función `linspace`\n",
    "\n",
    "Utilizando esta función `np.linspace(start, stop, n-elements)` se puede definir 3 argumentos:\n",
    "\n",
    "* **Límite inferior**\n",
    "* **Límite superior**\n",
    "* **Número de elementos.** Por defecto el número de elementos es 50.\n",
    "\n",
    "Entonces, antes de crear el arreglo, no se conoce el paso (incremeneto o decremento)."
   ]
  },
  {
   "cell_type": "code",
   "execution_count": null,
   "metadata": {},
   "outputs": [],
   "source": [
    "# Ingrese su código aquí 👻"
   ]
  },
  {
   "cell_type": "markdown",
   "metadata": {},
   "source": [
    "## Costantes\n",
    "\n",
    "NumPy proporciona varias constantes que son de gran utilidad al momento de trabajar en ingenierías y ciencias. Entre ellas se tienen:\n",
    "\n",
    "* `np.inf`\n",
    "* `np.nan`\n",
    "* `np.pi`\n",
    "* `np.e`"
   ]
  },
  {
   "cell_type": "code",
   "execution_count": null,
   "metadata": {},
   "outputs": [],
   "source": [
    "# Ingrese su código aquí 👻"
   ]
  },
  {
   "cell_type": "markdown",
   "metadata": {},
   "source": [
    "## Dimensiones, o *axis*, en los arreglos\n",
    "\n",
    "Antes de hablar sobre indexación, concatenación, etc.; es necesario conocer y entender cómo funcionan las dimensiones en los arreglos de NumPy. Como una imagen vale más que mil palabras, la siguiente imagen detalla bastante bien estas dimensiones.\n",
    "\n",
    "<figure style=\"text-align: center;\">\n",
    "  <div><strong>Fig. 2.</strong> Esquema de ejes sobre los arrays de NumPy. </div>\n",
    "  <img src=\"markdown_resources/2.png\" style=\"width: 60%; height: auto;\">\n",
    "  <figcaption>Tomado de <strong>Aprende Python</strong> de <em>Sergio Delgado Quintero</em>.</figcaption>\n",
    "</figure>"
   ]
  },
  {
   "cell_type": "code",
   "execution_count": null,
   "metadata": {},
   "outputs": [],
   "source": [
    "# Ingrese su código aquí 👻"
   ]
  },
  {
   "cell_type": "markdown",
   "metadata": {},
   "source": [
    "## Concatenar arreglos\n",
    "\n",
    "Concatenar, aunque en Python se suele decir *apilar*, se realiza mediante los métodos `np.vstack()` y `np.hstack()` los cuales concatenan vertical y horizontalmente, respectivamente. También se puede utilizar el método `np.block` para apilar vertical y horizontalmente a la vez."
   ]
  },
  {
   "cell_type": "code",
   "execution_count": null,
   "metadata": {},
   "outputs": [],
   "source": [
    "# Ingrese su código aquí 👻"
   ]
  },
  {
   "cell_type": "markdown",
   "metadata": {},
   "source": [
    "## Redimensionar arreglos\n",
    "\n",
    "A través del método `np.reshape` se puede redimensionar un ndarray."
   ]
  },
  {
   "cell_type": "code",
   "execution_count": null,
   "metadata": {},
   "outputs": [],
   "source": [
    "# Ingrese su código aquí 👻"
   ]
  },
  {
   "cell_type": "markdown",
   "metadata": {},
   "source": [
    "Si solo se desea especificar una dimensión y dejar que Python determine automáticamente la dimensión faltante, entonces se utiliza -1."
   ]
  },
  {
   "cell_type": "code",
   "execution_count": null,
   "metadata": {},
   "outputs": [],
   "source": [
    "# Ingrese su código aquí 👻"
   ]
  },
  {
   "cell_type": "markdown",
   "metadata": {},
   "source": [
    "## Manipulación de arreglos\n",
    "\n",
    "Antes de continuar se debe considerar el cómo manipular los elementos de un ndarray de NumPy. A continuación de estudia detalladamente."
   ]
  },
  {
   "cell_type": "markdown",
   "metadata": {},
   "source": [
    "### Manipulación de arreglos unidimensionales\n",
    "\n",
    "Cuando el arreglo es unidimensional, lo que se podría entender como un vector, entonces se utiliza un único índice para hacer referencia a la posición del elemento que es de nuestro interés."
   ]
  },
  {
   "cell_type": "code",
   "execution_count": null,
   "metadata": {},
   "outputs": [],
   "source": [
    "# Ingrese su código aquí 👻"
   ]
  },
  {
   "cell_type": "markdown",
   "metadata": {},
   "source": [
    "A través de esta indexación es posible modificar cualquier elemento."
   ]
  },
  {
   "cell_type": "code",
   "execution_count": null,
   "metadata": {},
   "outputs": [],
   "source": [
    "# Ingrese su código aquí 👻"
   ]
  },
  {
   "cell_type": "markdown",
   "metadata": {},
   "source": [
    "Asimismo, también es posible eliminar elementos, pero para esto se debe utilizar el método `delete()` indicando el índice, o índices en forma de tupla, de los elementos que se quiere eliminar."
   ]
  },
  {
   "cell_type": "code",
   "execution_count": null,
   "metadata": {},
   "outputs": [],
   "source": [
    "# Ingrese su código aquí 👻"
   ]
  },
  {
   "cell_type": "markdown",
   "metadata": {},
   "source": [
    "Ahora bien, si se quisiera añadir elementos al arreglo unidimensional se puede utilizar el método `append()` (lo que añadirá los elementos nuevos al final) y el método `insert()` (lo que añadirá los elementos nuevos en la posición deseada)."
   ]
  },
  {
   "cell_type": "code",
   "execution_count": null,
   "metadata": {},
   "outputs": [],
   "source": [
    "# Ingrese su código aquí 👻"
   ]
  },
  {
   "cell_type": "markdown",
   "metadata": {},
   "source": [
    "### Manipulación de arreglos n-dimensionales\n",
    "\n",
    "Empecemos con el acceso a los elementos lo cual se hace a través de dos índices en lugar de uno (para matrices): primer índice para filas y segundo índice para columnas."
   ]
  },
  {
   "cell_type": "code",
   "execution_count": null,
   "metadata": {},
   "outputs": [],
   "source": [
    "# Ingrese su código aquí 👻"
   ]
  },
  {
   "cell_type": "markdown",
   "metadata": {},
   "source": [
    "Para acceder filas completas indice únicamente el índice de la fila, o filas, mientras que para acceder a columnas columnas se ubica dos puntos `:` para las filas y se escribe la columnas o columnas que se desea indexar."
   ]
  },
  {
   "cell_type": "code",
   "execution_count": null,
   "metadata": {},
   "outputs": [],
   "source": [
    "# Ingrese su código aquí 👻"
   ]
  },
  {
   "cell_type": "markdown",
   "metadata": {},
   "source": [
    "Se puede acceder a subarreglos, o submatrices para arreglos de 2 dimensiones, se debe utilizar la notación de la función `range`. Es decir, `inicio:fin:paso`."
   ]
  },
  {
   "cell_type": "code",
   "execution_count": null,
   "metadata": {},
   "outputs": [],
   "source": [
    "# Ingrese su código aquí 👻"
   ]
  },
  {
   "cell_type": "markdown",
   "metadata": {},
   "source": [
    "Luego, para modificar los arreglos únicamente se indexa los elementos y se asigna a los nuevos elementos."
   ]
  },
  {
   "cell_type": "code",
   "execution_count": null,
   "metadata": {},
   "outputs": [],
   "source": [
    "# Ingrese su código aquí 👻"
   ]
  },
  {
   "cell_type": "markdown",
   "metadata": {},
   "source": [
    "Por otra parte, para borrar filas o columnas se utiliza la función `delete()` indicando las filas o columnas que se desea eliminar, además del parámetro `axis` el cual permite seleccionar si se va a trabajar por filas o por columnas."
   ]
  },
  {
   "cell_type": "code",
   "execution_count": null,
   "metadata": {},
   "outputs": [],
   "source": [
    "# Ingrese su código aquí 👻"
   ]
  },
  {
   "cell_type": "markdown",
   "metadata": {},
   "source": [
    "Ahora, para añadir elementos se utiliza tanto la función `apped()` como `insert()`, tal cual se ha utilizado estas funciones anteriormente."
   ]
  },
  {
   "cell_type": "code",
   "execution_count": null,
   "metadata": {},
   "outputs": [],
   "source": [
    "# Ingrese su código aquí 👻"
   ]
  },
  {
   "cell_type": "markdown",
   "metadata": {},
   "source": [
    "### Indexación lógica\n",
    "\n",
    "Claro que también es posible utilizar valores lógicos para indexar elementos de un arreglo. Al igual que es posible utilizar operaciones lógicas (and `&`, or `|` o not `~`) junto con las operaciones relacionales.\n",
    "\n",
    "Se recomienda el uso de paréntesis para que las operaciones lógicas y relacionales sean lo más claras posibles."
   ]
  },
  {
   "cell_type": "code",
   "execution_count": null,
   "metadata": {},
   "outputs": [],
   "source": [
    "# Ingrese su código aquí 👻"
   ]
  },
  {
   "cell_type": "markdown",
   "metadata": {},
   "source": [
    "## Arrays especiales\n",
    "\n",
    "Existen varias funciones predefinidas en NumPy que permiten crear arreglos con ciertas características que suelen ser de gran utilidad."
   ]
  },
  {
   "cell_type": "markdown",
   "metadata": {},
   "source": [
    "### Función `zeros`\n",
    "\n",
    "Permite crear un arreglo lleno de ceros."
   ]
  },
  {
   "cell_type": "code",
   "execution_count": null,
   "metadata": {},
   "outputs": [],
   "source": [
    "# Ingrese su código aquí 👻"
   ]
  },
  {
   "cell_type": "markdown",
   "metadata": {},
   "source": [
    "También existe la función `zeros_like()` la cual permite crear un arreglo de ceros utilizando las dimensiones de ndarray que se pase como argumento."
   ]
  },
  {
   "cell_type": "code",
   "execution_count": null,
   "metadata": {},
   "outputs": [],
   "source": [
    "# Ingrese su código aquí 👻"
   ]
  },
  {
   "cell_type": "markdown",
   "metadata": {},
   "source": [
    "### Función `ones`\n",
    "\n",
    "Permite crear un arreglo lleno de unos."
   ]
  },
  {
   "cell_type": "code",
   "execution_count": null,
   "metadata": {},
   "outputs": [],
   "source": [
    "# Ingrese su código aquí 👻"
   ]
  },
  {
   "cell_type": "markdown",
   "metadata": {},
   "source": [
    "También existe la función `ones_like()` la cual permite crear un arreglo de unos utilizando las dimensiones de ndarray que se pase como argumento."
   ]
  },
  {
   "cell_type": "code",
   "execution_count": 1,
   "metadata": {},
   "outputs": [],
   "source": [
    "# Ingrese su código aquí 👻"
   ]
  },
  {
   "cell_type": "markdown",
   "metadata": {},
   "source": [
    "### Función `full`\n",
    "\n",
    "Permite crear un arreglo lleno de del número que se indique."
   ]
  },
  {
   "cell_type": "code",
   "execution_count": null,
   "metadata": {},
   "outputs": [],
   "source": [
    "# Ingrese su código aquí 👻"
   ]
  },
  {
   "cell_type": "markdown",
   "metadata": {},
   "source": [
    "También existe la función `full_like()` la cual permite crear un arreglo del número indicado utilizando las dimensiones de ndarray que se pase como argumento."
   ]
  },
  {
   "cell_type": "code",
   "execution_count": null,
   "metadata": {},
   "outputs": [],
   "source": [
    "# Ingrese su código aquí 👻"
   ]
  },
  {
   "cell_type": "markdown",
   "metadata": {},
   "source": [
    "### Función `eye`\n",
    "\n",
    "Permite crear un arreglo, o matriz, identidad."
   ]
  },
  {
   "cell_type": "code",
   "execution_count": null,
   "metadata": {},
   "outputs": [],
   "source": [
    "# Ingrese su código aquí 👻"
   ]
  },
  {
   "cell_type": "markdown",
   "metadata": {},
   "source": [
    "### Función `diag`\n",
    "\n",
    "Permite crear arreglo, o matriz, diagonal."
   ]
  },
  {
   "cell_type": "code",
   "execution_count": 1,
   "metadata": {},
   "outputs": [],
   "source": [
    "# Ingrese su código aquí 👻"
   ]
  },
  {
   "cell_type": "markdown",
   "metadata": {},
   "source": [
    "----\n",
    "## Material adicional\n",
    "* [Nombre](Enlace)"
   ]
  }
 ],
 "metadata": {
  "kernelspec": {
   "display_name": "Python 3.10.7 64-bit",
   "language": "python",
   "name": "python3"
  },
  "language_info": {
   "codemirror_mode": {
    "name": "ipython",
    "version": 3
   },
   "file_extension": ".py",
   "mimetype": "text/x-python",
   "name": "python",
   "nbconvert_exporter": "python",
   "pygments_lexer": "ipython3",
   "version": "3.12.4"
  },
  "orig_nbformat": 4,
  "vscode": {
   "interpreter": {
    "hash": "369f2c481f4da34e4445cda3fffd2e751bd1c4d706f27375911949ba6bb62e1c"
   }
  }
 },
 "nbformat": 4,
 "nbformat_minor": 2
}
