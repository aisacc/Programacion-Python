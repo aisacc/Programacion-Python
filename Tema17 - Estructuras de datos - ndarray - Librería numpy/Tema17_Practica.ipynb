{
 "cells": [
  {
   "cell_type": "markdown",
   "metadata": {},
   "source": [
    "# Estructuras de datos: ndarray (_librería **numpy**_)"
   ]
  },
  {
   "cell_type": "markdown",
   "metadata": {},
   "source": [
    "## Vectores linealmente espaciados\n",
    "### Ejercicio 1\n",
    "Explique cómo es obtenido el valor del paso, o espaciamiento, de la función `np.linspace()`. Primero cree un par de ejemplos como referencia.\n",
    "\n",
    "*Ejercicio tomado de Attaway, 2022.*\n",
    "\n",
    "### Solución"
   ]
  },
  {
   "cell_type": "markdown",
   "metadata": {},
   "source": [
    "Ingrese su respuesta aquí 👻"
   ]
  },
  {
   "cell_type": "markdown",
   "metadata": {},
   "source": [
    "### Ejercicio 2\n",
    "Si se requiere graficar la función $f(x) = \\sqrt{x}$, con $x \\in [0, 5]$. ¿Cuál sería la mejor forma de crear un vector que contenga los valores de $x$? ¿Por qué?\n",
    "\n",
    "### Solución"
   ]
  },
  {
   "cell_type": "markdown",
   "metadata": {},
   "source": [
    "Ingrese su respuesta aquí 👻"
   ]
  },
  {
   "cell_type": "markdown",
   "metadata": {},
   "source": [
    "## Concatenar matrices\n",
    "### Ejercicio 1\n",
    "Realizar las siguientes actividades:\n",
    "\n",
    "1. Crear un escanalar y nombrarlo $a$.\n",
    "2. Crear un vector $1 \\times 3$ y nombrarlo $b$.\n",
    "3. Crear una matriz $2 \\times 2$ y nombrarla $C$.\n",
    "4. Crear una matriz de la siguiente forma:\n",
    "\n",
    "$$\n",
    "\\begin{bmatrix}\n",
    "b_1     &   b_2     &   b_3     &   a \\\\\n",
    "a       &   a       & C_{11}    & C_{12} \\\\\n",
    "C_{11}  & C_{12}    & C_{21}    & C_{22} \\\\\n",
    "C_{21}  & C_{22}    & a         & a \n",
    "\\end{bmatrix}\n",
    "$$\n",
    "\n",
    "### Solución"
   ]
  },
  {
   "cell_type": "code",
   "execution_count": 1,
   "metadata": {},
   "outputs": [],
   "source": [
    "# Ingrese su código aquí 👻"
   ]
  },
  {
   "cell_type": "markdown",
   "metadata": {},
   "source": [
    "### Ejercicio 2\n",
    "Cree una matriz como la que se muestra más abajo utilizando la notación de vectores para crear vectores con distanciado constante, y/o la función linspace para crear las filas.\n",
    "\n",
    "$$\n",
    "\\begin{bmatrix}\n",
    "1 & 4 & 7 & 10 & 13 & 16 & 19 & 22 & 25 \\\\\n",
    "72 & 66 & 60 & 54 & 48 & 48 & 36 & 30 & 24 \\\\\n",
    "0 & 0.125 & 0.250 & 0.375 & 0.500 & 0.625 & 0.750 & 0.875 & 1.00\n",
    "\\end{bmatrix}\n",
    "$$\n",
    "\n",
    "*Ejercicio tomado de Gilat, 2006.*\n",
    "\n",
    "### Solución"
   ]
  },
  {
   "cell_type": "code",
   "execution_count": null,
   "metadata": {},
   "outputs": [],
   "source": [
    "# Ingrese su código aquí 👻"
   ]
  },
  {
   "cell_type": "markdown",
   "metadata": {},
   "source": [
    "## Redimensionar matrices\n",
    "### Ejercicio 1\n",
    "Tomando como base la matriz final del anterior ejercicio, realizar las siguientes actividades:\n",
    "\n",
    "1. Redimensionar a una matriz $8 \\times 2$, ¿es posible?\n",
    "2. Resimensionar a una matriz $5 \\times 3$, ¿es posible?\n",
    "\n",
    "Ahora bien, para los literales 1 y 2, ¿cómo se podría averiguar si el redimensionamiento es posible antes de intentarlo?\n",
    "\n",
    "**Nota:** Utilizar la operación del resto, o remanente, `%` para responder la pregunta.\n",
    "\n",
    "### Solución"
   ]
  },
  {
   "cell_type": "code",
   "execution_count": null,
   "metadata": {},
   "outputs": [],
   "source": [
    "# Ingrese su código aquí 👻"
   ]
  }
 ],
 "metadata": {
  "kernelspec": {
   "display_name": "Python 3.10.7 64-bit",
   "language": "python",
   "name": "python3"
  },
  "language_info": {
   "codemirror_mode": {
    "name": "ipython",
    "version": 3
   },
   "file_extension": ".py",
   "mimetype": "text/x-python",
   "name": "python",
   "nbconvert_exporter": "python",
   "pygments_lexer": "ipython3",
   "version": "3.12.4"
  },
  "orig_nbformat": 4,
  "vscode": {
   "interpreter": {
    "hash": "369f2c481f4da34e4445cda3fffd2e751bd1c4d706f27375911949ba6bb62e1c"
   }
  }
 },
 "nbformat": 4,
 "nbformat_minor": 2
}
