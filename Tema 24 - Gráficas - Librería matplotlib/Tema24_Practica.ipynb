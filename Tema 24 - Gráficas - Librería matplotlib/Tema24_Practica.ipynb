{
 "cells": [
  {
   "cell_type": "markdown",
   "metadata": {},
   "source": [
    "# Gráficas (_librería **matplotlib**_)"
   ]
  },
  {
   "cell_type": "markdown",
   "metadata": {},
   "source": [
    "## Gráficas en 2-D\n",
    "### Ejercicio 1\n",
    "La distancia que recorre un proyectil cuando se dispara a un ángulo $\\theta$ es función del tiempo y se puede dividir en distancias horizontal y vertical de acuerdo con las  fórmulas:\n",
    "\n",
    "$$\\text{Horizontal}(t) = t v_0 \\cos{\\theta}$$\n",
    "$$\\text{Vertical}(t) = t v_0 \\sin{\\theta} - \\frac{1}{2}gt^2$$\n",
    "\n",
    "donde $\\text{Horizontal}$ es la distancia recorrida en la dirección $x$, $\\text{Vertical}$ es la distancia recorrida en la dirección $y$, $v_0$ es la velocidad inicial, $g$ es la aceleración debida a la gravedad, $9.8\\ m/s^2$ y $t$ es el tiempo en segundos.\n",
    "\n",
    "Suponga que el proyectil descrito se dispara con una velocidad inicial de 100 m/s y un ángulo de lanzamiento de 45º. Encuentre la distancia recorrida tanto horizontal como verticalmente (en las direcciones $x$ y $y$) para tiempos desde 0 hasta 20 segundos.\n",
    "\n",
    "1. Realizar la gráfica de la distancia horizontal contra tiempo.\n",
    "2. Realizar la gráfica de la distancia vertical contra el tiempo.\n",
    "\n",
    "Añadir título, etiquetas, cuadrícula, etc.; a todas las gráficas.\n",
    "\n",
    "*Ejercicio modificado de Moore, 2007.*\n",
    "\n",
    "### Solución"
   ]
  },
  {
   "cell_type": "code",
   "execution_count": 1,
   "metadata": {},
   "outputs": [],
   "source": [
    "# Ingrese su código aquí 👻"
   ]
  },
  {
   "cell_type": "markdown",
   "metadata": {},
   "source": [
    "### Ejercicio 2\n",
    "La deformación de muchos metales cambia sus propiedades físicas. En un proceso llamado trabajo en frío, el metal se deforma intencionalmente para hacerlo más fuerte. Los siguientes datos tabulan tanto la fortaleza como la ductilidad de un metal que se  trabajó en frío a diferentes grados:\n",
    "\n",
    "<figure style=\"text-align: center;\">\n",
    "  <div><strong>Fig. 1.</strong> Datos del proceso trabajo en frío. </div>\n",
    "  <img src=\"markdown_resources\\4.png\" style=\"width: 45%; height: auto;\">\n",
    "  <figcaption>Tomado de MATLAB para ingenieros de Holly Moore.</figcaption>\n",
    "</figure>\n",
    "\n",
    "Graficar estos datos y analizar el resultado.\n",
    "\n",
    "### Solución"
   ]
  },
  {
   "cell_type": "code",
   "execution_count": null,
   "metadata": {},
   "outputs": [],
   "source": [
    "# Ingrese su código aquí 👻"
   ]
  },
  {
   "cell_type": "markdown",
   "metadata": {},
   "source": [
    "### Ejercicio 3\n",
    "En la figura adjunta se muestra una viga apoyada sobre soportes, sometida a una carga  con distribución constante sobre la mitad de su longitud.\n",
    "\n",
    "<figure style=\"text-align: center;\">\n",
    "  <div><strong>Fig. 2.</strong> Viga apoyada sobre soportes. </div>\n",
    "  <img src=\"markdown_resources\\5.png\" style=\"width: 45%; height: auto;\">\n",
    "  <figcaption>Tomado de MATLAB: Introducción con ejemplos prácticos de Amos Gilat.</figcaption>\n",
    "</figure>\n",
    "\n",
    "En este caso, la deflexión $y$ en función de $x$ viene dada por las ecuaciones:\n",
    "\n",
    "$$y = \\frac{-wx}{384EI} (16x^3 - 24Lx^2 + 9L^3) \\text{ para } 0 \\le x \\le \\frac{L}{2}$$\n",
    "$$y = \\frac{-wx}{384EI} (8x^3 - 24Lx^2 + 17L^2x - L^3) \\text{ para } \\frac{L}{2} \\le x \\le L$$\n",
    "\n",
    "donde $E$ es el módulo de elasticidad, $I$ el momento de inercia y $L$ la longitud de la viga. La viga que se muestra en la figura posee las siguientes características: $L =$ 20 m, $E = 200 \\times 10^9$ Pa (acero), $I = 348 \\times 10^{-6}\\text{ m}^4$ y $w = 5 \\times 10^3 \\text{ N/m}$.\n",
    "\n",
    "Represente gráficamente la deflexión de la viga $y$ en función de $x$.\n",
    "\n",
    "*Ejercicio tomado de Gilat, 2005.*\n",
    "\n",
    "### Solución"
   ]
  },
  {
   "cell_type": "code",
   "execution_count": null,
   "metadata": {},
   "outputs": [],
   "source": [
    "# Ingrese su código aquí 👻"
   ]
  }
 ],
 "metadata": {
  "kernelspec": {
   "display_name": "Python 3.10.7 64-bit",
   "language": "python",
   "name": "python3"
  },
  "language_info": {
   "codemirror_mode": {
    "name": "ipython",
    "version": 3
   },
   "file_extension": ".py",
   "mimetype": "text/x-python",
   "name": "python",
   "nbconvert_exporter": "python",
   "pygments_lexer": "ipython3",
   "version": "3.11.8"
  },
  "orig_nbformat": 4,
  "vscode": {
   "interpreter": {
    "hash": "369f2c481f4da34e4445cda3fffd2e751bd1c4d706f27375911949ba6bb62e1c"
   }
  }
 },
 "nbformat": 4,
 "nbformat_minor": 2
}
