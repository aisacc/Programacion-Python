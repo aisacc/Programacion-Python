{
 "cells": [
  {
   "cell_type": "markdown",
   "metadata": {},
   "source": [
    "# Operaciones arreglo (elemento a elemento) (_librería **numpy**_)\n",
    "\n",
    "NumPy tiene dos tipos diferentes de operaciones aritméticas al momento de trabajar con **ndarray**: operaciones arreglo y operaciones matriciales. Es posible utilizar estas operaciones aritméticas para realizar cálculos numéricos. Por ejemplo, sumar dos números, elevar los elementos de una matriz a una potencia determinada o multiplicar dos matrices.\n",
    "\n",
    "Las operaciones arreglo realizan las operaciones entre los correspondientes elementos de las matrices involucradas. No obstante, se debe destacar lo siguiente:\n",
    "\n",
    "* Si las matrices tienen el **mismo tamaño**, entonces cada elemento de la primera matriz se empareja con el elemento en la misma ubicación de la segunda matriz.\n",
    "* Si las matrices tienen **tamaños compatibles**, entonces cada entrada se expande implícitamente según sea necesario para que coincida con el tamaño de la otra.\n",
    "* Si las matrices no son del mismo tamaño ni tienen tamaños compatibles, entonces no se realiza la operación y se obtiene un error.\n",
    "\n",
    "A continuación se detalla la compatibilidad entre distintos tipos de matrices:\n",
    "\n",
    "<figure style=\"text-align: center;\">\n",
    "  <div><strong>Fig. 1.</strong> Operación arreglo entre dos matrices que tienen el mismo tamaño. </div>\n",
    "  <img src=\"https://github.com/aisacc/Programacion-Python/blob/main/_Im%C3%A1genes/Tema%2018%20-%20Operaciones%20arreglo%20(elemento%20a%20elemento)%20-%20Librer%C3%ADa%20numpy/1.png?raw=true\" style=\"width: auto; height: 50%;\">\n",
    "</figure>\n",
    "\n",
    "<figure style=\"text-align: center;\">\n",
    "  <div><strong>Fig. 2.</strong> Operación arreglo entre una matriz y un escalar. </div>\n",
    "  <img src=\"https://github.com/aisacc/Programacion-Python/blob/main/_Im%C3%A1genes/Tema%2018%20-%20Operaciones%20arreglo%20(elemento%20a%20elemento)%20-%20Librer%C3%ADa%20numpy/2.png?raw=true\" style=\"width: auto; height: 50%;\">\n",
    "</figure>\n",
    "\n",
    "<figure style=\"text-align: center;\">\n",
    "  <div><strong>Fig. 3.</strong> Operación arreglo entre una matriz y un vector fila. Ambos tienen el mismo número de columnas. </div>\n",
    "  <img src=\"https://github.com/aisacc/Programacion-Python/blob/main/_Im%C3%A1genes/Tema%2018%20-%20Operaciones%20arreglo%20(elemento%20a%20elemento)%20-%20Librer%C3%ADa%20numpy/3.png?raw=true\" style=\"width: auto; height: 50%;\">\n",
    "  <figcaption><em>Todas las imágenes fueron tomadas de la documentación oficial de MATLAB.</em>.</figcaption>\n",
    "</figure>"
   ]
  },
  {
   "cell_type": "markdown",
   "metadata": {},
   "source": [
    "## Operaciones elementales\n",
    "Previamente se estudió las operaciones con escalares. Ahora se expandirá lo explicado anteriormente a operaciones elementales con matrices (o **ndarray** de forma general).\n",
    "\n",
    "Aunque más que ampliar el estudio sería más preciso decir que se indicará cómo aplicar las operaciones utilizando matrices dado que las operaciones aritméticas estudiadas en temas anteriores, al momento de aplicarse con matrices, se consideran operaciones arreglo (o elemento a elemento).\n",
    "\n",
    "* Suma: `+`\n",
    "* Resta: `-`\n",
    "* Producto: `*`\n",
    "* Potencia: `**`\n",
    "* División: `/`\n",
    "* División entera: `//`\n",
    "* Resto: `%`"
   ]
  },
  {
   "cell_type": "code",
   "execution_count": 27,
   "metadata": {},
   "outputs": [],
   "source": [
    "# Ingrese su código aquí 👻"
   ]
  },
  {
   "cell_type": "markdown",
   "metadata": {},
   "source": [
    "### Ejemplo\n",
    "Considerando la siguiente serie de Taylor $$\\ln{(1 - x)} = -x - \\frac{x^2}{2} - \\frac{x^3}{3} - \\dots = -\\sum_{n=1}^{\\infty} \\frac{x^n}{n}$$\n",
    "\n",
    "Evaluar la serie de Taylor para $x = 0.5$ con 4 términos de expansión de la serie.\n",
    "\n",
    "**Nota:** No utilizar bucles, sólo operaciones arreglo.\n",
    "\n",
    "### Solución"
   ]
  },
  {
   "cell_type": "code",
   "execution_count": 1,
   "metadata": {},
   "outputs": [],
   "source": [
    "# Ingrese su código aquí 👻"
   ]
  },
  {
   "cell_type": "markdown",
   "metadata": {},
   "source": [
    "----\n",
    "## Material adicional\n",
    "* [Operaciones aritméticas](https://aprendepython.es/pypi/datascience/numpy/#operaciones-aritmeticas)"
   ]
  }
 ],
 "metadata": {
  "kernelspec": {
   "display_name": "Python 3.10.7 64-bit",
   "language": "python",
   "name": "python3"
  },
  "language_info": {
   "codemirror_mode": {
    "name": "ipython",
    "version": 3
   },
   "file_extension": ".py",
   "mimetype": "text/x-python",
   "name": "python",
   "nbconvert_exporter": "python",
   "pygments_lexer": "ipython3",
   "version": "3.12.2"
  },
  "orig_nbformat": 4,
  "vscode": {
   "interpreter": {
    "hash": "369f2c481f4da34e4445cda3fffd2e751bd1c4d706f27375911949ba6bb62e1c"
   }
  }
 },
 "nbformat": 4,
 "nbformat_minor": 2
}
