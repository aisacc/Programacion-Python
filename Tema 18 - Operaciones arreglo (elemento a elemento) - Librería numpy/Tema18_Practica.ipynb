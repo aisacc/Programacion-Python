{
 "cells": [
  {
   "cell_type": "markdown",
   "metadata": {},
   "source": [
    "# Operaciones arreglo (elemento a elemento) (_librería **numpy**_)"
   ]
  },
  {
   "cell_type": "markdown",
   "metadata": {},
   "source": [
    "## Operaciones elementales\n",
    "### Ejercicio 1\n",
    "Determinar la hipotenusa de un triángulo rectángulo isósceles. Los valores del cateto van desde 1 hasta 100. Utilizar el teorema de pitágoras\n",
    "\n",
    "$$c^2 = a^2 + b^2$$\n",
    "\n",
    "donde $c$ es la hipotenusa y $a$, $b$ son los lados del triángulo rectángulo.\n",
    "\n",
    "### Solución"
   ]
  },
  {
   "cell_type": "code",
   "execution_count": 1,
   "metadata": {},
   "outputs": [],
   "source": [
    "# Ingrese su código aquí 👻"
   ]
  },
  {
   "cell_type": "markdown",
   "metadata": {},
   "source": [
    "### Ejercicio 2\n",
    "Una medida de la obesidad se determina mediante el índice de masa corporal (IMC), que se calcula dividiendo la masa de una persona, $m$, por el cuadrado de su estatura, $h$.\n",
    "\n",
    "$$IMC = \\frac{m}{h^2}$$\n",
    "\n",
    "La masa está en kilogramos y la estatura en metros.\n",
    "\n",
    "Un médico de la capital desea saber el IMC de sus pacientes. Para esto, simula la información de 50 pacientes: tanto la masa como la estatura. Entonces crea un vector unidimensional para valores aleatorios enteros de la masa que van desde 40 kg hasta 115 kg. Hace lo mismo para la estatura, que tendrá valores desde 1.54 m hasta 1.95 m.\n",
    "\n",
    "En base a la gráfica, ¿cuántos pacientes de la muestra no están saludables? También calcula tu IMC y determina tu nivel de obesidad.\n",
    "\n",
    "<figure style=\"text-align: center;\">\n",
    "  <div><strong>Fig. 1.</strong> Algunos tipos de datos en Python. </div>\n",
    "  <img src=\"https://staticnew-prod.topdoctors.mx/files/Image/large/a7af528584b6475633cf9caf0b525518.jpeg\" style=\"width: 65%; height: auto;\">\n",
    "  <figcaption>Tomado de <A HREF=\"https://www.topdoctors.mx/diccionario-medico/indice-de-masa-corporal-imc/\"> TOPDOCTORS</A>.</figcaption>\n",
    "</figure>\n",
    "\n",
    "**Nota:** Para generar los datos aleatorios utiliza el módulo `random` de la librería `numpy`. Este módulo tiene funciones para crear números aleatorios enteros (para simular las masas de los pacientes) y números aleatorios entre cierto rango (para simular las estaturas de los pacientes). \n",
    "\n",
    "### Solución"
   ]
  },
  {
   "cell_type": "code",
   "execution_count": null,
   "metadata": {},
   "outputs": [],
   "source": [
    "# Ingrese su código aquí 👻"
   ]
  },
  {
   "cell_type": "markdown",
   "metadata": {},
   "source": [
    "### Ejercicio 3\n",
    "La serie de Taylor de la función exponencial se define como\n",
    "\n",
    "$$e^x = 1 + x + \\frac{x^2}{2} + \\frac{x^3}{3} + \\cdots = \\sum^\\infty_{n=0} \\frac{x^n}{n!}$$\n",
    "\n",
    "Evaluar la serie de Taylor para $x = 1$ con 5 términos de expansión de la serie.\n",
    "\n",
    "**Recomendación 1:** Primero sería ideal crear vectores linealmente espaciados que representen las potencias y los denominadores, luego se podría evaluar la serie para el valor deseado utilizando operaciones arreglo.\n",
    "\n",
    "**Recomendación 2:** La función `factorial` permite determinar el factorial de un número. Para utilizar impórtala a través de la librería `math`.\n",
    "\n",
    "**Nota 1:** Para verificar el resultado se puede utilizar la función `np.exp()` (consultar la documentación).\n",
    "\n",
    "**Nota 2:** No utilizar bucles dado que no son necesarios.\n",
    "\n",
    "### Solución"
   ]
  },
  {
   "cell_type": "code",
   "execution_count": null,
   "metadata": {},
   "outputs": [],
   "source": [
    "# Ingrese su código aquí 👻"
   ]
  }
 ],
 "metadata": {
  "kernelspec": {
   "display_name": "Python 3.10.7 64-bit",
   "language": "python",
   "name": "python3"
  },
  "language_info": {
   "codemirror_mode": {
    "name": "ipython",
    "version": 3
   },
   "file_extension": ".py",
   "mimetype": "text/x-python",
   "name": "python",
   "nbconvert_exporter": "python",
   "pygments_lexer": "ipython3",
   "version": "3.12.4"
  },
  "orig_nbformat": 4,
  "vscode": {
   "interpreter": {
    "hash": "369f2c481f4da34e4445cda3fffd2e751bd1c4d706f27375911949ba6bb62e1c"
   }
  }
 },
 "nbformat": 4,
 "nbformat_minor": 2
}
