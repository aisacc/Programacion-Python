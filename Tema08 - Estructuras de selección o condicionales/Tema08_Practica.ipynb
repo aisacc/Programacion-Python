{
 "cells": [
  {
   "cell_type": "markdown",
   "metadata": {},
   "source": [
    "# Estructuras de selección o condicionales"
   ]
  },
  {
   "cell_type": "markdown",
   "metadata": {},
   "source": [
    "## Estructura `if-elif-else`\n",
    "### Ejercicio 1\n",
    "Escriba un programa que permita adivinar un personaje de Marvel en base a las tres preguntas siguientes:\n",
    "1. ¿Puede volar?\n",
    "2. ¿Es humano?\n",
    "3. ¿Tiene máscara?\n",
    "\n",
    "<figure style=\"text-align: center;\">\n",
    "  <div><strong>Fig. 1.</strong> Adivinar personaje de Marvel.</div>\n",
    "  <img src=\"markdown_resources/2.png\" style=\"width: 70%; height: auto;\">\n",
    "  <figcaption>Tomado de <strong>Aprende Python</strong> de <em>Sergio Delgado Quintero</em>.</figcaption>\n",
    "</figure>\n",
    "\n",
    "*Ejercicio tomado de Delgado, 2024.*\n",
    "\n",
    "### Solución"
   ]
  },
  {
   "cell_type": "code",
   "execution_count": null,
   "metadata": {},
   "outputs": [],
   "source": [
    "# Ingrese su código aquí 👻"
   ]
  },
  {
   "cell_type": "markdown",
   "metadata": {},
   "source": [
    "### Ejercicio 2\n",
    "En química, el pH de una solución acuosa es una medida de su acidez. La escala de pH va de 0 a 14. Una solución con un pH de 7 se dice que es neutra, una solución con un pH superior a 7 es básica y una solución con un pH inferior a 7 es ácida. Solicite al usuario el pH de una solución e imprimir si es neutral, básico o ácido. Si el usuario ingresa un pH no válido, se imprimirá un mensaje indicando al usuario que debe ingresar un valor adecuado de pH.\n",
    "\n",
    "### Solución"
   ]
  },
  {
   "cell_type": "code",
   "execution_count": null,
   "metadata": {},
   "outputs": [],
   "source": [
    "# Ingrese su código aquí 👻"
   ]
  },
  {
   "cell_type": "markdown",
   "metadata": {},
   "source": [
    "### Ejercicio 3\n",
    "Escriba un programa en Python que acepte la edad, el peso, si la persona tuvo una cirugía en los últimos 6 meses y si la persona se hizo un tatuaje en los últimos 12 meses.\n",
    "\n",
    "Entonces, determinar si la persona es apta para donar sangre en función de lo siguiente:\n",
    "* Su edad debe estar entre 18 y 65 años\n",
    "* Debe pesar como mínimo 50 kg\n",
    "* No debe haber tenido una cirugía en los últimos 6 meses\n",
    "* No debe haberse hecho un tatuaje en los últimos 12 meses\n",
    "\n",
    "Desplegar por pantalla si la persona es apta o no para donar sangre.\n",
    "\n",
    "### Solución"
   ]
  },
  {
   "cell_type": "code",
   "execution_count": null,
   "metadata": {},
   "outputs": [],
   "source": [
    "# Ingrese su código aquí 👻"
   ]
  },
  {
   "cell_type": "markdown",
   "metadata": {},
   "source": [
    "## Estructura `match-case-otherwise`\n",
    "### Ejercicio\n",
    "En la Universidad de Utah, cada especialización en ingeniería requiere un número diferente de créditos para graduación. Por ejemplo, en 2005, los requisitos para algunos de los departamentos fueron los siguientes:\n",
    "* Ingeniería civil: 130\n",
    "* Ingeniería química: 130\n",
    "* Ingeniería en computación: 122\n",
    "* Ingeniería eléctrica: 126.5\n",
    "* Ingeniería mecánica: 129\n",
    "\n",
    "Solicite al usuario a ingresar un programa de ingeniería. Luego, desplegar por pantalla el número mínimo de créditos requeridos para la graduación.\n",
    "\n",
    "*Ejercicio modificado de Moore, 2007.*\n",
    "\n",
    "### Solución"
   ]
  },
  {
   "cell_type": "code",
   "execution_count": null,
   "metadata": {},
   "outputs": [],
   "source": [
    "# Ingrese su respuesta aquí :)"
   ]
  }
 ],
 "metadata": {
  "kernelspec": {
   "display_name": "Python 3.10.7 64-bit",
   "language": "python",
   "name": "python3"
  },
  "language_info": {
   "codemirror_mode": {
    "name": "ipython",
    "version": 3
   },
   "file_extension": ".py",
   "mimetype": "text/x-python",
   "name": "python",
   "nbconvert_exporter": "python",
   "pygments_lexer": "ipython3",
   "version": "3.11.8"
  },
  "orig_nbformat": 4,
  "vscode": {
   "interpreter": {
    "hash": "369f2c481f4da34e4445cda3fffd2e751bd1c4d706f27375911949ba6bb62e1c"
   }
  }
 },
 "nbformat": 4,
 "nbformat_minor": 2
}
