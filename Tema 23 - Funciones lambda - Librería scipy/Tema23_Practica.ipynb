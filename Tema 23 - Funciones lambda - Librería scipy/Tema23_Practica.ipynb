{
 "cells": [
  {
   "cell_type": "markdown",
   "metadata": {},
   "source": [
    "# Funciones lambda"
   ]
  },
  {
   "cell_type": "markdown",
   "metadata": {},
   "source": [
    "## Aplicación de las funciones lambda\n",
    "### Ejercicio 1 (análisis numérico)\n",
    "Suponga el lector que está diseñando un tanque esférico para almacenar agua para un poblado pequeño en un país en desarrollo. El volumen de líquido que puede contener se calcula con\n",
    "\n",
    "$$V = \\pi h^2 \\frac{(3 - h)}{3}$$\n",
    "\n",
    "donde $v$ es el volumen en $m^3$, $h$ es la profundidad del agua en el tanque en $m$ y $R$ es el radio del tanque en $m$.\n",
    "\n",
    "<figure style=\"text-align: center;\">\n",
    "  <div><strong>Fig. 1.</strong> Tanque esférico. </div>\n",
    "  <img src=\"https://github.com/aisacc/Programacion-Python/blob/main/_Im%C3%A1genes/Tema%2023%20-%20Funciones%20lambda%20-%20Librer%C3%ADa%20scipy/2.png?raw=true\" style=\"width: 30%; height: auto;\">\n",
    "  <figcaption>Tomado de Métodos numéricos para ingenieros de Steven C. Chapra & Raymond P. Canale.</figcaption>\n",
    "</figure>\n",
    "\n",
    "Si $R = 3$ m, ¿a qué profundidad debe llenarse el tanque de modo que contenga $30\\ m^3$?\n",
    "\n",
    "**Recomendación:** Primero establecer manualmente la función de la cual se requiere determinar la raíz.\n",
    "\n",
    "*Ejercicio modificado de Chapra & Canale, 2007.*\n",
    "\n",
    "### Solución"
   ]
  },
  {
   "cell_type": "code",
   "execution_count": 1,
   "metadata": {},
   "outputs": [],
   "source": [
    "# Ingrese su código aquí 👻"
   ]
  },
  {
   "cell_type": "markdown",
   "metadata": {},
   "source": [
    "### Ejercicio 2 (análisis numérico)\n",
    "En ingeniería estructural, la fórmula de la secante define la fuerza por unidad de área, $P/A$, que ocasiona la tensión máxima $\\sigma_m$ en una columna que tiene una razón de esbeltez $L/k$ dada es:\n",
    "\n",
    "$$\\frac{P}{A} = \\frac{\\sigma_m}{1 + (ec/k^2) \\sec{(0.5\\sqrt{P/(EA)}(L/k))}}$$\n",
    "\n",
    "donde $ec/k^2$ es la razón de excentricidad, y $E$ es el módulo de elasticidad. Si para una viga de acero, $E = 200000$ MPa, $ec/k^2 = 0.4$ y $\\sigma_m = 250$ MPa, calcule $P/A$ para $L/k = 50$. Recuerde que $\\sec{x} = \\frac{1}{\\cos{x}}$.\n",
    "\n",
    "*Ejercicio tomado de Chapra & Canale, 2007.*\n",
    "\n",
    "### Solución"
   ]
  },
  {
   "cell_type": "code",
   "execution_count": null,
   "metadata": {},
   "outputs": [],
   "source": [
    "# Ingrese su código aquí 👻"
   ]
  },
  {
   "cell_type": "markdown",
   "metadata": {},
   "source": [
    "### Ejercicio 3 (ecuaciones diferenciales ordinarias)\n",
    "Un tanque esférico tiene un orificio circular en el fondo a través del cual fluye líquido.\n",
    "\n",
    "<figure style=\"text-align: center;\">\n",
    "  <div><strong>Fig. 2.</strong> Tanque esférico. </div>\n",
    "  <img src=\"https://github.com/aisacc/Programacion-Python/blob/main/_Im%C3%A1genes/Tema%2023%20-%20Funciones%20lambda%20-%20Librer%C3%ADa%20scipy/3.png?raw=true\" style=\"width: 30%; height: auto;\">\n",
    "  <figcaption>Tomado de Métodos numéricos para ingenieros de Steven C. Chapra & Raymond P. Canale.</figcaption>\n",
    "</figure>\n",
    "\n",
    "La tasa de flujo a través del agujero se calcula como:\n",
    "\n",
    "$$Q_{sal} = CA\\sqrt{2gH}$$\n",
    "\n",
    "donde $Q_{sal}$ es el flujo de salida en $m^3/s$, $C$ es un coeficiente obtenido en forma empírica, $A$ es el área del orificio en $m^2$, $g$ es la constante gravitacional ($9.81\\ m/s^2$) y $H$ es la profundidad del líquido dentro del tanque. Determinar cuánto tiempo tomaría que el agua fluyera por completo de un tanque de 3 m de diámetro con altura inicial de 2.75 m. Observe que el orificio tiene un diámetro de 3cm y $C = 0.55$.\n",
    "\n",
    "*Ejercicio tomado de Chapra & Canale, 2007.*\n",
    "\n",
    "### Solución"
   ]
  },
  {
   "cell_type": "code",
   "execution_count": null,
   "metadata": {},
   "outputs": [],
   "source": [
    "# Ingrese su código aquí 👻"
   ]
  },
  {
   "cell_type": "markdown",
   "metadata": {},
   "source": [
    "### Ejercicio 4 (ecuaciones diferenciales ordinarias)\n",
    "Si se drena el agua desde un tanque cilíndrico vertical por medio de abrir una válvula en la base, el líquido fluirá rápido cuando el tanque esté lleno y despacio conforme se drene. Como se ve, la tasa a la que el nivel del agua disminuye es:\n",
    "\n",
    "$$\\frac{dy}{dt} = -k\\sqrt{y}$$\n",
    "\n",
    "donde $k$ es una constante que depende de la forma del agujero y del área de la sección transversal del tanque y agujero de drenaje. La profundidad del agua $y$ se mide en metros y el tiempo $t$ en minutos. Si $k = 0.06$, determine cuánto tiempo se requiere para vaciar el tanque si el nivel del fluido se encuentra en un inicio a 3 m.\n",
    "\n",
    "*Ejercicio tomado de Chapra & Canale, 2007.*\n",
    "\n",
    "### Solución"
   ]
  },
  {
   "cell_type": "code",
   "execution_count": null,
   "metadata": {},
   "outputs": [],
   "source": [
    "# Ingrese su código aquí 👻"
   ]
  }
 ],
 "metadata": {
  "kernelspec": {
   "display_name": "Python 3.10.7 64-bit",
   "language": "python",
   "name": "python3"
  },
  "language_info": {
   "codemirror_mode": {
    "name": "ipython",
    "version": 3
   },
   "file_extension": ".py",
   "mimetype": "text/x-python",
   "name": "python",
   "nbconvert_exporter": "python",
   "pygments_lexer": "ipython3",
   "version": "3.11.8"
  },
  "orig_nbformat": 4,
  "vscode": {
   "interpreter": {
    "hash": "369f2c481f4da34e4445cda3fffd2e751bd1c4d706f27375911949ba6bb62e1c"
   }
  }
 },
 "nbformat": 4,
 "nbformat_minor": 2
}
