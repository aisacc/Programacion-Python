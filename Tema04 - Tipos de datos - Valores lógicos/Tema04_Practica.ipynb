{
 "cells": [
  {
   "cell_type": "markdown",
   "metadata": {},
   "source": [
    "# Tipos de datos: Valores lógicos"
   ]
  },
  {
   "cell_type": "markdown",
   "metadata": {},
   "source": [
    "## Operaciones relacionales\n",
    "### Ejercicio 1\n",
    "Realizar las siguientes actividades:\n",
    "1. Crear la variable `a` con un número entre 1 y 5.\n",
    "2. Crear la variable `b` con un número entre -1 y -5.\n",
    "\n",
    "Ahora comprobar lo siguiente:\n",
    "* $a + b > 0$\n",
    "* $ab \\ge 2b$\n",
    "* $2a = -1.5b$\n",
    "* $a^2 - 1 \\ne b^2 + 1$\n",
    "* $a^3 - b \\le b^3 + a$\n",
    "\n",
    "### Solución"
   ]
  },
  {
   "cell_type": "code",
   "execution_count": 1,
   "metadata": {},
   "outputs": [],
   "source": [
    "# Ingrese su código aquí 👻"
   ]
  },
  {
   "cell_type": "markdown",
   "metadata": {},
   "source": [
    "### Ejercicio 2\n",
    "Vamos a evaluar si la velocidad de la corriente en un canal de riego cumple con los requisitos de diseño. Por ejemplo, velocidad máxima de 3 m/s y mínima de 0.5 m/s.\n",
    "\n",
    "Entonces, si la velocidad de la corriente es mayor a la velocidad mínima y menor que la velocidad máxima se puede concluir que el diseño es adecuado. Desplegar esto último por pantalla junto con el resultado booleano de la evaluación.\n",
    "\n",
    "### Solución"
   ]
  },
  {
   "cell_type": "code",
   "execution_count": null,
   "metadata": {},
   "outputs": [],
   "source": [
    "# Ingrese su código aquí 👻"
   ]
  },
  {
   "cell_type": "markdown",
   "metadata": {},
   "source": [
    "### Ejercicio 3\n",
    "Ahora vamos a evaluar si el espesor de un recubrimiento aplicado cumple con los estándares requeridos. Por ejemplo, espesor entre 0.5 mm y 1 mm.\n",
    "\n",
    "Entonces, si el espesor del recubrimiento aplicado está entre los espesores estándar requeridos se puede decir que se aprueba el diseño. Desplegar por pantalla esto último junto con el resultado booleano de la evaluación.\n",
    "\n",
    "### Solución"
   ]
  },
  {
   "cell_type": "code",
   "execution_count": null,
   "metadata": {},
   "outputs": [],
   "source": [
    "# Ingrese su código aquí 👻"
   ]
  },
  {
   "cell_type": "markdown",
   "metadata": {},
   "source": [
    "### Ejercicio 4\n",
    "Vamos a verificar si una muestra cumple con las especificaciones de calidad. Por ejemplo, el resultado de un ensayo de dureza debe ser exactamente igual a 65 HRB.\n",
    "\n",
    "Entonces, si la dureza de la muestra es exactamente igual a la dureza del ensayo se aprueba el control de calidad. Desplegar por pantalla esto último junto con el resultado booleano de la evaluación.\n",
    "\n",
    "### Solución"
   ]
  },
  {
   "cell_type": "code",
   "execution_count": null,
   "metadata": {},
   "outputs": [],
   "source": [
    "# Ingrese su código aquí 👻"
   ]
  },
  {
   "cell_type": "markdown",
   "metadata": {},
   "source": [
    "## Operaciones lógicas\n",
    "### Ejercicio 1\n",
    "Escribe un programa que determine si un año es bisiesto o no. Un año es bisiesto si es divisible por 4, excepto aquellos años que son divisibles por 100, pero no por 400.\n",
    "\n",
    "**Observación**\n",
    "\n",
    "Este ejercicio es extremadamente común, pero la mayoría de personas lo resuelven con condicionales. Sin embargo, todavía no hemos llegado a ese tema y tampoco es necesario dado que con todo lo aprendido en este tema es suficiente para resolverlo.\n",
    "\n",
    "*Recuerda que mientras más te esfuerces en aprender, más duradero es el conocimiento y más grande es la satisfacción de haberlo logrado*.\n",
    "\n",
    "### Solución"
   ]
  },
  {
   "cell_type": "code",
   "execution_count": null,
   "metadata": {},
   "outputs": [],
   "source": [
    "# Ingrese su código aquí 👻"
   ]
  },
  {
   "cell_type": "markdown",
   "metadata": {},
   "source": [
    "### Ejercicio 2\n",
    "Evalúa si un número que tú indiques es divisible por 5 y por 8, pero no por 10.\n",
    "\n",
    "### Solución"
   ]
  },
  {
   "cell_type": "code",
   "execution_count": null,
   "metadata": {},
   "outputs": [],
   "source": [
    "# Ingrese su código aquí 👻"
   ]
  },
  {
   "cell_type": "markdown",
   "metadata": {},
   "source": [
    "### Ejercicio 3\n",
    "Evalúa si un número que tú indiques está en el rango de 10 a 20 y también en el rango de 15 a 30. Evalúa tu código con el número 5, 14, 19, 21, 31; y comenta porqué el resultado es verdado o falso.\n",
    "\n",
    "**Observación**\n",
    "\n",
    "Como recomendación, realiza manualmente una gráfica (una recta numérica) donde analices de forma visual cada caso y puedas determinar tus propias conclusiones. Y, si haces tu gráfica o dibujo, adjúntalo en la solución como imagen.\n",
    "\n",
    "### Solución"
   ]
  },
  {
   "cell_type": "code",
   "execution_count": null,
   "metadata": {},
   "outputs": [],
   "source": [
    "# Ingrese su código aquí 👻"
   ]
  },
  {
   "cell_type": "markdown",
   "metadata": {},
   "source": [
    "### Ejercicio 4\n",
    "Queremos verificar si un proceso industrial cumple con los tiempos de producción y calidad esperados.\n",
    "\n",
    "Por lo tanto, si el tiempo de ciclo del proceso (en minutos) es menor o igual al tiempo máximo permitido (15 minutos) y la calidad del producto (en porcentaje) es mayor a la calidad mínima (90%), entonces el proceso industrial cumple con los requisitos de tiempo y calidad. Desplegar esto último por pantalla junto con el resultado de la verificación.\n",
    "\n",
    "### Solución"
   ]
  },
  {
   "cell_type": "code",
   "execution_count": null,
   "metadata": {},
   "outputs": [],
   "source": [
    "# Ingrese su código aquí 👻"
   ]
  },
  {
   "cell_type": "markdown",
   "metadata": {},
   "source": [
    "### Ejercicio 5\n",
    "Queremos verificar si un sistema eléctrico cumple con los estándares de seguridad, considerando diversas normativas y protecciones.\n",
    "\n",
    "Por lo tanto, si el voltaje de operación (en V) es menor a 250 V y la corriente máxima (en A) es mayor o igual a la protección mínima (40 A) o la corriente máxima es menor o igual que 50 A, entonces el sistema eléctrico cumple con los estándares de seguridad. Desplegar esto último por pantalla junto con el resultado de la verificación.\n",
    "\n",
    "### Solución"
   ]
  },
  {
   "cell_type": "code",
   "execution_count": null,
   "metadata": {},
   "outputs": [],
   "source": [
    "# Ingrese su código aquí 👻"
   ]
  }
 ],
 "metadata": {
  "kernelspec": {
   "display_name": "Python 3.10.7 64-bit",
   "language": "python",
   "name": "python3"
  },
  "language_info": {
   "codemirror_mode": {
    "name": "ipython",
    "version": 3
   },
   "file_extension": ".py",
   "mimetype": "text/x-python",
   "name": "python",
   "nbconvert_exporter": "python",
   "pygments_lexer": "ipython3",
   "version": "3.11.8"
  },
  "orig_nbformat": 4,
  "vscode": {
   "interpreter": {
    "hash": "369f2c481f4da34e4445cda3fffd2e751bd1c4d706f27375911949ba6bb62e1c"
   }
  }
 },
 "nbformat": 4,
 "nbformat_minor": 2
}
