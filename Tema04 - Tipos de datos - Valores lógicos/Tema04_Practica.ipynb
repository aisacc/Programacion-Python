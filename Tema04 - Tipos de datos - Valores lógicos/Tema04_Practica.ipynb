{
 "cells": [
  {
   "cell_type": "markdown",
   "metadata": {},
   "source": [
    "# Tipos de datos: Valores lógicos"
   ]
  },
  {
   "cell_type": "markdown",
   "metadata": {},
   "source": [
    "## Valores lógicos o booleanos\n",
    "### Ejercicio\n",
    "Realizar las siguientes actividades:\n",
    "1. Crear la variable `a` con un número entre 1 y 5.\n",
    "2. Crear la variable `b` con un número entre -1 y -5.\n",
    "\n",
    "Ahora comprobar lo siguiente:\n",
    "* $a + b > 0$\n",
    "* $ab \\ge 2b$\n",
    "* $2a = -1.5b$\n",
    "* $a^2 - 1 \\ne b^2 + 1$\n",
    "* $a^3 - b \\le b^3 + a$\n",
    "\n",
    "### Solución"
   ]
  },
  {
   "cell_type": "code",
   "execution_count": 1,
   "metadata": {},
   "outputs": [],
   "source": [
    "# Ingrese su respuesta aquí :)"
   ]
  },
  {
   "cell_type": "markdown",
   "metadata": {},
   "source": [
    "## Operaciones lógicas\n",
    "### Ejercicio\n",
    "Escribe un programa que determine si un año es bisiesto o no. Un año es bisiesto si es divisible por 4, excepto aquellos años que son divisibles por 100, pero no por 400.\n",
    "\n",
    "**Observación**\n",
    "\n",
    "Este ejercicio es extremadamente común, pero la mayoría de personas lo resuelven con condicionales. Sin embargo, todavía no hemos llegado a ese tema y tampoco es necesario dado que con todo lo aprendido en este tema es suficiente para resolverlo.\n",
    "\n",
    "*Recuerda que mientras más te esfuerces en aprender, más duradero es el conocimiento y más grande es la satisfacción de haberlo logrado*.\n",
    "\n",
    "### Solución"
   ]
  },
  {
   "cell_type": "code",
   "execution_count": null,
   "metadata": {},
   "outputs": [],
   "source": [
    "# Ingrese su respuesta aquí :)"
   ]
  }
 ],
 "metadata": {
  "kernelspec": {
   "display_name": "Python 3.10.7 64-bit",
   "language": "python",
   "name": "python3"
  },
  "language_info": {
   "codemirror_mode": {
    "name": "ipython",
    "version": 3
   },
   "file_extension": ".py",
   "mimetype": "text/x-python",
   "name": "python",
   "nbconvert_exporter": "python",
   "pygments_lexer": "ipython3",
   "version": "3.11.8"
  },
  "orig_nbformat": 4,
  "vscode": {
   "interpreter": {
    "hash": "369f2c481f4da34e4445cda3fffd2e751bd1c4d706f27375911949ba6bb62e1c"
   }
  }
 },
 "nbformat": 4,
 "nbformat_minor": 2
}
