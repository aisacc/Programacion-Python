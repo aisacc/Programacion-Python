{
 "cells": [
  {
   "cell_type": "markdown",
   "metadata": {},
   "source": [
    "# Introducción: Tipos de datos en Python\n",
    "En Python existen distintos tipos de datos que se utilizan en función de la situación y de la información. De forma sencilla se trabajará con números y textos. No obstante, para profundizar en la herramienta se requiere el conocimiento y uso del resto de tipos de datos (datos lógicos, dataframes, etc.).\n",
    "\n",
    "<figure style=\"text-align: center;\">\n",
    "  <div><strong>Fig. 1.</strong> Algunos tipos de datos en Python. </div>\n",
    "  <img src=\"markdown_resources/4.png\" style=\"width: 65%; height: auto;\">\n",
    "  <figcaption>Tomado de <A HREF=\"https://realpython.com/python-data-types/\"> Real Python</A>.</figcaption>\n",
    "</figure>"
   ]
  },
  {
   "cell_type": "markdown",
   "metadata": {},
   "source": [
    "# Tipos de datos: Números"
   ]
  },
  {
   "cell_type": "markdown",
   "metadata": {},
   "source": [
    "## Números enteros\n",
    "Los números enteros no tienen decimales, pero sí pueden contener signo.\n",
    "\n",
    "Para crearlos basta con escribirlos sin añadir parte decimal ni un punto al final del número. O también se puede utilizar la función `int` para convertir una variable de otro tipo a número entero, siempre y cuando sea posible."
   ]
  },
  {
   "cell_type": "code",
   "execution_count": 2,
   "metadata": {},
   "outputs": [],
   "source": [
    "# Ingrese su código aquí 👻"
   ]
  },
  {
   "cell_type": "markdown",
   "metadata": {},
   "source": [
    "**Observación**\n",
    "\n",
    "Se debe tener en cuenta lo siguiente:\n",
    "* Los números no pueden empezar con un 0.\n",
    "* Por legibilidad Python permite dividir los números con guiones bajo. Esto facilita la lectura y escritura. Python por defecto omite los guiones bajo en los números, así que se puede utilizarlos o no. Es a criterio del programador."
   ]
  },
  {
   "cell_type": "code",
   "execution_count": 39,
   "metadata": {},
   "outputs": [],
   "source": [
    "# Ingrese su código aquí 👻"
   ]
  },
  {
   "cell_type": "markdown",
   "metadata": {},
   "source": [
    "**Observación**\n",
    "\n",
    "Al realizar la conversión de un número de punto flotante a número entero, la función `int` devuelve el valor redondeado hacia abajo. Es decir, $\\text{int}(x) = \\lfloor x \\rfloor$."
   ]
  },
  {
   "cell_type": "code",
   "execution_count": null,
   "metadata": {},
   "outputs": [],
   "source": [
    "# Ingrese su código aquí 👻"
   ]
  },
  {
   "cell_type": "markdown",
   "metadata": {},
   "source": [
    "#### Ejemplo\n",
    "Asumamos que tenemos un archivo Excel que contiene una tabla con información de pacientes de un hospital. Cada columna de la tabla es una característica de los pacientes como el nombre, edad, tipo de sangre, fuma o no fuma, etc.\n",
    "\n",
    "¿Qué variables sería adecuado almacenar como números enteros? ¿Por qué?\n",
    "\n",
    "#### Solución"
   ]
  },
  {
   "cell_type": "markdown",
   "metadata": {},
   "source": [
    "Ingrese su respuesta aquí 👻"
   ]
  },
  {
   "cell_type": "markdown",
   "metadata": {},
   "source": [
    "### Números enteros máximos y mínimos\n",
    "Los números enteros en Python pueden ser tan grande como queramos (sin exagerar demasiado). Otros lenguajes de programación tienen un límite sobre el cual se puede producir un desbordamiento o subdesbordamiento de números enteros. Sin embargo, en Python este límite es muchísimo más amplio. Por esta razón no se requiere darle más profundidad al tema.  "
   ]
  },
  {
   "cell_type": "code",
   "execution_count": 40,
   "metadata": {},
   "outputs": [],
   "source": [
    "# Ingrese su código aquí 👻"
   ]
  },
  {
   "cell_type": "markdown",
   "metadata": {},
   "source": [
    "## Números de punto flotante (o decimales)\n",
    "Los números de punto flotante, o de coma flotante, son comúnmente conocidos también como los números reales dentro de la programación.\n",
    "\n",
    "A diferencia de los números enteros, los números de punto flotante tienen parte decimal y se los crea como tal, añadiendo su parte decimal o añadiendo un punto al final de su parte entera. También se puede utilizar la función `float` para convertir un variable de otro tipo a número de punto flotante, siempre y cuando sea posible."
   ]
  },
  {
   "cell_type": "code",
   "execution_count": 46,
   "metadata": {},
   "outputs": [],
   "source": [
    "# Ingrese su código aquí 👻"
   ]
  },
  {
   "cell_type": "markdown",
   "metadata": {},
   "source": [
    "#### Ejemplo\n",
    "Supongamos que dispones de una tabla de datos en Excel donde tienes información de los puentes más largos del mundo. En esta tabla hay información de cada puente por columnas: nombre del puente, longitud en metros, año de inicio de construcción, año de finalización de construcción, número de carriles y material principal de construcción.\n",
    "\n",
    "¿Qué variables sería adecuado almacenar como números de punto flotante? ¿Por qué?\n",
    "\n",
    "#### Solución"
   ]
  },
  {
   "cell_type": "markdown",
   "metadata": {},
   "source": [
    "Ingrese su respuesta aquí 👻"
   ]
  },
  {
   "cell_type": "markdown",
   "metadata": {},
   "source": [
    "### Notación científica\n",
    "La notación científica, también denominada notación exponencial, es una forma de escribir los números basada en potencias de 10, lo que resulta especialmente útil para la representación de valores muy grandes o pequeños, así como para el cálculo con ellos.\n",
    "\n",
    "Por ejemplo, la masa del electrón es $0.000 000 000 000 000 000 000 000 911\\ \\text{kg} = 9.11 \\times 10 ^ {-31}\\ \\text{kg}$. Otro ejemplo, la mayor distancia observable del universo es $740 000 000 000 000 000 000 000 000\\ \\text{m} = 7.4 \\times 10 ^ {26}\\ \\text{m}$.\n",
    "\n",
    "Entonces bien, para expresar un número en notación científica se puede utilizar la letra `e` y luego indicar la potencia."
   ]
  },
  {
   "cell_type": "code",
   "execution_count": 31,
   "metadata": {},
   "outputs": [],
   "source": [
    "# Ingrese su código aquí 👻"
   ]
  },
  {
   "cell_type": "markdown",
   "metadata": {},
   "source": [
    "#### Ejemplo\n",
    "Expresa los siguientes números en notación científica.\n",
    "\n",
    "* Velocidad de la luz: $299792458$ m/s\n",
    "* Constante de Planck: $0.000000000000000000000000000000000663$ J/s\n",
    "* Masa de un protón: $0.0000000000000000000000000016726$ kg\n",
    "\n",
    "#### Solución"
   ]
  },
  {
   "cell_type": "code",
   "execution_count": null,
   "metadata": {},
   "outputs": [],
   "source": [
    "# Ingrese su código aquí 👻"
   ]
  },
  {
   "cell_type": "markdown",
   "metadata": {},
   "source": [
    "### Números de punto flotante máximos y mínimos\n",
    "Para conocer el número de punto flotante máximo y mínimo se utiliza la función `float_info.max` y `float_info.min`, respectivamente, del módulo `sys`."
   ]
  },
  {
   "cell_type": "code",
   "execution_count": null,
   "metadata": {},
   "outputs": [],
   "source": [
    "# Ingrese su código aquí 👻"
   ]
  },
  {
   "cell_type": "markdown",
   "metadata": {},
   "source": [
    "#### ¿Qué sucede si se excede el límite máximo o mínimo?\n",
    "Si se realizan operaciones tal que se excede el límite máximo, entonces el resultado es tan grande que Python ya no lo procesa y devuelve `Inf` (infinito). Este caso se conoce como **desbordamiento**."
   ]
  },
  {
   "cell_type": "code",
   "execution_count": null,
   "metadata": {},
   "outputs": [],
   "source": [
    "# Ingrese su código aquí 👻"
   ]
  },
  {
   "cell_type": "markdown",
   "metadata": {},
   "source": [
    "Por el contrario, si el número es tan pequeño que excede el límite mínimo, entonces Python ya no lo procesa y devuelve 0. Este caso se conoce como **subdesbordamiento**."
   ]
  },
  {
   "cell_type": "code",
   "execution_count": 39,
   "metadata": {},
   "outputs": [],
   "source": [
    "# Ingrese su código aquí 👻"
   ]
  },
  {
   "cell_type": "markdown",
   "metadata": {},
   "source": [
    "Como se puede observar, en ocasiones se puede llegar a los límites, o sobrepasarlos, y Python sigue procesando información hasta cuando se excede demasiado y ocurre el desbordamiento o subdesbordamiento.\n",
    "Sin embargo, **no se recomienda trabajar cerca de las fronteras de los límites**."
   ]
  },
  {
   "cell_type": "markdown",
   "metadata": {},
   "source": [
    "## Números complejos\n",
    "Los números complejos dentro de Python se definen en forma binomial y la unidad imaginaria se representa como `j`. Esta representación es igual a $\\sqrt{-1}$."
   ]
  },
  {
   "cell_type": "code",
   "execution_count": 35,
   "metadata": {},
   "outputs": [],
   "source": [
    "# Ingrese su código aquí 👻"
   ]
  },
  {
   "cell_type": "markdown",
   "metadata": {},
   "source": [
    "## Función `type`\n",
    "La función `type` retorna el nombre del tipo de dato."
   ]
  },
  {
   "cell_type": "code",
   "execution_count": null,
   "metadata": {},
   "outputs": [],
   "source": [
    "# Ingrese su código aquí 👻"
   ]
  },
  {
   "cell_type": "markdown",
   "metadata": {},
   "source": [
    "## Operaciones aritméticas\n",
    "Las operaciones aritméticas se realizan con los operadores usuales ya conocidos en matemática. Además, se debe indicar explícitamente las operaciones que se desea realizar.\n",
    "\n",
    "<figure style=\"text-align: center;\">\n",
    "  <div><strong>Fig. 1.</strong> Operaciones aritméticas en Python. </div>\n",
    "  <img src=\"markdown_resources/1.png\" style=\"width: 45%; height: auto;\">\n",
    "  <figcaption>Tomado de <strong>Aprende Python</strong> de <em>Sergio Delgado Quintero</em>.</figcaption>\n",
    "</figure>\n",
    "\n",
    "\"Es de buen estilo de programación dejar un espacio entre cada operador\". *Sergio Delgado Quintero*"
   ]
  },
  {
   "cell_type": "code",
   "execution_count": 52,
   "metadata": {},
   "outputs": [],
   "source": [
    "# Ingrese su código aquí 👻"
   ]
  },
  {
   "cell_type": "markdown",
   "metadata": {},
   "source": [
    "### Suma y resta"
   ]
  },
  {
   "cell_type": "code",
   "execution_count": null,
   "metadata": {},
   "outputs": [],
   "source": [
    "# Ingrese su código aquí 👻"
   ]
  },
  {
   "cell_type": "markdown",
   "metadata": {},
   "source": [
    "### Multiplicación y división flotante"
   ]
  },
  {
   "cell_type": "code",
   "execution_count": null,
   "metadata": {},
   "outputs": [],
   "source": [
    "# Ingrese su código aquí 👻"
   ]
  },
  {
   "cell_type": "markdown",
   "metadata": {},
   "source": [
    "### Exponenciación"
   ]
  },
  {
   "cell_type": "code",
   "execution_count": null,
   "metadata": {},
   "outputs": [],
   "source": [
    "# Ingrese su código aquí 👻"
   ]
  },
  {
   "cell_type": "markdown",
   "metadata": {},
   "source": [
    "### División entera y módulo\n",
    "En la siguiente imagen se observan las partes de la división.\n",
    "\n",
    "<figure style=\"text-align: center;\">\n",
    "  <div><strong>Fig. 2.</strong> Partes de una división. </div>\n",
    "  <img src=\"markdown_resources/2.jpg\" style=\"width: 70%; height: auto;\">\n",
    "  <figcaption>Tomado de <strong>Aprende Python</strong> de <em>Sergio Delgado Quintero</em>.</figcaption>\n",
    "</figure>\n",
    "\n",
    "Considerar que el módulo también es conocido como remanente, residuo o resto."
   ]
  },
  {
   "cell_type": "code",
   "execution_count": 53,
   "metadata": {},
   "outputs": [],
   "source": [
    "# Ingrese su código aquí 👻"
   ]
  },
  {
   "cell_type": "markdown",
   "metadata": {},
   "source": [
    "#### Ejemplo 1\n",
    "Algo bastante usual en problemas de ingeniería es determinar si un número es divisible de otro. Por ejemplo, determinar si un número `n` es divisible para 2 (en otras palabras, si `n` es un número par o no).\n",
    "\n",
    "Utilizando únicamente el módulo ¿cómo resolverías el ejemplo de si un número `n` es par o no?\n",
    "\n",
    "#### Solución"
   ]
  },
  {
   "cell_type": "code",
   "execution_count": null,
   "metadata": {},
   "outputs": [],
   "source": [
    "# Ingrese su código aquí 👻"
   ]
  },
  {
   "cell_type": "markdown",
   "metadata": {},
   "source": [
    "#### Ejemplo 2\n",
    "Es probable que pienses que la divisibilidad en realidad no es un problema usual de ingeniería, pero te voy a demostrar que sí lo es.\n",
    "\n",
    "Dada una variable numérica de punto flotante `h` que viene a representar la altura de las paredes de un canal rectangular (la cual usualmente es obtenida a través de un diseño hidráulico) está en metros.\n",
    "\n",
    "<figure style=\"text-align: center;\">\n",
    "  <div><strong>Fig. 3.</strong> Corte transversal de un canal de sección rectangular. </div>\n",
    "  <img src=\"markdown_resources\\canal_rectangular_esquema.png\" style=\"width: 30%; height: auto;\">\n",
    "  <figcaption>Tomado de <strong>Modelación numérica y experimental de un canal rectangular abierto con diferentes tipos de vertederos</strong> de <em>Víctor Adrián Guamán Sánchez</em>.</figcaption>\n",
    "</figure>\n",
    "\n",
    "<figure style=\"text-align: center;\">\n",
    "  <div><strong>Fig. 4.</strong> Canal de sección rectangular. </div>\n",
    "  <img src=\"markdown_resources\\canal_rectangular_ejemplo.jpg\" style=\"width: 40%; height: auto;\">\n",
    "  <figcaption>Tomado de <A HREF=\"https://www.civilexcel.com/2013/03/movimiento-permanente-uniforme-mpu.html\"> Civil Excel</A>.</figcaption>\n",
    "</figure>\n",
    "\n",
    "El valor de `h`, luego de todos los cálculos involucrados, puede ser 1.378514839. Es decir, el canal tendría una altura de 1.378514839 m. ¿Pero eso es adecuado? ¿Es lógico establecer que la altura de las paredes de un canal rectangular sea exactamente 1.378514839 m? Por supuesto que no. Lo usual y recomendable es tener medidas constructivas como 1.40 m, por ejemplo para este caso (es aconsejable redondear al inmediato superior).\n",
    "\n",
    "Notemos que estamos aproximando 1.378514839 a 1.40. O, si el canal tuviera la altura de 1.94154782, entonces se redondearía a 2.00. O, si el canal tuviera la altura de 2.13458125, entonces se redondearía a 2.20. Como podemos observar, estamos redondeando las décimas al inmediato superior (de 10 cm en 10 cm).\n",
    "\n",
    "Pero, ¿qué quiere decir todo esto? Que luego de todo el diseño que realicemos, las medidas siempre se recomienda que sean constructivas. Por lo tanto, dada la variable `h` previamente descrita, y utilizando la operación del módulo, reasignar su valor con su medida constructiva.\n",
    "\n",
    "#### Solución"
   ]
  },
  {
   "cell_type": "code",
   "execution_count": 12,
   "metadata": {},
   "outputs": [],
   "source": [
    "# Ingrese su código aquí 👻"
   ]
  },
  {
   "cell_type": "markdown",
   "metadata": {},
   "source": [
    "## Orden de las operaciones aritméticas\n",
    "El orden en el cual se llevan a cabo las operaciones aritméticas dentro de Python es el mismo establecido en matemática.\n",
    "\n",
    "<figure style=\"text-align: center;\">\n",
    "  <div><strong>Fig. 3.</strong> Prioridad de las operaciones aritméticas. </div>\n",
    "  <img src=\"markdown_resources/3.png\" style=\"width: 17.5%; height: auto;\">\n",
    "  <figcaption>Tomado de <strong>Aprende Python</strong> de <em>Sergio Delgado Quintero</em>.</figcaption>\n",
    "</figure>\n",
    "\n",
    "En el caso de que hayan varias operaciones del mismo orden, entonces se realizarán las **operaciones de izquierda a derecha**."
   ]
  },
  {
   "cell_type": "code",
   "execution_count": 57,
   "metadata": {},
   "outputs": [],
   "source": [
    "# Ingrese su código aquí 👻"
   ]
  },
  {
   "cell_type": "markdown",
   "metadata": {},
   "source": [
    "**Observación**\n",
    "\n",
    "Cuando se tiene una expresión \"larga\" como divisor o exponente, por ejemplo, se debe indicar explícitamente.\n",
    "\n",
    "¿Cómo se debería crear la expresión $2^{xy} + 1$?"
   ]
  },
  {
   "cell_type": "code",
   "execution_count": 58,
   "metadata": {},
   "outputs": [],
   "source": [
    "# Ingrese su código aquí 👻"
   ]
  },
  {
   "cell_type": "markdown",
   "metadata": {},
   "source": [
    "Es decir, Python toma el primer valor para realizar la respectiva operación cuando no se indica explícitamente la operación deseada."
   ]
  },
  {
   "cell_type": "markdown",
   "metadata": {},
   "source": [
    "----\n",
    "## Material adicional\n",
    "* [Números enteros](https://aprendepython.es/core/datatypes/numbers/#enteros)\n",
    "* [Números de punto flotante](https://aprendepython.es/core/datatypes/numbers/#flotantes)\n",
    "* [Operaciones aritméticas](https://aprendepython.es/core/datatypes/numbers/#operaciones-con-enteros)\n",
    "* [Conversión implícita](https://aprendepython.es/core/datatypes/numbers/#conversion-implicita)"
   ]
  }
 ],
 "metadata": {
  "kernelspec": {
   "display_name": "Python 3.10.7 64-bit",
   "language": "python",
   "name": "python3"
  },
  "language_info": {
   "codemirror_mode": {
    "name": "ipython",
    "version": 3
   },
   "file_extension": ".py",
   "mimetype": "text/x-python",
   "name": "python",
   "nbconvert_exporter": "python",
   "pygments_lexer": "ipython3",
   "version": "3.12.4"
  },
  "orig_nbformat": 4,
  "vscode": {
   "interpreter": {
    "hash": "369f2c481f4da34e4445cda3fffd2e751bd1c4d706f27375911949ba6bb62e1c"
   }
  }
 },
 "nbformat": 4,
 "nbformat_minor": 2
}
