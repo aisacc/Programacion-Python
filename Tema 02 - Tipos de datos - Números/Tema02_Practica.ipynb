{
 "cells": [
  {
   "cell_type": "markdown",
   "metadata": {},
   "source": [
    "# Tipos de datos: Números"
   ]
  },
  {
   "cell_type": "markdown",
   "metadata": {},
   "source": [
    "## Números enteros y números de punto flotante\n",
    "### Ejercicio 1\n",
    "Supongamos que dispones de una tabla de datos en Excel donde tienes información de los edificios más antiguos de la ciudad de Quito (capital de Ecuador). En esta tabla hay información de cada edifico por columnas: nombre del edificio, número de pisos, números de subsuelos, año de inicio de construcción, año de fin de construcción y altura.\n",
    "\n",
    "¿Qué variables sería adecuado almacenar como números enteros y cuáles no? ¿Por qué?\n",
    "\n",
    "### Solución"
   ]
  },
  {
   "cell_type": "markdown",
   "metadata": {},
   "source": [
    "Ingrese su respuesta aquí 👻"
   ]
  },
  {
   "cell_type": "markdown",
   "metadata": {},
   "source": [
    "### Ejercicio 2\n",
    "Ahora asumamos que dispones de otra tabla de datos en Excel donde tienes información de los parques nacionales de Costa Rica. En esta tabla hay información de cada parque por columnas: nombre del parque, área en hectáreas, número de especies de fauna, número de especies de flora, año de declaración como parque nacional y número de visitantes anuales.\n",
    "\n",
    "¿Qué variables sería adecuado almacenar como números enteros y qué variables sería adecuado almacenar como números de punto flotante? ¿Por qué?\n",
    "\n",
    "### Solución"
   ]
  },
  {
   "cell_type": "markdown",
   "metadata": {},
   "source": [
    "Ingrese su respuesta aquí 👻"
   ]
  },
  {
   "cell_type": "markdown",
   "metadata": {},
   "source": [
    "### Ejercicio 3\n",
    "Ahora supongamos que dispones de una tabla de datos en Excel donde tienes información de los ríos más largos del mundo. En esta tabla hay información de cada río por columnas: nombre del río, longitud en kilómetros, caudal en metros cúbicos por segundo y países por los que pasa.\n",
    "\n",
    "¿Qué variables sería adecuado almacenar como números enteros y qué variables sería adecuado almacenar como números de punto flotante? ¿Por qué?\n",
    "\n",
    "### Solución"
   ]
  },
  {
   "cell_type": "markdown",
   "metadata": {},
   "source": [
    "Ingrese su respuesta aquí 👻"
   ]
  },
  {
   "cell_type": "markdown",
   "metadata": {},
   "source": [
    "## Notación científica\n",
    "### Ejercicio 1\n",
    "El radio de la Tierra es:\n",
    "* Sin notación científica: $6371000$ m\n",
    "* Con notación científica: $6.371 \\times 10^{6}$ m\n",
    "\n",
    "Entonces, expresa los siguientes números con notación científica o sin notación científica, según corresponda.\n",
    "* Carga del electrón: $0.00000000000000000016022$ C\n",
    "* Constante de gravitación universal: $6.674 \\times 10^{-11}$ $\\text{N} \\cdot \\text{m}^2 / \\text{kg}^2$\n",
    "* Densidad del agua: $1 \\times 10^3$ $\\text{kg}/\\text{m}^3$\n",
    "* Número de Avogadro: $602200000000000000000000$\n",
    "\n",
    "### Solución"
   ]
  },
  {
   "cell_type": "code",
   "execution_count": null,
   "metadata": {},
   "outputs": [],
   "source": [
    "# Ingrese su código aquí 👻"
   ]
  },
  {
   "cell_type": "markdown",
   "metadata": {},
   "source": [
    "## Operaciones aritméticas\n",
    "### Ejercicio 1\n",
    "Realizar las siguientes operaciones:\n",
    "* $\\frac{5 + 2}{12 ^ 2}$\n",
    "* $\\sqrt{(2 + \\sqrt{2}) ^ 3 + 1}$\n",
    "* $7 + \\frac{5}{3 ^ 4} \\times \\frac{8 ^ {-4}}{1.5}$\n",
    "\n",
    "### Solución"
   ]
  },
  {
   "cell_type": "code",
   "execution_count": null,
   "metadata": {},
   "outputs": [],
   "source": [
    "# Ingrese su código aquí 👻"
   ]
  },
  {
   "cell_type": "markdown",
   "metadata": {},
   "source": [
    "### Ejercicio 2\n",
    "Una chef tiene 62 ingredientes diferentes en su despensa. Al organizar su cocina, decide guardar todos los ingredientes en tarros de cristal. Dispone de 5 tarros grandes. ¿Cuántos ingredientes puede guardar en cada tarro? ¿Cuántos ingredientes no cabrán en los tarros?\n",
    "\n",
    "Si descubre que en realidad solo tiene 60 ingredientes, ¿podrá guardar todos en los tarros sin dejar ninguno fuera?\n",
    "\n",
    "### Solución"
   ]
  },
  {
   "cell_type": "code",
   "execution_count": null,
   "metadata": {},
   "outputs": [],
   "source": [
    "# Ingrese su código aquí 👻"
   ]
  },
  {
   "cell_type": "markdown",
   "metadata": {},
   "source": [
    "### Ejercicio 3\n",
    "Retomando el ejemplo desarrollado en la parte teórica sobre la altura de las paredes de un canal rectangular, `h`, ahora se tiene lo siguiente.\n",
    "\n",
    "<figure style=\"text-align: center;\">\n",
    "  <div><strong>Fig. 1.</strong> Corte transversal de un canal de sección rectangular. </div>\n",
    "  <img src=\"https://github.com/aisacc/Programacion-Python/blob/main/_Im%C3%A1genes/Tema%2002%20-%20Tipos%20de%20datos%20-%20N%C3%BAmeros/6.png?raw=true\" style=\"width: 30%; height: auto;\">\n",
    "  <figcaption>Tomado de <strong>Modelación numérica y experimental de un canal rectangular abierto con diferentes tipos de vertederos</strong> de <em>Víctor Adrián Guamán Sánchez</em>.</figcaption>\n",
    "</figure>\n",
    "\n",
    "<figure style=\"text-align: center;\">\n",
    "  <div><strong>Fig. 2.</strong> Canal de sección rectangular. </div>\n",
    "  <img src=\"https://github.com/aisacc/Programacion-Python/blob/main/_Im%C3%A1genes/Tema%2002%20-%20Tipos%20de%20datos%20-%20N%C3%BAmeros/5.jpg?raw=true\" style=\"width: 40%; height: auto;\">\n",
    "  <figcaption>Tomado de <A HREF=\"https://www.civilexcel.com/2013/03/movimiento-permanente-uniforme-mpu.html\"> Civil Excel</A>.</figcaption>\n",
    "</figure>\n",
    "\n",
    "En lugar de establecer una altura constructiva de 10 cm en 10 cm, ahora se solicita que se establezca una altura constructiva de 5 cm en 5 cm. Por lo tanto, si la altura es de 1.378514839 se redondea a 1.40, o si la altura es de 2.13458125, entonces se redondea a 2.15.\n",
    "\n",
    "### Solución"
   ]
  },
  {
   "cell_type": "code",
   "execution_count": null,
   "metadata": {},
   "outputs": [],
   "source": [
    "# Ingrese su código aquí 👻"
   ]
  },
  {
   "cell_type": "markdown",
   "metadata": {},
   "source": [
    "### Ejercicio 4\n",
    "En ingeniería eléctrica, al seleccionar resistencias para un circuito, es común obtener valores de resistencia que no siempre son prácticos para la fabricación. Supongamos que tenemos una variable de punto flotante `R` que representa la resistencia de un componente en ohmios, obtenida después de todos los cálculos de diseño del circuito. Por ejemplo, el valor de `R` podría ser 47.362 ohmios. Sin embargo, no es práctico especificar una resistencia de 47.362 ohmios. Es más lógico redondear este valor a una medida estándar como 50 ohmios (redondeando al inmediato superior).\n",
    "\n",
    "Notemos que estamos aproximando 47.362 a 50. O, si la resistencia fuera 98.716 ohmios, entonces se redondearía a 100. O, si la resistencia fuera 153.581 ohmios, entonces se redondearía a 155.\n",
    "\n",
    "Por lo tanto, dada la variable `R` previamente descrita, reasignar su valor con su medida estándar.\n",
    "\n",
    "### Solución"
   ]
  },
  {
   "cell_type": "code",
   "execution_count": null,
   "metadata": {},
   "outputs": [],
   "source": [
    "# Ingrese su código aquí 👻"
   ]
  },
  {
   "cell_type": "markdown",
   "metadata": {},
   "source": [
    "## Orden de las operaciones aritméticas\n",
    "### Ejercicio 1\n",
    "Antes de realizar las siguientes operaciones aritméticas, ¿cuál cree que sea el resultado?\n",
    "\n",
    "* `2+5/10`\n",
    "* `2*3+3*2`\n",
    "* `2^0*5`\n",
    "* `1+2+3/3*2+1`\n",
    "* `(1+2+3)/(3*2+1)`\n",
    "\n",
    "### Solución"
   ]
  },
  {
   "cell_type": "code",
   "execution_count": null,
   "metadata": {},
   "outputs": [],
   "source": [
    "# Ingrese su código aquí 👻"
   ]
  },
  {
   "cell_type": "markdown",
   "metadata": {},
   "source": [
    "### Ejercicio 2\n",
    "Dada la expresión para la obtención del caudal utilizando la ecuación de Manning:\n",
    "\n",
    "$$Q = \\frac{1}{n} A R^{2/3} S^{1/2}$$\n",
    "\n",
    "Dar valores a todas las variables necesarias y obtener el caudal.\n",
    "\n",
    "### Solución"
   ]
  },
  {
   "cell_type": "code",
   "execution_count": null,
   "metadata": {},
   "outputs": [],
   "source": [
    "# Ingrese su código aquí 👻"
   ]
  }
 ],
 "metadata": {
  "kernelspec": {
   "display_name": "Python 3.10.7 64-bit",
   "language": "python",
   "name": "python3"
  },
  "language_info": {
   "codemirror_mode": {
    "name": "ipython",
    "version": 3
   },
   "file_extension": ".py",
   "mimetype": "text/x-python",
   "name": "python",
   "nbconvert_exporter": "python",
   "pygments_lexer": "ipython3",
   "version": "3.11.8"
  },
  "orig_nbformat": 4,
  "vscode": {
   "interpreter": {
    "hash": "369f2c481f4da34e4445cda3fffd2e751bd1c4d706f27375911949ba6bb62e1c"
   }
  }
 },
 "nbformat": 4,
 "nbformat_minor": 2
}
