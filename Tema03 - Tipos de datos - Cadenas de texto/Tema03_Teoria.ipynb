{
 "cells": [
  {
   "cell_type": "markdown",
   "metadata": {},
   "source": [
    "# Tipos de datos: Cadenas de texto\n",
    "\n",
    "En esencia, **las cadenas de texto son secuencias de caracteres**. En inglés se les llama *strings* (\"cadena\" en español)."
   ]
  },
  {
   "cell_type": "markdown",
   "metadata": {},
   "source": [
    "## Creación y conversión\n",
    "El tipo de dato **string**, el cual consiste en una cadena de texto, se puede crear de varias formas, *pero todas son el mismo tipo de dato*: **string**.\n",
    "\n",
    "### Con apóstrofos o comillas simples\n",
    "Una forma de crear cadenas de texto es encerrando el texto entre apóstrofos, o también llamados *comillas simples*."
   ]
  },
  {
   "cell_type": "code",
   "execution_count": 2,
   "metadata": {},
   "outputs": [],
   "source": [
    "# Ingrese su código aquí 👻"
   ]
  },
  {
   "cell_type": "markdown",
   "metadata": {},
   "source": [
    "### Con comillas dobles\n",
    "Otra forma de crear cadenas de texto es encerrando el texto entre comillas dobles."
   ]
  },
  {
   "cell_type": "code",
   "execution_count": null,
   "metadata": {},
   "outputs": [],
   "source": [
    "# Ingrese su código aquí 👻"
   ]
  },
  {
   "cell_type": "markdown",
   "metadata": {},
   "source": [
    "**Observación**\n",
    "\n",
    "Aunque podría parecer redundante el hecho de que se pueda utilizar comillas simples o dobles para crear cadenas de texto, en realidad su utilidad sobresale cuando entre el texto hay también comillas simples o dobles. "
   ]
  },
  {
   "cell_type": "code",
   "execution_count": null,
   "metadata": {},
   "outputs": [],
   "source": [
    "# Ingrese su código aquí 👻"
   ]
  },
  {
   "cell_type": "markdown",
   "metadata": {},
   "source": [
    "### Con comillas triples\n",
    "Una forma particular de crear cadenas de texto es utilizando comillas triples. Su particularidad radica en que se puede crear una cadena de texto en varias líneas, como si fuera un párrafo.\n",
    "\n",
    "Una utilidad especial suele ser el documentar funciones (este tema se pronduza más adelante).  "
   ]
  },
  {
   "cell_type": "code",
   "execution_count": null,
   "metadata": {},
   "outputs": [],
   "source": [
    "# Ingrese su código aquí 👻"
   ]
  },
  {
   "cell_type": "markdown",
   "metadata": {},
   "source": [
    "### Función `str`\n",
    "La función `str` permite convertir otros tipos de datos al tipo de dato *string*, es decir, convertir en una cadena de texto."
   ]
  },
  {
   "cell_type": "code",
   "execution_count": null,
   "metadata": {},
   "outputs": [],
   "source": [
    "# Ingrese su código aquí 👻"
   ]
  },
  {
   "cell_type": "markdown",
   "metadata": {},
   "source": [
    "### Secuencias de escape\n",
    "En programación existen caracteres que no son visibles. Por ejemplo, el espacio es un caracter que no es visible. Sin caracteres como letras o números, escribir una secuencia de espacios sería totalmente imperceptible.\n",
    "\n",
    "Asimismo, existen otros caracteres que tampoco se ven, pero vaya que son importantes como el salto de línea o la tabulación. Sin embargo, para estos caracteres se debe utilizar una letra **escapándola** (escribir un *backslash* `\\` antes de una letra), lo que le da un significado especial.\n",
    "\n",
    "Por ejemplo, el salto de línea `\\n` es uno de los caracteres especiales que se crean **escapando** la `n`."
   ]
  },
  {
   "cell_type": "code",
   "execution_count": null,
   "metadata": {},
   "outputs": [],
   "source": [
    "# Ingrese su código aquí 👻"
   ]
  },
  {
   "cell_type": "markdown",
   "metadata": {},
   "source": [
    "**Observación**\n",
    "\n",
    "Como es de esperarse, existen más caracteres que se puede escapar. Sin embargo, su estudio se lo profundizará más adelante en el tema *Ingreso de datos por el usuario y visualización personalizada* dado que ahí tendrá mucha más relevancia."
   ]
  },
  {
   "cell_type": "markdown",
   "metadata": {},
   "source": [
    "**Obervación**\n",
    "\n",
    "Otra utilidad de escapar caracteres es que nos permite utilizar caracteres que en ciertos escenarios no es posible, como el propio *backslash* `\\\\`."
   ]
  },
  {
   "cell_type": "code",
   "execution_count": 6,
   "metadata": {},
   "outputs": [],
   "source": [
    "# Ingrese su código aquí 👻"
   ]
  },
  {
   "cell_type": "markdown",
   "metadata": {},
   "source": [
    "## Concatenación\n",
    "\n",
    "Antes que nada, *concatenar* también puede ser entendido como ***unir*** o ***combinar***, y se la realiza mediante el símbolo `+` entre las cadenas de texto que se desea concatenar."
   ]
  },
  {
   "cell_type": "code",
   "execution_count": null,
   "metadata": {},
   "outputs": [],
   "source": [
    "# Ingrese su código aquí 👻"
   ]
  },
  {
   "cell_type": "markdown",
   "metadata": {},
   "source": [
    "Aunque existe otra forma de hacerlo que, si bien más que unir cadenas se las va a repetir. Esto se realiza con el operador `*`."
   ]
  },
  {
   "cell_type": "code",
   "execution_count": null,
   "metadata": {},
   "outputs": [],
   "source": [
    "# Ingrese su código aquí 👻"
   ]
  },
  {
   "cell_type": "markdown",
   "metadata": {},
   "source": [
    "## Indexación\n",
    "Una cadena de texto de forma intrínseca posee un orden y cada caracter está numerado.\n",
    "\n",
    "<figure style=\"text-align: center;\">\n",
    "  <div><strong>Fig. 1.</strong> Índices en una cadena de texto. </div>\n",
    "  <img src=\"markdown_resources/1.jpg\" style=\"width: 45%; height: auto;\">\n",
    "  <figcaption>Tomado de <strong>Aprende Python</strong> de <em>Sergio Delgado Quintero</em>.</figcaption>\n",
    "</figure>"
   ]
  },
  {
   "cell_type": "markdown",
   "metadata": {},
   "source": [
    "Entonces para extraer el caracter deseado se debe **indexar**, e *indexar es acceder, o extraer, elementos utilizando **índices***."
   ]
  },
  {
   "cell_type": "code",
   "execution_count": 15,
   "metadata": {},
   "outputs": [],
   "source": [
    "# Ingrese su código aquí 👻"
   ]
  },
  {
   "cell_type": "markdown",
   "metadata": {},
   "source": [
    "También es posible indexar una secuncia de caracteres, no solo uno, utilizando lo siguiente:\n",
    "\n",
    "- `[inicio:fin]` Indexa desde el **índice `inicio`** hasta el **índice `fin`**.\n",
    "- `[inicio:fin:incremento]` Indexa desde el **índice `inicio`** hasta el **índice `fin`**, con un incremento establecido. Por defecto, cuando no se indica explícitamente, el incremento es 1.\n",
    "- `[inicio:]` Indexa desde el **índice `inicio`** hasta el final de la cadena de texto.\n",
    "- `[:fin]` Indexa desde el inicio hasta el **índice `fin`**.\n",
    "- `[:]` Indexa desde el inicio hasta el fin la cadena de texto. Es como hacer una copia de la cadena.\n",
    "\n",
    "*Siempre se debe recordar el orden de la indexación: primero el índice de partida, o inicio, luego el índice de llegada, o fin, y al final el incremento*. Asimismo, el incremento puede ser positivo o negativo (si es negativo sería *decremento*) y **siempre debe ser un número entero**.\n",
    "\n",
    "Dicho lo anterior, ¿cómo se podría indexar toda una cadena de texto, de principio a fin, pero con un decremento de 1? ¿Qué peculiaridad encuentra en el resultado? "
   ]
  },
  {
   "cell_type": "code",
   "execution_count": 22,
   "metadata": {},
   "outputs": [],
   "source": [
    "# Ingrese su código aquí 👻"
   ]
  },
  {
   "cell_type": "markdown",
   "metadata": {},
   "source": [
    "## Funciones para trabajar con cadenas de texto\n",
    "\n",
    "A continuación se detallarán varias funciones realmente últiles al momento de manipular cadenas de texto. Todas estas funciones se aplican utilizando un punto luego de la cadena de texto."
   ]
  },
  {
   "cell_type": "code",
   "execution_count": 5,
   "metadata": {},
   "outputs": [],
   "source": [
    "# Ingrese su código aquí 👻"
   ]
  },
  {
   "cell_type": "markdown",
   "metadata": {},
   "source": [
    "Para conocer todas las funciones que Python ofrece para trabajar con cadenas de texto se puede utilizar la función `dir`. "
   ]
  },
  {
   "cell_type": "code",
   "execution_count": null,
   "metadata": {},
   "outputs": [],
   "source": [
    "# Ingrese su código aquí 👻"
   ]
  },
  {
   "cell_type": "markdown",
   "metadata": {},
   "source": [
    "**Observación**\n",
    "\n",
    "Una función bastante útil es `len` la cual permite conocer el número de caracteres en una cadena de texto."
   ]
  },
  {
   "cell_type": "code",
   "execution_count": null,
   "metadata": {},
   "outputs": [],
   "source": [
    "# Ingrese su código aquí 👻"
   ]
  },
  {
   "cell_type": "markdown",
   "metadata": {},
   "source": [
    "----\n",
    "## Material adicional\n",
    "* [Creando *strings*](https://aprendepython.es/core/datatypes/strings/#creando-strings)"
   ]
  }
 ],
 "metadata": {
  "kernelspec": {
   "display_name": "Python 3.10.7 64-bit",
   "language": "python",
   "name": "python3"
  },
  "language_info": {
   "codemirror_mode": {
    "name": "ipython",
    "version": 3
   },
   "file_extension": ".py",
   "mimetype": "text/x-python",
   "name": "python",
   "nbconvert_exporter": "python",
   "pygments_lexer": "ipython3",
   "version": "3.11.8"
  },
  "orig_nbformat": 4,
  "vscode": {
   "interpreter": {
    "hash": "369f2c481f4da34e4445cda3fffd2e751bd1c4d706f27375911949ba6bb62e1c"
   }
  }
 },
 "nbformat": 4,
 "nbformat_minor": 2
}
