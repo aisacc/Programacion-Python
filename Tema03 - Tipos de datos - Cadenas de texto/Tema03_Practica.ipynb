{
 "cells": [
  {
   "cell_type": "markdown",
   "metadata": {},
   "source": [
    "# Tipos de datos: Cadenas de texto"
   ]
  },
  {
   "cell_type": "markdown",
   "metadata": {},
   "source": [
    "## Indexación\n",
    "### Ejercicio\n",
    "Escribe un programa que tome una cadena de texto y la imprima en orden inverso, es decir, desde el último carácter al primero.\n",
    "\n",
    "### Solución"
   ]
  },
  {
   "cell_type": "code",
   "execution_count": null,
   "metadata": {},
   "outputs": [],
   "source": [
    "# Ingrese su respuesta aquí :)"
   ]
  },
  {
   "cell_type": "markdown",
   "metadata": {},
   "source": [
    "## Funciones para trabajar con cadenas de texto\n",
    "### Ejercicio 1\n",
    "Crea un programa que tome una cadena de texto como entrada y la imprima en mayúsculas y luego en minúsculas.\n",
    "\n",
    "### Solución"
   ]
  },
  {
   "cell_type": "code",
   "execution_count": 1,
   "metadata": {},
   "outputs": [],
   "source": [
    "# Ingrese su respuesta aquí :)"
   ]
  },
  {
   "cell_type": "markdown",
   "metadata": {},
   "source": [
    "### Ejercicio 2\n",
    "Crea un programa que cuente la cantidad de de vocales que aparecen en una cadena de texto.\n",
    "\n",
    "### Solución"
   ]
  },
  {
   "cell_type": "code",
   "execution_count": null,
   "metadata": {},
   "outputs": [],
   "source": [
    "# Ingrese su respuesta aquí :)"
   ]
  },
  {
   "cell_type": "markdown",
   "metadata": {},
   "source": [
    "### Ejercicio 3\n",
    "El ejercicio anterior contaba el número de vocales de una cadena de texto. ¿También consideraba las vocales en mayúsculas o minúsculas? Es decir, contar todas las vocales sin importar si son mayúsculas o minúsculas. \n",
    "\n",
    "Mejora el código del ejercicio anterior para que sí considere vocales en mayúsculas y minúsculas.\n",
    "\n",
    "**Observación**\n",
    "\n",
    "Si deseas ser más detallista, también el programa debería contar las vocales con tilde.\n",
    "\n",
    "### Solución"
   ]
  },
  {
   "cell_type": "code",
   "execution_count": 4,
   "metadata": {},
   "outputs": [],
   "source": [
    "# Ingrese su respuesta aquí :)"
   ]
  },
  {
   "cell_type": "markdown",
   "metadata": {},
   "source": [
    "### Ejercicio 4\n",
    "Los dos ejercicios anteriores permiten determinar el número de vocales en una cadena de texto. Utilizando eso como base, ¿cómo se podría determinar el número de consonantes de una cadena de texto?\n",
    "\n",
    "Como recordatorio puedes utilizar la siguiente imagen.\n",
    "\n",
    "<figure style=\"text-align: center;\">\n",
    "  <div><strong>Fig. 1.</strong> Vocales y consonantes. </div>\n",
    "  <img src=\"markdown_resources/2.jpg\" style=\"width: 40%; height: auto;\">\n",
    "  <figcaption>Tomado de <A HREF=\"https://www.tinytap.com/activities/g4nqn/play/vocales-y-consonantes\"> TINY TAP</A>.</figcaption>\n",
    "</figure>\n",
    "\n",
    "**Observación**\n",
    "\n",
    "Para verificar tu resultado, cuenta manualmente el número de consonantes en tu cadena de texto y comprueba con el resultado de tu código.\n",
    "\n",
    "### Solución"
   ]
  },
  {
   "cell_type": "code",
   "execution_count": null,
   "metadata": {},
   "outputs": [],
   "source": [
    "# Ingrese su respuesta aquí :)"
   ]
  }
 ],
 "metadata": {
  "kernelspec": {
   "display_name": "Python 3.10.7 64-bit",
   "language": "python",
   "name": "python3"
  },
  "language_info": {
   "codemirror_mode": {
    "name": "ipython",
    "version": 3
   },
   "file_extension": ".py",
   "mimetype": "text/x-python",
   "name": "python",
   "nbconvert_exporter": "python",
   "pygments_lexer": "ipython3",
   "version": "3.11.8"
  },
  "orig_nbformat": 4,
  "vscode": {
   "interpreter": {
    "hash": "369f2c481f4da34e4445cda3fffd2e751bd1c4d706f27375911949ba6bb62e1c"
   }
  }
 },
 "nbformat": 4,
 "nbformat_minor": 2
}
