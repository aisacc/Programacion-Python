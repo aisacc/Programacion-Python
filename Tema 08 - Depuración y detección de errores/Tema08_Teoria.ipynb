{
 "cells": [
  {
   "cell_type": "markdown",
   "metadata": {},
   "source": [
    "# Depuración y detección de errores\n",
    "\n",
    "Hasta este punto se ha trabajo con código quizá no demasiado complicado o intrincado, pero ya en el trabajo diario es probable que los errores sean pan de cada día. Es por esta razón que analizar y depurar código es una habilidad que no puede pasar por alto.\n",
    "\n",
    "<figure style=\"text-align: center;\">\n",
    "  <div><strong>Fig. 1.</strong> Representación de la depuración.</div>\n",
    "  <img src=\"https://github.com/aisacc/Programacion-Python/blob/main/_Im%C3%A1genes/Tema%2008%20-%20Depuraci%C3%B3n%20y%20detecci%C3%B3n%20de%20errores/1.png?raw=true\" style=\"width: 60%; height: auto;\">\n",
    "  <figcaption>Tomado de <A HREF=\"https://devblogs.microsoft.com/visualstudio/tag/debugging/\"> Microsoft Devblogs</A>.</figcaption>\n",
    "</figure>"
   ]
  },
  {
   "cell_type": "markdown",
   "metadata": {},
   "source": [
    "## Depuración\n",
    "El depurador nos permite ejecutar y analizar línea a línea una serie de instrucciones para verificar si existen errores. En ocasiones, no necesariamente se utiliza el depurador para buscar errores (aunque es su principal función), si no que también es utilizado para explicar un procedimiento paso a paso, entendiendo cada línea del código.\n",
    "\n",
    "**Observación**\n",
    "\n",
    "Al trabajar con cuadernos de Jupyter se debe utilizar la terminal para analizar las variables que sean de interés. La terminal se activa con el comando **Ctrl + ñ**.\n",
    "\n",
    "Además, se debe establecer necesariamente un punto de interrupción donde inicie la depuración."
   ]
  },
  {
   "cell_type": "code",
   "execution_count": 2,
   "metadata": {},
   "outputs": [],
   "source": [
    "# Ingrese su código aquí 👻"
   ]
  },
  {
   "cell_type": "markdown",
   "metadata": {},
   "source": [
    "### No modificar el código durante la depuración\n",
    "Es una buena práctica evitar modificar el código mientras se está depurando. Los cambios que se realizan mientras se realiza la depuración no tienen efecto hasta que se finaliza la depuración del código y se vuelve a ejecutar."
   ]
  },
  {
   "cell_type": "code",
   "execution_count": 1,
   "metadata": {},
   "outputs": [],
   "source": [
    "# Ingrese su código aquí 👻"
   ]
  },
  {
   "cell_type": "markdown",
   "metadata": {},
   "source": [
    "### Puntos de interrupción (_breakpoint_)\n",
    "En muchas ocasiones no será factible ir línea por línea depurando el código. Quizá hayamos identificado un posible lugar donde el error se encuentra, entonces sería de utilidad ir directamente hasta esa línea y a partir de ahí depurar paso a paso.\n",
    "Así pues, los puntos de interrupción permiten realizar lo antes descrito: pausan la ejecución en la línea donde se encuentren, sin ejecutar esta última.\n",
    "\n",
    "<figure style=\"text-align: center;\">\n",
    "  <div><strong>Fig. 2.</strong> Puntos de interrupción.</div>\n",
    "  <img src=\"https://github.com/aisacc/Programacion-Python/blob/main/_Im%C3%A1genes/Tema%2008%20-%20Depuraci%C3%B3n%20y%20detecci%C3%B3n%20de%20errores/2.png?raw=true\" style=\"width: 80%; height: auto;\">\n",
    "  <figcaption>Tomado de <strong>Aprende Python</strong> de <em>Sergio Delgado Quintero</em>.</figcaption>\n",
    "</figure>"
   ]
  },
  {
   "cell_type": "code",
   "execution_count": null,
   "metadata": {},
   "outputs": [],
   "source": [
    "# Ingrese su código aquí 👻"
   ]
  },
  {
   "cell_type": "markdown",
   "metadata": {},
   "source": [
    "### Depurar utilizando atajos de teclado\n",
    "A pesar de que la depuración se la puede realizar utilizando los botones de la sección RUN, suele ser más habitual y rápido realizarla a través de los atajos de teclado de estos botones.\n",
    "\n",
    "<figure style=\"text-align: center;\">\n",
    "  <div><strong>Fig. 3.</strong> Atajos de teclado para la depuración.</div>\n",
    "  <img src=\"https://github.com/aisacc/Programacion-Python/blob/main/_Im%C3%A1genes/Tema%2008%20-%20Depuraci%C3%B3n%20y%20detecci%C3%B3n%20de%20errores/3.png?raw=true\" style=\"width: 60%; height: auto;\">\n",
    "  <figcaption>Tomado de <strong>Aprende Python</strong> de <em>Sergio Delgado Quintero</em>.</figcaption>\n",
    "</figure>"
   ]
  },
  {
   "cell_type": "code",
   "execution_count": null,
   "metadata": {},
   "outputs": [],
   "source": [
    "# Ingrese su código aquí 👻"
   ]
  },
  {
   "cell_type": "markdown",
   "metadata": {},
   "source": [
    "### Depurar dentro de funciones\n",
    "También es posible depurar dentro de funciones que hayamos creado previamente y estemos utilizando en el código que se está depurando.\n",
    "No obstante, dado que todavía no hemos estudiado funciones de este tipo, este punto se lo retomará más adelante."
   ]
  },
  {
   "cell_type": "markdown",
   "metadata": {},
   "source": [
    "----\n",
    "## Material adicional\n",
    "* [Depurando código](https://aprendepython.es/core/devenv/vscode/#depurando-codigo)\n",
    "* [Seguimiento de variables](https://aprendepython.es/core/devenv/vscode/#seguimiento-de-variables)"
   ]
  }
 ],
 "metadata": {
  "kernelspec": {
   "display_name": "Python 3.10.7 64-bit",
   "language": "python",
   "name": "python3"
  },
  "language_info": {
   "codemirror_mode": {
    "name": "ipython",
    "version": 3
   },
   "file_extension": ".py",
   "mimetype": "text/x-python",
   "name": "python",
   "nbconvert_exporter": "python",
   "pygments_lexer": "ipython3",
   "version": "3.11.8"
  },
  "orig_nbformat": 4,
  "vscode": {
   "interpreter": {
    "hash": "369f2c481f4da34e4445cda3fffd2e751bd1c4d706f27375911949ba6bb62e1c"
   }
  }
 },
 "nbformat": 4,
 "nbformat_minor": 2
}
