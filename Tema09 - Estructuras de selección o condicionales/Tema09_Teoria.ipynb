{
 "cells": [
  {
   "cell_type": "markdown",
   "metadata": {},
   "source": [
    "# Estructuras de control\n",
    "Las estructuras de control permiten tener mayor control sobre el flujo de trabajo.\n",
    "\n",
    "<figure style=\"text-align: center;\">\n",
    "  <div><strong>Fig. 1.</strong> Representación de la depuración.</div>\n",
    "  <img src=\"markdown_resources/1.jpg\" style=\"width: 70%; height: auto;\">\n",
    "  <figcaption>Tomado de <A HREF=\"https://disenowebakus.net/estructuras-control.php\"> akus.net</A>.</figcaption>\n",
    "</figure>\n",
    "\n",
    "Las estructuras mostradas en la figura se describen a continuación.\n",
    "* Las secuencias son una serie de instrucciones que se ejecutan unidireccionalmente, es decir, una tras otra de arriba hacia abajo.\n",
    "* Una estructura de selección, o condicional, permite ejecutar una serie de instrucciones si el criterio (o condición) es verdadero. Es decir, permite seleccionar un \"camino\" dependiendo de la condición.\n",
    "* Una estructura de repetición, bucle o iteración, hace que una serie de instrucciones se ejecute varias veces. El número de repeticiones puede ser en función de un contador o en función de una condición.\n",
    "\n",
    "**Observación**\n",
    "\n",
    "A diferencia de otros lenguajes de programación que utlizan llaves para delimitar estas estructuras, cuando Guido Van Rossum creó el lenguaje quiso evitar estos caracteres por considerarlos innecesarios. Por esta razón estas estructuras en Python se definen a través de espacios en blanco, *usualmente 4*, lo que se conoce como **indentación**."
   ]
  },
  {
   "cell_type": "markdown",
   "metadata": {},
   "source": [
    "# Estructuras de selección o condicionales\n",
    "\n",
    "Las estructuras de selección, o también conocidas como estructuras de decisión, permiten seleccionar en base a un criterio la serie de instrucciones a ejecutarse."
   ]
  },
  {
   "cell_type": "markdown",
   "metadata": {},
   "source": [
    "## Estructura `if`\n",
    "**Si la condición es verdadera**, se ejecutan las *instrucciones indentadas*.\n",
    "\n",
    "**Observación**\n",
    "\n",
    "Cuando recién se empieza a trabajar con estas estructuras se recomienda depurar para entender el código paso a paso."
   ]
  },
  {
   "cell_type": "code",
   "execution_count": null,
   "metadata": {},
   "outputs": [],
   "source": [
    "# Ingrese su código aquí 👻"
   ]
  },
  {
   "cell_type": "markdown",
   "metadata": {},
   "source": [
    "#### Ejemplo 1\n",
    "Solicitar por teclado la calificación de un estudiante entre 1 y 10, y desplegar por pantalla \"Aprobado\" si la calificación es igual o mayor que 7.\n",
    "\n",
    "#### Solución"
   ]
  },
  {
   "cell_type": "code",
   "execution_count": null,
   "metadata": {},
   "outputs": [],
   "source": [
    "# Ingrese su código aquí 👻"
   ]
  },
  {
   "cell_type": "markdown",
   "metadata": {},
   "source": [
    "#### Ejemplo 2 - Ingeniería civil\n",
    "En un proyecto de construcción, se utilizan vigas de acero con diferentes resistencias (en MPa). Escribe un programa en Python que, dado el valor de la resistencia de una viga, verifique si cumple con la resistencia mínima requerida de 250 MPa. Si la resistencia es igual o mayor a 250 MPa, el programa debe imprimir \"Viga apta para construcción.\"\n",
    "\n",
    "#### Solución"
   ]
  },
  {
   "cell_type": "code",
   "execution_count": null,
   "metadata": {},
   "outputs": [],
   "source": [
    "# Ingrese su código aquí 👻"
   ]
  },
  {
   "cell_type": "markdown",
   "metadata": {},
   "source": [
    "#### Ejemplo 3 - Ingeniería química\n",
    "En un reactor químico, la temperatura debe mantenerse por debajo de 100°C para evitar reacciones peligrosas. Escribe un programa en Python que, dado el valor de la temperatura actual del reactor, verifique si está dentro del límite seguro. Si la temperatura es menor a 100°C, el programa debe imprimir \"Temperatura dentro del rango seguro.\"\n",
    "\n",
    "#### Solución"
   ]
  },
  {
   "cell_type": "code",
   "execution_count": null,
   "metadata": {},
   "outputs": [],
   "source": [
    "# Ingrese su código aquí 👻"
   ]
  },
  {
   "cell_type": "markdown",
   "metadata": {},
   "source": [
    "## Estructura `if-else`\n",
    "**Si la condición es verdadera**, se ejecutan las *instrucciones indentandas* antes del `else`, **caso contrario** se ejecutan las *instrucciones indentadas* luego del `else`."
   ]
  },
  {
   "cell_type": "code",
   "execution_count": null,
   "metadata": {},
   "outputs": [],
   "source": [
    "# Ingrese su código aquí 👻"
   ]
  },
  {
   "cell_type": "markdown",
   "metadata": {},
   "source": [
    "#### Ejemplo 1\n",
    "Solicitar por teclado la calificación de un estudiante entre 1 y 10, y desplegar por pantalla \"Aprobado\" si la calificación es igual o mayor que 7, caso contrario desplegar \"Reprobado\".\n",
    "\n",
    "#### Solución"
   ]
  },
  {
   "cell_type": "code",
   "execution_count": null,
   "metadata": {},
   "outputs": [],
   "source": [
    "# Ingrese su código aquí 👻"
   ]
  },
  {
   "cell_type": "markdown",
   "metadata": {},
   "source": [
    "#### Ejemplo 2 - Ingeniería eléctrica\n",
    "En un circuito eléctrico, la corriente debe mantenerse por debajo de 15 amperios para evitar sobrecargas. Escribe un programa en Python que, dado el valor de la corriente en amperios, verifique si está dentro del límite permitido. Si la corriente es menor o igual a 15 amperios, el programa debe imprimir \"Corriente dentro del límite permitido.\" De lo contrario, debe imprimir \"Advertencia: sobrecarga en el circuito.\"\n",
    "\n",
    "#### Solución"
   ]
  },
  {
   "cell_type": "code",
   "execution_count": null,
   "metadata": {},
   "outputs": [],
   "source": [
    "# Ingrese su código aquí 👻"
   ]
  },
  {
   "cell_type": "markdown",
   "metadata": {},
   "source": [
    "#### Ejemplo 3 - Ingeniería mecánica\n",
    "Un motor debe operar a una velocidad entre 1000 y 5000 revoluciones por minuto (RPM). Escribe un programa en Python que, dado el valor de la velocidad en RPM, verifique si está dentro del rango operativo. Si la velocidad está dentro del rango, el programa debe imprimir \"Velocidad dentro del rango operativo.\" Si no, debe imprimir \"Advertencia: velocidad fuera de rango.\"\n",
    "\n",
    "#### Solución"
   ]
  },
  {
   "cell_type": "code",
   "execution_count": null,
   "metadata": {},
   "outputs": [],
   "source": [
    "# Ingrese su código aquí 👻"
   ]
  },
  {
   "cell_type": "markdown",
   "metadata": {},
   "source": [
    "## Estructura `if-elif-else`\n",
    "Con la palabra reservada `elif` es posible crear más de un \"camino\" a seguir. En cuanto una condición sea verdadera, las respectivas instrucciones serán ejecutadas. Si ninguna condición es verdadera y existe un `else`, entonces sus respectivas instrucciones serán ejecutadas."
   ]
  },
  {
   "cell_type": "code",
   "execution_count": null,
   "metadata": {},
   "outputs": [],
   "source": [
    "# Ingrese su código aquí 👻"
   ]
  },
  {
   "cell_type": "markdown",
   "metadata": {},
   "source": [
    "#### Ejemplo 1\n",
    "Solicitar por teclado la calificación de un estudiante entre 1 y 10, y desplegar por pantalla \"Aprobado\" si la calificación es igual o mayor que 7, \"Supletorio\" si la calificación es mayor o igual que 5 y menor que 7, y \"Reprobado\" si la calificación es menor que 5.\n",
    "\n",
    "#### Solución"
   ]
  },
  {
   "cell_type": "code",
   "execution_count": null,
   "metadata": {},
   "outputs": [],
   "source": [
    "# Ingrese su código aquí 👻"
   ]
  },
  {
   "cell_type": "markdown",
   "metadata": {},
   "source": [
    "#### Ejemplo 2 - Ingeniería civil\n",
    "En un proyecto de construcción, los suelos pueden clasificarse en tres tipos según su resistencia al corte: suelos blandos (resistencia < 100 kPa), suelos medianamente duros (100 kPa ≤ resistencia < 200 kPa) y suelos duros (resistencia ≥ 200 kPa). Escribe un programa en Python que, dado el valor de la resistencia del suelo en kPa, determine su clasificación. El programa debe imprimir \"Suelo blando,\" \"Suelo medianamente duro,\" o \"Suelo duro\" según corresponda.\n",
    "\n",
    "#### Solución"
   ]
  },
  {
   "cell_type": "code",
   "execution_count": null,
   "metadata": {},
   "outputs": [],
   "source": [
    "# Ingrese su código aquí 👻"
   ]
  },
  {
   "cell_type": "markdown",
   "metadata": {},
   "source": [
    "#### Ejemplo 3 - Ingeniería química\n",
    "El pH de una solución indica si es ácida, neutra o básica. Escribe un programa en Python que, dado el valor del pH, determine la naturaleza de la solución. Si el pH es menor que 7, el programa debe imprimir \"Solución ácida.\" Si el pH es igual a 7, debe imprimir \"Solución neutra.\" Si el pH es mayor que 7, debe imprimir \"Solución básica.\"\n",
    "\n",
    "#### Solución"
   ]
  },
  {
   "cell_type": "code",
   "execution_count": null,
   "metadata": {},
   "outputs": [],
   "source": [
    "# Ingrese su código aquí 👻"
   ]
  },
  {
   "cell_type": "markdown",
   "metadata": {},
   "source": [
    "## Estructura `if` con condiciones complejas\n",
    "Recordando la estructura `if` siemple, se observa que esta estructura únicamente requiere de una condición, indistintamente de su complejidad. Por lo tanto, a través de operaciones lógicos se pueden unir varias condiciones para generar una condición más grande. Por supuesto que esto es válido para cualquiera de las estructuras if estudiadas."
   ]
  },
  {
   "cell_type": "code",
   "execution_count": null,
   "metadata": {},
   "outputs": [],
   "source": [
    "# Ingrese su código aquí 👻"
   ]
  },
  {
   "cell_type": "markdown",
   "metadata": {},
   "source": [
    "#### Ejemplo 1\n",
    "Dado un año, determinar si es bisiesto.\n",
    "\n",
    "**Pista:** Un año bisiesto es bisiesto si es divisible para 4, pero no para 100. Y si es divisible para 100, también debe serlo para 400.\n",
    "\n",
    "#### Solución"
   ]
  },
  {
   "cell_type": "code",
   "execution_count": null,
   "metadata": {},
   "outputs": [],
   "source": [
    "# Ingrese su código aquí 👻"
   ]
  },
  {
   "cell_type": "markdown",
   "metadata": {},
   "source": [
    "#### Ejemplo 2 - Ingeniería eléctrica\n",
    "En un sistema eléctrico, la tensión y la corriente deben cumplir ciertas condiciones para asegurar un funcionamiento seguro. La tensión debe estar entre 220V y 240V, y la corriente debe ser menor a 15A. Escribe un programa en Python que, dados los valores de tensión y corriente, verifique si ambos están dentro de los límites seguros. Si ambas condiciones se cumplen, el programa debe imprimir \"Sistema seguro.\" Si alguna condición no se cumple, debe imprimir \"Advertencia: parámetros fuera de rango.\"\n",
    "\n",
    "#### Solución"
   ]
  },
  {
   "cell_type": "code",
   "execution_count": null,
   "metadata": {},
   "outputs": [],
   "source": [
    "# Ingrese su código aquí 👻"
   ]
  },
  {
   "cell_type": "markdown",
   "metadata": {},
   "source": [
    "#### Ejemplo 3 - Ingeniería ambiental\n",
    "En una planta industrial, las emisiones de CO2 deben mantenerse bajo control. Las emisiones se consideran aceptables si están por debajo de 50 ppm o si la planta está utilizando un sistema de filtrado especial. Escribe un programa en Python que, dado el valor de las emisiones en ppm y un indicador de si el sistema de filtrado está en uso (`True` o `False`), determine si las emisiones son aceptables. Si las emisiones son aceptables, el programa debe imprimir \"Emisiones dentro de los límites.\" De lo contrario, debe imprimir \"Advertencia: emisiones elevadas.\"\n",
    "\n",
    "#### Solución"
   ]
  },
  {
   "cell_type": "code",
   "execution_count": null,
   "metadata": {},
   "outputs": [],
   "source": [
    "# Ingrese su código aquí 👻"
   ]
  },
  {
   "cell_type": "markdown",
   "metadata": {},
   "source": [
    "## Estructuras `if` anidadas\n",
    "En ocasiones serán necesarias estructuras `if` dentro de otras estructuras `if`. A esto se le conoce como **anidación**."
   ]
  },
  {
   "cell_type": "code",
   "execution_count": null,
   "metadata": {},
   "outputs": [],
   "source": [
    "# Ingrese su código aquí 👻"
   ]
  },
  {
   "cell_type": "markdown",
   "metadata": {},
   "source": [
    "#### Ejemplo 1\n",
    "Solicitar al usuario el su salario mensual y el número de días laborados. Si el salario mensual es al menos el mínimo, $450.00 USD, se debe aplicar lo siguiente, sino no.\n",
    "* Si el número de días laborados es menor a 20, descontar $20.00 USD al salario mensual por cada día no laborado.\n",
    "* Si el número de días laborados es mayor a 20, agregar $10.00 USD al salario mensual por cada día extra.\n",
    "* Si el número de días laborados es exactamente 20 no se agrega ni descuenta nada.\n",
    "\n",
    "Al final mostrar por pantalla el salario mensual final del usuario.\n",
    "\n",
    "**Observación**\n",
    "\n",
    "Si el salario mensual del usuario es menor al mínimo, entonces su salario mensual es el final directamente.\n",
    "\n",
    "#### Solución"
   ]
  },
  {
   "cell_type": "code",
   "execution_count": null,
   "metadata": {},
   "outputs": [],
   "source": [
    "# Ingrese su código aquí 👻"
   ]
  },
  {
   "cell_type": "markdown",
   "metadata": {},
   "source": [
    "#### Ejemplo 2 - Ingeniería química\n",
    "En un proceso de destilación se mide la pureza de un producto químico (en porcentaje) y su temperatura de ebullición (en grados Celsius). Si la pureza es mayor o igual a 98%, el producto se considera de alta calidad. Si la pureza está entre 90% y 98%, se considera de calidad media. Si la pureza es menor que 90%, el producto se considera de baja calidad. Sin embargo, si la temperatura de ebullición es mayor a 110°C, y la pureza es de alta calidad, se debe realizar un ajuste en el proceso, ya que esto indica una posible contaminación. Escribe un programa en Python que determine la calidad del producto y si se requiere un ajuste en el proceso.\n",
    "\n",
    "#### Solución"
   ]
  },
  {
   "cell_type": "code",
   "execution_count": null,
   "metadata": {},
   "outputs": [],
   "source": [
    "# Ingrese su código aquí 👻"
   ]
  },
  {
   "cell_type": "markdown",
   "metadata": {},
   "source": [
    "## Operador morsa\n",
    "A partir de Python 3.8 se incorpora el operador morsa que permite unificar sentencias de asignación dentro de expresiones. Su nombre proviene de la forma que adquiere `:=`."
   ]
  },
  {
   "cell_type": "code",
   "execution_count": null,
   "metadata": {},
   "outputs": [],
   "source": [
    "# Ingrese su código aquí 👻"
   ]
  },
  {
   "cell_type": "markdown",
   "metadata": {},
   "source": [
    "**Observación**\n",
    "\n",
    "En función de lo analizado anteriormente, el operador morsa permite realizar asignaciones dentro de expresiones, lo que, en muchas ocasiones, permite obtener un código más compacto. Sería conveniente encontrar un equilibrio entre la expresividad y la legibilidad."
   ]
  },
  {
   "cell_type": "markdown",
   "metadata": {},
   "source": [
    "#### Ejemplo 1 - Ingeniería química\n",
    "En un proceso químico se mide la concentración de un reactivo en una solución. Si la concentración es mayor o igual a 0.8 mol/L, la reacción es eficiente y puede continuar. Si la concentración está entre 0.5 mol/L y 0.8 mol/L, se requiere un ajuste en la temperatura. Si la concentración es menor a 0.5 mol/L, la reacción debe detenerse. Escribe un programa en Python que determine el estado de la reacción utilizando el operador morsa para evitar cálculos repetidos de la concentración.\n",
    "\n",
    "#### Solución"
   ]
  },
  {
   "cell_type": "code",
   "execution_count": null,
   "metadata": {},
   "outputs": [],
   "source": [
    "# Ingrese su código aquí 👻"
   ]
  },
  {
   "cell_type": "markdown",
   "metadata": {},
   "source": [
    "#### Ejemplo 2 - Ingeniería ambiental\n",
    "En un proyecto de ingeniería ambiental se mide la concentración de CO2 en una fábrica. Si la concentración de CO2 es menor o igual a 400 ppm, la calidad del aire es buena. Si la concentración está entre 400 ppm y 1000 ppm, es aceptable pero requiere monitoreo frecuente. Si la concentración supera los 1000 ppm, se considera peligrosa y se deben tomar medidas inmediatas. Escribe un programa en Python que determine el estado de la calidad del aire utilizando el operador morsa.\n",
    "\n",
    "#### Solución"
   ]
  },
  {
   "cell_type": "code",
   "execution_count": null,
   "metadata": {},
   "outputs": [],
   "source": [
    "# Ingrese su código aquí 👻"
   ]
  },
  {
   "cell_type": "markdown",
   "metadata": {},
   "source": [
    "## Estructura `math-case`\n",
    "Una de las novedades más esperadas (y quizás controvertidas) de Python 3.10 fue el llamado *Structural Pattern Matching* que introdujo en el lenguaje una nueva sentencia condicional. Ésta se podría asemejar a la sentencia «switch» que ya existe en otros lenguajes de programación.\n",
    "\n",
    "Para entenderlo veámoslo con un ejemplo."
   ]
  },
  {
   "cell_type": "markdown",
   "metadata": {},
   "source": [
    "**Observación**\n",
    "\n",
    "La estructura, o sentencia, `match-case` es mucho más poderosa de lo que se mostrará a continuación. Sin embargo, su estudio depende del nivel de uso que cada programador desee darle. Por esta razón se adjunta en el **Material adicional** información para profundizar en su estudio."
   ]
  },
  {
   "cell_type": "markdown",
   "metadata": {},
   "source": [
    "#### Ejemplo 1\n",
    "Solicitar por teclado el total a pagar de un cliente de un supermercado. Luego solicitar que seleccione un tipo de descuento y devolver por pantalla el total a pagar aplicado el descuento, indicando el total a pagar inicial (subtotal), el descuento aplicado y el total a pagar aplicado el descuento.\n",
    "\n",
    "Los descuentos aplicables son:\n",
    "* Descuento cliente nuevo: 10%\n",
    "* Descuento cliente frecuente: 6.67%\n",
    "* Descuento cliente mayor de edad: 7.5%\n",
    "\n",
    "#### Solución"
   ]
  },
  {
   "cell_type": "code",
   "execution_count": null,
   "metadata": {},
   "outputs": [],
   "source": [
    "# Ingrese su código aquí 👻"
   ]
  },
  {
   "cell_type": "markdown",
   "metadata": {},
   "source": [
    "#### Ejemplo 2 - Ingeniería civil\n",
    "Durante un estudio de suelos en un proyecto de ingeniería civil es esencial clasificar correctamente el tipo de suelo encontrado en el sitio de construcción, ya que cada tipo tiene propiedades diferentes que afectan la estabilidad y diseño de las estructuras. Los suelos se clasifican generalmente como arena, arcilla, limo o grava, dependiendo de su composición y características físicas. Escribe un programa en Python que reciba como entrada el nombre del tipo de suelo y utilice la sentencia `match-case` para determinar su clasificación. Si el tipo de suelo no está en la lista, el programa debe indicar que no está registrado.\n",
    "\n",
    "#### Solución"
   ]
  },
  {
   "cell_type": "code",
   "execution_count": null,
   "metadata": {},
   "outputs": [],
   "source": [
    "# Ingrese su código aquí 👻"
   ]
  },
  {
   "cell_type": "markdown",
   "metadata": {},
   "source": [
    "#### Ejemplo 3 - Ingeniería ambiental\n",
    "En un proyecto de ingeniería ambiental se monitorean los niveles de contaminación del agua en diferentes cuerpos de agua para evaluar su calidad. Los niveles de contaminación se clasifican en cuatro categorías: bajo, moderado, alto y crítico. Dependiendo del nivel de contaminación, se toman diferentes acciones, desde monitoreo hasta intervenciones urgentes. Escribe un programa en Python que reciba como entrada la descripción del nivel de contaminación y utilice la sentencia match-case para determinar la calidad del agua y las acciones recomendadas. Si la descripción no corresponde a ninguno de los niveles conocidos, el programa debe indicar que no está reconocido.\n",
    "\n",
    "#### Solución"
   ]
  },
  {
   "cell_type": "code",
   "execution_count": null,
   "metadata": {},
   "outputs": [],
   "source": [
    "# Ingrese su código aquí 👻"
   ]
  },
  {
   "cell_type": "markdown",
   "metadata": {},
   "source": [
    "----\n",
    "## Material adicional\n",
    "* [Sentencia `if`](https://aprendepython.es/core/controlflow/conditionals/#la-sentencia-if)\n",
    "* [Sentencia `match-case`](https://aprendepython.es/core/controlflow/conditionals/#sentencia-match-case)"
   ]
  }
 ],
 "metadata": {
  "kernelspec": {
   "display_name": "Python 3.10.7 64-bit",
   "language": "python",
   "name": "python3"
  },
  "language_info": {
   "codemirror_mode": {
    "name": "ipython",
    "version": 3
   },
   "file_extension": ".py",
   "mimetype": "text/x-python",
   "name": "python",
   "nbconvert_exporter": "python",
   "pygments_lexer": "ipython3",
   "version": "3.12.4"
  },
  "orig_nbformat": 4,
  "vscode": {
   "interpreter": {
    "hash": "369f2c481f4da34e4445cda3fffd2e751bd1c4d706f27375911949ba6bb62e1c"
   }
  }
 },
 "nbformat": 4,
 "nbformat_minor": 2
}
