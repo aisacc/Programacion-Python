{
 "cells": [
  {
   "cell_type": "markdown",
   "metadata": {},
   "source": [
    "# Estructuras de control\n",
    "Las estructuras de control permiten tener mayor control sobre el flujo de trabajo.\n",
    "\n",
    "<figure style=\"text-align: center;\">\n",
    "  <div><strong>Fig. 1.</strong> Representación de la depuración.</div>\n",
    "  <img src=\"markdown_resources/1.jpg\" style=\"width: 70%; height: auto;\">\n",
    "  <figcaption>Tomado de <A HREF=\"https://disenowebakus.net/estructuras-control.php\"> akus.net</A>.</figcaption>\n",
    "</figure>\n",
    "\n",
    "Las estructuras mostradas en la figura se describen a continuación.\n",
    "* Las secuencias son una serie de instrucciones que se ejecutan unidireccionalmente, es decir, una tras otra de arriba hacia abajo.\n",
    "* Una estructura de selección, o condicional, permite ejecutar una serie de instrucciones si el criterio (o condición) es verdadero. Es decir, permite seleccionar un \"camino\" dependiendo de la condición.\n",
    "* Una estructura de repetición, bucle o iteración, hace que una serie de instrucciones se ejecute varias veces. El número de repeticiones puede ser en función de un contador o en función de una condición.\n",
    "\n",
    "**Observación**\n",
    "\n",
    "A diferencia de otros lenguajes de programación que utlizan llaves para delimitar estas estructuras, cuando Guido Van Rossum creó el lenguaje quiso evitar estos caracteres por considerarlos innecesarios. Por esta razón estas estructuras en Python se definen a través de espacios en blanco, *usualmente 4*, lo que se conoce como **indentación**."
   ]
  },
  {
   "cell_type": "markdown",
   "metadata": {},
   "source": [
    "# Estructuras de selección o condicionales\n",
    "\n",
    "Las estructuras de selección, o también conocidas como estructuras de decisión, permiten seleccionar en base a un criterio la serie de instrucciones a ejecutarse."
   ]
  },
  {
   "cell_type": "markdown",
   "metadata": {},
   "source": [
    "## Estructura `if`\n",
    "**Si la condición es verdadera**, se ejecutan las *instrucciones indentadas*.\n",
    "\n",
    "**Observación**\n",
    "\n",
    "Cuando recién se empieza a trabajar con estas estructuras se recomienda depurar para entender el código paso a paso."
   ]
  },
  {
   "cell_type": "code",
   "execution_count": null,
   "metadata": {},
   "outputs": [],
   "source": [
    "# Ingrese su código aquí 👻"
   ]
  },
  {
   "cell_type": "markdown",
   "metadata": {},
   "source": [
    "### Ejercicio\n",
    "Solicitar por teclado la calificación de un estudiante entre 1 y 10, y desplegar por pantalla \"Aprobado\" si la calificación es igual o mayor que 7.\n",
    "\n",
    "### Solución"
   ]
  },
  {
   "cell_type": "code",
   "execution_count": null,
   "metadata": {},
   "outputs": [],
   "source": [
    "# Ingrese su código aquí 👻"
   ]
  },
  {
   "cell_type": "markdown",
   "metadata": {},
   "source": [
    "## Estructura `if-else`\n",
    "**Si la condición es verdadera**, se ejecutan las *instrucciones indentandas* antes del `else`, **caso contrario** se ejecutan las *instrucciones indentadas* luego del `else`."
   ]
  },
  {
   "cell_type": "code",
   "execution_count": null,
   "metadata": {},
   "outputs": [],
   "source": [
    "# Ingrese su código aquí 👻"
   ]
  },
  {
   "cell_type": "markdown",
   "metadata": {},
   "source": [
    "### Ejercicio\n",
    "Solicitar por teclado la calificación de un estudiante entre 1 y 10, y desplegar por pantalla \"Aprobado\" si la calificación es igual o mayor que 7, caso contrario desplegar \"Reprobado\".\n",
    "\n",
    "### Solución"
   ]
  },
  {
   "cell_type": "code",
   "execution_count": null,
   "metadata": {},
   "outputs": [],
   "source": [
    "# Ingrese su código aquí 👻"
   ]
  },
  {
   "cell_type": "markdown",
   "metadata": {},
   "source": [
    "## Estructura `if-elif-else`\n",
    "Con la palabra reservada `elif` es posible crear más de un \"camino\" a seguir. En cuanto una condición sea verdadera, las respectivas instrucciones serán ejecutadas. Si ninguna condición es verdadera y existe un `else`, entonces sus respectivas instrucciones serán ejecutadas."
   ]
  },
  {
   "cell_type": "code",
   "execution_count": null,
   "metadata": {},
   "outputs": [],
   "source": [
    "# Ingrese su código aquí 👻"
   ]
  },
  {
   "cell_type": "markdown",
   "metadata": {},
   "source": [
    "### Ejercicio\n",
    "Solicitar por teclado la calificación de un estudiante entre 1 y 10, y desplegar por pantalla \"Aprobado\" si la calificación es igual o mayor que 7, \"Supletorio\" si la calificación es mayor o igual que 5 y menor que 7, y \"Reprobado\" si la calificación es menor que 5.\n",
    "\n",
    "### Solución"
   ]
  },
  {
   "cell_type": "code",
   "execution_count": null,
   "metadata": {},
   "outputs": [],
   "source": [
    "# Ingrese su código aquí 👻"
   ]
  },
  {
   "cell_type": "markdown",
   "metadata": {},
   "source": [
    "## Estructura `if` con condiciones complejas\n",
    "Recordando la estructura `if` siemple, se observa que esta estructura únicamente requiere de una condición, indistintamente de su complejidad. Por lo tanto, a través de operaciones lógicos se pueden unir varias condiciones para generar una condición más grande. Por supuesto que esto es válido para cualquiera de las estructuras if estudiadas."
   ]
  },
  {
   "cell_type": "code",
   "execution_count": null,
   "metadata": {},
   "outputs": [],
   "source": [
    "# Ingrese su código aquí 👻"
   ]
  },
  {
   "cell_type": "markdown",
   "metadata": {},
   "source": [
    "### Ejercicio\n",
    "Dado un año, determinar si es bisiesto.\n",
    "\n",
    "**Pista:** Un año bisiesto es bisiesto si es divisible para 4, pero no para 100. Y si es divisible para 100, también debe serlo para 400.\n",
    "\n",
    "### Solución"
   ]
  },
  {
   "cell_type": "code",
   "execution_count": null,
   "metadata": {},
   "outputs": [],
   "source": [
    "# Ingrese su código aquí 👻"
   ]
  },
  {
   "cell_type": "markdown",
   "metadata": {},
   "source": [
    "## Estructuras `if` anidadas\n",
    "En ocasiones serán necesarias estructuras `if` dentro de otras estructuras `if`. A esto se le conoce como **anidación**."
   ]
  },
  {
   "cell_type": "code",
   "execution_count": null,
   "metadata": {},
   "outputs": [],
   "source": [
    "# Ingrese su código aquí 👻"
   ]
  },
  {
   "cell_type": "markdown",
   "metadata": {},
   "source": [
    "### Ejercicio\n",
    "Solicitar al usuario el su salario mensual y el número de días laborados. Si el salario mensual es al menos el mínimo, $450.00 USD, se debe aplicar lo siguiente, sino no.\n",
    "* Si el número de días laborados es menor a 20, descontar $20.00 USD al salario mensual por cada día no laborado.\n",
    "* Si el número de días laborados es mayor a 20, agregar $10.00 USD al salario mensual por cada día extra.\n",
    "* Si el número de días laborados es exactamente 20 no se agrega ni descuenta nada.\n",
    "\n",
    "Al final mostrar por pantalla el salario mensual final del usuario.\n",
    "\n",
    "**Observación**\n",
    "\n",
    "Si el salario mensual del usuario es menor al mínimo, entonces su salario mensual es el final directamente.\n",
    "\n",
    "### Solución"
   ]
  },
  {
   "cell_type": "code",
   "execution_count": 1,
   "metadata": {},
   "outputs": [],
   "source": [
    "# Ingrese su código aquí 👻"
   ]
  },
  {
   "cell_type": "markdown",
   "metadata": {},
   "source": [
    "## Operador morsa\n",
    "A partir de Python 3.8 se incorpora el operador morsa que permite unificar sentencias de asignación dentro de expresiones. Su nombre proviene de la forma que adquiere `:=`."
   ]
  },
  {
   "cell_type": "code",
   "execution_count": null,
   "metadata": {},
   "outputs": [],
   "source": [
    "# Ingrese su código aquí 👻"
   ]
  },
  {
   "cell_type": "markdown",
   "metadata": {},
   "source": [
    "**Observación**\n",
    "\n",
    "En función de lo analizado anteriormente, el operador morsa permite realizar asignaciones dentro de expresiones, lo que, en muchas ocasiones, permite obtener un código más compacto. Sería conveniente encontrar un equilibrio entre la expresividad y la legibilidad."
   ]
  },
  {
   "cell_type": "markdown",
   "metadata": {},
   "source": [
    "## Estructura `math-case-otherwise`\n",
    "Una de las novedades más esperadas (y quizás controvertidas) de Python 3.10 fue el llamado *Structural Pattern Matching* que introdujo en el lenguaje una nueva sentencia condicional. Ésta se podría asemejar a la sentencia «switch» que ya existe en otros lenguajes de programación.\n",
    "\n",
    "Para entenderlo veámoslo con un ejemplo."
   ]
  },
  {
   "cell_type": "markdown",
   "metadata": {},
   "source": [
    "### Ejemplo\n",
    "Solicitar por teclado el total a pagar de un cliente de un supermercado. Luego solicitar que seleccione un tipo de descuento y devolver por pantalla el total a pagar aplicado el descuento, indicando el total a pagar inicial (subtotal), el descuento aplicado y el total a pagar aplicado el descuento.\n",
    "\n",
    "Los descuentos aplicables son:\n",
    "* Descuento cliente nuevo: 10%\n",
    "* Descuento cliente frecuente: 6.67%\n",
    "* Descuento cliente mayor de edad: 7.5%\n",
    "\n",
    "### Solución"
   ]
  },
  {
   "cell_type": "code",
   "execution_count": null,
   "metadata": {},
   "outputs": [],
   "source": [
    "# Ingrese su código aquí 👻"
   ]
  },
  {
   "cell_type": "markdown",
   "metadata": {},
   "source": [
    "**Observación**\n",
    "\n",
    "La estructura, o sentencia, `match-case` es mucho más poderosa de lo mostrado anteriormente. Sin embargo, su estudio depende del nivel de uso que cada programador desee darle. Por esta razón se adjunta en el **Material adicional** información para profundizar en su estudio."
   ]
  },
  {
   "cell_type": "markdown",
   "metadata": {},
   "source": [
    "----\n",
    "## Material adicional\n",
    "* [Sentencia `if`](https://aprendepython.es/core/controlflow/conditionals/#la-sentencia-if)\n",
    "* [Sentencia `match-case`](https://aprendepython.es/core/controlflow/conditionals/#sentencia-match-case)"
   ]
  }
 ],
 "metadata": {
  "kernelspec": {
   "display_name": "Python 3.10.7 64-bit",
   "language": "python",
   "name": "python3"
  },
  "language_info": {
   "codemirror_mode": {
    "name": "ipython",
    "version": 3
   },
   "file_extension": ".py",
   "mimetype": "text/x-python",
   "name": "python",
   "nbconvert_exporter": "python",
   "pygments_lexer": "ipython3",
   "version": "3.11.8"
  },
  "orig_nbformat": 4,
  "vscode": {
   "interpreter": {
    "hash": "369f2c481f4da34e4445cda3fffd2e751bd1c4d706f27375911949ba6bb62e1c"
   }
  }
 },
 "nbformat": 4,
 "nbformat_minor": 2
}
