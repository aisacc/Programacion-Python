{
 "cells": [
  {
   "cell_type": "markdown",
   "metadata": {},
   "source": [
    "# Funciones lambda"
   ]
  },
  {
   "cell_type": "markdown",
   "metadata": {},
   "source": [
    "## Crear funciones lambda\n",
    "\n",
    "Una función lambda, o función anónimo en términos generales, se define por lo siguiente:\n",
    "\n",
    "1. Se escribe en una única línea de código.\n",
    "2. Su cuerpo lleva un `return` implícito.\n",
    "3. Puede recibir cualquier número de parámetros.\n",
    "4. No tiene nombre. Entonces se almacena directamente en una variable.\n",
    "\n",
    "Con la siguiente imagen se realiza una comparación entre la definición tradicional de una función y la definición lambda.\n",
    "\n",
    "<figure style=\"text-align: center;\">\n",
    "  <div><strong>Fig. 1.</strong> Definición tradicional VS. Definición lambda. </div>\n",
    "  <img src=\"markdown_resources/1.png\" style=\"width: 60%; height: auto;\">\n",
    "  <figcaption>Tomado de <strong>Aprende Python</strong> de <em>Sergio Delgado Quintero</em>.</figcaption>\n",
    "</figure>"
   ]
  },
  {
   "cell_type": "code",
   "execution_count": 1,
   "metadata": {},
   "outputs": [],
   "source": [
    "# Ingrese su código aquí 👻"
   ]
  },
  {
   "cell_type": "markdown",
   "metadata": {},
   "source": [
    "## Aplicación de las funciones lambda\n",
    "\n",
    "Las funciones lambda tienen varias ventajas y desventajas según el caso de aplicación, pero para aplicaciones ingenieriles suelen ser bastante útiles como se estudiará a continuación."
   ]
  },
  {
   "cell_type": "code",
   "execution_count": 2,
   "metadata": {},
   "outputs": [],
   "source": [
    "# pip install scipy"
   ]
  },
  {
   "cell_type": "markdown",
   "metadata": {},
   "source": [
    "### Análisis numérico\n",
    "\n",
    "Una de las aplicaciones de las funciones anónimas se da en el campo del análisis numérico (también llamado métodos numéricos), especialmente para la determinación de raíces de ecuaciones no lineales."
   ]
  },
  {
   "cell_type": "markdown",
   "metadata": {},
   "source": [
    "### Ejercicio 1\n",
    "\n",
    "Determinar la raíz de la función $f(x) = e^x - x^3$ con $x_0 = 1.5$.\n",
    "\n",
    "**Recomendación:** Utilice la función `root` del módulo `optimize` de la librería `scipy`. Sería ideal consultar su documentación.\n",
    "\n",
    "### Solución"
   ]
  },
  {
   "cell_type": "code",
   "execution_count": null,
   "metadata": {},
   "outputs": [],
   "source": [
    "# Ingrese su código aquí 👻"
   ]
  },
  {
   "cell_type": "markdown",
   "metadata": {},
   "source": [
    "### Ejercicio 2\n",
    "\n",
    "La velocidad $v$ de un paracaidista que cae está dada por $$v = \\frac{gm}{c} (1 - e^{-(c/m)t})$$ donde $g = 9.8\\ \\text{m/s}^2$. Para un paracaidista con coeficiente de arrastre de $c = 15\\ \\text{kg/s}$, calcule la masa $m$ de modo que la velocidad sea $v = 35\\ \\text{m/s}$ en $t = 9\\ \\text{s}$.\n",
    "\n",
    "*Ejercicio modificado de Chapra & Canale, 2007.*\n",
    "\n",
    "### Solución"
   ]
  },
  {
   "cell_type": "code",
   "execution_count": null,
   "metadata": {},
   "outputs": [],
   "source": [
    "# Ingrese su código aquí 👻"
   ]
  },
  {
   "cell_type": "markdown",
   "metadata": {},
   "source": [
    "### Ecuaciones diferenciales ordinarias\n",
    "\n",
    "Otra aplicación interesante es la solución numérica de ecuaciones diferenciales ordinarias. A pesar que este tópico también forma parte del análisis numérico, también se estudia en este campo de las ecuaciones diferenciales."
   ]
  },
  {
   "cell_type": "markdown",
   "metadata": {},
   "source": [
    "### Ejercicio\n",
    "\n",
    "Al sacar un pastel del horno, su temperatura es 300 ºF. ¿Cuánto tiempo le tomará al pastel enfriarse hasta la temperatura ambiente de 70 ºF?\n",
    "\n",
    "La ecuación diferencial que modela esta situación es: $$\\frac{dT}{dt} = k(T - T_m)$$\n",
    "\n",
    "**Recomendación:** Utilice la función `solve_ivp` del módulo `integrate` de la librería `scipy`. Sería ideal consultar su documentación.\n",
    "\n",
    "*Ejercicio modificado de Zill, 2009.*\n",
    "\n",
    "### Solución"
   ]
  },
  {
   "cell_type": "markdown",
   "metadata": {},
   "source": [
    "----\n",
    "## Material adicional\n",
    "* [Funciones anónimas \"lambda\"](https://aprendepython.es/core/modularity/functions/#funciones-anonimas-lambda)"
   ]
  }
 ],
 "metadata": {
  "kernelspec": {
   "display_name": "Python 3.10.7 64-bit",
   "language": "python",
   "name": "python3"
  },
  "language_info": {
   "codemirror_mode": {
    "name": "ipython",
    "version": 3
   },
   "file_extension": ".py",
   "mimetype": "text/x-python",
   "name": "python",
   "nbconvert_exporter": "python",
   "pygments_lexer": "ipython3",
   "version": "3.12.2"
  },
  "orig_nbformat": 4,
  "vscode": {
   "interpreter": {
    "hash": "369f2c481f4da34e4445cda3fffd2e751bd1c4d706f27375911949ba6bb62e1c"
   }
  }
 },
 "nbformat": 4,
 "nbformat_minor": 2
}
