{
 "cells": [
  {
   "cell_type": "markdown",
   "metadata": {},
   "source": [
    "# Gráficas (_librería **matplotlib**_)"
   ]
  },
  {
   "cell_type": "markdown",
   "metadata": {},
   "source": [
    "## Introducción\n",
    "Cuando se tienen grandes cantidades de datos es difícil interpretar los resultados, incluso tener al menos una idea se vuelve complicado en muchos casos. **La representación gráfica permite entender y analizar información con mayor facilidad**. A través de una gráfica es posible determinar patrones, tendencias, localizar puntos máximos y mínimos, determinar datos atípicos (también conocidos como *outliers*), etc. *Una gráfica también es útil para verificar si los resultados obtenidos de un procedimiento o análisis es correcto.*\n",
    "\n",
    "Las funciones gráficas de la librería `matplotlib` que se estudian a continuación permiten visualizar datos y analizar resultados. También permiten personalizar y embellecer gráficas tanto como se desee.\n",
    "\n",
    "<figure style=\"text-align: center;\">\n",
    "  <div><strong>Fig. 1.</strong> Ejemplo de una gráfica generada con matplotlib: Spectrum representations. </div>\n",
    "  <img src=\"https://matplotlib.org/stable/_images/sphx_glr_spectrum_demo_001.png\" style=\"width: 50%; height: auto;\">\n",
    "  <figcaption>Tomado de <A HREF=\"https://matplotlib.org/stable/gallery/lines_bars_and_markers/spectrum_demo.html#sphx-glr-gallery-lines-bars-and-markers-spectrum-demo-py\"> matplotlib</A>.</figcaption>\n",
    "</figure>"
   ]
  },
  {
   "cell_type": "code",
   "execution_count": 3,
   "metadata": {},
   "outputs": [],
   "source": [
    "# import matplotlib.pyplot as plt"
   ]
  },
  {
   "cell_type": "markdown",
   "metadata": {},
   "source": [
    "## Diferencia entre `axes` y `figure`\n",
    "\n",
    "Antes que nada, al utilizar cualquier objeto gráfico siempre es necesario tener claro qué es cada cosa. Sin duda alguna, los dos componentes más importantes de una gráfica son la cuadrícula (`axis`) y la figura (`figure`). Como una imagen vale más que mil palabras, analicemos la siguiente imagen.\n",
    "\n",
    "<figure style=\"text-align: center;\">\n",
    "  <div><strong>Fig. 2.</strong> Cuadrícula VS. Figura. </div>\n",
    "  <img src=\"https://miro.medium.com/v2/resize:fit:2000/1*CANkzqegZcHv9znE1U4s7A.png\" style=\"width: 55%; height: auto;\">\n",
    "  <figcaption>Tomado de <A HREF=\"https://towardsdatascience.com/the-many-ways-to-call-axes-in-matplotlib-2667a7b06e06?gi=194411505e54\"> Medium</A>.</figcaption>\n",
    "</figure>"
   ]
  },
  {
   "cell_type": "markdown",
   "metadata": {},
   "source": [
    "## Gráficas en 2-D (bidimensionales)\n",
    "Las gráficas en 2-D más sencillas se generan a partir de un vector `y` o dos vectores `x` y `y`.\n",
    "* Si se utiliza sólo un vector `y`, los puntos para `x` serán los índices del vector.\n",
    "* Se se utiliza dos vectores `x` y `y`, el vector `x` corresponde al eje horizontal y el vector `y` corresponde al eje vertical.\n",
    "\n",
    "<figure style=\"text-align: center;\">\n",
    "  <div><strong>Fig. 3.</strong> Ejemplo de una gráfica generada con matplotlib: Simple Plot. </div>\n",
    "  <img src=\"https://matplotlib.org/stable/_images/sphx_glr_simple_plot_001.png\" style=\"width: 50%; height: auto;\">\n",
    "  <figcaption>Tomado de <A HREF=\"https://matplotlib.org/stable/gallery/lines_bars_and_markers/simple_plot.html#sphx-glr-gallery-lines-bars-and-markers-simple-plot-py\"> matplotlib</A>.</figcaption>\n",
    "</figure>"
   ]
  },
  {
   "cell_type": "markdown",
   "metadata": {},
   "source": [
    "### Función `scatter`\n",
    "\n",
    "La función `plt.scatter` permite crear una **gráfica de dispersión**, o también llamada *gráfica de puntos*."
   ]
  },
  {
   "cell_type": "code",
   "execution_count": null,
   "metadata": {},
   "outputs": [],
   "source": [
    "# Ingrese su código aquí 👻"
   ]
  },
  {
   "cell_type": "markdown",
   "metadata": {},
   "source": [
    "### Función `plot` y `subplot`\n",
    "La función `plt.plot` permite crear una gráfica de línea.\n",
    "\n",
    "Existen distintas formas de crear una gráfica de línea. La forma más sencilla es creando la gráfica con los vectores, `plt.plot(x, y)`, y mostrándola por pantalla, `plt.show()`."
   ]
  },
  {
   "cell_type": "code",
   "execution_count": null,
   "metadata": {},
   "outputs": [],
   "source": [
    "# Ingrese su código aquí 👻"
   ]
  },
  {
   "cell_type": "markdown",
   "metadata": {},
   "source": [
    "Sin embargo, otra forma más adecuada sería utilizando la función `plt.subplot()` extrayendo su figura y cuadrícula."
   ]
  },
  {
   "cell_type": "code",
   "execution_count": null,
   "metadata": {},
   "outputs": [],
   "source": [
    "# Ingrese su código aquí 👻"
   ]
  },
  {
   "cell_type": "markdown",
   "metadata": {},
   "source": [
    "Para más información sobre la función `set` puedes consultar su documentación: [matplotlib.axes.Axes.set](https://matplotlib.org/stable/api/_as_gen/matplotlib.axes.Axes.set.html#matplotlib.axes.Axes.set). Profundizar más en su estudio corresponde a un curso como tal sobre gráficas dado que es una ciencia completa. No obstante, puedes hacerlo por tu cuenta si lo prefieres y lo crees necesario."
   ]
  },
  {
   "cell_type": "markdown",
   "metadata": {},
   "source": [
    "### Cuadrícula, título y etiquetas de ejes\n",
    "\n",
    "Otras características importantes de una gráfica es la activación de su cuadrícula, además de añadir el título y el nombre de cada eje."
   ]
  },
  {
   "cell_type": "code",
   "execution_count": null,
   "metadata": {},
   "outputs": [],
   "source": [
    "# Ingrese su código aquí 👻"
   ]
  },
  {
   "cell_type": "markdown",
   "metadata": {},
   "source": [
    "### Propiedades de una gráfica\n",
    "\n",
    "Existen diversas propiedades de una gráfica como el marcador, tipo de línea y el color. A continuación se las detalla.\n",
    "\n",
    "<figure style=\"text-align: center;\">\n",
    "  <div><strong>Fig. 4.</strong> Marcadores. </div>\n",
    "  <img src=\"markdown_resources\\1.png\" style=\"width: 30%; height: auto;\">\n",
    "  <figcaption>Tomado de <A HREF=\"https://matplotlib.org/stable/api/_as_gen/matplotlib.pyplot.plot.html#matplotlib.pyplot.plot\"> matplotlib</A>.</figcaption>\n",
    "</figure>\n",
    "\n",
    "<figure style=\"text-align: center;\">\n",
    "  <div><strong>Fig. 5.</strong> Tipos de línea. </div>\n",
    "  <img src=\"markdown_resources\\2.png\" style=\"width: 30%; height: auto;\">\n",
    "  <figcaption>Tomado de <A HREF=\"https://matplotlib.org/stable/api/_as_gen/matplotlib.pyplot.plot.html#matplotlib.pyplot.plot\"> matplotlib</A>.</figcaption>\n",
    "</figure>\n",
    "\n",
    "<figure style=\"text-align: center;\">\n",
    "  <div><strong>Fig. 5.</strong> Colores. </div>\n",
    "  <img src=\"markdown_resources\\3.png\" style=\"width: 35%; height: auto;\">\n",
    "  <figcaption>Tomado de <A HREF=\"https://matplotlib.org/stable/api/_as_gen/matplotlib.pyplot.plot.html#matplotlib.pyplot.plot\"> matplotlib</A>.</figcaption>\n",
    "</figure>"
   ]
  },
  {
   "cell_type": "code",
   "execution_count": null,
   "metadata": {},
   "outputs": [],
   "source": [
    "# Ingrese su código aquí 👻"
   ]
  },
  {
   "cell_type": "markdown",
   "metadata": {},
   "source": [
    "### Gráficas con doble eje vertical\n",
    "\n",
    "En ocasiones puede resultar inconveniente graficar la misma información con un sólo eje si esta información tiene diferente escala. Por lo tanto, realizar la misma gráfica con dos ejes verticales puede solucionar el problema. Para esto utilizamos la función `twinx`."
   ]
  },
  {
   "cell_type": "code",
   "execution_count": null,
   "metadata": {},
   "outputs": [],
   "source": [
    "# Ingrese su código aquí 👻"
   ]
  },
  {
   "cell_type": "markdown",
   "metadata": {},
   "source": [
    "### Gráficas múltiples\n",
    "\n",
    "Para crear múltiples gráficas en una figura se puede utilizar la función `plt.subplot(row, cols)`."
   ]
  },
  {
   "cell_type": "code",
   "execution_count": null,
   "metadata": {},
   "outputs": [],
   "source": [
    "# Ingrese su código aquí 👻"
   ]
  },
  {
   "cell_type": "markdown",
   "metadata": {},
   "source": [
    "## Exportar gráficas\n",
    "Para guardar una figura se puede utilizar la función `savefig`."
   ]
  },
  {
   "cell_type": "code",
   "execution_count": null,
   "metadata": {},
   "outputs": [],
   "source": [
    "# Ingrese su código aquí 👻"
   ]
  },
  {
   "cell_type": "markdown",
   "metadata": {},
   "source": [
    "----\n",
    "## Material adicional\n",
    "* [Using matplotlib](https://matplotlib.org/stable/users/index)"
   ]
  }
 ],
 "metadata": {
  "kernelspec": {
   "display_name": "Python 3.10.7 64-bit",
   "language": "python",
   "name": "python3"
  },
  "language_info": {
   "codemirror_mode": {
    "name": "ipython",
    "version": 3
   },
   "file_extension": ".py",
   "mimetype": "text/x-python",
   "name": "python",
   "nbconvert_exporter": "python",
   "pygments_lexer": "ipython3",
   "version": "3.12.4"
  },
  "orig_nbformat": 4,
  "vscode": {
   "interpreter": {
    "hash": "369f2c481f4da34e4445cda3fffd2e751bd1c4d706f27375911949ba6bb62e1c"
   }
  }
 },
 "nbformat": 4,
 "nbformat_minor": 2
}
