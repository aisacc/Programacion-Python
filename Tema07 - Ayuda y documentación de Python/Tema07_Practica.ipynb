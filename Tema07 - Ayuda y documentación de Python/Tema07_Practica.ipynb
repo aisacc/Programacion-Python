{
 "cells": [
  {
   "cell_type": "markdown",
   "metadata": {},
   "source": [
    "# Ayuda y documentación"
   ]
  },
  {
   "cell_type": "markdown",
   "metadata": {},
   "source": [
    "## Funciones para obtener ayuda\n",
    "### Ejercicio 1\n",
    "Consulta la documentación de la función `round`. Luego, en base a lo consultado, redondea el número 3.141592 a 2 decimales.\n",
    "\n",
    "### Solución"
   ]
  },
  {
   "cell_type": "code",
   "execution_count": null,
   "metadata": {},
   "outputs": [],
   "source": [
    "# Ingresa tu código aquí 👻"
   ]
  },
  {
   "cell_type": "markdown",
   "metadata": {},
   "source": [
    "### Ejercicio 2\n",
    "Consulta la documentación del método `deg2rad` perteneciente a la librería `numpy`. Luego, en base a lo consultado, aplica el método a los ángulos desde 0 hasta 180 grados, con un incremento de 45 grados.\n",
    "\n",
    "### Solución"
   ]
  },
  {
   "cell_type": "code",
   "execution_count": null,
   "metadata": {},
   "outputs": [],
   "source": [
    "# Ingresa tu código aquí 👻"
   ]
  },
  {
   "cell_type": "markdown",
   "metadata": {},
   "source": [
    "### Ejercicio 3\n",
    "Consulta la documentación del método `cos` perteneciente a la librería `numpy`. Luego, en base a lo consultado y utilizando el resultado del ejercicio 2, determina coseno de cada ángulo.\n",
    "\n",
    "**Observación**\n",
    "\n",
    "Analiza los resultados y verifica si los ángulos se deben ingresar en radianes o en grados al método `cos`.\n",
    "\n",
    "### Solución"
   ]
  },
  {
   "cell_type": "code",
   "execution_count": null,
   "metadata": {},
   "outputs": [],
   "source": [
    "# Ingresa tu código aquí 👻"
   ]
  },
  {
   "cell_type": "markdown",
   "metadata": {},
   "source": [
    "### Ejercicio 4\n",
    "Consulta los atributos y métodos de la librería `math`. ¿Cuáles te son familiares? Es decir, tienes una idea de lo que hacen.\n",
    "\n",
    "### Solución"
   ]
  },
  {
   "cell_type": "code",
   "execution_count": null,
   "metadata": {},
   "outputs": [],
   "source": [
    "# Ingresa tu código aquí 👻"
   ]
  },
  {
   "cell_type": "markdown",
   "metadata": {},
   "source": [
    "### Ejercicio 5\n",
    "Consulta los atributos y métodos de la librería `cmath`. ¿Cuáles no te son familiares? Es decir, no tienes ni idea de lo que hacen. \n",
    "\n",
    "Finalmente, consulta la documentación de algunos de los atributos y métodos que no te son familiares.\n",
    "\n",
    "### Solución"
   ]
  },
  {
   "cell_type": "code",
   "execution_count": null,
   "metadata": {},
   "outputs": [],
   "source": [
    "# Ingresa tu código aquí 👻"
   ]
  }
 ],
 "metadata": {
  "kernelspec": {
   "display_name": "Python 3.10.7 64-bit",
   "language": "python",
   "name": "python3"
  },
  "language_info": {
   "codemirror_mode": {
    "name": "ipython",
    "version": 3
   },
   "file_extension": ".py",
   "mimetype": "text/x-python",
   "name": "python",
   "nbconvert_exporter": "python",
   "pygments_lexer": "ipython3",
   "version": "3.12.4"
  },
  "orig_nbformat": 4,
  "vscode": {
   "interpreter": {
    "hash": "369f2c481f4da34e4445cda3fffd2e751bd1c4d706f27375911949ba6bb62e1c"
   }
  }
 },
 "nbformat": 4,
 "nbformat_minor": 2
}
