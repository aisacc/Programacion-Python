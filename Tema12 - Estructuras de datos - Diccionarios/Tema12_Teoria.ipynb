{
 "cells": [
  {
   "cell_type": "markdown",
   "metadata": {},
   "source": [
    "# Estructuras de datos: Diccionarios\n",
    "\n",
    "Un diccionario en Python es similar a los diccionarios que ya conocemos: cada palabra tiene asignado un significado. Entonces en los diccionarios de Python cada **clave** (similar a la palabra) tiene un **valor** (similar al significado).\n",
    "\n",
    "<figure style=\"text-align: center;\">\n",
    "  <div><strong>Fig. 1.</strong> Analogía de un diccionario en Python. </div>\n",
    "  <img src=\"markdown_resources/1.jpg\" style=\"width: 55%; height: auto;\">\n",
    "  <figcaption>Tomado de <strong>Aprende Python</strong> de <em>Sergio Delgado Quintero</em>.</figcaption>\n",
    "</figure>\n",
    "\n",
    "Las principales características de los diccionarios en Python son las siguientes:\n",
    "* Son ***mutables***. Es decir, es posible modificarlos.\n",
    "* Son ***aliasing***.\n",
    "* Son ***iterables***.\n",
    "* Cada clave es única. Usualmente las claves son cadenas de texto, pero nada impide que sean cualquier otro tipo de dato inmutable: entero, flotante, tupla, etc.\n",
    "* El orden de las claves es el orden en que fueron asignadas en el diccionario, o añadidas posteriormente."
   ]
  },
  {
   "cell_type": "markdown",
   "metadata": {},
   "source": [
    "## Crear diccionarios\n",
    "Para crear diccionarios se utiliza llaves `{}` y la nomenclatura `clave: valor`, separando con comas cada *clave-valor*. "
   ]
  },
  {
   "cell_type": "code",
   "execution_count": 1,
   "metadata": {},
   "outputs": [],
   "source": [
    "# Ingrese su código aquí 👻"
   ]
  },
  {
   "cell_type": "markdown",
   "metadata": {},
   "source": [
    "### Ejemplo\n",
    "\n",
    "Crear un diccionario con los nombres de 4 personas a tu elección como claves y sus edades como valores.\n",
    "\n",
    "### Solución"
   ]
  },
  {
   "cell_type": "code",
   "execution_count": null,
   "metadata": {},
   "outputs": [],
   "source": [
    "# Ingrese su código aquí 👻"
   ]
  },
  {
   "cell_type": "markdown",
   "metadata": {},
   "source": [
    "## Función `dict`\n",
    "\n",
    "La función `dict` permite crear diccionarios de manera explícita. Es decir, realizar una conversión de cualquier otro tipo de dato a diccionario.\n",
    "\n",
    "Se debe considerar que para la conversión se sugiere que la estructura interna del iterable sea de 2 elementos."
   ]
  },
  {
   "cell_type": "code",
   "execution_count": 9,
   "metadata": {},
   "outputs": [],
   "source": [
    "# Ingrese su código aquí 👻"
   ]
  },
  {
   "cell_type": "markdown",
   "metadata": {},
   "source": [
    "Una diferencia entre la creación de diccionarios con llaves `{}` y mediante la función `dict()` es que ésta última no requiere las comillas al momento de asignar las claves. Sin embargo, esto tiene una limitación la cual es que las claves obligatoriamente deben ser nombres de identificadores válidos."
   ]
  },
  {
   "cell_type": "code",
   "execution_count": null,
   "metadata": {},
   "outputs": [],
   "source": [
    "# Ingrese su código aquí 👻"
   ]
  },
  {
   "cell_type": "markdown",
   "metadata": {},
   "source": [
    "**Observación**\n",
    "\n",
    "Como es de esperarse, para crear un diccionario vacío se utiliza simplemente llaves `{}` sin ninguna *clave-valor* o la función `dict()` sin argumentos."
   ]
  },
  {
   "cell_type": "code",
   "execution_count": null,
   "metadata": {},
   "outputs": [],
   "source": [
    "# Ingrese su código aquí 👻"
   ]
  },
  {
   "cell_type": "markdown",
   "metadata": {},
   "source": [
    "## Operaciones con diccionarios\n",
    "### Extraer un elemento\n",
    "\n",
    "Para extrar un elemento de un diccionario existen dos formas:\n",
    "1. Escribiendo su clave entre corchetes `[]`.\n",
    "2. Utilizando la función `get()`.\n",
    "\n",
    "La diferencia entre estas formas se evidencia cuando la clave no existe en el diccionario: la primera forma devuelve siempre un error, mientras que la segunda forma devuelve `None` por defecto o lo que nosotros indiquemos."
   ]
  },
  {
   "cell_type": "code",
   "execution_count": null,
   "metadata": {},
   "outputs": [],
   "source": [
    "# Ingrese su código aquí 👻"
   ]
  },
  {
   "cell_type": "markdown",
   "metadata": {},
   "source": [
    "### Añadir, modificar y eliminar elementos\n",
    "* Para añadir elementos a un diccionario basta con indicar la clave y su valor al diccionario existente. Automáticamente se añadirá el elemento al final del diccionario.\n",
    "* Para modificar elementos a un diccionario se debe indicar la clave y su nuevo valor. Automáticamente se reemplazará al antiguo valor con el nuevo de la clave indicada.\n",
    "* Para eliminar elementos existen varias formas:\n",
    "    1. Utilizando la función `del` y luego indicado la clave del elemento que se desea eliminar.\n",
    "    2. Utilizando la función `pop()`. Esta función vendría a ser una mezcla de `get()` y `del`.\n",
    "    3. Utilizando la función `clear()`. Esta opción elimina todos los elementos del diccionario dejándolo vacío. "
   ]
  },
  {
   "cell_type": "code",
   "execution_count": null,
   "metadata": {},
   "outputs": [],
   "source": [
    "# Ingrese su código aquí 👻"
   ]
  },
  {
   "cell_type": "markdown",
   "metadata": {},
   "source": [
    "### Pertenencia de una clave\n",
    "\n",
    "Mediante el operador `in` es posible comprobar si una clave existe o no en un diccionario."
   ]
  },
  {
   "cell_type": "code",
   "execution_count": null,
   "metadata": {},
   "outputs": [],
   "source": [
    "# Ingrese su código aquí 👻"
   ]
  },
  {
   "cell_type": "markdown",
   "metadata": {},
   "source": [
    "### Lontitud de un diccionario\n",
    "\n",
    "Mediante la función `len()` se puede conocer el número de elementos (*clave-valor*) en un diccionario."
   ]
  },
  {
   "cell_type": "code",
   "execution_count": null,
   "metadata": {},
   "outputs": [],
   "source": [
    "# Ingrese su código aquí 👻"
   ]
  },
  {
   "cell_type": "markdown",
   "metadata": {},
   "source": [
    "### Obtener todas las claves y valores\n",
    "Es posible obtener todas las claves y valores de un diccionario por separado a través de las funciones `keys()` y `values()`, respectivamente. Si se desea obtener esta información como pares, entonces se utiliza la función `items()`. Esta última función devuelve una lista con tuplas de cada *clave-valor*."
   ]
  },
  {
   "cell_type": "code",
   "execution_count": null,
   "metadata": {},
   "outputs": [],
   "source": [
    "# Ingrese su código aquí 👻"
   ]
  },
  {
   "cell_type": "markdown",
   "metadata": {},
   "source": [
    "### Iterar sobre diccionarios\n",
    "Con las funciones estudiadas previamente, es posible iterar sobre las claves, los valores o ambos al mismo tiempo, de un diccionario."
   ]
  },
  {
   "cell_type": "code",
   "execution_count": null,
   "metadata": {},
   "outputs": [],
   "source": [
    "# Ingrese su código aquí 👻"
   ]
  },
  {
   "cell_type": "markdown",
   "metadata": {},
   "source": [
    "## Combinar diccionarios\n",
    "Existen dos formas de combinar diccionarios:\n",
    "1. Sin modificar los diccionarios originales: utilizando el operador `**` o, a partir de Python 3.9, utilizando el operador `|`.\n",
    "2. Modificando los diccionarios originales: mediante la función `update()`.\n",
    "\n",
    "En ambos casos se debe considerar lo siguiente:\n",
    "* Si la clave no existe (es decir, sólo aparece en un diccionario), entonces se añade con su valor.\n",
    "* Si la clave sí existe (es decir, aparece en más de un diccionario), se añade el valor del último diccionario de la combinación.  "
   ]
  },
  {
   "cell_type": "code",
   "execution_count": null,
   "metadata": {},
   "outputs": [],
   "source": [
    "# Ingrese su código aquí 👻"
   ]
  },
  {
   "cell_type": "markdown",
   "metadata": {},
   "source": [
    "## Copiar diccionarios\n",
    "Recordando el concepto de mutabilidad, se debe considerar eso al momento de modificar un diccinario que tengas varias referencias al mismo. Para evitar cualquier posible problema, es preferible realizar una **copia dura** del diccionario mediante la función `copy()`."
   ]
  },
  {
   "cell_type": "code",
   "execution_count": null,
   "metadata": {},
   "outputs": [],
   "source": [
    "# Ingrese su código aquí 👻"
   ]
  },
  {
   "cell_type": "markdown",
   "metadata": {},
   "source": [
    "## Diccionarios por comprensión\n",
    "Análogamente a como se crean las listas por comprensión, es posible utilizar el mismo concepto para crear diccionarios por compresión utilizando llaves `{}`.\n",
    "\n",
    "<figure style=\"text-align: center;\">\n",
    "  <div><strong>Fig. 2.</strong> Listas por comprensión. </div>\n",
    "  <img src=\"markdown_resources/2.png\" style=\"width: 80%; height: auto;\">\n",
    "  <figcaption>Tomado de <strong>Aprende Python</strong> de <em>Sergio Delgado Quintero</em>.</figcaption>\n",
    "</figure>"
   ]
  },
  {
   "cell_type": "code",
   "execution_count": 10,
   "metadata": {},
   "outputs": [],
   "source": [
    "# Ingrese su código aquí 👻"
   ]
  },
  {
   "cell_type": "markdown",
   "metadata": {},
   "source": [
    "### Ejemplo\n",
    "Dado un diccionario con vocales como claves y números como valores, crear un nuevo diccionario donde los valores sean las claves, y las claves sean los valores. Es decir, los números serán las claves y las vocales serán los valores. Utilizar diccionarios por comprensión.\n",
    "\n",
    "### Solución\n"
   ]
  },
  {
   "cell_type": "code",
   "execution_count": null,
   "metadata": {},
   "outputs": [],
   "source": [
    "# Ingrese su código aquí 👻"
   ]
  },
  {
   "cell_type": "markdown",
   "metadata": {},
   "source": [
    "----\n",
    "## Material adicional\n",
    "* [Creando diccionarios](https://aprendepython.es/core/datastructures/dicts/#creando-diccionarios)\n",
    "* [Operaciones con diccionarios](https://aprendepython.es/core/datastructures/dicts/#operaciones-con-diccionarios)\n",
    "* [Diccionarios por compresión](https://aprendepython.es/core/datastructures/dicts/#diccionarios-por-comprension)"
   ]
  }
 ],
 "metadata": {
  "kernelspec": {
   "display_name": "Python 3.10.7 64-bit",
   "language": "python",
   "name": "python3"
  },
  "language_info": {
   "codemirror_mode": {
    "name": "ipython",
    "version": 3
   },
   "file_extension": ".py",
   "mimetype": "text/x-python",
   "name": "python",
   "nbconvert_exporter": "python",
   "pygments_lexer": "ipython3",
   "version": "3.12.2"
  },
  "orig_nbformat": 4,
  "vscode": {
   "interpreter": {
    "hash": "369f2c481f4da34e4445cda3fffd2e751bd1c4d706f27375911949ba6bb62e1c"
   }
  }
 },
 "nbformat": 4,
 "nbformat_minor": 2
}
