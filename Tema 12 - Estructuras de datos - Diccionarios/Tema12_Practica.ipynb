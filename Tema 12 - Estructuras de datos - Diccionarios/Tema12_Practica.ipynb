{
 "cells": [
  {
   "cell_type": "markdown",
   "metadata": {},
   "source": [
    "# Estructuras de datos: Diccionarios"
   ]
  },
  {
   "cell_type": "markdown",
   "metadata": {},
   "source": [
    "## Operaciones con diccionarios\n",
    "### Ejercicio 1\n",
    "Construya un diccionario partiendo de una cadena de texto con el siguiente formato: `<ciudad>:<habitantes>;<ciudad>:<habitantes>;...`.\n",
    "\n",
    "Por ejemplo, si se ingresa `Tokyo:38_140_00;Delhi:26_454_00`, el resultado debería ser `{'Tokyo': 3814000, 'Delhi': 2645400}`.\n",
    "\n",
    "*Ejercicio tomado de Delgado, 2023.*\n",
    "\n",
    "### Solución"
   ]
  },
  {
   "cell_type": "code",
   "execution_count": 20,
   "metadata": {},
   "outputs": [],
   "source": [
    "# Ingrese su código aquí 👻"
   ]
  },
  {
   "cell_type": "markdown",
   "metadata": {},
   "source": [
    "### Ejercicio 2\n",
    "Usando un diccionario, cuente el número de veces que se repite cada letra en una cadena de texto ingresada por teclado.\n",
    "\n",
    "*Ejercicio modificado de Delgado, 2023.*\n",
    "\n",
    "### Solución"
   ]
  },
  {
   "cell_type": "code",
   "execution_count": 32,
   "metadata": {},
   "outputs": [],
   "source": [
    "# Ingrese su código aquí 👻"
   ]
  },
  {
   "cell_type": "markdown",
   "metadata": {},
   "source": [
    "### Ejercicio 3\n",
    "Escriba un programa en Python que acepte una lista de palabras y las agrupe por su letra inicial usando un diccionario.\n",
    "\n",
    "Por ejemplo, si se ingresa `['mesa', 'móvil', 'barco', 'coche', 'bandeja']` el resultado sería `{'m': ['mesa', 'móvil'], 'b': ['barco', 'bandeja'], 'c': ['coche']}`.\n",
    "\n",
    "*Ejercicio tomado de Delgado, 2023.*\n",
    "\n",
    "### Solución"
   ]
  },
  {
   "cell_type": "code",
   "execution_count": null,
   "metadata": {},
   "outputs": [],
   "source": [
    "# Ingrese su código aquí 👻"
   ]
  },
  {
   "cell_type": "markdown",
   "metadata": {},
   "source": [
    "## Diccionarios por comprensión\n",
    "### Ejercicio 1\n",
    "Dada una lista de tuplas que representan pares clave-valor, crea un diccionario utilizando comprensión de diccionarios.\n",
    "\n",
    "Por ejemplo, si se ingresa `[('a', 1), ('b', 2), ('c', 3)]`, el resultado debería ser `{'a': 1, 'b': 2, 'c': 3}`.\n",
    "\n",
    "### Solución"
   ]
  },
  {
   "cell_type": "code",
   "execution_count": null,
   "metadata": {},
   "outputs": [],
   "source": [
    "# Ingrese su código aquí 👻"
   ]
  },
  {
   "cell_type": "markdown",
   "metadata": {},
   "source": [
    "### Ejercicio 2\n",
    "Dado un diccionario, filtra los elementos cuyos valores sean mayores que 25 utilizando comprensión de diccionarios.\n",
    "\n",
    "Por ejemplo, si se ingresa `{'a': 10, 'b': 20, 'c': 30, 'd': 40}`, el resultado debería ser `{'c': 30, 'd': 40}`.\n",
    "\n",
    "### Solución"
   ]
  },
  {
   "cell_type": "code",
   "execution_count": null,
   "metadata": {},
   "outputs": [],
   "source": [
    "# Ingrese su código aquí 👻"
   ]
  }
 ],
 "metadata": {
  "kernelspec": {
   "display_name": "Python 3.10.7 64-bit",
   "language": "python",
   "name": "python3"
  },
  "language_info": {
   "codemirror_mode": {
    "name": "ipython",
    "version": 3
   },
   "file_extension": ".py",
   "mimetype": "text/x-python",
   "name": "python",
   "nbconvert_exporter": "python",
   "pygments_lexer": "ipython3",
   "version": "3.11.8"
  },
  "orig_nbformat": 4,
  "vscode": {
   "interpreter": {
    "hash": "369f2c481f4da34e4445cda3fffd2e751bd1c4d706f27375911949ba6bb62e1c"
   }
  }
 },
 "nbformat": 4,
 "nbformat_minor": 2
}
