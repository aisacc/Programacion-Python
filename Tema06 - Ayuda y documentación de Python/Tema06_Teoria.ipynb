{
 "cells": [
  {
   "cell_type": "markdown",
   "metadata": {},
   "source": [
    "# Ayuda y documentación de Python\n",
    "\n",
    "En Python es bastante usual trabajar con librerías externas. Es decir, que no vienen dentro de Python por defecto, sino que debemos instalarlas y cargarlas por nuestra cuenta.\n",
    "\n",
    "Hasta este momento ya hemos instalado varias librerías de utilidad utilizando `pip`. Ahora vamos a hablar sobre las librerías que hemos instalado y especialmente daremos un enfoque en una búsqueda adecuada de información para no perdernos con todo lo que podríamos encontrar en internet.\n",
    "\n",
    "<figure style=\"text-align: center;\">\n",
    "  <div><strong>Fig. 1.</strong> Documentación. </div>\n",
    "  <img src=\"markdown_resources\\1.jpg\" style=\"width: 80%; height: auto;\">\n",
    "  <figcaption>Realizar una búsqueda y leer documentación.</figcaption>\n",
    "</figure>"
   ]
  },
  {
   "cell_type": "markdown",
   "metadata": {},
   "source": [
    "## Documentación oficial de librerías\n",
    "\n",
    "Todas las librerías más populares y utilizadas en Python tienen su documentación muy bien explicada. Entonces sin duda alguna la mejor fuente se puede tener para consultar sobre funciones, ejemplos, aplicaciones, etc.; es esa documentación oficial de cada librería.\n",
    "\n",
    "Aquí tienes los enlaces a la documentación oficial de las librerías que hemos instalado al inicio de este curso:\n",
    "* NumPy\n",
    "    * [NumPy Documentation](https://numpy.org/doc/)\n",
    "    * [User Guide](https://numpy.org/doc/stable/user/index.html)\n",
    "* Pandas\n",
    "    * [pandas documentation](https://pandas.pydata.org/docs/)\n",
    "    * [User Guide](https://pandas.pydata.org/docs/user_guide/index.html)\n",
    "* SciPy\n",
    "    * [SciPy Documentation](https://docs.scipy.org/doc/scipy/)\n",
    "    * [User Guide](https://docs.scipy.org/doc/scipy/tutorial/index.html)\n",
    "* Matplotlib\n",
    "    * [Matplotlib Documentation](https://matplotlib.org/stable/index.html)\n",
    "    * [User Guide](https://matplotlib.org/stable/users/index.html)"
   ]
  },
  {
   "cell_type": "markdown",
   "metadata": {},
   "source": [
    "## Realiza una búsqueda adecuada\n",
    "\n",
    "Sin duda alguna, la mejor forma de buscar en internet la documentación de cualquier librería de Python que sea de nuestro interés es utilizando el nombre la librería seguida de la palabra **doc** o **documentation**.\n",
    "\n",
    "Por ejemplo, **numpy doc** o **numpy documentation**."
   ]
  },
  {
   "cell_type": "markdown",
   "metadata": {},
   "source": [
    "----\n",
    "## Material adicional\n",
    "* [Python 3 documentation](https://docs.python.org/3/)"
   ]
  }
 ],
 "metadata": {
  "kernelspec": {
   "display_name": "Python 3.10.7 64-bit",
   "language": "python",
   "name": "python3"
  },
  "language_info": {
   "codemirror_mode": {
    "name": "ipython",
    "version": 3
   },
   "file_extension": ".py",
   "mimetype": "text/x-python",
   "name": "python",
   "nbconvert_exporter": "python",
   "pygments_lexer": "ipython3",
   "version": "3.12.2"
  },
  "orig_nbformat": 4,
  "vscode": {
   "interpreter": {
    "hash": "369f2c481f4da34e4445cda3fffd2e751bd1c4d706f27375911949ba6bb62e1c"
   }
  }
 },
 "nbformat": 4,
 "nbformat_minor": 2
}
