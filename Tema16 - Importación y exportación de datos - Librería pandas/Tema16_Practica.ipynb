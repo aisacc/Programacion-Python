{
 "cells": [
  {
   "cell_type": "markdown",
   "metadata": {},
   "source": [
    "# Importación y exportación de datos (_librería **pandas**_)"
   ]
  },
  {
   "cell_type": "markdown",
   "metadata": {},
   "source": [
    "## Importar datos, trabajarlos y exportarlos\n",
    "### Ejercicio 1\n",
    "\n",
    "Realizar las siguientes actividades:\n",
    "\n",
    "1. Cargar el archivo auxiliar: **Tema16_Auxiliar_BankChurners.csv**.\n",
    "2. Visualizar un resumen de los datos del archivo. ¿Qué información contiene?\n",
    "3. ¿Cuántas personas graduadas (Graduate) disponen de una tarjeta de crédito? ¿Son más hombres o mujeres?\n",
    "4. ¿Cuál es el género (hombre o mujer) que dispone de un límite de crédito mayor? ¿Tiene alguna relación con su educación?\n",
    "5. ¿Cuántas personas que están solteras (Single) disponen de un tarjeta de oro (Gold), sabiendo que son mayores de 40 años?\n",
    "\n",
    "### Solución"
   ]
  },
  {
   "cell_type": "code",
   "execution_count": null,
   "metadata": {},
   "outputs": [],
   "source": [
    "# Ingrese su código aquí 👻"
   ]
  },
  {
   "cell_type": "markdown",
   "metadata": {},
   "source": [
    "### Ejercicio 2\n",
    "\n",
    "Abrir el archivo **Tema16_Auxiliar_SenescytBecas2022Febrero.csv** con una programa externo como Microsoft Excel. ¿Cómo luce la información? El archivo no debe ser modificado, sólo visualizado.\n",
    "\n",
    "Luego, importar el archivo en Python y responder las siguientes preguntas.\n",
    "\n",
    "* ¿Cuál es el porcentaje de mujeres? Para esto se debería obtener el número total de hombres, de mujeres y total de personas.\n",
    "* ¿Cuál es el porcentaje de personas con discapacidad? Utilizar una estrategia similar a la del literal anterior.\n",
    "\n",
    "Después, exportar la información en formato .xlsx y .txt.\n",
    "\n",
    "### Solución"
   ]
  },
  {
   "cell_type": "code",
   "execution_count": null,
   "metadata": {},
   "outputs": [],
   "source": [
    "# Ingrese su código aquí 👻"
   ]
  },
  {
   "cell_type": "markdown",
   "metadata": {},
   "source": [
    "### Ejercicio 3\n",
    "\n",
    "Existen más archivos para ser importados en la carpeta de este tema. Importar estos archivos y analizar su información. ¿Qué análisis se podría hacer con esta información?\n",
    "\n",
    "### Solución"
   ]
  },
  {
   "cell_type": "code",
   "execution_count": null,
   "metadata": {},
   "outputs": [],
   "source": [
    "# Ingrese su código aquí 👻"
   ]
  }
 ],
 "metadata": {
  "kernelspec": {
   "display_name": "Python 3.10.7 64-bit",
   "language": "python",
   "name": "python3"
  },
  "language_info": {
   "codemirror_mode": {
    "name": "ipython",
    "version": 3
   },
   "file_extension": ".py",
   "mimetype": "text/x-python",
   "name": "python",
   "nbconvert_exporter": "python",
   "pygments_lexer": "ipython3",
   "version": "3.11.8"
  },
  "orig_nbformat": 4,
  "vscode": {
   "interpreter": {
    "hash": "369f2c481f4da34e4445cda3fffd2e751bd1c4d706f27375911949ba6bb62e1c"
   }
  }
 },
 "nbformat": 4,
 "nbformat_minor": 2
}
