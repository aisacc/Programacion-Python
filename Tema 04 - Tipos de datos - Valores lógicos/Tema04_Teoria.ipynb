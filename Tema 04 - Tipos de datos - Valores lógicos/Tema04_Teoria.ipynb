{
 "cells": [
  {
   "cell_type": "markdown",
   "metadata": {},
   "source": [
    "# Tipos de datos: Valores lógicos\n",
    "El tipo de dato lógico, o booleano (por [George Boole](https://es.wikipedia.org/wiki/George_Boole) que creó el [Álgebra de Boole](https://es.wikipedia.org/wiki/%C3%81lgebra_de_Boole)), admites dos posibles valores:\n",
    "* **Verdadero**. Su representación numérica es 1.\n",
    "* **Falso**. Su representación numérica es 0.\n",
    "\n",
    "Ciertas funciones y operadores de Python devuelven valores lógicos para indicar el cumplimiento de una condición. Generalmente se utiliza estos valores lógicos para indexar, ejecutar código condicional, entre otros."
   ]
  },
  {
   "cell_type": "markdown",
   "metadata": {},
   "source": [
    "## Valores lógicos o booleanos\n",
    "Para crear directamente datos lógicos se pueden utilizar las funciones `True` y `False`."
   ]
  },
  {
   "cell_type": "code",
   "execution_count": null,
   "metadata": {},
   "outputs": [],
   "source": [
    "# Ingrese su código aquí 👻"
   ]
  },
  {
   "cell_type": "markdown",
   "metadata": {},
   "source": [
    "**Observación**\n",
    "\n",
    "Nótese que la primera letra de las funciones es mayúscula, `True` y `False`. Esto debe tenerse en cuenta dado que en Python los nombres de variables son sensibles a las mayúsculas y minúsculas. Es decir, `True` no es lo mismo que `true`. "
   ]
  },
  {
   "cell_type": "markdown",
   "metadata": {},
   "source": [
    "**Observación**\n",
    "\n",
    "Se puede utilizar la función `bool` para realizar una conversión de otros tipos de datos a dato lógico o boolenano."
   ]
  },
  {
   "cell_type": "code",
   "execution_count": null,
   "metadata": {},
   "outputs": [],
   "source": [
    "# Ingrese su código aquí 👻"
   ]
  },
  {
   "cell_type": "markdown",
   "metadata": {},
   "source": [
    "## Operaciones relacionales\n",
    "Recordemos que existen varias operaciones relacionales. A continuación se muestran estas operaciones y su representación dentro de Python.\n",
    "\n",
    "<figure style=\"text-align: center;\">\n",
    "  <div><strong>Fig. 1.</strong> Operaciones relacionales.</div>\n",
    "  <img src=\"https://github.com/aisacc/Programacion-Python/blob/main/_Im%C3%A1genes/Tema%2004%20-%20Tipos%20de%20datos%20-%20Valores%20l%C3%B3gicos/1.png?raw=true\" style=\"width: 25%; height: auto;\">\n",
    "  <figcaption>Tomado de <strong>Aprende Python</strong> de <em>Sergio Delgado Quintero</em>.</figcaption>\n",
    "</figure>\n",
    "\n",
    "**El resultado a cada una de estas operaciones siempre será un valor lógico**, o también conocido como un *valor booleano*: **verdadero** o **falso**."
   ]
  },
  {
   "cell_type": "code",
   "execution_count": null,
   "metadata": {},
   "outputs": [],
   "source": [
    "# Ingrese su código aquí 👻"
   ]
  },
  {
   "cell_type": "markdown",
   "metadata": {},
   "source": [
    "**Observación**\n",
    "\n",
    "No se debe confundir el operador de comparación `==` con el operador de asignación `=`.\n",
    "* El operador de comparación realiza una comparación entre valores y *devuelve un valor lógico*.\n",
    "* El operador de asignación realiza una asignación, o dicho de otro modo, *crea una variable*."
   ]
  },
  {
   "cell_type": "markdown",
   "metadata": {},
   "source": [
    "#### Ejemplo 1\n",
    "Escribe un programa que verifique si la edad de una persona está dentro del rango de 18 a 30 años.\n",
    "\n",
    "#### Solución"
   ]
  },
  {
   "cell_type": "code",
   "execution_count": null,
   "metadata": {},
   "outputs": [],
   "source": [
    "# Ingrese su código aquí 👻"
   ]
  },
  {
   "cell_type": "markdown",
   "metadata": {},
   "source": [
    "#### Ejemplo 2\n",
    "Vamos a verificar si la tensión calculada en una viga está dentro de los límites permitidos para el material utilizado. Por ejemplo, acero con límite de fluencia de 250 MPa y resistencia máxima de 400 MPa.\n",
    "\n",
    "Entonces, si la tensión es mayor al límite de fluencia y es menor a la resistencia máxima se puede concluir que el diseño es adecuado. Desplegar esta aseveración por pantalla.\n",
    "\n",
    "#### Solución"
   ]
  },
  {
   "cell_type": "code",
   "execution_count": null,
   "metadata": {},
   "outputs": [],
   "source": [
    "# Ingrese su código aquí 👻"
   ]
  },
  {
   "cell_type": "markdown",
   "metadata": {},
   "source": [
    "#### Ejemplo 3\n",
    "Ahora vamos a verificar si el voltaje medido en un sistema eléctrico está dentro de los límites operativos. Por ejemplo, voltaje nominal de 220V ± 10%.\n",
    "\n",
    "Entonces, si el voltaje medido está dentro de los límites operativos se puede concluir que el sistema opera correctamente. Desplegar esto último por pantalla junto con el resultado booleano de la evaluación.\n",
    "\n",
    "#### Solución"
   ]
  },
  {
   "cell_type": "code",
   "execution_count": null,
   "metadata": {},
   "outputs": [],
   "source": [
    "# Ingrese su código aquí 👻"
   ]
  },
  {
   "cell_type": "markdown",
   "metadata": {},
   "source": [
    "## Operaciones lógicas\n",
    "En ocasiones será de gran utilidad establecer más de una operación relacional, y cuando ocurra esto se deberá recurrir a las operaciones lógicas.\n",
    "* `and`\n",
    "* `or`\n",
    "* `not`\n",
    "\n",
    "<figure style=\"text-align: center;\">\n",
    "  <div><strong>Fig. 2.</strong> Tablas de verdad de las operaciones lógicas.</div>\n",
    "  <img src=\"https://github.com/aisacc/Programacion-Python/blob/main/_Im%C3%A1genes/Tema%2004%20-%20Tipos%20de%20datos%20-%20Valores%20l%C3%B3gicos/2.png?raw=true\" style=\"width: 70%; height: auto;\">\n",
    "  <figcaption>Tomado de <strong>Aprende Python</strong> de <em>Sergio Delgado Quintero</em>.</figcaption>\n",
    "</figure>"
   ]
  },
  {
   "cell_type": "code",
   "execution_count": null,
   "metadata": {},
   "outputs": [],
   "source": [
    "# Ingrese su código aquí 👻"
   ]
  },
  {
   "cell_type": "markdown",
   "metadata": {},
   "source": [
    "#### Ejemplo 1\n",
    "\n",
    "Escribe un programa que evalúe si un número es divisible por 3 y por 5, y también si es mayor que 10. El programa debe imprimir un mensaje indicando si se cumplen todas las condiciones o no.\n",
    "\n",
    "#### Solución"
   ]
  },
  {
   "cell_type": "code",
   "execution_count": null,
   "metadata": {},
   "outputs": [],
   "source": [
    "# Ingrese su código aquí 👻"
   ]
  },
  {
   "cell_type": "markdown",
   "metadata": {},
   "source": [
    "#### Ejemplo 2\n",
    "\n",
    "Vamos a evaluar si un edificio cumple con los estándares de eficiencia energética, verificando tanto el consumo eléctrico como el uso de sistemas de iluminación LED.\n",
    "\n",
    "Entonces, si el consumo eléctrico es menor a 3000 kWh y utiliza iluminación LED, podemos decir que cumple con los estándares de eficiencia energética. Desplegar lo último por pantalla junto con el resultado de la evaluación.\n",
    "\n",
    "#### Solución"
   ]
  },
  {
   "cell_type": "code",
   "execution_count": null,
   "metadata": {},
   "outputs": [],
   "source": [
    "# Ingrese su código aquí 👻"
   ]
  },
  {
   "cell_type": "markdown",
   "metadata": {},
   "source": [
    "#### Ejemplo 3\n",
    "\n",
    "Vamos a verificar si una estructura metálica cumple con los criterios de diseño de carga, considerando varias condiciones de resistencia y factores de seguridad.\n",
    "\n",
    "Por tanto, si la carga máxima de la estructura (en kN) es menor a la resistencia de la estructura (500 kN) y el factor de seguridad es mayor a 1.5, entonces la estructura metálica cumple con los criterios de diseño de carga. Desplegar esto último por pantalla junto con el resultado de la verificación.\n",
    "\n",
    "#### Solución"
   ]
  },
  {
   "cell_type": "code",
   "execution_count": null,
   "metadata": {},
   "outputs": [],
   "source": [
    "# Ingrese su código aquí 👻"
   ]
  },
  {
   "cell_type": "markdown",
   "metadata": {},
   "source": [
    "## Más adelante...\n",
    "\n",
    "Si bien este tema fue relativamente corto, su utilidad es considerable en el día a día como programador para solucionar problemas de la mejor manera posible. Debe considerarse que este curso está enfocado en ingenierías y ciencias, por lo que necesitamos un objeto matemático llamado **matriz** para sacarle más provecho a los valores lógicos.\n",
    "\n",
    "En síntesis, este tema continuará en cuanto se llegue al tema de **Estructuras de datos - ndarray - Librería numpy**, aunque de igual manera se utilizarán los conceptos aprendidos en varios ejercicios de los temas anteriores al tema antes mencionado y durante todo el curso de forma general."
   ]
  },
  {
   "cell_type": "markdown",
   "metadata": {},
   "source": [
    "----\n",
    "## Material adicional\n",
    "* [Asignaciones condicionales](https://aprendepython.es/core/controlflow/conditionals/#asignaciones-condicionales)\n",
    "* [Álgebra de Boole](https://es.wikipedia.org/wiki/%C3%81lgebra_de_Boole)"
   ]
  }
 ],
 "metadata": {
  "kernelspec": {
   "display_name": "Python 3.10.7 64-bit",
   "language": "python",
   "name": "python3"
  },
  "language_info": {
   "codemirror_mode": {
    "name": "ipython",
    "version": 3
   },
   "file_extension": ".py",
   "mimetype": "text/x-python",
   "name": "python",
   "nbconvert_exporter": "python",
   "pygments_lexer": "ipython3",
   "version": "3.11.8"
  },
  "orig_nbformat": 4,
  "vscode": {
   "interpreter": {
    "hash": "369f2c481f4da34e4445cda3fffd2e751bd1c4d706f27375911949ba6bb62e1c"
   }
  }
 },
 "nbformat": 4,
 "nbformat_minor": 2
}
