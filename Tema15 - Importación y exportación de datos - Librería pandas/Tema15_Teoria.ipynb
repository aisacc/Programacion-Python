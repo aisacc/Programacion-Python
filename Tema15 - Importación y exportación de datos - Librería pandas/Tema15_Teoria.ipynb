{
 "cells": [
  {
   "cell_type": "markdown",
   "metadata": {},
   "source": [
    "# Importación y exportación de datos (_librería **pandas**_)\n",
    "\n",
    "Lo más usual suele ser crear DataFrames a partir de un archivo. Para estos casos utilizamos la librería **pandas**, aunque también existen más formas de importar información. Sin embargo, la más usual y óptimo es con esta librería."
   ]
  },
  {
   "cell_type": "code",
   "execution_count": 1,
   "metadata": {},
   "outputs": [],
   "source": [
    "# pip install openpyxl\n",
    "# import pandas as pd"
   ]
  },
  {
   "cell_type": "markdown",
   "metadata": {},
   "source": [
    "## Importar datos\n",
    "\n",
    "Para importar datos se pueden utilizar los siguientes métodos:\n",
    "\n",
    "* `read_csv`: Para archivos de extensión .csv\n",
    "* `read_excel`: Para archivos de Excel\n",
    "* `read_table`: Para ficheros con delimitadores.\n",
    "* `read_json`: Para ficheros json.\n",
    "\n",
    "Entre muchas más funciones que se puede consultar en el material adicional."
   ]
  },
  {
   "cell_type": "code",
   "execution_count": null,
   "metadata": {},
   "outputs": [],
   "source": [
    "# Ingrese su código aquí 👻"
   ]
  },
  {
   "cell_type": "markdown",
   "metadata": {},
   "source": [
    "## Trabajar con datos importados\n",
    "Trabajar con el DataFrame de datos importados es como trabajar con cualquier otro DataFrame como ya se ha estudiado. Por ende, se pueden añadir filas y columnas, eliminarlas, hacer cálculos, etc."
   ]
  },
  {
   "cell_type": "code",
   "execution_count": null,
   "metadata": {},
   "outputs": [],
   "source": [
    "# Ingrese su código aquí 👻"
   ]
  },
  {
   "cell_type": "markdown",
   "metadata": {},
   "source": [
    "## Exportar datos\n",
    "Para exportar datos se pueden utilizar los siguientes métodos:\n",
    "\n",
    "* `to_csv`: Para archivos de extensión .csv\n",
    "* `to_excel`: Para archivos de Excel\n",
    "* `to_json`: Para ficheros json.\n",
    "\n",
    "Entre muchas más funciones que se puede consultar en el material adicional.\n",
    "\n",
    "**Observación**\n",
    "\n",
    "Como se puede notar, en esencia es cambiar la forma del método. Es decir, en lugar de leer un archivo (*read*) vamos a escribir, o crear, un archivo (*to*)."
   ]
  },
  {
   "cell_type": "code",
   "execution_count": 5,
   "metadata": {},
   "outputs": [],
   "source": [
    "# Ingrese su código aquí 👻"
   ]
  },
  {
   "cell_type": "markdown",
   "metadata": {},
   "source": [
    "----\n",
    "## Material adicional\n",
    "* [Lectura de fuentes externas](https://aprendepython.es/pypi/datascience/pandas/#lectura-de-fuentes-externas)"
   ]
  }
 ],
 "metadata": {
  "kernelspec": {
   "display_name": "Python 3.10.7 64-bit",
   "language": "python",
   "name": "python3"
  },
  "language_info": {
   "codemirror_mode": {
    "name": "ipython",
    "version": 3
   },
   "file_extension": ".py",
   "mimetype": "text/x-python",
   "name": "python",
   "nbconvert_exporter": "python",
   "pygments_lexer": "ipython3",
   "version": "3.12.2"
  },
  "orig_nbformat": 4,
  "vscode": {
   "interpreter": {
    "hash": "369f2c481f4da34e4445cda3fffd2e751bd1c4d706f27375911949ba6bb62e1c"
   }
  }
 },
 "nbformat": 4,
 "nbformat_minor": 2
}
