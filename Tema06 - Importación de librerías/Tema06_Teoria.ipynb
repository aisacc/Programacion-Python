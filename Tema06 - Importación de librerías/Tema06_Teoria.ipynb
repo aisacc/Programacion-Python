{
 "cells": [
  {
   "cell_type": "markdown",
   "metadata": {},
   "source": [
    "# Importación de librerías\n",
    "\n",
    "Las librerías en Python funcionan como herramientas de caja de herramientas especializadas. Imagina que estás construyendo una casa. En lugar de fabricar cada clavo, martillo, y sierra tú mismo, puedes ir a una tienda de herramientas y comprar los que necesitas. Las librerías en Python son como esas tiendas: contienen funciones y módulos ya preparados que puedes usar en tu proyecto sin tener que crearlos desde cero.\n",
    "\n",
    "<figure style=\"text-align: center;\">\n",
    "  <div><strong>Fig. 1.</strong> Caja de herrientas. </div>\n",
    "  <img src=\"markdown_resources\\1.jpg\" style=\"width: 40%; height: auto;\">\n",
    "  <figcaption>Tomado de <A HREF=\"https://www.ferreteriaprincipat.com/los-diferentes-tipos-de-cajas-de-herramientas/\"> FERRETERÍA PRINCIPAD</A>.</figcaption>\n",
    "</figure>"
   ]
  },
  {
   "cell_type": "markdown",
   "metadata": {},
   "source": [
    "## Instalación de librerías (`pip`)\n",
    "\n",
    "Al iniciar este curso se realizó la instalación de varias librerías que vamos a utilizar durante el curso. Para la instalación se utilizó `pip` (**p**ip **i**nstall **p**ackages) que viene instalado junto con Python (https://www.python.org/).\n",
    "\n",
    "Pero, ¿por qué utilizamos `pip`?\n",
    "\n",
    "1. **Facilidad y conveniencia**. `pip` simplifica el proceso de instalación de librerías. En lugar de descargar manualmente archivos de código y configurarlos, puedes instalar una librería con un solo comando. Esto es similar a usar una tienda en línea para comprar herramientas en lugar de ir físicamente a la tienda.\n",
    "\n",
    "2. **Gestión de dependencias**. Muchas librerías dependen de otras librerías para funcionar. `pip` se encarga de estas dependencias automáticamente, descargando e instalando cualquier librería adicional que sea necesaria. Es como si, al comprar una herramienta, también recibieras todas las piezas adicionales y accesorios que necesitas para usarla.\n",
    "\n",
    "3. **Actualizaciones y mantenimiento (_nivel avanzado_)**. Con `pip` es fácil mantener tus librerías actualizadas. Puedes actualizar a la última versión de una librería con un simple comando. Esto es comparable a recibir actualizaciones de software en tu teléfono, asegurando que siempre tengas las últimas mejoras y correcciones de errores.\n",
    "\n",
    "4. **Compatibilidad y aislamiento (_nivel avanzado_)**. `pip` permite gestionar diferentes versiones de librerías y crear entornos virtuales aislados con `venv`. Esto asegura que las versiones específicas de las librerías no entren en conflicto entre proyectos. Es como tener un taller de herramientas separado para cada proyecto, donde cada uno tiene sus propias versiones de herramientas.\n",
    "\n",
    "5. **Acceso a una gran cantidad de librerías**. `pip` se conecta al Python Package Index (PyPI), una enorme colección de librerías Python. Esto te da acceso inmediato a una vasta cantidad de herramientas y funcionalidades, similar a tener acceso a un enorme catálogo de productos en una tienda en línea.\n",
    "\n",
    "Es así que, uniendo todas las ideas anteriores, podemos decir que `pip` hace que la instalación, actualización y gestión de librerías en Python sea eficiente y libre de complicaciones, permitiendo a los desarrolladores concentrarse en el desarrollo de sus proyectos sin preocuparse por los detalles de la configuración manual."
   ]
  },
  {
   "cell_type": "code",
   "execution_count": 1,
   "metadata": {},
   "outputs": [],
   "source": [
    "# Se debe utilizar en una terminal, no se puede ejecutar directamente aquí.\n",
    "# pip install [nombre del paquete]"
   ]
  },
  {
   "cell_type": "markdown",
   "metadata": {},
   "source": [
    "## ¿Existen alternativas a `pip`?\n",
    "\n",
    "Además de `pip` existen varias alternativas para la gestión de paquetes en Python. Algunas de las más conocidas son:\n",
    "\n",
    "1. **conda**. Es un gestor de paquetes y entornos que forma parte del ecosistema Anaconda, muy popular en la comunidad científica y de análisis de datos.\n",
    "\n",
    "2. **Poetry**. Es una herramienta que gestiona dependencias y publica paquetes de Python. Facilita la gestión de las dependencias y la publicación de paquetes en PyPI.\n",
    "\n",
    "3. **pipenv**. Combina `pip` y `virtualenv` para proporcionar una herramienta unificada para la gestión de dependencias y entornos virtuales.\n",
    "\n",
    "4. **Anaconda Navigator**. Es una interfaz gráfica de usuario para la gestión de paquetes y entornos en el ecosistema Anaconda.\n",
    "\n",
    "Por lo tanto, mientras que `pip` es el gestor de paquetes más comúnmente utilizado en el ecosistema de Python, existen alternativas que pueden ser más adecuadas dependiendo de las necesidades y el contexto."
   ]
  },
  {
   "cell_type": "markdown",
   "metadata": {},
   "source": [
    "## Importanción de librerías\n",
    "\n",
    "Importar una librería en Python es como añadir herramientas específicas (o toda una caja de herramientas) a tu proyecto. En lugar de reinventar la rueda, puedes usar funciones y módulos ya desarrollados y optimizados por otros.\n",
    "\n",
    "No está demás mencionar que para importar una librería, ésta debe ya estar instalada.\n",
    "\n",
    "### Formas de importación\n",
    "1. **Importación simple**"
   ]
  },
  {
   "cell_type": "code",
   "execution_count": 2,
   "metadata": {},
   "outputs": [],
   "source": [
    "# Ingresa tu código aquí 👻"
   ]
  },
  {
   "cell_type": "markdown",
   "metadata": {},
   "source": [
    "2. **Importación con alias**"
   ]
  },
  {
   "cell_type": "code",
   "execution_count": null,
   "metadata": {},
   "outputs": [],
   "source": [
    "# Ingresa tu código aquí 👻"
   ]
  },
  {
   "cell_type": "markdown",
   "metadata": {},
   "source": [
    "3. **Importanción específica**"
   ]
  },
  {
   "cell_type": "code",
   "execution_count": null,
   "metadata": {},
   "outputs": [],
   "source": [
    "# Ingresa tu código aquí 👻"
   ]
  },
  {
   "cell_type": "markdown",
   "metadata": {},
   "source": [
    "4. **Importación de todo el contenido**"
   ]
  },
  {
   "cell_type": "code",
   "execution_count": null,
   "metadata": {},
   "outputs": [],
   "source": [
    "# Ingresa tu código aquí 👻"
   ]
  },
  {
   "cell_type": "markdown",
   "metadata": {},
   "source": [
    "#### Ejemplo\n",
    "Consulta la librería `NumPy`, luego instálala e impórtala. ¿Cuál de todas las importaciones sería adecuada? ¿Por qué?\n",
    "\n",
    "#### Solución"
   ]
  },
  {
   "cell_type": "code",
   "execution_count": 9,
   "metadata": {},
   "outputs": [],
   "source": [
    "# Ingresa tu código aquí 👻"
   ]
  },
  {
   "cell_type": "code",
   "execution_count": 8,
   "metadata": {},
   "outputs": [
    {
     "data": {
      "text/plain": [
       "np.float64(2.0)"
      ]
     },
     "execution_count": 8,
     "metadata": {},
     "output_type": "execute_result"
    }
   ],
   "source": [
    "mn([1, 2, 3])"
   ]
  },
  {
   "cell_type": "markdown",
   "metadata": {},
   "source": [
    "## Utiliza y consulta librerías correctamente\n",
    "\n",
    "¿Es difícil utilizar librerías? Esecialmente no. Pero sacarles el máximo provecho sí tiene su magia y esto reside en saber consultar su documentación oficial antes que cualquier otra fuente.\n",
    "\n",
    "Te enlisto algunas razones:\n",
    "\n",
    "1. **Eficiencia y productividad**\n",
    "    * *Ahorro de tiempo*. Al saber cómo utilizar las librerías correctamente, puedes evitar escribir código desde cero y, en cambio, aprovechar las soluciones ya disponibles. Esto es como usar herramientas especializadas en lugar de fabricar tus propias herramientas.\n",
    "\n",
    "    * *Optimización del trabajo*. Las librerías están optimizadas y probadas para realizar tareas específicas de manera eficiente. Usarlas adecuadamente permite que tu código sea más rápido y consuma menos recursos.\n",
    "\n",
    "2. **Calidad del código**\n",
    "    * *Estabilidad y confiabilidad*. Las librerías populares son mantenidas y actualizadas por comunidades de desarrolladores. Esto significa que el código que utilizan es robusto y confiable, lo que reduce el riesgo de errores y fallos en tu programa.\n",
    "\n",
    "    * *Buenas prácticas*. Las librerías están diseñadas siguiendo buenas prácticas de programación. Al utilizarlas, tu propio código hereda estas prácticas, lo que mejora su calidad general.\n",
    "\n",
    "3. **Mantenimiento y escalabilidad**\n",
    "    * *Fácil mantenimiento*. Utilizar librerías bien documentadas facilita el mantenimiento del código. Otros desarrolladores (o tú mismo en el futuro) pueden entender y modificar el código más fácilmente si se basa en librerías estándar.\n",
    "\n",
    "    * *Escalabilidad*. Las librerías permiten manejar proyectos más grandes y complejos de manera más efectiva, ya que ofrecen soluciones escalables a problemas comunes.\n",
    "\n",
    "Con respecto a la ***importancia de la documentación*** te puedo comentar lo siguiente:\n",
    "\n",
    "1. **Referencia completa y precisa**. La documentación oficial es la fuente más precisa y completa de información sobre una librería. Proporciona detalles sobre todas las funciones, clases y métodos disponibles, así como ejemplos de uso y explicaciones de parámetros.\n",
    "\n",
    "2. **Actualización constante**. La documentación oficial se actualiza regularmente junto con la librería, asegurando que siempre tengas acceso a la información más reciente y relevante.\n",
    "\n",
    "3. **Solución de problemas**. Consultar la documentación puede ayudarte a resolver problemas específicos que encuentres al usar la librería. Es como tener un manual de instrucciones detallado y actualizado.\n",
    "\n",
    "4. **Buenas prácticas y ejemplos**. La documentación oficial a menudo incluye ejemplos de buenas prácticas y casos de uso que puedes aplicar directamente en tu código.\n",
    "\n",
    "*En síntesis, si quieres que tu aprendizaje y habilidad en esta poderoso lenguaje de programación llamadado Python sea exponencial, entonces necesariamente debes saber consultar la documentación oficial de las librerías que sean de tu interés*. "
   ]
  },
  {
   "cell_type": "markdown",
   "metadata": {},
   "source": [
    "----\n",
    "## Material adicional\n",
    "* [Documentación de NumPy](https://numpy.org/doc/stable/user/)\n",
    "* [Documentación de pandas](https://pandas.pydata.org/docs/user_guide/index.html)\n",
    "* [Documentación de SciPy](https://docs.scipy.org/doc/scipy-1.13.1/tutorial/index.html)\n",
    "* [Documentación de matplotlib](https://matplotlib.org/stable/users/explain/quick_start.html)"
   ]
  }
 ],
 "metadata": {
  "kernelspec": {
   "display_name": "Python 3.10.7 64-bit",
   "language": "python",
   "name": "python3"
  },
  "language_info": {
   "codemirror_mode": {
    "name": "ipython",
    "version": 3
   },
   "file_extension": ".py",
   "mimetype": "text/x-python",
   "name": "python",
   "nbconvert_exporter": "python",
   "pygments_lexer": "ipython3",
   "version": "3.12.4"
  },
  "orig_nbformat": 4,
  "vscode": {
   "interpreter": {
    "hash": "369f2c481f4da34e4445cda3fffd2e751bd1c4d706f27375911949ba6bb62e1c"
   }
  }
 },
 "nbformat": 4,
 "nbformat_minor": 2
}
