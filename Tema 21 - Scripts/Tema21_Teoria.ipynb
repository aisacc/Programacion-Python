{
 "cells": [
  {
   "cell_type": "markdown",
   "metadata": {},
   "source": [
    "# Scripts\n",
    "\n",
    "Los scripts son el tipo de **archivo de código más simple** debido a que no tiene entradas ni salidas. Además, son útiles para automatizar series de instrucciones en Python. Es decir, en lugar de escribir código, basta con hacerlo bien una sola vez para poder reutilizarlo.\n",
    "\n",
    "Por tanto, cuando se hace esto último, en realidad se estaría creando scripts de funciones los cuales tienen el mismo comportamiento que las funciones ya estudiadas previamente.\n",
    "\n",
    "Dentro de Python tenemos dos tipos de scripts:\n",
    "\n",
    "* **Script de Python**, o archivo *.py*.\n",
    "* **Jupyter notebook** (cuaderno de Jupyter), o archivo *.ipynb*.\n",
    "\n",
    "Existen diferencias sustanciales entre ambos tipos de archivos, además de la diferencia clara en la extensión de los archivos, pero sin duda alguna la diferencia más destacable es que *con los cuadernos de Jupyter se puede trabajar con texto enriquerido y código, mientras que con los script de Python únicamente se trabaja con código*.\n",
    "\n",
    "Que esto no minice la importancia de los script de Python dado que, cuando se avanza con la programación en este lenguaje, en realidad se utiliza principalmente scripts de Python para crear nuestras propias librerías las cuales podremos importar en el proyecto que estemos trabajando."
   ]
  },
  {
   "cell_type": "markdown",
   "metadata": {},
   "source": [
    "## Crear scripts de Python y cuadernos de Jupyter\n",
    "\n",
    "Para crear scripts de Python es suficiente con ir al Explorador de Visual Studio Code y crear un nuevo archivo con la extensión **.py**. Aplica lo mismo para cuadernos de Jupyter los cuales se crean con la extensión **.ipynb**."
   ]
  },
  {
   "cell_type": "markdown",
   "metadata": {},
   "source": [
    "## Convertir de cuaderno de Jupyter a script de Python\n",
    "\n",
    "La opción **Exportar** en la barra de herramientas del cuaderno de Jupyter permite convertir el cuaderno de Jupyter en script de Python automáticamente.\n",
    "\n",
    "**Observación**\n",
    "\n",
    "Hacer el proceso inverso, convertir un script de Python a cuaderno de Jupyter, no es posible."
   ]
  },
  {
   "cell_type": "markdown",
   "metadata": {},
   "source": [
    "## Exportar un cuaderno de Jupyter como PDF o HTML\n",
    "\n",
    "Para exportar un cuaderno de Jupyter a HTML es necesario tener instalado el paquete `notebook` mediante el uso de `pip`. Luego de ello se puede utilizar la misma opción de **Exportar** en la barra de herramientas del cuaderno de Jupyter para exportar el cuaderno a formato HTML.\n",
    "\n",
    "Y bien, si se desea exportar a formato PDF existen dos alternativas:\n",
    "\n",
    "1. Exportar el cuaderno a formato HTML, abrir el archivo HTML creado en un navegador y guardar mediante el navegador como PDF. ¡Bastante sencillo!\n",
    "2. Utilizar la opción de **Exportar** y eligiendo el formato PDF. Pero para esto se requiere tener instalada una distribución de LaTeX (un pseudolenguaje de programación) y esta distribución depende del sistema operativo.\n",
    "\n",
    "Cualquiera de las dos alternativas permite obtener el cuaderno como PDF, sólo que una es más sencilla que la otra."
   ]
  },
  {
   "cell_type": "code",
   "execution_count": 1,
   "metadata": {},
   "outputs": [],
   "source": [
    "# pip install notebook"
   ]
  },
  {
   "cell_type": "markdown",
   "metadata": {},
   "source": [
    "----\n",
    "## Material adicional\n",
    "* [Jupyter](https://aprendepython.es/pypi/datascience/jupyter/)"
   ]
  }
 ],
 "metadata": {
  "kernelspec": {
   "display_name": "Python 3.10.7 64-bit",
   "language": "python",
   "name": "python3"
  },
  "language_info": {
   "codemirror_mode": {
    "name": "ipython",
    "version": 3
   },
   "file_extension": ".py",
   "mimetype": "text/x-python",
   "name": "python",
   "nbconvert_exporter": "python",
   "pygments_lexer": "ipython3",
   "version": "3.12.2"
  },
  "orig_nbformat": 4,
  "vscode": {
   "interpreter": {
    "hash": "369f2c481f4da34e4445cda3fffd2e751bd1c4d706f27375911949ba6bb62e1c"
   }
  }
 },
 "nbformat": 4,
 "nbformat_minor": 2
}
