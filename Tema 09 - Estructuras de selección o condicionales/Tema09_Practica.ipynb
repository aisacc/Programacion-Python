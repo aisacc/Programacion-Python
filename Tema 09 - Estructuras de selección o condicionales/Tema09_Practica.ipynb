{
 "cells": [
  {
   "cell_type": "markdown",
   "metadata": {},
   "source": [
    "# Estructuras de selección o condicionales"
   ]
  },
  {
   "cell_type": "markdown",
   "metadata": {},
   "source": [
    "## Estructura `if-elif-else`\n",
    "### Ejercicio 1\n",
    "Escriba un programa que permita adivinar un personaje de Marvel en base a las tres preguntas siguientes:\n",
    "1. ¿Puede volar?\n",
    "2. ¿Es humano?\n",
    "3. ¿Tiene máscara?\n",
    "\n",
    "<figure style=\"text-align: center;\">\n",
    "  <div><strong>Fig. 1.</strong> Adivinar personaje de Marvel.</div>\n",
    "  <img src=\"https://github.com/aisacc/Programacion-Python/blob/main/_Im%C3%A1genes/Tema%2009%20-%20Estructuras%20de%20selecci%C3%B3n%20o%20condicionales/2.png?raw=true\" style=\"width: 70%; height: auto;\">\n",
    "  <figcaption>Tomado de <strong>Aprende Python</strong> de <em>Sergio Delgado Quintero</em>.</figcaption>\n",
    "</figure>\n",
    "\n",
    "*Ejercicio tomado de Delgado, 2024.*\n",
    "\n",
    "### Solución"
   ]
  },
  {
   "cell_type": "code",
   "execution_count": null,
   "metadata": {},
   "outputs": [],
   "source": [
    "# Ingrese su código aquí 👻"
   ]
  },
  {
   "cell_type": "markdown",
   "metadata": {},
   "source": [
    "### Ejercicio 2\n",
    "Escriba un programa en Python que acepte la edad, el peso, si la persona tuvo una cirugía en los últimos 6 meses y si la persona se hizo un tatuaje en los últimos 12 meses.\n",
    "\n",
    "Entonces, determinar si la persona es apta para donar sangre en función de lo siguiente:\n",
    "* Su edad debe estar entre 18 y 65 años\n",
    "* Debe pesar como mínimo 50 kg\n",
    "* No debe haber tenido una cirugía en los últimos 6 meses\n",
    "* No debe haberse hecho un tatuaje en los últimos 12 meses\n",
    "\n",
    "Desplegar por pantalla si la persona es apta o no para donar sangre.\n",
    "\n",
    "### Solución"
   ]
  },
  {
   "cell_type": "code",
   "execution_count": null,
   "metadata": {},
   "outputs": [],
   "source": [
    "# Ingrese su código aquí 👻"
   ]
  },
  {
   "cell_type": "markdown",
   "metadata": {},
   "source": [
    "### Ejercicio 3 - Ingeniería civil\n",
    "En un proyecto de construcción la elección del tipo de fundación adecuada es crucial para la estabilidad del edificio. El tipo de fundación depende de varios factores: la carga total del edificio, la resistencia del suelo y la presencia de agua subterránea.\n",
    "\n",
    "* Si la carga total es menor a 1000 toneladas y la resistencia del suelo es alta (más de 200 kPa), se recomienda una fundación superficial.\n",
    "* Si la carga total es mayor o igual a 1000 toneladas, la resistencia del suelo es baja (menos de 200 kPa), y hay presencia de agua subterránea, se recomienda una fundación profunda.\n",
    "* Si la carga total es mayor o igual a 1000 toneladas, la resistencia del suelo es media (entre 100 y 200 kPa) y no hay presencia de agua subterránea, se recomienda una fundación de pilotes.\n",
    "* En cualquier otro caso, se recomienda una fundación mixta.\n",
    "\n",
    "Escribe un programa en Python que reciba como entrada la carga total del edificio, la resistencia del suelo, y si hay presencia de agua subterránea (sí o no). El programa debe determinar el tipo de fundación recomendada.\n",
    "\n",
    "### Solución"
   ]
  },
  {
   "cell_type": "code",
   "execution_count": null,
   "metadata": {},
   "outputs": [],
   "source": [
    "# Ingrese su código aquí 👻"
   ]
  },
  {
   "cell_type": "markdown",
   "metadata": {},
   "source": [
    "### Ejercicio 4 - Ingeniería mecánica\n",
    "En el diseño de un componente mecánico la selección del material adecuado depende de las siguientes consideraciones: carga aplicada, resistencia a la corrosión y peso del material.\n",
    "\n",
    "* Si la carga aplicada es alta (mayor a 5000 N) y se requiere alta resistencia a la corrosión, se recomienda acero inoxidable.\n",
    "* Si la carga aplicada es media (entre 2000 y 5000 N), se requiere resistencia a la corrosión media, y el peso es un factor crítico, se recomienda aluminio.\n",
    "* Si la carga aplicada es baja (menos de 2000 N) y el peso es el factor más importante, se recomienda titanio.\n",
    "* Si la carga es alta y el material debe ser económico, se recomienda acero al carbono.\n",
    "\n",
    "Escribe un programa en Python que reciba como entrada la carga aplicada, la necesidad de resistencia a la corrosión (alta, media, baja), y si el peso es un factor crítico (sí o no). El programa debe determinar el material recomendado\n",
    "\n",
    "### Solución"
   ]
  },
  {
   "cell_type": "code",
   "execution_count": null,
   "metadata": {},
   "outputs": [],
   "source": [
    "# Ingrese su código aquí 👻"
   ]
  },
  {
   "cell_type": "markdown",
   "metadata": {},
   "source": [
    "### Ejercicio 5 - Ingeniería eléctrica\n",
    "Al diseñar un sistema de distribución de energía la selección del tipo de cableado depende de la tensión, la longitud de la línea y el tipo de carga.\n",
    "\n",
    "* Si la tensión es alta (mayor a 11 kV) y la longitud de la línea es larga (mayor a 500 metros), se recomienda utilizar cables subterráneos de alta tensión.\n",
    "* Si la tensión es media (entre 1 kV y 11 kV) y la longitud de la línea es corta (menor o igual a 500 metros), se recomienda utilizar cables aéreos.\n",
    "* Si la tensión es baja (menor a 1 kV) y el tipo de carga es sensible, se recomienda utilizar cables blindados.\n",
    "* Si la tensión es media y la longitud de la línea es larga, se recomienda utilizar cables subterráneos de media tensión.\n",
    "\n",
    "Escribe un programa en Python que reciba como entrada la tensión, la longitud de la línea y el tipo de carga (sensible/normal). El programa debe determinar el tipo de cableado recomendado.\n",
    "\n",
    "### Solución"
   ]
  },
  {
   "cell_type": "code",
   "execution_count": null,
   "metadata": {},
   "outputs": [],
   "source": [
    "# Ingrese su código aquí 👻"
   ]
  },
  {
   "cell_type": "markdown",
   "metadata": {},
   "source": [
    "### Ejercicio 6 - Ingeniería ambiental\n",
    "En un sistema de tratamiento de aguas residuales la necesidad de tratamiento adicional se evalúa según la concentración de contaminantes, el pH del agua y la cantidad de sólidos en suspensión.\n",
    "\n",
    "* Si la concentración de contaminantes es alta (mayor a 200 mg/L) y el pH es menor a 6 o mayor a 8, se requiere tratamiento químico.\n",
    "* Si la concentración de contaminantes es media (entre 100 y 200 mg/L) y la cantidad de sólidos en suspensión es alta (mayor a 100 mg/L), se requiere tratamiento físico-químico.\n",
    "* Si la concentración de contaminantes es baja (menor a 100 mg/L) pero la cantidad de sólidos en suspensión es baja (menor a 100 mg/L), se puede optar por tratamiento biológico.\n",
    "* Si el pH es neutro (entre 6 y 8) y la concentración de contaminantes es media, se requiere tratamiento físico.\n",
    "\n",
    "Escribe un programa en Python que reciba como entrada la concentración de contaminantes, el pH del agua y la cantidad de sólidos en suspensión. El programa debe determinar la necesidad de tratamiento.\n",
    "\n",
    "### Solución"
   ]
  },
  {
   "cell_type": "code",
   "execution_count": null,
   "metadata": {},
   "outputs": [],
   "source": [
    "# Ingrese su código aquí 👻"
   ]
  },
  {
   "cell_type": "markdown",
   "metadata": {},
   "source": [
    "## Estructura `match-case`\n",
    "### Ejercicio 1\n",
    "En la Universidad de Utah, cada especialización en ingeniería requiere un número diferente de créditos para graduación. Por ejemplo, en 2005, los requisitos para algunos de los departamentos fueron los siguientes:\n",
    "* Ingeniería civil: 130\n",
    "* Ingeniería química: 130\n",
    "* Ingeniería en computación: 122\n",
    "* Ingeniería eléctrica: 126.5\n",
    "* Ingeniería mecánica: 129\n",
    "\n",
    "Solicite al usuario a ingresar un programa de ingeniería. Luego, desplegar por pantalla el número mínimo de créditos requeridos para la graduación.\n",
    "\n",
    "*Ejercicio modificado de Moore, 2007.*\n",
    "\n",
    "### Solución"
   ]
  },
  {
   "cell_type": "code",
   "execution_count": null,
   "metadata": {},
   "outputs": [],
   "source": [
    "# Ingrese su código aquí 👻"
   ]
  },
  {
   "cell_type": "markdown",
   "metadata": {},
   "source": [
    "### Ejercicio 2 - Ingeniería civil\n",
    "En la ingeniería civil las estructuras se clasifican según el tipo de material utilizado y el propósito de la estructura. Los materiales posibles son concreto, acero y madera. Los propósitos posibles son residencial, comercial e industrial. Escribe un programa que reciba el material y el propósito de la estructura e indique el tipo de estructura.\n",
    "\n",
    "Por ejemplo, si el usuario ingresa \"concreto\" y \"comercial\", entonces se debería desplegar por pantalla \"Estructura de concreto de uso comercial\".\n",
    "\n",
    "### Solución"
   ]
  },
  {
   "cell_type": "code",
   "execution_count": null,
   "metadata": {},
   "outputs": [],
   "source": [
    "# Ingrese su código aquí 👻"
   ]
  },
  {
   "cell_type": "markdown",
   "metadata": {},
   "source": [
    "### Ejercicio 3 - Ingeniería ambiental\n",
    "La planta de tratamiento de aguas residuales debe seleccionar el tipo de tratamiento adecuado en función del nivel de contaminación y el tipo de contaminantes. El nivel de contaminación puede ser bajo, medio o alto, y los contaminantes pueden ser orgánicos, inorgánicos o mixtos.\n",
    "\n",
    "Escribe un programa en Python que, basándose en el nivel de contaminación y el tipo de contaminantes proporcionados por el usuario, determine el tipo de tratamiento de aguas residuales más adecuado.\n",
    "\n",
    "**Nivel de Contaminación:**\n",
    "\n",
    "* Bajo: La concentración de contaminantes es baja.\n",
    "* Medio: La concentración de contaminantes es moderada.\n",
    "* Alto: La concentración de contaminantes es alta.\n",
    "\n",
    "**Tipo de Contaminantes:**\n",
    "\n",
    "* Orgánicos: Contaminantes que provienen de fuentes biológicas, como residuos alimenticios y materia orgánica.\n",
    "* Inorgánicos: Contaminantes que no son de origen biológico, como metales pesados y sales.\n",
    "* Mixtos: Contaminantes que incluyen tanto orgánicos como inorgánicos.\n",
    "\n",
    "**Tipos de Tratamiento Recomendados:**\n",
    "\n",
    "* Tratamiento Biológico: Efectivo para contaminantes orgánicos en niveles de contaminación bajos a medios.\n",
    "* Tratamiento Físico-Químico: Adecuado para contaminantes inorgánicos y en niveles de contaminación medios a altos.\n",
    "* Tratamiento Avanzado: Utilizado para niveles altos de contaminación y contaminantes mixtos.\n",
    "* Tratamiento Biológico con Pretratamiento: Recomendado para niveles bajos de contaminación con contaminantes mixtos.\n",
    "* Tratamiento Físico-Químico con Biológico: Combinación para niveles medios de contaminación con contaminantes orgánicos.\n",
    "* Tratamiento Avanzado con Pretratamiento: Usado para niveles altos de contaminación con contaminantes orgánicos.\n",
    "\n",
    "### Solución"
   ]
  },
  {
   "cell_type": "code",
   "execution_count": null,
   "metadata": {},
   "outputs": [],
   "source": [
    "# Ingrese su código aquí 👻"
   ]
  }
 ],
 "metadata": {
  "kernelspec": {
   "display_name": "Python 3.10.7 64-bit",
   "language": "python",
   "name": "python3"
  },
  "language_info": {
   "codemirror_mode": {
    "name": "ipython",
    "version": 3
   },
   "file_extension": ".py",
   "mimetype": "text/x-python",
   "name": "python",
   "nbconvert_exporter": "python",
   "pygments_lexer": "ipython3",
   "version": "3.11.8"
  },
  "orig_nbformat": 4,
  "vscode": {
   "interpreter": {
    "hash": "369f2c481f4da34e4445cda3fffd2e751bd1c4d706f27375911949ba6bb62e1c"
   }
  }
 },
 "nbformat": 4,
 "nbformat_minor": 2
}
