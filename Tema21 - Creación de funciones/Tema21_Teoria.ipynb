{
 "cells": [
  {
   "cell_type": "markdown",
   "metadata": {},
   "source": [
    "# Creación de funciones\n",
    "\n",
    "Las funciones son una **serie de instrucciones** que requieren una o varias entradas (en raros casos con ninguna) y que devuelven una o varias salidas.\n",
    "\n",
    "Previamente ya hemos estudiado las funciones internas en Python, aquellas que vienen integradas dentro de Python y en la mayoría de casos serán más que suficiente (incluyendo las funciones de librerías externas de Python como NumPy, Pandas, etc.). No obstante, en los casos donde estas funciones no sean suficiente, entonces deberemos crear nuestras propias funciones.\n",
    "\n",
    "Las funciones que podemos crear tienen la misma estructura que las funciones internas de Python, así que únicamente es necesario aprender la forma de crearlas."
   ]
  },
  {
   "cell_type": "markdown",
   "metadata": {},
   "source": [
    "## Palabra reservada `def`\n",
    "[...]"
   ]
  },
  {
   "cell_type": "markdown",
   "metadata": {},
   "source": [
    "## Funciones locales\n",
    "[...]"
   ]
  },
  {
   "cell_type": "markdown",
   "metadata": {},
   "source": [
    "### Función local dentro del script/cuaderno de Jupyter\n",
    "[...]"
   ]
  },
  {
   "cell_type": "markdown",
   "metadata": {},
   "source": [
    "### Función local como archivo de función\n",
    "Explicar la creación de una función en un archivo .py, pero no extenderse a la explicación de creación de módulos.\n",
    "\n",
    "[...]"
   ]
  },
  {
   "cell_type": "markdown",
   "metadata": {},
   "source": [
    "## Creación de módulos\n",
    "[...]"
   ]
  },
  {
   "cell_type": "markdown",
   "metadata": {},
   "source": [
    "## Espacios de trabajo\n",
    "[...]"
   ]
  },
  {
   "cell_type": "markdown",
   "metadata": {},
   "source": [
    "## Añadir documentación a una función\n",
    "[...]"
   ]
  },
  {
   "cell_type": "markdown",
   "metadata": {},
   "source": [
    "----\n",
    "## Material adicional\n",
    "* [Nombre](Enlace)"
   ]
  }
 ],
 "metadata": {
  "kernelspec": {
   "display_name": "Python 3.10.7 64-bit",
   "language": "python",
   "name": "python3"
  },
  "language_info": {
   "codemirror_mode": {
    "name": "ipython",
    "version": 3
   },
   "file_extension": ".py",
   "mimetype": "text/x-python",
   "name": "python",
   "nbconvert_exporter": "python",
   "pygments_lexer": "ipython3",
   "version": "3.11.4"
  },
  "orig_nbformat": 4,
  "vscode": {
   "interpreter": {
    "hash": "369f2c481f4da34e4445cda3fffd2e751bd1c4d706f27375911949ba6bb62e1c"
   }
  }
 },
 "nbformat": 4,
 "nbformat_minor": 2
}
