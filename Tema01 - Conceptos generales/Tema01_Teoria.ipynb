{
 "cells": [
  {
   "cell_type": "markdown",
   "metadata": {},
   "source": [
    "# Conceptos generales"
   ]
  },
  {
   "cell_type": "markdown",
   "metadata": {},
   "source": [
    "## Variable\n",
    "Una **variable** está formada por un **espacio** en la memoria principal de un ordenador y un **nombre** (o identificador) simbólico que está asociado a dicho espacio.\n",
    "<figure style=\"text-align: center;\">\n",
    "  <div><strong>Fig. 1.</strong> Esquema (<em>medadatos</em>) de un objeto en Python. </div>\n",
    "  <img src=\"markdown_resources/1.jpg\" style=\"width: 50%; height: auto;\">\n",
    "  <figcaption>Tomado de <strong>Aprende Python</strong> de <em>Sergio Delgado Quintero</em>.</figcaption>\n",
    "</figure>\n",
    "\n",
    "Se podría entender a una variable como una **relación entre un espacio dentro de la computadora y el nombre que se le asigne a ese espacio**.\n",
    "<figure style=\"text-align: center;\">\n",
    "  <div><strong>Fig. 2.</strong> Esquema de asignación de variables.</div>\n",
    "  <img src=\"markdown_resources/2.jpg\" style=\"width: 30%; height: auto;\">\n",
    "  <figcaption>Tomado de <strong>Aprende Python</strong> de <em>Sergio Delgado Quintero</em>.</figcaption>\n",
    "</figure>"
   ]
  },
  {
   "cell_type": "code",
   "execution_count": 31,
   "metadata": {},
   "outputs": [],
   "source": [
    "# Ingrese su código aquí 👻"
   ]
  },
  {
   "cell_type": "markdown",
   "metadata": {},
   "source": [
    "**Observación**\n",
    "\n",
    "Se recomienda nombrar a las variables de forma representativa. Por ejemplo, si es necesario guardar el valor de la gravedad $9.81 m/s^2$, el nombre de la variable sería `g`. O si es necesario guardar un nombre \"Isacc\", el nombre de la variable sería `name` o `nombre`, etc.\n",
    "Es decir, se recomienda que la variable describa su contenido sin necesidad de visualizarlo, es decir, que el nombre sea autoexplicativo.\n",
    "\n",
    "**Observación**\n",
    "\n",
    "Un caso particular que se debe destacar son las **constantes**. Éstas son *variables que **no cambian su valor** a lo largo del código*."
   ]
  },
  {
   "cell_type": "code",
   "execution_count": 22,
   "metadata": {},
   "outputs": [],
   "source": [
    "# Ingrese su código aquí 👻"
   ]
  },
  {
   "cell_type": "markdown",
   "metadata": {},
   "source": [
    "### Asignación aumentada\n",
    "La asignación aumentada, o reasignar una variable, es realizar un proceso con esa variable y guardarla en sí misma, reasignando su valor.\n",
    "\n",
    "<figure style=\"text-align: center;\">\n",
    "  <div><strong>Fig. 3.</strong> Esquema de asignación aumentada.</div>\n",
    "  <img src=\"markdown_resources/3.jpg\" style=\"width: 50%; height: auto;\">\n",
    "  <figcaption>Tomado de <strong>Aprende Python</strong> de <em>Sergio Delgado Quintero</em>.</figcaption>\n",
    "</figure>"
   ]
  },
  {
   "cell_type": "code",
   "execution_count": 23,
   "metadata": {},
   "outputs": [],
   "source": [
    "# Ingrese su código aquí 👻"
   ]
  },
  {
   "cell_type": "markdown",
   "metadata": {},
   "source": [
    "### Nombres de variables válidos\n",
    "Los nombres válidos de variables deben cumplir con las siguientes reglas:\n",
    "1. Sólo pueden contener caracteres válidos, los cuales son:\n",
    "    * Letras mayúsculas o minúsculas\n",
    "    * Dígitos (o números)\n",
    "    * Guiones bajos\n",
    "2. Siempre deben empezar con una letra, mayúscula y minúscula, o un guión bajo.\n",
    "3. No pueden ser una palabra reservada."
   ]
  },
  {
   "cell_type": "code",
   "execution_count": 24,
   "metadata": {},
   "outputs": [],
   "source": [
    "# Ingrese su código aquí 👻"
   ]
  },
  {
   "cell_type": "markdown",
   "metadata": {},
   "source": [
    "**Observación**\n",
    "\n",
    "En realidad sí es posible utilizar más caracteres además de los listados anteriormente como la *ñ* o letras con tilde, \"á\". Incluso se puede utilizar emojis 👻, pero no se recomienda demasiado su uso. La decisión de usarlos o no depende del programador."
   ]
  },
  {
   "cell_type": "code",
   "execution_count": 25,
   "metadata": {},
   "outputs": [],
   "source": [
    "# Ingrese su código aquí 👻"
   ]
  },
  {
   "cell_type": "markdown",
   "metadata": {},
   "source": [
    "## Palabras reservadas\n",
    "Una palabra reservada es aquella que no puede utilizarse como nombre de una variable porque está **reservada** para otro uso."
   ]
  },
  {
   "cell_type": "code",
   "execution_count": 4,
   "metadata": {},
   "outputs": [],
   "source": [
    "# help('keywords')"
   ]
  },
  {
   "cell_type": "markdown",
   "metadata": {},
   "source": [
    "## Comentarios\n",
    "Al momento de escribir código es una buena práctica agregar comentarios que describan el código. Los comentarios permiten que otros entiendan tu código y puedan refrescar su memoria cuando regresen a él más tarde. Esto ayuda a reutilizar código fácilmente cuando es necesario."
   ]
  },
  {
   "cell_type": "code",
   "execution_count": 26,
   "metadata": {},
   "outputs": [],
   "source": [
    "# Ingrese su código aquí 👻"
   ]
  },
  {
   "cell_type": "markdown",
   "metadata": {},
   "source": [
    "## Mostrar y ocultar el valor de una variable\n",
    "Inicialmente es bueno visualizar el valor de una variable para saber qué se está asignando y si esa información es correcta. No obstante, mientras se desarrolla el código es útil visualizar la información únicamente cuando lo creemos necesario, más no siempre.\n",
    "\n",
    "Python, al asignar variables, por defecto suprime la visualización del valor de la variable. Únicamente crea la variable."
   ]
  },
  {
   "cell_type": "code",
   "execution_count": 27,
   "metadata": {},
   "outputs": [],
   "source": [
    "# Ingrese su código aquí 👻"
   ]
  },
  {
   "cell_type": "markdown",
   "metadata": {},
   "source": [
    "Sin embargo, si se requiere visualizar el valor de una variable hay dos formas:\n",
    "1. Únicamente escribir el nombre de la variable.\n",
    "2. Utilizar la función `print`."
   ]
  },
  {
   "cell_type": "code",
   "execution_count": 28,
   "metadata": {},
   "outputs": [],
   "source": [
    "# Ingrese su código aquí 👻"
   ]
  },
  {
   "cell_type": "markdown",
   "metadata": {},
   "source": [
    "## Separar una línea de código en varias líneas\n",
    "En ocasiones una línea de código se hará demasiado larga como para escribirla en una sola línea, por lo que será necesario dividir esa línea en dos o más líneas de código, pero que todas éstas correspondan a una sola línea de código a pesar de haber sido divididas.\n",
    "\n",
    "Para hacer esta separación se utiliza el *backslash*, `\\`, al final de la línea que se desee separar. Se pueden hacer tantas separaciones como se requiera."
   ]
  },
  {
   "cell_type": "code",
   "execution_count": 29,
   "metadata": {},
   "outputs": [],
   "source": [
    "# Ingrese su código aquí 👻"
   ]
  },
  {
   "cell_type": "markdown",
   "metadata": {},
   "source": [
    "También existen otras formas de separar una línea de código, pero dependerá de la situación. Por ejemplo, al definir una lista se puede añadir un salto de línea luego de la coma, `,`."
   ]
  },
  {
   "cell_type": "code",
   "execution_count": 20,
   "metadata": {},
   "outputs": [],
   "source": [
    "# food = ['meat',\n",
    "#         'apple',\n",
    "#         'rice']"
   ]
  },
  {
   "cell_type": "markdown",
   "metadata": {},
   "source": [
    "Este comportamiento también es válido para argumentos de entrada de una función, pero esto se irá detallando más adelante."
   ]
  },
  {
   "cell_type": "markdown",
   "metadata": {},
   "source": [
    "----\n",
    "## Material adicional\n",
    "* [Datos](https://aprendepython.es/core/datatypes/data/)"
   ]
  }
 ],
 "metadata": {
  "kernelspec": {
   "display_name": "Python 3.10.7 64-bit",
   "language": "python",
   "name": "python3"
  },
  "language_info": {
   "codemirror_mode": {
    "name": "ipython",
    "version": 3
   },
   "file_extension": ".py",
   "mimetype": "text/x-python",
   "name": "python",
   "nbconvert_exporter": "python",
   "pygments_lexer": "ipython3",
   "version": "3.11.8"
  },
  "orig_nbformat": 4,
  "vscode": {
   "interpreter": {
    "hash": "369f2c481f4da34e4445cda3fffd2e751bd1c4d706f27375911949ba6bb62e1c"
   }
  }
 },
 "nbformat": 4,
 "nbformat_minor": 2
}
