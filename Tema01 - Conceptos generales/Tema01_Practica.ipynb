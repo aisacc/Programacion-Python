{
 "cells": [
  {
   "cell_type": "markdown",
   "metadata": {},
   "source": [
    "# Conceptos generales"
   ]
  },
  {
   "cell_type": "markdown",
   "metadata": {},
   "source": [
    "## Variables y reasignación\n",
    "### Ejercicio\n",
    "Realizar las siguientes actividades:\n",
    "1. Crear la variable `edad` y asígnale tu edad.\n",
    "2. ¿Qué edad tendrías dentro de 13 años? Para responder esta pregunta debes reasignar a tu edad la cantidad de años indicada.\n",
    "3. ¿Qué edad tendrías dentro de 26 y 39 años? Para responder esta pregunta no debes reasignar nuevamente los años indicados, únicamente debes ejecutar varias veces el código del literal 2.\n",
    "\n",
    "### Solución"
   ]
  },
  {
   "cell_type": "code",
   "execution_count": 3,
   "metadata": {},
   "outputs": [],
   "source": [
    "# Ingrese su respuesta aquí 👻"
   ]
  },
  {
   "cell_type": "markdown",
   "metadata": {},
   "source": [
    "## Nombres de variables válidos y palabras reservadas\n",
    "### Ejercicio\n",
    "Identifique cuál de los siguientes nombres es un nombre de variable válido o no lo es, y justifique el motivo.\n",
    "* A3\n",
    "* _hello\n",
    "* ___5\n",
    "* año2022\n",
    "* 4_equipos\n",
    "* a_b-c\n",
    "* a_b_4_\n",
    "\n",
    "### Solución"
   ]
  },
  {
   "cell_type": "markdown",
   "metadata": {},
   "source": [
    "Ingrese su solución aquí 👻"
   ]
  },
  {
   "cell_type": "markdown",
   "metadata": {},
   "source": [
    "## Mostrar u ocultar salidas\n",
    "### Ejercicio\n",
    "Explique la diferencia entre las siguientes formas de visualizar los valores de las variables `a` y `b`:\n",
    "\n",
    "*Forma 1*\n",
    "```\n",
    "a = 9 * 2\n",
    "b = 'gato'\n",
    "a\n",
    "b\n",
    "```\n",
    "*Forma 2*\n",
    "```\n",
    "a = 9 * 2\n",
    "b = 'gato'\n",
    "print(a)\n",
    "print(b)\n",
    "```\n",
    "\n",
    "¿Cuál forma utilizaría usted? Justifique.\n",
    "\n",
    "### Solución"
   ]
  },
  {
   "cell_type": "markdown",
   "metadata": {},
   "source": [
    "Ingrese su solución aquí 👻"
   ]
  }
 ],
 "metadata": {
  "kernelspec": {
   "display_name": "Python 3.10.7 64-bit",
   "language": "python",
   "name": "python3"
  },
  "language_info": {
   "codemirror_mode": {
    "name": "ipython",
    "version": 3
   },
   "file_extension": ".py",
   "mimetype": "text/x-python",
   "name": "python",
   "nbconvert_exporter": "python",
   "pygments_lexer": "ipython3",
   "version": "3.11.8"
  },
  "orig_nbformat": 4,
  "vscode": {
   "interpreter": {
    "hash": "369f2c481f4da34e4445cda3fffd2e751bd1c4d706f27375911949ba6bb62e1c"
   }
  }
 },
 "nbformat": 4,
 "nbformat_minor": 2
}
