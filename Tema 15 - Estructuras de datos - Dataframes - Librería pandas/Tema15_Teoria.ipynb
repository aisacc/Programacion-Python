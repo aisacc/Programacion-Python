{
 "cells": [
  {
   "cell_type": "markdown",
   "metadata": {},
   "source": [
    "# Estructuras de datos: Dataframes (_librería **pandas**_)\n",
    "\n",
    "**pandas** es un paquete de código abierto (open-source) que permite de una forma sencilla y potente manipular estructuras de datos a través de múltiples herramientas para su análisis.\n",
    "\n",
    "La forma más usual de importar esta librería es utilizando el alias `pd`."
   ]
  },
  {
   "cell_type": "code",
   "execution_count": null,
   "metadata": {},
   "outputs": [],
   "source": [
    "# pip install pandas    (en la terminal)\n",
    "# import pandas as pd   (en el cuaderno de Jupyter o archivo Python)"
   ]
  },
  {
   "cell_type": "markdown",
   "metadata": {},
   "source": [
    "Con pandas se tiene 2 estructuras de datos fundamentales: las `series` y los `dataframes`. Se iniciará con el estudio de las `series`."
   ]
  },
  {
   "cell_type": "markdown",
   "metadata": {},
   "source": [
    "## Series\n",
    "### Creación de series\n",
    "Para crear una serie se utiliza la función `Series()`."
   ]
  },
  {
   "cell_type": "code",
   "execution_count": null,
   "metadata": {},
   "outputs": [],
   "source": [
    "# Ingrese su código aquí 👻"
   ]
  },
  {
   "cell_type": "markdown",
   "metadata": {},
   "source": [
    "La serie por defecto se crea con índices que empiezan en 0. Sin embargo, se puede especificar el índice de los elementos mediante el parámetro `index`. "
   ]
  },
  {
   "cell_type": "code",
   "execution_count": null,
   "metadata": {},
   "outputs": [],
   "source": [
    "# Ingrese su código aquí 👻"
   ]
  },
  {
   "cell_type": "markdown",
   "metadata": {},
   "source": [
    "Al igual que se puede modificar el nombre de la serie mediante el parámetro `name`."
   ]
  },
  {
   "cell_type": "code",
   "execution_count": null,
   "metadata": {},
   "outputs": [],
   "source": [
    "# Ingrese su código aquí 👻"
   ]
  },
  {
   "cell_type": "markdown",
   "metadata": {},
   "source": [
    "**Observación**\n",
    "\n",
    "Un dato interesante es que pasando un diccionario como argumento para crear una serie se crea automáticamente la serie con las claves como índices y los valores como los elementos de la serie."
   ]
  },
  {
   "cell_type": "code",
   "execution_count": null,
   "metadata": {},
   "outputs": [],
   "source": [
    "# Ingrese su código aquí 👻"
   ]
  },
  {
   "cell_type": "markdown",
   "metadata": {},
   "source": [
    "#### Ejemplo\n",
    "Cree una serie de pandas con valores enteros en el intervalo $[1, 26]$ y etiquetas `'ABCDEFGHIJKLMNOPQRSTUVWXYZ'`. Busque una manera programática (no manual) de hacerlo.\n",
    "\n",
    "*Ejercicio tomado de Delgado, 2024.*\n",
    "\n",
    "#### Solución"
   ]
  },
  {
   "cell_type": "code",
   "execution_count": null,
   "metadata": {},
   "outputs": [],
   "source": [
    "# Ingrese su código aquí 👻"
   ]
  },
  {
   "cell_type": "markdown",
   "metadata": {},
   "source": [
    "### Atributos de una serie\n",
    "\n",
    "Las series poseen atributos bastante útiles de los cuales se destacan los siguientes:\n",
    "* `index`\n",
    "* `values`\n",
    "* `dtype`\n",
    "* `name`\n",
    "* `size`"
   ]
  },
  {
   "cell_type": "code",
   "execution_count": null,
   "metadata": {},
   "outputs": [],
   "source": [
    "# Ingrese su código aquí 👻"
   ]
  },
  {
   "cell_type": "markdown",
   "metadata": {},
   "source": [
    "### Indexación de series\n",
    "Existen diversas formas de indexar elementos de una serie.\n",
    "* Indexación numérica\n",
    "* Indexación mediante el atributo `iloc`\n",
    "* Indexación mediante etiquetas\n",
    "* Indexación mediante el atributo `loc`\n",
    "\n",
    "Lo interesante es que las dos primeras indexaciones son bastante similares en su forma de trabajar, al igual que las dos últimas."
   ]
  },
  {
   "cell_type": "code",
   "execution_count": null,
   "metadata": {},
   "outputs": [],
   "source": [
    "# Ingrese su código aquí 👻"
   ]
  },
  {
   "cell_type": "markdown",
   "metadata": {},
   "source": [
    "Otra indexación extremadamente útil es la indexación lógica."
   ]
  },
  {
   "cell_type": "code",
   "execution_count": null,
   "metadata": {},
   "outputs": [],
   "source": [
    "# Ingrese su código aquí 👻"
   ]
  },
  {
   "cell_type": "markdown",
   "metadata": {},
   "source": [
    "### Ordenación de series\n",
    "Utilizando los métodos `sort_values` y `sort_index` se puede ordenar los elementos de una serie por sus valores o por sus índices, respectivamente."
   ]
  },
  {
   "cell_type": "code",
   "execution_count": null,
   "metadata": {},
   "outputs": [],
   "source": [
    "# Ingrese su código aquí 👻"
   ]
  },
  {
   "cell_type": "markdown",
   "metadata": {},
   "source": [
    "Ambos métodos permiten el uso de los parámetros `ascending` y `inplace` los cuales permiten determinar el orden de ordenamiento (ascendente o descendente) y si el ordenamiento será en la propia serie o se creará una nueva, respectivamente."
   ]
  },
  {
   "cell_type": "code",
   "execution_count": 1,
   "metadata": {},
   "outputs": [],
   "source": [
    "# Ingrese su código aquí 👻"
   ]
  },
  {
   "cell_type": "markdown",
   "metadata": {},
   "source": [
    "### Operaciones entre series\n",
    "\n",
    "Se puede realizar distintos tipos de operaciones con series y entre ellas, de las cuales se destacan:\n",
    "* Operación entre series y escalares\n",
    "* Operaciones entre series\n",
    "\n",
    "Para esta última operación se debe considerar que la operación se realiza entre valores del mismo índice."
   ]
  },
  {
   "cell_type": "code",
   "execution_count": null,
   "metadata": {},
   "outputs": [],
   "source": [
    "# Ingrese su código aquí 👻"
   ]
  },
  {
   "cell_type": "markdown",
   "metadata": {},
   "source": [
    "### Funciones estadísticas\n",
    "\n",
    "Existen varias funciones útiles relacionadas con la estadística:\n",
    "* `min()`\n",
    "* `max()`\n",
    "* `argmin()`\n",
    "* `argmax()`\n",
    "* `idxmin()`\n",
    "* `idxmax()`\n",
    "* `nsmallest()`\n",
    "* `nlargest()`"
   ]
  },
  {
   "cell_type": "code",
   "execution_count": null,
   "metadata": {},
   "outputs": [],
   "source": [
    "# Ingrese su código aquí 👻"
   ]
  },
  {
   "cell_type": "markdown",
   "metadata": {},
   "source": [
    "### Exportación de series\n",
    "\n",
    "Para exportar una serie a otro tipo de dato o a un archivo externo se puede utilizar los siguientes métodos:\n",
    "* `to_list()`\n",
    "* `to_dict()`\n",
    "* `to_frame()`\n",
    "* `to_csv()`\n",
    "* `to_excel()`\n",
    "\n",
    "Existen muchos más métodos, pero éstos son los más usuales."
   ]
  },
  {
   "cell_type": "code",
   "execution_count": 7,
   "metadata": {},
   "outputs": [],
   "source": [
    "# Ingrese su código aquí 👻"
   ]
  },
  {
   "cell_type": "markdown",
   "metadata": {},
   "source": [
    "## DataFrames\n",
    "Una DataFrame es una estructura tabular la cual está conformada por varias series. Se parece bastante a las tablas que se utilizan en otros programas con Excel.\n",
    "\n",
    "<figure style=\"text-align: center;\">\n",
    "  <div><strong>Fig. 1.</strong> Estructura de un DataFrame a partir de Series </div>\n",
    "  <img src=\"markdown_resources/1.png\" style=\"width: 75%; height: auto;\">\n",
    "  <figcaption>Tomado de <strong>Aprende Python</strong> de <em>Sergio Delgado Quintero</em>.</figcaption>\n",
    "</figure>"
   ]
  },
  {
   "cell_type": "markdown",
   "metadata": {},
   "source": [
    "### Creación de DataFrames\n",
    "Los DataFrames se crean mediante el método `DataFrame()` a través de diccionarios, listas, Series o incluso mediante la lectura (importación) de archivos. Esta última forma se estudiará en un tema aparte."
   ]
  },
  {
   "cell_type": "code",
   "execution_count": null,
   "metadata": {},
   "outputs": [],
   "source": [
    "# Ingrese su código aquí 👻"
   ]
  },
  {
   "cell_type": "markdown",
   "metadata": {},
   "source": [
    "Los DataFrames también poseen índices que por defecto empiezan en 0, pero se puede modificarlos según la necesidad o asignar una columna del DataFrame como los valores de los índices. Para esto último se utiliza el método `set_index()` donde el argumento que se debe indicar es el nombre de la columna.\n",
    "\n",
    "Por supuesto que también es posible asignar directamente los índices utilizando el parámetro `index` en el método `DataFrame()`."
   ]
  },
  {
   "cell_type": "code",
   "execution_count": null,
   "metadata": {},
   "outputs": [],
   "source": [
    "# Ingrese su código aquí 👻"
   ]
  },
  {
   "cell_type": "markdown",
   "metadata": {},
   "source": [
    "Para modificar el nombre de la columna de índices, si así se quisiese, se utiliza el atributo `index.name`."
   ]
  },
  {
   "cell_type": "code",
   "execution_count": 17,
   "metadata": {},
   "outputs": [],
   "source": [
    "# Ingrese su código aquí 👻"
   ]
  },
  {
   "cell_type": "markdown",
   "metadata": {},
   "source": [
    "### Visualización de los datos\n",
    "\n",
    "Una forma rápida de saber si el DataFrame que hemos creado, o importado, ha sido correcto es utilizar los métodos `head()` y `tail()` que permiten visualizar las primeras y últimas, respectivamente, 5 observaciones."
   ]
  },
  {
   "cell_type": "code",
   "execution_count": 18,
   "metadata": {},
   "outputs": [],
   "source": [
    "# Ingrese su código aquí 👻"
   ]
  },
  {
   "cell_type": "markdown",
   "metadata": {},
   "source": [
    "### Información de los datos\n",
    "\n",
    "Dos métodos bastante útiles para conocer la información de los datos con los que estamos trabajando son `info()` y `describe()`."
   ]
  },
  {
   "cell_type": "code",
   "execution_count": null,
   "metadata": {},
   "outputs": [],
   "source": [
    "# Ingrese su código aquí 👻"
   ]
  },
  {
   "cell_type": "markdown",
   "metadata": {},
   "source": [
    "### Atributos de un DataFrame\n",
    "\n",
    "Al igual que ocurría con las Series, los DataFrames poseen atributos bastante útiles. A continuación se listan algunos de ellos:\n",
    "* `shape`\n",
    "* `size`\n",
    "* `ndim`\n",
    "* `index`\n",
    "* `columns`\n",
    "* `values`"
   ]
  },
  {
   "cell_type": "code",
   "execution_count": null,
   "metadata": {},
   "outputs": [],
   "source": [
    "# Ingrese su código aquí 👻"
   ]
  },
  {
   "cell_type": "markdown",
   "metadata": {},
   "source": [
    "### Indexación de elementos en un DataFrame\n",
    "\n",
    "Antes de hablar de la indexación de un DataFrame se debe conocer su estructura. La siguiente imagen la detalla bastante bien.\n",
    "\n",
    "<figure style=\"text-align: center;\">\n",
    "  <div><strong>Fig. 2.</strong> Estructura de un DataFrame. </div>\n",
    "  <img src=\"markdown_resources/2.png\" style=\"width: 60%; height: auto;\">\n",
    "  <figcaption>Tomado de <strong>Aprende Python</strong> de <em>Sergio Delgado Quintero</em>.</figcaption>\n",
    "</figure>\n",
    "\n",
    "Entonces bien, una vez analizada y comprendida la estructura de un DataFrame se puede mencionar que la indexación es bastante similar a la indexación de Series."
   ]
  },
  {
   "cell_type": "code",
   "execution_count": null,
   "metadata": {},
   "outputs": [],
   "source": [
    "# Ingrese su código aquí 👻"
   ]
  },
  {
   "cell_type": "markdown",
   "metadata": {},
   "source": [
    "**Indexación por filas**\n",
    "\n",
    "* Indexación mediante el atributo `iloc`\n",
    "* Indexación mediante el atributo `loc`"
   ]
  },
  {
   "cell_type": "code",
   "execution_count": null,
   "metadata": {},
   "outputs": [],
   "source": [
    "# Ingrese su código aquí 👻"
   ]
  },
  {
   "cell_type": "markdown",
   "metadata": {},
   "source": [
    "**Indexación por columnas**\n",
    "* Se debe escribir el nombre, o nombres, de las columnas a las que se desea acceder."
   ]
  },
  {
   "cell_type": "code",
   "execution_count": null,
   "metadata": {},
   "outputs": [],
   "source": [
    "# Ingrese su código aquí 👻"
   ]
  },
  {
   "cell_type": "markdown",
   "metadata": {},
   "source": [
    "**Indexación por filas y columnas**\n",
    "\n",
    "* Indexación mediante el atributo `iloc`\n",
    "* Indexación mediante el atributo `loc`"
   ]
  },
  {
   "cell_type": "code",
   "execution_count": 19,
   "metadata": {},
   "outputs": [],
   "source": [
    "# Ingrese su código aquí 👻"
   ]
  },
  {
   "cell_type": "markdown",
   "metadata": {},
   "source": [
    "**Indexación lógica**\n",
    "\n",
    "A través de operaciones relacionales y operaciones lógicas se puede obtener arreglos lógicos los cuales se puede utilizar para indexar un DataFrame.\n",
    "\n",
    "Sin embargo, cuando se opera con DataFrames y operaciones relacionales, las operaciones lógicas tienen los siguientes operadores:\n",
    "\n",
    "* **or** lógico: operador `|`\n",
    "* **and** lógico: operador `&`\n",
    "* **not** lógico: operador `~`\n",
    "* **xor** lógico: operador `^`"
   ]
  },
  {
   "cell_type": "code",
   "execution_count": null,
   "metadata": {},
   "outputs": [],
   "source": [
    "# Ingrese su código aquí 👻"
   ]
  },
  {
   "cell_type": "markdown",
   "metadata": {},
   "source": [
    "### Modificación de valores de un DataFrame\n",
    "\n",
    "Basta con acceder a los elementos, indexarlos, y asignarlos al valor deseado para modificar un DataFrame.\n",
    "\n",
    "**Observación**\n",
    "\n",
    "Se debe considerar que la modificación se realizará sobre el propio DataFrame, por lo que si se desea tener el original y el modificado, entonces se debe utilizar el método `copy()` para crear una copia del DataFrame original y poder trabajar sobre la copia sin necesidad de alterar el DataFrame original."
   ]
  },
  {
   "cell_type": "code",
   "execution_count": null,
   "metadata": {},
   "outputs": [],
   "source": [
    "# Ingrese su código aquí 👻"
   ]
  },
  {
   "cell_type": "markdown",
   "metadata": {},
   "source": [
    "### Añadir y borrar filas de un DataFrame\n",
    "\n",
    "Para añadir una fila a un DataFrame se utiliza el método `loc()`."
   ]
  },
  {
   "cell_type": "code",
   "execution_count": null,
   "metadata": {},
   "outputs": [],
   "source": [
    "# Ingrese su código aquí 👻"
   ]
  },
  {
   "cell_type": "markdown",
   "metadata": {},
   "source": [
    "Ahora bien, para borrar una fila del DataFrame se utiliza el método `drop()` con el parámetro `labels` donde se indica los índices de las filas que se desea eliminar."
   ]
  },
  {
   "cell_type": "code",
   "execution_count": null,
   "metadata": {},
   "outputs": [],
   "source": [
    "# Ingrese su código aquí 👻"
   ]
  },
  {
   "cell_type": "markdown",
   "metadata": {},
   "source": [
    "### Añadir y borrar columnas de un DataFrame\n",
    "\n",
    "Añadir una columna a un DataFrame es similar a añadir un elemento a un diccionario. Es decir, se indica el nombre de la columna al DataFrame y se asignan sus valores. Las características de la columna añadida deben ser similares a las características de las columnas del DataFrame."
   ]
  },
  {
   "cell_type": "code",
   "execution_count": null,
   "metadata": {},
   "outputs": [],
   "source": [
    "# Ingrese su código aquí 👻"
   ]
  },
  {
   "cell_type": "markdown",
   "metadata": {},
   "source": [
    "Para borrar columnas se utiliza la misma forma de las filas, pero se debe añadir un parámetro extra que es `axis` e indicar que se trabajará por columnas, es decir, `axis=1`."
   ]
  },
  {
   "cell_type": "code",
   "execution_count": null,
   "metadata": {},
   "outputs": [],
   "source": [
    "# Ingrese su código aquí 👻"
   ]
  },
  {
   "cell_type": "markdown",
   "metadata": {},
   "source": [
    "----\n",
    "## Material adicional\n",
    "* [pandas](https://aprendepython.es/pypi/datascience/pandas/#)\n",
    "* [pandas User Guide](https://pandas.pydata.org/docs/user_guide/index.html)"
   ]
  }
 ],
 "metadata": {
  "kernelspec": {
   "display_name": "Python 3.10.7 64-bit",
   "language": "python",
   "name": "python3"
  },
  "language_info": {
   "codemirror_mode": {
    "name": "ipython",
    "version": 3
   },
   "file_extension": ".py",
   "mimetype": "text/x-python",
   "name": "python",
   "nbconvert_exporter": "python",
   "pygments_lexer": "ipython3",
   "version": "3.12.4"
  },
  "orig_nbformat": 4,
  "vscode": {
   "interpreter": {
    "hash": "369f2c481f4da34e4445cda3fffd2e751bd1c4d706f27375911949ba6bb62e1c"
   }
  }
 },
 "nbformat": 4,
 "nbformat_minor": 2
}
