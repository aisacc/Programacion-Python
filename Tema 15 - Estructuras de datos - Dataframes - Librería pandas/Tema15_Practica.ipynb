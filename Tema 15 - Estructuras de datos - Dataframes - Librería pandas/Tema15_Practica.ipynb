{
 "cells": [
  {
   "cell_type": "markdown",
   "metadata": {},
   "source": [
    "# Estructuras de datos: DataFrames (_librería **pandas**_)"
   ]
  },
  {
   "cell_type": "markdown",
   "metadata": {},
   "source": [
    "## Series y DataFrames\n",
    "### Ejercicio 1\n",
    "Crear una serie de pandas con los valores de los 5 primeros números primos y etiquetas con las vocales `AEIOU`.\n",
    "\n",
    "### Solución"
   ]
  },
  {
   "cell_type": "code",
   "execution_count": 2,
   "metadata": {},
   "outputs": [],
   "source": [
    "# Ingresa tu respuesta aquí 👻"
   ]
  },
  {
   "cell_type": "markdown",
   "metadata": {},
   "source": [
    "### Ejercicio 2 - Ingeniería mecánica\n",
    "Un sistema hidráulico consta de varios puntos de medición de presión distribuidos a lo largo de un tubo. Se han registrado las presiones en diferentes momentos del día. Entonces:\n",
    "\n",
    "1. Crea una Serie en Pandas que represente las presiones registradas en 10 puntos diferentes a lo largo del tubo (en bar).\n",
    "2. Asigna como índice de la Serie el número del punto de medición (de 1 a 10).\n",
    "3. Calcula y muestra la presión media, la presión máxima, y la presión mínima en el sistema.\n",
    "4. Identifica si algún punto presenta una presión por debajo de 2 bar, lo cual indicaría un posible problema en el sistema.\n",
    "\n",
    "### Solución"
   ]
  },
  {
   "cell_type": "code",
   "execution_count": null,
   "metadata": {},
   "outputs": [],
   "source": [
    "# Ingresa tu respuesta aquí 👻"
   ]
  },
  {
   "cell_type": "markdown",
   "metadata": {},
   "source": [
    "### Ejercicio 2 - Ingeniería civil\n",
    "En la construcción de un puente, se han registrado los costos de diferentes fases del proyecto (materiales, mano de obra, maquinaria, etc.). Entonces:\n",
    "\n",
    "1. Crea un DataFrame en Pandas con las siguientes columnas: Fase, Costo en USD.\n",
    "2. Registra los costos de al menos 5 fases diferentes del proyecto (ejemplo: cimentación, estructura, asfaltado, etc.).\n",
    "3. Calcula el costo total del proyecto.\n",
    "4. Identifica la fase que representa el mayor costo y la que representa el menor costo.\n",
    "5. Agrega una nueva fase llamada “Inspección final” con un costo estimado de 5 000 USD, y actualiza el costo total del proyecto.\n",
    "\n",
    "### Solución"
   ]
  },
  {
   "cell_type": "code",
   "execution_count": null,
   "metadata": {},
   "outputs": [],
   "source": [
    "# Ingresa tu respuesta aquí 👻"
   ]
  },
  {
   "cell_type": "markdown",
   "metadata": {},
   "source": [
    "### Ejercicio 3 - Ingeniería ambiental\n",
    "Se ha tomado una muestra de agua en 5 puntos distintos de un río para analizar la concentración de diferentes contaminantes: nitratos, fosfatos y mercurio (en mg/L). Entonces:\n",
    "\n",
    "1. Crea un DataFrame en Pandas donde cada fila representa un punto de muestreo y las columnas representan las concentraciones de nitratos, fosfatos y mercurio.\n",
    "2. Asigna nombres a las filas con el identificador del punto de muestreo (Ejemplo: Punto A, Punto B, etc.).\n",
    "3. Calcula la concentración media de cada contaminante en todo el río.\n",
    "4. Identifica si algún punto de muestreo tiene una concentración de mercurio superior a 0.001 mg/L, lo cual indicaría contaminación peligrosa.\n",
    "5. Crea una nueva columna llamada \"Contaminación total\" que sea la suma de los tres contaminantes en cada punto.\n",
    "\n",
    "### Solución"
   ]
  },
  {
   "cell_type": "code",
   "execution_count": null,
   "metadata": {},
   "outputs": [],
   "source": [
    "# Ingresa tu respuesta aquí 👻"
   ]
  },
  {
   "cell_type": "markdown",
   "metadata": {},
   "source": [
    "### Ejercicio 4 - Ingeniería civil\n",
    "Se han calculado las cargas aplicadas en diferentes vigas de un edificio en construcción. Entonces:\n",
    "\n",
    "1. Crea un DataFrame en Pandas donde cada fila representa una viga, y las columnas representan la carga vertical (en kN), la carga horizontal (en kN) y el momento flector (en kN·m).\n",
    "2. Registra los datos para al menos 5 vigas diferentes.\n",
    "3. Calcula la carga total en todas las vigas para las cargas verticales y horizontales por separado.\n",
    "4. Identifica cuál es la viga con el mayor momento flector.\n",
    "5. Agrega una nueva viga con sus respectivas cargas y actualiza los cálculos anteriores.\n",
    "\n",
    "### Solución"
   ]
  },
  {
   "cell_type": "code",
   "execution_count": null,
   "metadata": {},
   "outputs": [],
   "source": [
    "# Ingresa tu respuesta aquí 👻"
   ]
  },
  {
   "cell_type": "markdown",
   "metadata": {},
   "source": [
    "### Ejercicio 5 - Ingeniería eléctrica\n",
    "Se han registrado los consumos energéticos (en kWh) de diferentes secciones de una planta industrial durante una semana. Entonces:\n",
    "\n",
    "1. Crea un DataFrame en Pandas donde cada columna represente un día de la semana (de lunes a domingo) y cada fila represente una sección de la planta (ejemplo: taller, oficinas, almacén, etc.).\n",
    "2. Ingresa los datos de consumo energético para al menos 5 secciones diferentes.\n",
    "3. Calcula el consumo total por día y el consumo total por sección.\n",
    "4. Identifica cuál fue el día con mayor consumo total en la planta.\n",
    "5. Agrega una nueva sección llamada \"Área de servidores\" con un consumo estimado constante de 500 kWh por día y recalcula el consumo total por día.\n",
    "\n",
    "### Solución"
   ]
  },
  {
   "cell_type": "code",
   "execution_count": null,
   "metadata": {},
   "outputs": [],
   "source": [
    "# Ingresa tu respuesta aquí 👻"
   ]
  },
  {
   "cell_type": "markdown",
   "metadata": {},
   "source": [
    "### Ejercicio 6 - Ingeniería eléctrica\n",
    "En una instalación de paneles solares, se han medido las potencias generadas (en kW) por varios paneles en diferentes momentos del día. Entonces:\n",
    "\n",
    "1. Crea un DataFrame en Pandas donde cada columna represente un panel solar y cada fila un horario de medición (ejemplo: 8:00 AM, 12:00 PM, 4:00 PM, etc.).\n",
    "2. Registra las potencias generadas por al menos 4 paneles en 3 horarios diferentes.\n",
    "3. Calcula la potencia media generada por cada panel durante el día.\n",
    "4. Identifica cuál es el panel que genera más potencia de manera consistente.\n",
    "5. Crea una nueva fila para un horario adicional (ejemplo: 6:00 PM) con potencias estimadas en función de la caída del sol, y actualiza los cálculos de potencia media.\n",
    "\n",
    "### Solución"
   ]
  },
  {
   "cell_type": "code",
   "execution_count": null,
   "metadata": {},
   "outputs": [],
   "source": [
    "# Ingresa tu respuesta aquí 👻"
   ]
  },
  {
   "cell_type": "markdown",
   "metadata": {},
   "source": [
    "### Ejercicio 7 - Ingeniería mecánica\n",
    "Se han medido las RPM (revoluciones por minuto) y el torque (en Nm) de varios motores en una planta automotriz durante diferentes condiciones de operación. Entonces:\n",
    "\n",
    "1. Crea un DataFrame en Pandas donde cada fila represente un motor y las columnas representen las RPM y el torque medidos bajo condiciones normales y bajo carga.\n",
    "2. Registra los datos para al menos 4 motores.\n",
    "3. Calcula la potencia desarrollada por cada motor en cada condición utilizando la fórmula $$\\text{Potencia} = \\frac{\\text{Torque} \\times RPM}{9.5488}$$ y agrega nuevas columnas para estos valores.\n",
    "4. Identifica cuál es el motor que desarrolla la mayor potencia bajo carga.\n",
    "5. Agrega una nueva condición de operación (ejemplo: máxima carga) y registra datos hipotéticos para cada motor, actualizando los cálculos de potencia.\n",
    "\n",
    "### Solución"
   ]
  },
  {
   "cell_type": "code",
   "execution_count": null,
   "metadata": {},
   "outputs": [],
   "source": [
    "# Ingresa tu respuesta aquí 👻"
   ]
  },
  {
   "cell_type": "markdown",
   "metadata": {},
   "source": [
    "### Ejercicio 8 - Ingeniería industrial\n",
    "Se ha monitorizado la eficiencia de diferentes máquinas en una línea de producción, medida como la proporción de productos defectuosos frente al total producido. Entonces:\n",
    "\n",
    "1. Crea un DataFrame en Pandas donde cada fila represente una máquina y las columnas representen el total de productos producidos y la cantidad de productos defectuosos.\n",
    "2. Registra los datos para al menos 5 máquinas.\n",
    "3. Calcula la eficiencia de cada máquina como $$\\text{Eficiencia} = \\frac{\\text{Total producido} - \\text{Defectuosos}}{\\text{Total producido}} \\times 100$$\n",
    "4. Identifica la máquina con la mayor eficiencia y la máquina con la menor eficiencia.\n",
    "5. Agrega una nueva máquina con datos hipotéticos y recalcula las eficiencias.\n",
    "\n",
    "### Solución"
   ]
  },
  {
   "cell_type": "code",
   "execution_count": null,
   "metadata": {},
   "outputs": [],
   "source": [
    "# Ingresa tu respuesta aquí 👻"
   ]
  }
 ],
 "metadata": {
  "kernelspec": {
   "display_name": "Python 3.10.7 64-bit",
   "language": "python",
   "name": "python3"
  },
  "language_info": {
   "codemirror_mode": {
    "name": "ipython",
    "version": 3
   },
   "file_extension": ".py",
   "mimetype": "text/x-python",
   "name": "python",
   "nbconvert_exporter": "python",
   "pygments_lexer": "ipython3",
   "version": "3.12.4"
  },
  "orig_nbformat": 4,
  "vscode": {
   "interpreter": {
    "hash": "369f2c481f4da34e4445cda3fffd2e751bd1c4d706f27375911949ba6bb62e1c"
   }
  }
 },
 "nbformat": 4,
 "nbformat_minor": 2
}
