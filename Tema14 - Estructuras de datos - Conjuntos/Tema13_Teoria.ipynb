{
 "cells": [
  {
   "cell_type": "markdown",
   "metadata": {},
   "source": [
    "# Estructuras de datos: Conjuntos\n",
    "\n",
    "Los conjuntos en Python representan una serie de **valores únicos y sin orden establecido**. En realidad el concepto que se utiliza es bastante similar al concepto matemático de conjunto.\n",
    "\n",
    "Este tipo de dato es mutable al igual que las listas y los diccionarios."
   ]
  },
  {
   "cell_type": "markdown",
   "metadata": {},
   "source": [
    "## Crear conjuntos\n",
    "Para crear conjuntos se utiliza llaves `{}` o la función `set()`. Para crear un conjunto con la función `set()` (es decir, realizar una conversión de otro tipo de dato a conjunto) el tipo de dato debe ser iterable."
   ]
  },
  {
   "cell_type": "code",
   "execution_count": 3,
   "metadata": {},
   "outputs": [],
   "source": [
    "# Ingrese su código aquí 👻"
   ]
  },
  {
   "cell_type": "markdown",
   "metadata": {},
   "source": [
    "Asimismo, para crear un conjunto vacío se utiliza únicamente la función `set()` sin argumentos."
   ]
  },
  {
   "cell_type": "code",
   "execution_count": null,
   "metadata": {},
   "outputs": [],
   "source": [
    "# Ingrese su código aquí 👻"
   ]
  },
  {
   "cell_type": "markdown",
   "metadata": {},
   "source": [
    "## Operaciones con conjuntos\n",
    "### Extraer y modificar elementos\n",
    "\n",
    "En los conjuntos no existen un orden establecido de sus elementos, por lo tanto, no es posible extraer ninguno de ellos. Y, como no es posible extraer elementos, tampoco es posible modificarlos."
   ]
  },
  {
   "cell_type": "code",
   "execution_count": null,
   "metadata": {},
   "outputs": [],
   "source": [
    "# Ingrese su código aquí 👻"
   ]
  },
  {
   "cell_type": "markdown",
   "metadata": {},
   "source": [
    "### Añadir y eliminar elementos\n",
    "\n",
    "Ahora bien, si no es posible extraer elementos ni modificarlos, lo que sí es posible es añadir elementos a un conjunto y eliminarlos también utilizando las funciones `add()` y `remove()`, respectivamente."
   ]
  },
  {
   "cell_type": "code",
   "execution_count": null,
   "metadata": {},
   "outputs": [],
   "source": [
    "# Ingrese su código aquí 👻"
   ]
  },
  {
   "cell_type": "markdown",
   "metadata": {},
   "source": [
    "## Iterar sobre un conjunto\n",
    "\n",
    "Como ya se ha visto en temas anteriores, dado que un conjunto es iterable, entonces se puede utilizar un bucle `for` para iterar sus elementos."
   ]
  },
  {
   "cell_type": "code",
   "execution_count": null,
   "metadata": {},
   "outputs": [],
   "source": [
    "# Ingrese su código aquí 👻"
   ]
  },
  {
   "cell_type": "markdown",
   "metadata": {},
   "source": [
    "## Pertenencia de un elemento\n",
    "\n",
    "El operador `in` vuelve a ser útil para verificar la pertenencia de un elemento en un conjunto."
   ]
  },
  {
   "cell_type": "code",
   "execution_count": null,
   "metadata": {},
   "outputs": [],
   "source": [
    "# Ingrese su código aquí 👻"
   ]
  },
  {
   "cell_type": "markdown",
   "metadata": {},
   "source": [
    "## Teoría de conjuntos\n",
    "\n",
    "De la teoría de conjuntos aprendida en el colegio o universidad se conocen las operaciones entre conjuntos que se muestran a continuación y también son aplicables a los conjuntos de Python.\n",
    "\n",
    "<figure style=\"text-align: center;\">\n",
    "  <div><strong>Fig. 1.</strong> Diagramas de Venn de operaciones con conjuntos. </div>\n",
    "  <img src=\"markdown_resources/1.png\" style=\"width: 65%; height: auto;\">\n",
    "  <figcaption>Tomado de <strong>Aprende Python</strong> de <em>Sergio Delgado Quintero</em>.</figcaption>\n",
    "</figure>\n",
    "\n",
    "Entonces las operaciones de conjuntos y su representación en Python son las siguientes:\n",
    "* **Intersección $A \\cap B$:** (Operador `&`) Elementos que están a la vez en el conjunto $A$ y en el conjunto $B$.\n",
    "* **Unión $A \\cup B$:** (Operador `|`) Elementos que están tanto en el conjunto $A$ como en el conjunto $B$.\n",
    "* **Diferencia $A \\backslash B$:** (Operador `-`) Elementos que están en el conjunto $A$, pero no en el conjunto $B$.\n",
    "* **Diferencia simétrica $A \\triangle B$:** (Operador `^`) Elementos que están en el conjunto $A$ y en el conjunto $B$, pero no en su intersección."
   ]
  },
  {
   "cell_type": "code",
   "execution_count": null,
   "metadata": {},
   "outputs": [],
   "source": [
    "# Ingrese su código aquí 👻"
   ]
  },
  {
   "cell_type": "markdown",
   "metadata": {},
   "source": [
    "También es posible analizar la inclusión de conjuntos.\n",
    "* Un conjunto $B$ es un subconjunto de otro conjunto $A$ si todos los elementos de $B$ están incluidos en $A$.\n",
    "* Un conjunto $A$ es un superconjunto de otro conjunto $B$ si todos los elementos de $B$ están incluidos en $A$.\n",
    "\n",
    "<figure style=\"text-align: center;\">\n",
    "  <div><strong>Fig. 2.</strong> Diagramas de Venn de operaciones con conjuntos. </div>\n",
    "  <img src=\"markdown_resources/2.png\" style=\"width: 30%; height: auto;\">\n",
    "  <figcaption>Tomado de <strong>Aprende Python</strong> de <em>Sergio Delgado Quintero</em>.</figcaption>\n",
    "</figure>\n",
    "\n",
    "Entonces, en Python se puede realizar la comprobación de inclusión de la siguiente forma:\n",
    "* $B \\subset A$: Operador `<`\n",
    "* $B \\subseteq A$: Operador `<=`\n",
    "* $A \\supset B$: Operador `>`\n",
    "* $A \\supseteq B$: Operador `>=`"
   ]
  },
  {
   "cell_type": "code",
   "execution_count": null,
   "metadata": {},
   "outputs": [],
   "source": [
    "# Ingrese su código aquí 👻"
   ]
  },
  {
   "cell_type": "markdown",
   "metadata": {},
   "source": [
    "## Conjuntos por comprensión\n",
    "\n",
    "Al igual que se hizo con listas y diccionarios, también es posible crear conjuntos por compresión utilizando la misma nomenclatura adaptada a los conjuntos."
   ]
  },
  {
   "cell_type": "markdown",
   "metadata": {},
   "source": [
    "### Ejemplo\n",
    "Crear un conjunto por comprensión con los números enteros múltiplos de $4$ en el rango de $[0, 25]$.\n",
    "\n",
    "### Solución"
   ]
  },
  {
   "cell_type": "code",
   "execution_count": null,
   "metadata": {},
   "outputs": [],
   "source": [
    "# Ingrese su código aquí 👻"
   ]
  },
  {
   "cell_type": "markdown",
   "metadata": {},
   "source": [
    "----\n",
    "## Material adicional\n",
    "* [Conjunto](https://es.wikipedia.org/wiki/Conjunto)\n",
    "* [Creando conjuntos](https://aprendepython.es/core/datastructures/sets/#creando-conjuntos)\n",
    "* [Operaciones con conjuntos](https://aprendepython.es/core/datastructures/sets/#operaciones-con-conjuntos)"
   ]
  }
 ],
 "metadata": {
  "kernelspec": {
   "display_name": "Python 3.10.7 64-bit",
   "language": "python",
   "name": "python3"
  },
  "language_info": {
   "codemirror_mode": {
    "name": "ipython",
    "version": 3
   },
   "file_extension": ".py",
   "mimetype": "text/x-python",
   "name": "python",
   "nbconvert_exporter": "python",
   "pygments_lexer": "ipython3",
   "version": "3.11.4"
  },
  "orig_nbformat": 4,
  "vscode": {
   "interpreter": {
    "hash": "369f2c481f4da34e4445cda3fffd2e751bd1c4d706f27375911949ba6bb62e1c"
   }
  }
 },
 "nbformat": 4,
 "nbformat_minor": 2
}
