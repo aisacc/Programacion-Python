{
 "cells": [
  {
   "cell_type": "markdown",
   "metadata": {},
   "source": [
    "# Introducción: Tipos de datos en Python\n",
    "En Python existen distintos tipos de datos que se utilizan en función de la situación y de la información. De forma sencilla se trabajará con números y textos. No obstante, para profundizar en la herramienta se requiere el conocimiento y uso del resto de tipos de datos (datos lógicos, dataframes, etc.).\n",
    "\n",
    "**% Add img**"
   ]
  },
  {
   "cell_type": "markdown",
   "metadata": {},
   "source": [
    "# Tipos de datos: Números"
   ]
  },
  {
   "cell_type": "markdown",
   "metadata": {},
   "source": [
    "## Números enteros\n",
    "Los números enteros no tienen decimales, pero sí pueden contener signo.\n",
    "\n",
    "Para crearlos basta con escribirlos sin añadir parte decimal ni un punto al final del número. O también se puede utilizar la función `int` para convertir una variable de otro tipo a número entero, siempre y cuando sea posible."
   ]
  },
  {
   "cell_type": "code",
   "execution_count": 28,
   "metadata": {},
   "outputs": [],
   "source": [
    "# Ingrese su código aquí 👻"
   ]
  },
  {
   "cell_type": "markdown",
   "metadata": {},
   "source": [
    "**Observación**\n",
    "\n",
    "Se debe tener en cuenta lo siguiente:\n",
    "* Los números no pueden empezar con un 0.\n",
    "* Por legibilidad Python permite dividir los números con guiones bajo. Esto facilita la lectura y escritura. Python por defecto omite los guiones bajo en los números, así que se puede utilizarlos o no. Es a criterio del programador."
   ]
  },
  {
   "cell_type": "code",
   "execution_count": 39,
   "metadata": {},
   "outputs": [],
   "source": [
    "# Ingrese su código aquí 👻"
   ]
  },
  {
   "cell_type": "markdown",
   "metadata": {},
   "source": [
    "**Observación**\n",
    "\n",
    "Al realizar la conversión de un número de punto flotante a número entero, la función `int` devuelve el valor redondeado hacia abajo. Es decir, $\\text{int}(x) = \\lfloor x \\rfloor$."
   ]
  },
  {
   "cell_type": "code",
   "execution_count": null,
   "metadata": {},
   "outputs": [],
   "source": [
    "# Ingrese su código aquí 👻"
   ]
  },
  {
   "cell_type": "markdown",
   "metadata": {},
   "source": [
    "### Números enteros máximos y mínimos\n",
    "Los números enteros en Python pueden ser tan grande como queramos (sin exagerar demasiado). Otros lenguajes de programación tienen un límite sobre el cual se puede producir un desbordamiento o subdesbordamiento de números enteros. Sin embargo, en Python este límite es muchísimo más amplio. Por esta razón no se requiere darle más profundidad al tema.  "
   ]
  },
  {
   "cell_type": "code",
   "execution_count": 40,
   "metadata": {},
   "outputs": [],
   "source": [
    "# Ingrese su código aquí 👻"
   ]
  },
  {
   "cell_type": "markdown",
   "metadata": {},
   "source": [
    "## Números de punto flotante (o decimales)\n",
    "Los números de punto flotante, o de coma flotante, son comúnmente conocidos también como los números reales dentro de la programación.\n",
    "\n",
    "A diferencia de los números enteros, los números de punto flotante tienen parte decimal y se los crea como tal, añadiendo su parte decimal o añadiendo un punto al final de su parte entera. También se puede utilizar la función `float` para convertir un variable de otro tipo a número de punto flotante, siempre y cuando sea posible."
   ]
  },
  {
   "cell_type": "code",
   "execution_count": 46,
   "metadata": {},
   "outputs": [],
   "source": [
    "# Ingrese su código aquí 👻"
   ]
  },
  {
   "cell_type": "markdown",
   "metadata": {},
   "source": [
    "### Notación científica\n",
    "La notación científica, también denominada notación exponencial, es una forma de escribir los números basada en potencias de 10, lo que resulta especialmente útil para la representación de valores muy grandes o pequeños, así como para el cálculo con ellos.\n",
    "\n",
    "Por ejemplo, la masa del electrón es $0.000 000 000 000 000 000 000 000 911\\ \\text{kg} = 9.11 \\times 10 ^ {-31}\\ \\text{kg}$. Otro ejemplo, la mayor distancia observable del universo es $740 000 000 000 000 000 000 000 000\\ \\text{m} = 7.4 \\times 10 ^ {26}\\ \\text{m}$.\n",
    "\n",
    "Entonces bien, para expresar un número en notación científica se puede utilizar la letra `e` y luego indicar la potencia."
   ]
  },
  {
   "cell_type": "code",
   "execution_count": 31,
   "metadata": {},
   "outputs": [],
   "source": [
    "# Ingrese su código aquí 👻"
   ]
  },
  {
   "cell_type": "markdown",
   "metadata": {},
   "source": [
    "### Números de punto flotante máximos y mínimos\n",
    "Para conocer el número de punto flotante máximo y mínimo se utiliza la función `float_info.max` y `float_info.min`, respectivamente, del módulo `sys`."
   ]
  },
  {
   "cell_type": "code",
   "execution_count": null,
   "metadata": {},
   "outputs": [],
   "source": [
    "# Ingrese su código aquí 👻"
   ]
  },
  {
   "cell_type": "markdown",
   "metadata": {},
   "source": [
    "#### ¿Qué sucede si se excede el límite máximo o mínimo?\n",
    "Si se realizan operaciones tal que se excede el límite máximo, entonces el resultado es tan grande que Python ya no lo procesa y devuelve `Inf` (infinito). Este caso se conoce como **desbordamiento**."
   ]
  },
  {
   "cell_type": "code",
   "execution_count": null,
   "metadata": {},
   "outputs": [],
   "source": [
    "# Ingrese su código aquí 👻"
   ]
  },
  {
   "cell_type": "markdown",
   "metadata": {},
   "source": [
    "Por el contrario, si el número es tan pequeño que excede el límite mínimo, entonces Python ya no lo procesa y devuelve 0. Este caso se conoce como **subdesbordamiento**."
   ]
  },
  {
   "cell_type": "code",
   "execution_count": 39,
   "metadata": {},
   "outputs": [],
   "source": [
    "# Ingrese su código aquí 👻"
   ]
  },
  {
   "cell_type": "markdown",
   "metadata": {},
   "source": [
    "Como se puede observar, en ocasiones se puede llegar a los límites, o sobrepasarlos, y Python sigue procesando información hasta cuando se excede demasiado y ocurre el desbordamiento o subdesbordamiento.\n",
    "Sin embargo, **no se recomienda trabajar cerca de las fronteras de los límites**."
   ]
  },
  {
   "cell_type": "markdown",
   "metadata": {},
   "source": [
    "## Números complejos\n",
    "Los números complejos dentro de Python se definen en forma binomial y la unidad imaginaria se representa como `j`. Esta representación es igual a $\\sqrt{-1}$."
   ]
  },
  {
   "cell_type": "code",
   "execution_count": 35,
   "metadata": {},
   "outputs": [],
   "source": [
    "# Ingrese su código aquí 👻"
   ]
  },
  {
   "cell_type": "markdown",
   "metadata": {},
   "source": [
    "## Función `type`\n",
    "La función `type` retorna el nombre del tipo de dato."
   ]
  },
  {
   "cell_type": "code",
   "execution_count": null,
   "metadata": {},
   "outputs": [],
   "source": [
    "# Ingrese su código aquí 👻"
   ]
  },
  {
   "cell_type": "markdown",
   "metadata": {},
   "source": [
    "## Operaciones aritméticas\n",
    "Las operaciones aritméticas se realizan con los operadores usuales ya conocidos en matemática. Además, se debe indicar explícitamente las operaciones que se desea realizar.\n",
    "\n",
    "<figure style=\"text-align: center;\">\n",
    "  <div><strong>Fig. 1.</strong> Operaciones aritméticas en Python. </div>\n",
    "  <img src=\"markdown_resources/1.png\" style=\"width: 45%; height: auto;\">\n",
    "  <figcaption>Tomado de <strong>Aprende Python</strong> de <em>Sergio Delgado Quintero</em>.</figcaption>\n",
    "</figure>\n",
    "\n",
    "\"Es de buen estilo de programación dejar un espacio entre cada operador\". *Sergio Delgado Quintero*"
   ]
  },
  {
   "cell_type": "code",
   "execution_count": 52,
   "metadata": {},
   "outputs": [],
   "source": [
    "# Ingrese su código aquí 👻"
   ]
  },
  {
   "cell_type": "markdown",
   "metadata": {},
   "source": [
    "### Suma y resta"
   ]
  },
  {
   "cell_type": "code",
   "execution_count": null,
   "metadata": {},
   "outputs": [],
   "source": [
    "# Ingrese su código aquí 👻"
   ]
  },
  {
   "cell_type": "markdown",
   "metadata": {},
   "source": [
    "### Multiplicación y división flotante"
   ]
  },
  {
   "cell_type": "code",
   "execution_count": null,
   "metadata": {},
   "outputs": [],
   "source": [
    "# Ingrese su código aquí 👻"
   ]
  },
  {
   "cell_type": "markdown",
   "metadata": {},
   "source": [
    "### Exponenciación"
   ]
  },
  {
   "cell_type": "code",
   "execution_count": null,
   "metadata": {},
   "outputs": [],
   "source": [
    "# Ingrese su código aquí 👻"
   ]
  },
  {
   "cell_type": "markdown",
   "metadata": {},
   "source": [
    "### División entera y módulo\n",
    "En la siguiente imagen se observan las partes de la división.\n",
    "\n",
    "<figure style=\"text-align: center;\">\n",
    "  <div><strong>Fig. 2.</strong> Partes de una división. </div>\n",
    "  <img src=\"markdown_resources/2.jpg\" style=\"width: 70%; height: auto;\">\n",
    "  <figcaption>Tomado de <strong>Aprende Python</strong> de <em>Sergio Delgado Quintero</em>.</figcaption>\n",
    "</figure>\n",
    "\n",
    "Considerar que el módulo también es conocido como remanente, residuo o resto."
   ]
  },
  {
   "cell_type": "code",
   "execution_count": 53,
   "metadata": {},
   "outputs": [],
   "source": [
    "# Ingrese su código aquí 👻"
   ]
  },
  {
   "cell_type": "markdown",
   "metadata": {},
   "source": [
    "## Orden de las operaciones aritméticas\n",
    "El orden en el cual se llevan a cabo las operaciones aritméticas dentro de Python es el mismo establecido en matemática.\n",
    "\n",
    "<figure style=\"text-align: center;\">\n",
    "  <div><strong>Fig. 3.</strong> Prioridad de las operaciones aritméticas. </div>\n",
    "  <img src=\"markdown_resources/3.png\" style=\"width: 17.5%; height: auto;\">\n",
    "  <figcaption>Tomado de <strong>Aprende Python</strong> de <em>Sergio Delgado Quintero</em>.</figcaption>\n",
    "</figure>\n",
    "\n",
    "En el caso de que hayan varias operaciones del mismo orden, entonces se realizarán las **operaciones de izquierda a derecha**."
   ]
  },
  {
   "cell_type": "code",
   "execution_count": 57,
   "metadata": {},
   "outputs": [],
   "source": [
    "# Ingrese su código aquí 👻"
   ]
  },
  {
   "cell_type": "markdown",
   "metadata": {},
   "source": [
    "**Observación**\n",
    "\n",
    "Cuando se tiene una expresión \"larga\" como divisor o exponente, por ejemplo, se debe indicar explícitamente.\n",
    "\n",
    "¿Cómo se debería crear la expresión $2^{xy} + 1$?"
   ]
  },
  {
   "cell_type": "code",
   "execution_count": 58,
   "metadata": {},
   "outputs": [],
   "source": [
    "# Ingrese su código aquí 👻"
   ]
  },
  {
   "cell_type": "markdown",
   "metadata": {},
   "source": [
    "Es decir, Python toma el primer valor para realizar la respectiva operación cuando no se indica explícitamente la operación deseada."
   ]
  },
  {
   "cell_type": "markdown",
   "metadata": {},
   "source": [
    "----\n",
    "## Material adicional\n",
    "* [Números enteros](https://aprendepython.es/core/datatypes/numbers/#enteros)\n",
    "* [Números de punto flotante](https://aprendepython.es/core/datatypes/numbers/#flotantes)\n",
    "* [Operaciones aritméticas](https://aprendepython.es/core/datatypes/numbers/#operaciones-con-enteros)\n",
    "* [Conversión implícita](https://aprendepython.es/core/datatypes/numbers/#conversion-implicita)"
   ]
  }
 ],
 "metadata": {
  "kernelspec": {
   "display_name": "Python 3.10.7 64-bit",
   "language": "python",
   "name": "python3"
  },
  "language_info": {
   "codemirror_mode": {
    "name": "ipython",
    "version": 3
   },
   "file_extension": ".py",
   "mimetype": "text/x-python",
   "name": "python",
   "nbconvert_exporter": "python",
   "pygments_lexer": "ipython3",
   "version": "3.11.8"
  },
  "orig_nbformat": 4,
  "vscode": {
   "interpreter": {
    "hash": "369f2c481f4da34e4445cda3fffd2e751bd1c4d706f27375911949ba6bb62e1c"
   }
  }
 },
 "nbformat": 4,
 "nbformat_minor": 2
}
