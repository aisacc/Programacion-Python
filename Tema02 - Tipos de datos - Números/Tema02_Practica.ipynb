{
 "cells": [
  {
   "cell_type": "markdown",
   "metadata": {},
   "source": [
    "# Tipos de datos: Números"
   ]
  },
  {
   "cell_type": "markdown",
   "metadata": {},
   "source": [
    "## Operaciones aritméticas\n",
    "### Ejercicio 1\n",
    "Realizar las siguientes operaciones:\n",
    "* $\\frac{5 + 2}{12 ^ 2}$\n",
    "* $\\sqrt{(2 + \\sqrt{2}) ^ 3 + 1}$\n",
    "* $7 + \\frac{5}{3 ^ 4} \\times \\frac{8 ^ {-4}}{1.5}$\n",
    "\n",
    "### Solución"
   ]
  },
  {
   "cell_type": "code",
   "execution_count": null,
   "metadata": {},
   "outputs": [],
   "source": [
    "# Ingrese su código aquí 👻"
   ]
  },
  {
   "cell_type": "markdown",
   "metadata": {},
   "source": [
    "### Ejercicio 2\n",
    "Un estudiante de ingeniería posee 53 libros que ha utilizado a lo largo de su carrera universitaria. Sin embargo, dado que ya finalizó sus estudios, quiere guardar todos los libros. Únicamente dispone de 3 cajas. ¿Cuántos libros podrá guardar en cada caja? ¿Cuántos libros no entrarán en las cajas?\n",
    "\n",
    "Si el estudiante ha contado mal y en realidad ha tenido 49 libros, ¿todos éstos ya entrarían en las cajas sin que quede alguno fuera?\n",
    "\n",
    "### Solución"
   ]
  },
  {
   "cell_type": "code",
   "execution_count": null,
   "metadata": {},
   "outputs": [],
   "source": [
    "# Ingrese su código aquí 👻"
   ]
  },
  {
   "cell_type": "markdown",
   "metadata": {},
   "source": [
    "## Orden de las operaciones aritméticas\n",
    "### Ejercicio\n",
    "Antes de realizar las siguientes operaciones aritméticas, ¿cuál cree que sea el resultado?\n",
    "\n",
    "* `2+5/10`\n",
    "* `2*3+3*2`\n",
    "* `2^0*5`\n",
    "* `1+2+3/3*2+1`\n",
    "* `(1+2+3)/(3*2+1)`\n",
    "\n",
    "### Solución"
   ]
  },
  {
   "cell_type": "code",
   "execution_count": null,
   "metadata": {},
   "outputs": [],
   "source": [
    "# Ingrese su código aquí 👻"
   ]
  }
 ],
 "metadata": {
  "kernelspec": {
   "display_name": "Python 3.10.7 64-bit",
   "language": "python",
   "name": "python3"
  },
  "language_info": {
   "codemirror_mode": {
    "name": "ipython",
    "version": 3
   },
   "file_extension": ".py",
   "mimetype": "text/x-python",
   "name": "python",
   "nbconvert_exporter": "python",
   "pygments_lexer": "ipython3",
   "version": "3.11.8"
  },
  "orig_nbformat": 4,
  "vscode": {
   "interpreter": {
    "hash": "369f2c481f4da34e4445cda3fffd2e751bd1c4d706f27375911949ba6bb62e1c"
   }
  }
 },
 "nbformat": 4,
 "nbformat_minor": 2
}
