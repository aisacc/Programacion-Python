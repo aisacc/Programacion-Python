{
 "cells": [
  {
   "cell_type": "markdown",
   "metadata": {},
   "source": [
    "# Tipos de datos: Números"
   ]
  },
  {
   "cell_type": "markdown",
   "metadata": {},
   "source": [
    "## Operaciones aritméticas\n",
    "### Ejercicio 1\n",
    "Realizar las siguientes operaciones:\n",
    "* $\\frac{5 + 2}{12 ^ 2}$\n",
    "* $\\sqrt{(2 + \\sqrt{2}) ^ 3 + 1}$\n",
    "* $7 + \\frac{5}{3 ^ 4} \\times \\frac{8 ^ {-4}}{1.5}$\n",
    "\n",
    "### Solución"
   ]
  },
  {
   "cell_type": "code",
   "execution_count": null,
   "metadata": {},
   "outputs": [],
   "source": [
    "# Ingrese su código aquí 👻"
   ]
  },
  {
   "cell_type": "markdown",
   "metadata": {},
   "source": [
    "### Ejercicio 2\n",
    "Una chef tiene 62 ingredientes diferentes en su despensa. Al organizar su cocina, decide guardar todos los ingredientes en tarros de cristal. Dispone de 5 tarros grandes. ¿Cuántos ingredientes puede guardar en cada tarro? ¿Cuántos ingredientes no cabrán en los tarros?\n",
    "\n",
    "Si descubre que en realidad solo tiene 60 ingredientes, ¿podrá guardar todos en los tarros sin dejar ninguno fuera?\n",
    "\n",
    "### Solución"
   ]
  },
  {
   "cell_type": "code",
   "execution_count": null,
   "metadata": {},
   "outputs": [],
   "source": [
    "# Ingrese su código aquí 👻"
   ]
  },
  {
   "cell_type": "markdown",
   "metadata": {},
   "source": [
    "## Orden de las operaciones aritméticas\n",
    "### Ejercicio\n",
    "Antes de realizar las siguientes operaciones aritméticas, ¿cuál cree que sea el resultado?\n",
    "\n",
    "* `2+5/10`\n",
    "* `2*3+3*2`\n",
    "* `2^0*5`\n",
    "* `1+2+3/3*2+1`\n",
    "* `(1+2+3)/(3*2+1)`\n",
    "\n",
    "### Solución"
   ]
  },
  {
   "cell_type": "code",
   "execution_count": null,
   "metadata": {},
   "outputs": [],
   "source": [
    "# Ingrese su código aquí 👻"
   ]
  }
 ],
 "metadata": {
  "kernelspec": {
   "display_name": "Python 3.10.7 64-bit",
   "language": "python",
   "name": "python3"
  },
  "language_info": {
   "codemirror_mode": {
    "name": "ipython",
    "version": 3
   },
   "file_extension": ".py",
   "mimetype": "text/x-python",
   "name": "python",
   "nbconvert_exporter": "python",
   "pygments_lexer": "ipython3",
   "version": "3.11.8"
  },
  "orig_nbformat": 4,
  "vscode": {
   "interpreter": {
    "hash": "369f2c481f4da34e4445cda3fffd2e751bd1c4d706f27375911949ba6bb62e1c"
   }
  }
 },
 "nbformat": 4,
 "nbformat_minor": 2
}
