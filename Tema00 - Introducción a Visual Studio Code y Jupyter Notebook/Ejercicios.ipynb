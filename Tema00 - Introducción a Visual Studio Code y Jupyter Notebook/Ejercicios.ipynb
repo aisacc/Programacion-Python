{
 "cells": [
  {
   "cell_type": "markdown",
   "metadata": {},
   "source": [
    "# Ejercicios"
   ]
  },
  {
   "cell_type": "markdown",
   "metadata": {},
   "source": [
    "## Ejercicio 1\n",
    "\n",
    "La velocidad $v$ de un paracaidista que cae está dada por\n",
    "\n",
    "$$v = \\frac{gm}{c}(1 - e^{(c/m)t})$$\n",
    "\n",
    "donde $g = 9.8 \\text{ m/s}^2$. Para un paracaidista con coeficiente de arrastre de $c = 15 \\text{ kg/s}$, calcule la masa $m$ de modo que la velocidad sea $v = 35 \\text{ m/s}$ en $t = 9 \\text{ s}$.\n",
    "\n",
    "## Solución"
   ]
  },
  {
   "cell_type": "code",
   "execution_count": null,
   "metadata": {},
   "outputs": [],
   "source": [
    "# Ingrese su solución aquí 👽"
   ]
  },
  {
   "cell_type": "markdown",
   "metadata": {},
   "source": [
    "## Ejercicio 2\n",
    "Contexto: En el diseño de un sistema de suspensión para un vehículo, el ingeniero calcula la constante del resorte k necesaria para obtener el comportamiento deseado del sistema. Sin embargo, los resortes se fabrican en valores estándar y no en todos los valores calculados.\n",
    "\n",
    "Supón que, después de realizar los cálculos, la constante del resorte necesaria es 120.754 N/m. Como los resortes se fabrican en valores estándar, redondea este valor al valor estándar más cercano (125 N/m).\n",
    "\n",
    "¿De cuánto en cuánto se está redondeando? Si ahora quisiera redondear con otro valor, ¿el código cambiaría?\n",
    "\n",
    "## Solución"
   ]
  },
  {
   "cell_type": "code",
   "execution_count": null,
   "metadata": {},
   "outputs": [],
   "source": [
    "# Ingrese su solución aquí 👽"
   ]
  }
 ],
 "metadata": {
  "language_info": {
   "name": "python"
  }
 },
 "nbformat": 4,
 "nbformat_minor": 2
}
