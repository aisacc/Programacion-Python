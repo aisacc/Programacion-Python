{
 "cells": [
  {
   "cell_type": "markdown",
   "metadata": {},
   "source": [
    "# Estructuras de control\n",
    "Las estructuras de control permiten tener mayor control sobre el flujo de trabajo.\n",
    "\n",
    "<figure style=\"text-align: center;\">\n",
    "  <div><strong>Fig. 1.</strong> Representación de la depuración.</div>\n",
    "  <img src=\"markdown_resources/1.jpg\" style=\"width: 70%; height: auto;\">\n",
    "  <figcaption>Tomado de <A HREF=\"https://disenowebakus.net/estructuras-control.php\"> akus.net</A>.</figcaption>\n",
    "</figure>\n",
    "\n",
    "Las estructuras mostradas en la figura se describen a continuación.\n",
    "* Las secuencias son una serie de instrucciones que se ejecutan unidireccionalmente, es decir, una tras otra de arriba hacia abajo.\n",
    "* Una estructura de selección, o condicional, permite ejecutar una serie de instrucciones si el criterio (o condición) es verdadero. Es decir, permite seleccionar un \"camino\" dependiendo de la condición.\n",
    "* Una estructura de repetición, bucle o iteración, hace que una serie de instrucciones se ejecute varias veces. El número de repeticiones puede ser en función de un contador o en función de una condición.\n",
    "\n",
    "**Observación**\n",
    "\n",
    "A diferencia de otros lenguajes de programación que utlizan llaves para delimitar estas estructuras, cuando Guido Van Rossum creó el lenguaje quiso evitar estos caracteres por considerarlos innecesarios. Por esta razón estas estructuras en Python se definen a través de espacios en blanco, *usualmente 4*, lo que se conoce como **indentación**."
   ]
  },
  {
   "cell_type": "markdown",
   "metadata": {},
   "source": [
    "# Estructuras de repetición o bucles\n",
    "Las estructuras de repetición permiten repetir un bloque de código cierto número de veces o en función de una condición."
   ]
  },
  {
   "cell_type": "markdown",
   "metadata": {},
   "source": [
    "## Estructura `for`\n",
    "Cuando se conoce el número de veces que se quiere repetir una serie de instrucciones, entonces la estructura, o bucle, ideal es `for`."
   ]
  },
  {
   "cell_type": "code",
   "execution_count": 1,
   "metadata": {},
   "outputs": [],
   "source": [
    "# Ingrese su código aquí 👻"
   ]
  },
  {
   "cell_type": "markdown",
   "metadata": {},
   "source": [
    "#### Ejemplo 1\n",
    "Solicitar al usuario una cadena de texto y contar el número de espacios que tiene dicha cadena.\n",
    "\n",
    "#### Solución"
   ]
  },
  {
   "cell_type": "code",
   "execution_count": null,
   "metadata": {},
   "outputs": [],
   "source": [
    "# Ingrese su código aquí 👻"
   ]
  },
  {
   "cell_type": "markdown",
   "metadata": {},
   "source": [
    "#### Ejemplo 2 - Ingeniería civil\n",
    "Tienes una serie de longitudes de vigas en metros que necesitas convertir a centímetros. Usa un bucle `for` para recorrer una lista de longitudes y convertir cada una a centímetros. Imprime la longitud original y la longitud convertida para cada viga.\n",
    "\n",
    "**Observación:**\n",
    "\n",
    "Por el momento no es necesario profundizar más de lo necesario en las *listas*. Éstas tendrán su estudio propio dentro de poco en un tema más adelante.\n",
    "\n",
    "#### Solución"
   ]
  },
  {
   "cell_type": "code",
   "execution_count": null,
   "metadata": {},
   "outputs": [],
   "source": [
    "# Ingrese su código aquí 👻"
   ]
  },
  {
   "cell_type": "markdown",
   "metadata": {},
   "source": [
    "#### Ejemplo 3 - Ingeniería química\n",
    "Tienes una lista de concentraciones iniciales (en gramos por litro, g/L) de soluciones químicas y una lista de concentraciones deseadas (también en gramos por litro, g/L) a las que quieres diluir cada solución. Debes calcular cuánto diluyente necesitas agregar a cada solución para que alcance la concentración deseada. El factor de dilución se calcula usando la fórmula:\n",
    "\n",
    "$$\\text{Factor de dilución} = \\frac{\\text{Concentración inicial}}{\\text{Concentración deseada}} - 1$$\n",
    "\n",
    "Para cada solución, muestra un mensaje indicando cuántas veces debe diluirse la solución para alcanzar la concentración deseada. Si la concentración deseada es mayor o igual a la concentración inicial, muestra que no es necesario diluir.\n",
    "\n",
    "#### Solución"
   ]
  },
  {
   "cell_type": "code",
   "execution_count": null,
   "metadata": {},
   "outputs": [],
   "source": [
    "# Ingrese su código aquí 👻"
   ]
  },
  {
   "cell_type": "markdown",
   "metadata": {},
   "source": [
    "#### Ejemplo 4 - Ingeniería mecánica\n",
    "En un sistema de engranajes, deseas calcular cuántas revoluciones debe hacer cada engranaje para que un engranaje de entrada haga una revolución completa. Cada engranaje en el sistema tiene un número específico de dientes, y la relación entre el número de dientes de los engranajes determina cuántas revoluciones hace cada uno.\n",
    "\n",
    "Tienes una lista con el número de dientes de varios engranajes. El engranaje de entrada tiene un número fijo de dientes. Para cada engranaje en la lista, calcula cuántas revoluciones debe hacer el engranaje para que el engranaje de entrada complete una revolución. La relación entre el número de dientes de los engranajes determina cuántas revoluciones debe hacer cada engranaje. La fórmula para calcular las revoluciones es:\n",
    "\n",
    "$$\\text{Revoluciones} = \\frac{\\text{Números de dientes del engranaje}}{\\text{Número de dientes del engranaje de entrada}}$$\n",
    "\n",
    "Imprime el número de revoluciones para cada engranaje.\n",
    "\n",
    "#### Solución"
   ]
  },
  {
   "cell_type": "code",
   "execution_count": null,
   "metadata": {},
   "outputs": [],
   "source": [
    "# Ingrese su código aquí 👻"
   ]
  },
  {
   "cell_type": "markdown",
   "metadata": {},
   "source": [
    "### Secuencias de números\n",
    "\n",
    "Es muy habitual hacer uso de secuencias de números en bucles. Esto se puede hacer mediante el uso de la función `range` que devuelve un flujo de números en el rango que se indique.\n",
    "\n",
    "Esta función consta de la siguientes partes: `range(inicio, fin, incremento/decremento)`\n",
    "* `inicio`: Es opcional. El valor por defecto es 0.\n",
    "* `fin`: Es obligatorio. Siempre se llega a 1 menos que este valor.\n",
    "* `incremento/decremento`: Es opcional. El valor por defecto es 1."
   ]
  },
  {
   "cell_type": "code",
   "execution_count": null,
   "metadata": {},
   "outputs": [],
   "source": [
    "# Ingrese su código aquí 👻"
   ]
  },
  {
   "cell_type": "markdown",
   "metadata": {},
   "source": [
    "### Ejemplo\n",
    "Determinar si un número dado es un número primo.\n",
    "\n",
    "**Pista:** No es necesario implementar ningún algoritmo en concreto. La idea es probar los números menores al dado e ir viendo si las divisiones tienen resto cero o no."
   ]
  },
  {
   "cell_type": "code",
   "execution_count": null,
   "metadata": {},
   "outputs": [],
   "source": [
    "# Ingrese su código aquí 👻"
   ]
  },
  {
   "cell_type": "markdown",
   "metadata": {},
   "source": [
    "### Usando el guión bajo\n",
    "\n",
    "En ocasiones no es necesario utilizar la variable que toma los valores en el rango. Simplemente se desea repetir el código un número determinado de veces. En ese caso se nombra a la variable como `_` lo cual indica que no se la utilizará durante el bucle."
   ]
  },
  {
   "cell_type": "code",
   "execution_count": null,
   "metadata": {},
   "outputs": [],
   "source": [
    "# Ingrese su código aquí 👻"
   ]
  },
  {
   "cell_type": "markdown",
   "metadata": {},
   "source": [
    "### Bucles anidados\n",
    "\n",
    "Al igual que con la estructura `if`, también es posible anidar bucles. Veámoslo con un ejemplo."
   ]
  },
  {
   "cell_type": "markdown",
   "metadata": {},
   "source": [
    "#### Ejemplo\n",
    "Solicitar un número por teclado, del 1 al 10, y mostrar por pantalla su tabla de multiplicar desde el 1 hasta el 10. Si el número ingresado es 3, entonces el resultado se vería de la siguiente forma:\n",
    "\n",
    "`1 x 3 = 3`\n",
    "\n",
    "`2 x 3 = 6`\n",
    "\n",
    "`3 x 3 = 9`\n",
    "\n",
    "Y así hasta completar la tabla.\n",
    "\n",
    "#### Solución"
   ]
  },
  {
   "cell_type": "code",
   "execution_count": null,
   "metadata": {},
   "outputs": [],
   "source": [
    "# Ingrese su código aquí 👻 "
   ]
  },
  {
   "cell_type": "markdown",
   "metadata": {},
   "source": [
    "## Estructuras de selección con estructuras de repetición\n",
    "En la práctica, es bastante común utilizar una estructura de repetición y dentro de ésta, una estructura de selección. Veámoslo con un ejemplo."
   ]
  },
  {
   "cell_type": "markdown",
   "metadata": {},
   "source": [
    "### Ejemplo \n",
    "Dada una lista con 10 números entre el 1 y el 100, determinar cuál de todos los números es el más pequeño.\n",
    "\n",
    "**Observación**\n",
    "\n",
    "A pesar de que no se han utilizando todavía las listas, se puede entenderlas por el momento como cadenas de texto, pero no sólo contendrá caracteres sino también números, booleanos, etc. Aunque lo más importante a destacar es que su indexación sí es tal cual la de cadenas de texto, lo cual será de utilidad para este ejercicio. \n",
    "\n",
    "### Solución"
   ]
  },
  {
   "cell_type": "code",
   "execution_count": null,
   "metadata": {},
   "outputs": [],
   "source": [
    "# Ingrese su código aquí 👻"
   ]
  },
  {
   "cell_type": "markdown",
   "metadata": {},
   "source": [
    "## Estructura `while`\n",
    "A diferencia de la estructura `for`, donde se conoce el número de veces que se deben ejecutar ciertas instrucciones, la estructura `while` permite realizar estas repeticiones en función de una condición. Es decir, es útil cuando no se conoce cuántas veces debe repetirse una serie de instrucciones.\n",
    "\n",
    "Por lo tanto, siempre y cuando la condición sea verdadera, el bucle `while` continuará ejecutando la serie de instrucciones. Una vez la condición no se cumpla, es decir, sea falsa; entonces el bucle se detendrá."
   ]
  },
  {
   "cell_type": "markdown",
   "metadata": {},
   "source": [
    "**Observación**\n",
    "\n",
    "El bucle `while`, al igual que la estructura `if`, puede tener un caso por contrario `else`. Es decir, si el bucle se ejecuta y finaliza correctamente, entonces antes de finalizarse se ejecutará el caso por defecto `else`. Evidentemente este caso es opcional."
   ]
  },
  {
   "cell_type": "code",
   "execution_count": null,
   "metadata": {},
   "outputs": [],
   "source": [
    "# Ingrese su código aquí 👻"
   ]
  },
  {
   "cell_type": "markdown",
   "metadata": {},
   "source": [
    "#### Ejemplo 1\n",
    "Solicitar por teclado la edad del usuario. Ésta debe ser validada.\n",
    "\n",
    "**Nota:** Validar la edad significa que ésta no puede ser negativa ni tampoco exageradamente grande (¿existen personas que vivan más de 150 o 200 años?).\n",
    "\n",
    "#### Solución"
   ]
  },
  {
   "cell_type": "code",
   "execution_count": null,
   "metadata": {},
   "outputs": [],
   "source": [
    "# Ingrese su código aquí 👻"
   ]
  },
  {
   "cell_type": "markdown",
   "metadata": {},
   "source": [
    "#### Ejemplo 2 - Ingeniería química\n",
    "Estás monitoreando una reacción química en un reactor donde la concentración del reactivo disminuye exponencialmente. Deseas saber cuánto tiempo tardará la concentración en reducirse a un nivel específico. Usa un bucle `while` para simular el proceso y calcular el tiempo necesario.\n",
    "\n",
    "La concentración inicial del reactivo es `C0 = 100` g/L, y se reduce a la mitad cada cierto tiempo `t`. Usa un bucle `while` para calcular cuánto tiempo tomará para que la concentración sea menor o igual a `Cfinal = 10` g/L.\n",
    "\n",
    "#### Solución"
   ]
  },
  {
   "cell_type": "code",
   "execution_count": null,
   "metadata": {},
   "outputs": [],
   "source": [
    "# Ingrese su código aquí 👻"
   ]
  },
  {
   "cell_type": "markdown",
   "metadata": {},
   "source": [
    "#### Ejemplo 3 - Ingeniería ambiental\n",
    "Estás modelando la acumulación de contaminantes en un reservorio. La tasa de acumulación disminuye con el tiempo. Necesitas calcular el tiempo total necesario para que la concentración de contaminantes alcance un nivel crítico.\n",
    "\n",
    "La concentración inicial de contaminantes es `C0 = 5.0` ppm, y se incrementa por una tasa decreciente (105%) en cada intervalo de tiempo (1 hora). Usa un bucle `while` para calcular cuánto tiempo tomará alcanzar una concentración crítica `Ccrit = 50.0` ppm.\n",
    "\n",
    "#### Solución"
   ]
  },
  {
   "cell_type": "code",
   "execution_count": null,
   "metadata": {},
   "outputs": [],
   "source": [
    "# Ingrese su código aquí 👻"
   ]
  },
  {
   "cell_type": "markdown",
   "metadata": {},
   "source": [
    "### Bucles infinitos y palabra reservada `break`\n",
    "En ocasiones puede ocurrir que la condición del bucle `while` siempre sea verdadera, por lo que el bucle nunca se detendrá. Esto no necesariamente es malo, dado que podemos utilizar este bucle a nuestro favor.\n",
    "\n",
    "Pero antes de ver cómo utilizar un bucle infinito, primero debemos hablar sobre la palabra reservada `break`, la cual permite interrumpir o romper el bucle, finalizándolo. Veamos todo esto con un ejemplo."
   ]
  },
  {
   "cell_type": "markdown",
   "metadata": {},
   "source": [
    "#### Ejemplo 1\n",
    "Repetir el ejemplo de la validación de la edad, pero con un bucle infinito.\n",
    "\n",
    "**Nota:** Cuando se utiliza bucles infinitos (o se piensa que puede generarse), entonces la palabra reservada `break` obligatoriamente debe estar en el bucle.\n",
    "\n",
    "#### Solución"
   ]
  },
  {
   "cell_type": "code",
   "execution_count": null,
   "metadata": {},
   "outputs": [],
   "source": [
    "# Ingrese su código aquí 👻"
   ]
  },
  {
   "cell_type": "markdown",
   "metadata": {},
   "source": [
    "#### Ejemplo 2 - Ingeniería civil\n",
    "Estás monitorizando un puente que se somete a pruebas de carga. Deseas continuar monitoreando el puente hasta que se alcance un límite de deformación crítico.\n",
    "\n",
    "Usa un bucle infinito para simular el monitoreo continuo de la deformación del puente. El bucle debe seguir ejecutándose hasta que la deformación medida alcance o supere un valor crítico `deformacion_critica = 10.0` mm. Cada iteración simula la lectura de un sensor con una deformación aleatoria.\n",
    "\n",
    "**Nota:** Utiliza la función `uniform` librería `random` para simular la deformación actual de cada iteración con números aleatorios entre 0 y 15 (consulta la documentación de la función y de la librería si es necesario).  \n",
    "\n",
    "#### Solución"
   ]
  },
  {
   "cell_type": "code",
   "execution_count": null,
   "metadata": {},
   "outputs": [],
   "source": [
    "# Ingrese su código aquí 👻"
   ]
  },
  {
   "cell_type": "markdown",
   "metadata": {},
   "source": [
    "#### Ejemplo 3 - Ingeniería mecánica\n",
    "Estás controlando una máquina que debe seguir operando hasta que se detecte una condición de parada basada en la temperatura. El bucle debe continuar hasta que la temperatura alcance un valor límite.\n",
    "\n",
    "Usa un bucle infinito para simular la operación de la máquina, con la temperatura aumentando en cada iteración. El bucle debe continuar hasta que la temperatura alcance o supere un límite `temperatura_maxima = 100.0` °C.\n",
    "\n",
    "**Nota:** Utiliza la función `uniform` librería `random` para simular el incremento de temperatura en cada iteración con números aleatorios entre 0 y 2 (consulta la documentación de la función y de la librería si es necesario).  \n",
    "\n",
    "#### Solución"
   ]
  },
  {
   "cell_type": "code",
   "execution_count": null,
   "metadata": {},
   "outputs": [],
   "source": [
    "# Ingrese su código aquí 👻"
   ]
  },
  {
   "cell_type": "markdown",
   "metadata": {},
   "source": [
    "### Palabra reservada `continue`\n",
    "¿Existe alguna manera de saltar una iteración en lugar de finalizar un bucle? Por supuesto que sí, y para esto nos sirve la palabra reservada `continue`, la cual salta la iteración actual a la siguiente en lugar de finalizar el bucle."
   ]
  },
  {
   "cell_type": "markdown",
   "metadata": {},
   "source": [
    "#### Ejemplo 1\n",
    "Dada una lista con 20 números entre el -10 y 10, desplegar por pantalla únicamente los números positivos.\n",
    "\n",
    "#### Solución"
   ]
  },
  {
   "cell_type": "code",
   "execution_count": null,
   "metadata": {},
   "outputs": [],
   "source": [
    "# Ingrese su código aquí 👻"
   ]
  },
  {
   "cell_type": "markdown",
   "metadata": {},
   "source": [
    "#### Ejemplo 2 - Ingeniería civil\n",
    "Estás revisando las longitudes de diferentes vigas en un proyecto. Quieres identificar y mostrar solo aquellas vigas que no cumplen con un estándar de longitud mínima.\n",
    "\n",
    "Tienes una lista de longitudes de vigas. Utiliza un bucle `for` para revisar cada longitud. Si una viga cumple con el estándar mínimo (5 m), usa `continue` para saltar al siguiente elemento sin mostrarlo. Solo muestra las vigas que no cumplen con el estándar.\n",
    "\n",
    "#### Solución"
   ]
  },
  {
   "cell_type": "code",
   "execution_count": null,
   "metadata": {},
   "outputs": [],
   "source": [
    "# Ingrese su código aquí 👻"
   ]
  },
  {
   "cell_type": "markdown",
   "metadata": {},
   "source": [
    "#### Ejemplo 3 - Ingeniería química\n",
    "Estás procesando datos de concentración de reactivos y deseas identificar aquellos días en los que la concentración es aceptable para un proceso específico.\n",
    "\n",
    "Tienes una lista de concentraciones diarias de un reactivo. Utiliza un bucle `for` para revisar cada concentración. Si la concentración es menor que un valor de referencia (20 ppm), usa `continue` para saltar al siguiente día. Solo muestra las concentraciones que son aceptables.\n",
    "\n",
    "#### Solución"
   ]
  },
  {
   "cell_type": "code",
   "execution_count": null,
   "metadata": {},
   "outputs": [],
   "source": [
    "# Ingrese su código aquí 👻"
   ]
  },
  {
   "cell_type": "markdown",
   "metadata": {},
   "source": [
    "----\n",
    "Ahora bien, sería adecuado realizar un pequeño resumen de lo expuesto en este tema además de algunas aclaraciones importantes:\n",
    "\n",
    "* Los bucles `for` son finitos, dado que se usan siempre y cuando se conozca cuántas veces se va a repetir una serie de instrucciones.\n",
    "* Los bucles `while` pueden ser infinitos. Especialmente se utilizan cuando no se conoce el número de veces que se va a repetir una serie de instrucciones.\n",
    "* Para saltar una iteración e ir a la siguiente se utiliza la palabra reservada `continue`, mientras que para interrumpir o romper un bucle se utiliza la palabra reservada `break`. Esto aplica para cualquier bucle.\n",
    "* Es obligatorio añadir la palabra reservada `break` en un bucle infinito que se cree intencionalmente o se piense que pueda generarse.\n",
    "* Si se genera un bucle infinito, se puede interrumpir la ejecución actual con `Ctrl + C`. No solamente se utiliza con bucles, en realidad se puede utilizar cuando se requiera detener la ejecución de cualquier código."
   ]
  },
  {
   "cell_type": "markdown",
   "metadata": {},
   "source": [
    "----\n",
    "## Material adicional\n",
    "* [Sentencia `while`](https://aprendepython.es/core/controlflow/loops/#la-sentencia-while)\n",
    "* [Sentencia `for`](https://aprendepython.es/core/controlflow/loops/#la-sentencia-for)\n",
    "* [Bucles anidados](https://aprendepython.es/core/controlflow/loops/#bucles-anidados)"
   ]
  }
 ],
 "metadata": {
  "kernelspec": {
   "display_name": "Python 3.10.7 64-bit",
   "language": "python",
   "name": "python3"
  },
  "language_info": {
   "codemirror_mode": {
    "name": "ipython",
    "version": 3
   },
   "file_extension": ".py",
   "mimetype": "text/x-python",
   "name": "python",
   "nbconvert_exporter": "python",
   "pygments_lexer": "ipython3",
   "version": "3.11.8"
  },
  "orig_nbformat": 4,
  "vscode": {
   "interpreter": {
    "hash": "369f2c481f4da34e4445cda3fffd2e751bd1c4d706f27375911949ba6bb62e1c"
   }
  }
 },
 "nbformat": 4,
 "nbformat_minor": 2
}
