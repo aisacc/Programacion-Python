{
 "cells": [
  {
   "cell_type": "markdown",
   "metadata": {},
   "source": [
    "# Estructuras de repetición o bucles"
   ]
  },
  {
   "cell_type": "markdown",
   "metadata": {},
   "source": [
    "## Estructuras `for` y `while`\n",
    "### Ejercicio 1\n",
    "Escriba un programa en Python que acepte una cadena de texto e indique si todos sus caracteres son alfabéticos.\n",
    "\n",
    "**Pista:** Recuerde que las cadenas de texto tienen muchas funciones de forma intrínseca. Alguna de ellas puede ser de utilidad en esa situación.\n",
    "\n",
    "*Ejercicio tomado de Delgado, 2024.*\n",
    "\n",
    "### Solución"
   ]
  },
  {
   "cell_type": "code",
   "execution_count": null,
   "metadata": {},
   "outputs": [],
   "source": [
    "# Ingrese su código aquí 👻"
   ]
  },
  {
   "cell_type": "markdown",
   "metadata": {},
   "source": [
    "### Ejercicio 2\n",
    "Escriba un programa en Python que acepte un número entero $n$ y realice el siguiente cálculo de productos sucesivos. $$\\prod_{i=1}^n x_i^2 = x_0^2 \\cdot x_1^2 \\cdot x_2^2 \\cdot \\cdot \\cdot \\cdot \\cdot x_n^2$$\n",
    "\n",
    "*Ejercicio tomado de Delgado, 2024.*\n",
    "\n",
    "### Solución"
   ]
  },
  {
   "cell_type": "code",
   "execution_count": null,
   "metadata": {},
   "outputs": [],
   "source": [
    "# Ingrese su código aquí 👻"
   ]
  },
  {
   "cell_type": "markdown",
   "metadata": {},
   "source": [
    "### Ejercicio 3\n",
    "Escriba un programa en Python que acepte dos valores enteros $(x, y)$ que representarán un punto (objetivo) en el plano. El programa simulará el movimiento de un caballo de ajedrez de forma alterna: 2 posiciones en $x$, 1 posición en $y$. El siguiente movimiento que toque sería para moverse 1 posición en $x$, 2 posiciones en $y$. El programa deberá ir mostrando los puntos por los que va pasando el caballo hasta llegar al punto objetivo.\n",
    "\n",
    "**Pista:** Pruebe su programa con el punto $(7, 8)$ que da como resultado `(0, 0) (1, 2) (3, 3) (4, 5) (6, 6) (7, 8)`\n",
    "\n",
    "*Ejercicio tomado de Delgado, 2021.*\n",
    "\n",
    "### Solución"
   ]
  },
  {
   "cell_type": "code",
   "execution_count": null,
   "metadata": {},
   "outputs": [],
   "source": [
    "# Ingrese su código aquí 👻"
   ]
  }
 ],
 "metadata": {
  "kernelspec": {
   "display_name": "Python 3.10.7 64-bit",
   "language": "python",
   "name": "python3"
  },
  "language_info": {
   "codemirror_mode": {
    "name": "ipython",
    "version": 3
   },
   "file_extension": ".py",
   "mimetype": "text/x-python",
   "name": "python",
   "nbconvert_exporter": "python",
   "pygments_lexer": "ipython3",
   "version": "3.11.8"
  },
  "orig_nbformat": 4,
  "vscode": {
   "interpreter": {
    "hash": "369f2c481f4da34e4445cda3fffd2e751bd1c4d706f27375911949ba6bb62e1c"
   }
  }
 },
 "nbformat": 4,
 "nbformat_minor": 2
}
