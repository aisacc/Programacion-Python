{
 "cells": [
  {
   "cell_type": "markdown",
   "metadata": {
    "id": "4qeR0PQPM5mU"
   },
   "source": [
    "# Antes de empezar"
   ]
  },
  {
   "cell_type": "markdown",
   "metadata": {
    "id": "k3aT4Ms7M5mV"
   },
   "source": [
    "## Materiales del curso\n",
    "\n",
    "En este curso vamos a utilizar Python, Visual Studio Code y los cuadernos de Jupyter.\n",
    "\n",
    "**Requisitos:**\n",
    "- Versión de Python 3.11.4 o superior (recomendado).\n",
    "- Visual Studio Code y algunas de sus extensiones.\n",
    "    - Jupyter\n",
    "    - Jupyter Cell Tags\n",
    "    - Jupyter Keymap\n",
    "    - Jupyter Notebook Renderers\n",
    "    - Jupyter Slide Show\n",
    "    - Python\n",
    "    - Pylance\n",
    "    - isort\n",
    "    - Excel Viewer\n",
    "- Extensiones opcionales pero recomedadas:\n",
    "    - Material Icon Theme\n",
    "    - Rainbow CSV\n",
    "    - Data Wrangler\n",
    "    - Spanish Language Pack"
   ]
  },
  {
   "cell_type": "markdown",
   "metadata": {
    "id": "hbmYhYTyM5mV"
   },
   "source": [
    "# Introducción a Visual Studio Code & Jupyter Notebook"
   ]
  },
  {
   "cell_type": "code",
   "execution_count": null,
   "metadata": {
    "id": "RbpAGD2IM5mV"
   },
   "outputs": [],
   "source": [
    "# Esto es un comentario en un bloque de código."
   ]
  },
  {
   "cell_type": "markdown",
   "metadata": {
    "id": "JvVZo_9HM5mW"
   },
   "source": [
    "Esto es un bloque de texto."
   ]
  },
  {
   "cell_type": "markdown",
   "metadata": {
    "id": "OgM9WoVoM5mW"
   },
   "source": [
    "# Esto es un título.\n",
    "\n",
    "## Esto es un Encabezado 1.\n",
    "\n",
    "### Esto es un Encabezado 2.\n",
    "\n",
    "#### Esto es un Encabezado 3.\n",
    "\n",
    "_Texto en cursiva (forma 1)_ o *Texto en cursiva (forma 2)*\n",
    "\n",
    "__Texto en negrita (forma 1)__ o **Texto en negrita (forma 2)**\n",
    "\n",
    "__*Texto en cursiva y negrita (forma 1)*__ o **_Texto en negrita y cursiva (forma 2)_**\n",
    "\n",
    "* Elemento 1 de una lista no numerada.\n",
    "    - Elemento 1.1 de una lista no numerada.\n",
    "    - Elemento 1.2 de una lista no numerada.\n",
    "* Elemento 2 de una lista no numerada.\n",
    "* Elemento 3 de una lista no numerada.\n",
    "\n",
    "1. Elemento 1 de una lista numerada.\n",
    "    1. Elemento 1.1 de una lista numerada.\n",
    "    2. Elemento 1.2 de una lista numerada.\n",
    "2. Elemento 2 de una lista numerada.\n",
    "3. Elemento 3 de una lista numerada.\n",
    "\n",
    "Esto es un hipervínculo interno: [Antes de empezar](#antes-de-empezar).\n",
    "\n",
    "Esto es un hipervínculo externo: [Technica](https://www.ingenecia.com).\n",
    "\n",
    "Esto es una ecuación de línea: $x_{n+1} = x_n - \\frac{f(x_n)}{f'(x_n)}$\n",
    "\n",
    "Esto es una ecuación en bloque: $$x_{n+1} = x_n - \\frac{f(x_n)}{f'(x_n)}$$\n",
    "\n",
    "Esto es una imagen utilizando Markdown:\n",
    "![Mi imagen](https://github.com/aisacc/Programacion-Python/blob/main/_Im%C3%A1genes/Tema%2000%20-%20Introducci%C3%B3n%20a%20Visual%20Studio%20Code%20y%20Jupyter%20Notebook/1.png?raw=true)\n",
    "\n",
    "Esto es una imagen utilizando HTML:\n",
    "<div align='center'>\n",
    "    <img src='https://github.com/aisacc/Programacion-Python/blob/main/_Im%C3%A1genes/Tema%2000%20-%20Introducci%C3%B3n%20a%20Visual%20Studio%20Code%20y%20Jupyter%20Notebook/1.png?raw=true' width=200/>\n",
    "</div>\n",
    "\n",
    "Esto es una imagen utilizando HTML con más detalles:\n",
    "<figure style=\"text-align: center;\">\n",
    "  <div><strong>Fig. 1.</strong> Visual Studio Code. </div>\n",
    "  <img src=\"https://github.com/aisacc/Programacion-Python/blob/main/_Im%C3%A1genes/Tema%2000%20-%20Introducci%C3%B3n%20a%20Visual%20Studio%20Code%20y%20Jupyter%20Notebook/1.png?raw=true\" style=\"width: 20%; height: auto;\">\n",
    "  <figcaption>Aquí va el subtítulo de la imagen.</figcaption>\n",
    "</figure>"
   ]
  },
  {
   "cell_type": "markdown",
   "metadata": {
    "id": "QQpYrSNGM5mW"
   },
   "source": [
    "----\n",
    "## Material adicional\n",
    "* [Learn LaTeX in 30 minutes](https://www.overleaf.com/learn/latex/Learn_LaTeX_in_30_minutes)\n",
    "* [Tutoriales paso a paso de LaTeX](https://manualdelatex.com/tutoriales)"
   ]
  }
 ],
 "metadata": {
  "colab": {
   "provenance": []
  },
  "kernelspec": {
   "display_name": "Python 3",
   "language": "python",
   "name": "python3"
  },
  "language_info": {
   "codemirror_mode": {
    "name": "ipython",
    "version": 3
   },
   "file_extension": ".py",
   "mimetype": "text/x-python",
   "name": "python",
   "nbconvert_exporter": "python",
   "pygments_lexer": "ipython3",
   "version": "3.12.4"
  },
  "orig_nbformat": 4
 },
 "nbformat": 4,
 "nbformat_minor": 0
}
